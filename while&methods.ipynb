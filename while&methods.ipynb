{
 "cells": [
  {
   "cell_type": "markdown",
   "id": "f15aac0f-6076-4c88-879a-895b56d89771",
   "metadata": {
    "id": "f15aac0f-6076-4c88-879a-895b56d89771"
   },
   "source": [
    "**Цикл while: вспомним**"
   ]
  },
  {
   "cell_type": "code",
   "execution_count": null,
   "id": "7c7c89f8-f3bb-483a-b824-816728b486f0",
   "metadata": {
    "id": "7c7c89f8-f3bb-483a-b824-816728b486f0"
   },
   "outputs": [],
   "source": [
    "while <логическое выражение>:\n",
    "    <тело цикла>"
   ]
  },
  {
   "cell_type": "markdown",
   "id": "62eafd0d-73ea-404a-a468-803e8f79b331",
   "metadata": {
    "id": "62eafd0d-73ea-404a-a468-803e8f79b331"
   },
   "source": [
    "|ЭЛЕМЕНТ|ОПИСАНИЕ|\n",
    "|:---:|:---:|\n",
    "|<font size=\"3\">**while**</font>|<font size=\"3\">Зарезервированное ключевое слово, с которого начинается цикл|\n",
    "|<font size=\"3\">**<логическое выражение>**\t| <font size=\"3\">Выражение, результатом которого является булево значение `True` или `False`. <br>Если результат <логического выражения> `True`, то цикл продолжает работу. <br>Как только результат <логического выражения> поменялся на `False`, цикл останавливается|\n",
    "|<font size=\"3\">**:**|<font size=\"3\">Зарезервированный ключевой символ. Обязательно после указания <логического выражения> использовать двоеточие|\n",
    "|<font size=\"3\">**<тело цикла>**|<font size=\"3\">Инструкции, которые выполняются при каждой итерации. Записывается с отступом относительно ключевого слова while|"
   ]
  },
  {
   "cell_type": "markdown",
   "id": "38d5d524-291e-4830-a1e5-2ce2d5cc5655",
   "metadata": {
    "id": "38d5d524-291e-4830-a1e5-2ce2d5cc5655"
   },
   "source": [
    "<hr>\n",
    "\n",
    "Небольшой пример использования цикла while в [игре](https://reeborg.ca/reeborg.html?lang=en&mode=python&menu=worlds%2Fmenus%2Freeborg_intro_en.json&name=Hurdle%202&url=worlds%2Ftutorial_en%2Fhurdle2.json)\n",
    "\n",
    "Вставьте в поле с кодом игры этот код:\n",
    "\n",
    "    def turn_right():\n",
    "        turn_left()\n",
    "        turn_left()\n",
    "        turn_left()\n",
    "        \n",
    "    def jump():\n",
    "        move()\n",
    "        turn_left()\n",
    "        move()\n",
    "        turn_right()\n",
    "        move()\n",
    "        turn_right()\n",
    "        move()\n",
    "        turn_left()\n",
    "\n",
    "    while not at_goal():\n",
    "        jump()\n",
    "\n",
    "<hr>"
   ]
  },
  {
   "cell_type": "markdown",
   "id": "n3ml_yuHmbTo",
   "metadata": {
    "id": "n3ml_yuHmbTo"
   },
   "source": [
    "Рисуем с помощью цикла while."
   ]
  },
  {
   "cell_type": "code",
   "execution_count": 15,
   "id": "ICkZWy6smYJ2",
   "metadata": {
    "colab": {
     "base_uri": "https://localhost:8080/"
    },
    "id": "ICkZWy6smYJ2",
    "outputId": "5132fe53-c367-455a-911c-f0e9c2b0f063"
   },
   "outputs": [
    {
     "name": "stdout",
     "output_type": "stream",
     "text": [
      " **   ** \n",
      "**** ****\n",
      "*********\n",
      " ******* \n",
      "  *****  \n",
      "   ***   \n",
      "    *    \n"
     ]
    }
   ],
   "source": [
    "h = 7\n",
    "w = h + 2\n",
    "m = w // 4\n",
    "i = 1\n",
    "while i <= h:\n",
    "    if (i <= m):\n",
    "      print(\" \" * (m-i) + \"*\" * (2*i) + \" \" * (w-2*i-2*m) + \"*\" *(2*i) + \" \" * (m-i))\n",
    "    else:\n",
    "      print(\" \" * (i - 2*m+1) + \"*\" * (w-2*(i-2*m+1)) + \" \" * (i - 2*m+1))\n",
    "    i += 1"
   ]
  },
  {
   "cell_type": "markdown",
   "id": "3fdf3277",
   "metadata": {
    "id": "3fdf3277"
   },
   "source": [
    "### Задача 1\n",
    "\n",
    "Напишите программу, которая будет проверять верность введенного пользователем пароля, пока пароль не совпадет с истинным.\n",
    "\n",
    "Верный пароль пользователя – PythonLanguage345"
   ]
  },
  {
   "cell_type": "code",
   "execution_count": null,
   "id": "1f6ff269",
   "metadata": {
    "id": "1f6ff269"
   },
   "outputs": [],
   "source": [
    "correct_passw = 'PythonLanguage345'\n",
    "\n",
    "# ваш код"
   ]
  },
  {
   "cell_type": "markdown",
   "id": "7c35c4e8-6001-4de4-b592-e116e7b64abb",
   "metadata": {
    "id": "7c35c4e8-6001-4de4-b592-e116e7b64abb"
   },
   "source": [
    "### Повторение\n",
    "\n",
    "Вспомним задачу про сессию с прошлого семинара."
   ]
  },
  {
   "cell_type": "markdown",
   "id": "3dhLCBmOd6iq",
   "metadata": {
    "id": "3dhLCBmOd6iq"
   },
   "source": [
    "**Задача**\n",
    "\n",
    "Используя логические операторы `if` и `else`, напишите следующую программу:\n",
    "\n",
    "**Иван подается на Повышенную Государственную Академическую Стипендию по достижениям в спортивной сфере. Напишите программу которая покажет, может ли Иван претендовать на получение ПГАС**:\n",
    "* В переменную `session` считывается переменная `True` или `False` которая означает, закрыл ли студент сессию на оценки на \"хорошо\" и выше (`True`) или нет (`False`);\n",
    "* В переменную `diplomas` считывается число полученных Иваном спортивных достижений за последний год.\n",
    "\n",
    "* Если студент закрыл сессию не на оценки выше \"хорошо\", то программа печатает строку `\"Не можете претендовать\"`;\n",
    "\n",
    "* Если студент закрыл сессию на оценки выше \"хорошо\" и имеет 1 и более спортивных достижений за последний год (`diplomas`), то программа печатает строку `\"Можете претендовать\"`. Если достижений за последний год (`diplomas`) нет, то программа печатает `\"Не хватает достижений\"`.\n",
    "\n",
    "Примеры тестов вы можете увидеть в табличке:\n",
    "\n",
    "<center>\n",
    "    <table>\n",
    "        <tr>\n",
    "            <th>session</th>\n",
    "            <th>diplomas</th>\n",
    "            <th>Результат</th>\n",
    "        </tr>\n",
    "        <tr><td>False</td><td>0</td><td>Не можете претендовать</td></tr>\n",
    "        <tr><td>False</td><td>1</td><td>Не можете претендовать</td></tr>\n",
    "        <tr><td>True</td><td>0</td><td>Не хватает достижений</td></tr>\n",
    "        <tr><td>True</td><td>1</td><td>Можете претендовать</td></tr>\n",
    "    </table>\n",
    "</center>"
   ]
  },
  {
   "cell_type": "markdown",
   "id": "f8dd38ce-f280-47be-8f7d-af7f9f32e6ae",
   "metadata": {},
   "source": [
    "Такой вариант не сработает:"
   ]
  },
  {
   "cell_type": "code",
   "execution_count": 1,
   "id": "ed28fa3a-3806-47ce-9910-9a0e6b0e13f6",
   "metadata": {},
   "outputs": [
    {
     "name": "stdin",
     "output_type": "stream",
     "text": [
      " True\n",
      " 0\n"
     ]
    },
    {
     "name": "stdout",
     "output_type": "stream",
     "text": [
      "Не хватает достижений\n"
     ]
    }
   ],
   "source": [
    "session = bool(input())\n",
    "diplomas = int(input())\n",
    "if session and diplomas >= 1:\n",
    "    print(\"Можете претендовать\")\n",
    "elif session:\n",
    "    print(\"Не хватает достижений\")\n",
    "else:\n",
    "    print(\"Не можете претендовать\")"
   ]
  },
  {
   "cell_type": "markdown",
   "id": "713666fb-f9b1-4c6f-8e77-89fcc2686084",
   "metadata": {},
   "source": [
    "Дело в функции `bool`."
   ]
  },
  {
   "cell_type": "code",
   "execution_count": 1,
   "id": "MG1TwX4NeBR0",
   "metadata": {
    "colab": {
     "base_uri": "https://localhost:8080/"
    },
    "id": "MG1TwX4NeBR0",
    "outputId": "cc5c64a9-ad8a-4ef9-b597-94322321e956"
   },
   "outputs": [
    {
     "name": "stdout",
     "output_type": "stream",
     "text": [
      "True\n",
      "True\n",
      "True\n",
      "True\n",
      "True\n",
      "False\n"
     ]
    }
   ],
   "source": [
    "# session = bool(input()) не сработает\n",
    "print(bool(\"True\"))\n",
    "print(bool(\"False\"))\n",
    "print(bool(\"1\"))\n",
    "print(bool(\"0\"))\n",
    "print(bool(1))\n",
    "print(bool(0))"
   ]
  },
  {
   "cell_type": "code",
   "execution_count": 14,
   "id": "QtGROGh6fZ8w",
   "metadata": {
    "colab": {
     "base_uri": "https://localhost:8080/"
    },
    "id": "QtGROGh6fZ8w",
    "outputId": "e3115aa7-aaeb-4fa7-c28a-f413782fb2b8"
   },
   "outputs": [
    {
     "name": "stdout",
     "output_type": "stream",
     "text": [
      "False\n",
      "True\n"
     ]
    }
   ],
   "source": [
    "session = bool(input())\n",
    "print(session)"
   ]
  },
  {
   "cell_type": "code",
   "execution_count": 10,
   "id": "d35b6fc1-7342-439d-abdc-9d595e1478ad",
   "metadata": {
    "colab": {
     "base_uri": "https://localhost:8080/"
    },
    "id": "d35b6fc1-7342-439d-abdc-9d595e1478ad",
    "outputId": "6f4251cc-b0a3-4d58-fc0a-e290a7bfd16d"
   },
   "outputs": [
    {
     "name": "stdout",
     "output_type": "stream",
     "text": [
      "1\n",
      "0\n",
      "Не хватает достижений\n"
     ]
    }
   ],
   "source": [
    "session = bool(int(input())) # вводим 0 или 1\n",
    "diplomas = int(input())\n",
    "if session and diplomas >= 1:\n",
    "    print(\"Можете претендовать\")\n",
    "elif session:\n",
    "    print(\"Не хватает достижений\")\n",
    "else:\n",
    "    print(\"Не можете претендовать\")"
   ]
  },
  {
   "cell_type": "code",
   "execution_count": 12,
   "id": "OCkq6EPEfF5z",
   "metadata": {
    "colab": {
     "base_uri": "https://localhost:8080/"
    },
    "id": "OCkq6EPEfF5z",
    "outputId": "327272cf-257d-465d-c287-ebd2346d1529"
   },
   "outputs": [
    {
     "name": "stdout",
     "output_type": "stream",
     "text": [
      "True\n",
      "0\n",
      "Не хватает достижений\n"
     ]
    }
   ],
   "source": [
    "session = input() # вводим True или False, это будут строки\n",
    "diplomas = int(input())\n",
    "if session == \"True\" and diplomas >= 1:\n",
    "    print(\"Можете претендовать\")\n",
    "elif session == \"True\":\n",
    "    print(\"Не хватает достижений\")\n",
    "else:\n",
    "    print(\"Не можете претендовать\")"
   ]
  },
  {
   "cell_type": "markdown",
   "id": "e68aRrYfflKr",
   "metadata": {
    "id": "e68aRrYfflKr"
   },
   "source": [
    "Функция `bool` не может преобразовать строку, только число."
   ]
  },
  {
   "cell_type": "markdown",
   "id": "6fb2d768",
   "metadata": {
    "id": "6fb2d768"
   },
   "source": [
    "## Типы данных — часть 3. Строки, списки и кортежи <a name=\"par1\"></a>"
   ]
  },
  {
   "cell_type": "markdown",
   "id": "-mCxngRaYumc",
   "metadata": {
    "id": "-mCxngRaYumc"
   },
   "source": [
    "В рамках курса мы будем работать в основном со встроенными структурами данных 👼\n",
    "\n",
    "До этого мы поработали с числами, но хотим, конечно, работать не только с ними\n"
   ]
  },
  {
   "cell_type": "markdown",
   "id": "89woPohPhPnU",
   "metadata": {
    "id": "89woPohPhPnU"
   },
   "source": [
    "![python-data-types.jpg](data:image/jpeg;base64,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)"
   ]
  },
  {
   "cell_type": "markdown",
   "id": "F4uhFuACZ5Ag",
   "metadata": {
    "id": "F4uhFuACZ5Ag"
   },
   "source": [
    "Вспомним про различия между структурами данных.\n",
    "\n",
    "**Строки** — содержат текстовую информацию и пишутся в кавычках '' или \"\". Неизменяемые.\n",
    "\n",
    "``` my_string = 'я строка'```\n",
    "\n",
    "**Списки** — содержат набор данных (возможно, разных типов) и пишутся в квадратных скобках через запятую [ ]. Изменяемые.\n",
    "\n",
    "```my_list = ['я', 'список'] ```\n",
    "\n",
    "**Кортежи** — содержат набор данных (возможно, разных типов) и пишутся в квадратных скобках через запятую ( ). Неизменяемые.\n",
    "\n",
    "```my_tuple = ('я', 'кортеж') ```"
   ]
  },
  {
   "cell_type": "code",
   "execution_count": null,
   "id": "lB5yxw_ia0z4",
   "metadata": {
    "colab": {
     "base_uri": "https://localhost:8080/",
     "height": 35
    },
    "id": "lB5yxw_ia0z4",
    "outputId": "0756a1a1-1b20-4ec8-8970-b3b8fd701459"
   },
   "outputs": [
    {
     "data": {
      "application/vnd.google.colaboratory.intrinsic+json": {
       "type": "string"
      },
      "text/plain": [
       "'это строка'"
      ]
     },
     "execution_count": 22,
     "metadata": {},
     "output_type": "execute_result"
    }
   ],
   "source": [
    "new_line = 'это строка'\n",
    "\n",
    "new_line"
   ]
  },
  {
   "cell_type": "code",
   "execution_count": null,
   "id": "TBRB6fI_axv_",
   "metadata": {
    "colab": {
     "base_uri": "https://localhost:8080/"
    },
    "id": "TBRB6fI_axv_",
    "outputId": "24da3763-58cc-4c54-aab6-1771ff567316"
   },
   "outputs": [
    {
     "data": {
      "text/plain": [
       "[4, 'я очень разнообразный', [2, 3], 'это строка']"
      ]
     },
     "execution_count": 23,
     "metadata": {},
     "output_type": "execute_result"
    }
   ],
   "source": [
    "new_list = [4, 'я очень разнообразный', [2, 3], new_line]\n",
    "\n",
    "new_list"
   ]
  },
  {
   "cell_type": "code",
   "execution_count": null,
   "id": "Koqz_wtinbMz",
   "metadata": {
    "id": "Koqz_wtinbMz"
   },
   "outputs": [],
   "source": [
    "new_tuple = (4, 'я очень разнообразный', [2, 3], new_line)\n",
    "\n",
    "new_tuple"
   ]
  },
  {
   "cell_type": "markdown",
   "id": "Tm1FhsCSh49T",
   "metadata": {
    "id": "Tm1FhsCSh49T"
   },
   "source": [
    "**Основные операции над строками и списками**"
   ]
  },
  {
   "cell_type": "markdown",
   "id": "zwk7d2zIyVuu",
   "metadata": {
    "id": "zwk7d2zIyVuu"
   },
   "source": [
    "Со строками и списками, как и с числами, можно производить разные операции. Не всегда предсказуемо, что произойдёт — и чтобы узнать, как сделать что-то конкретное со строкой или списком, обычно приходится искать это"
   ]
  },
  {
   "cell_type": "code",
   "execution_count": null,
   "id": "afKqsd5Hh92f",
   "metadata": {
    "colab": {
     "base_uri": "https://localhost:8080/",
     "height": 35
    },
    "id": "afKqsd5Hh92f",
    "outputId": "80c31c6b-af91-407c-e808-9cb9e198d058"
   },
   "outputs": [
    {
     "data": {
      "application/vnd.google.colaboratory.intrinsic+json": {
       "type": "string"
      },
      "text/plain": [
       "'дваслова'"
      ]
     },
     "execution_count": 24,
     "metadata": {},
     "output_type": "execute_result"
    }
   ],
   "source": [
    "two_words = \"два\" + \"слова\"\n",
    "\n",
    "two_words"
   ]
  },
  {
   "cell_type": "code",
   "execution_count": null,
   "id": "qsVZbdR0zha_",
   "metadata": {
    "colab": {
     "base_uri": "https://localhost:8080/",
     "height": 35
    },
    "id": "qsVZbdR0zha_",
    "outputId": "7afb5751-355d-4618-e855-fb75779dce7c"
   },
   "outputs": [
    {
     "data": {
      "application/vnd.google.colaboratory.intrinsic+json": {
       "type": "string"
      },
      "text/plain": [
       "'двасловадвасловадваслова'"
      ]
     },
     "execution_count": 25,
     "metadata": {},
     "output_type": "execute_result"
    }
   ],
   "source": [
    "two_words * 3"
   ]
  },
  {
   "cell_type": "code",
   "execution_count": null,
   "id": "rm9Bv9ax0OzT",
   "metadata": {
    "colab": {
     "base_uri": "https://localhost:8080/"
    },
    "id": "rm9Bv9ax0OzT",
    "outputId": "0f1ed1ff-03f1-49a1-9024-b1ae05bbcbc8"
   },
   "outputs": [
    {
     "data": {
      "text/plain": [
       "8"
      ]
     },
     "execution_count": 26,
     "metadata": {},
     "output_type": "execute_result"
    }
   ],
   "source": [
    "#Считаем длину слова - количество символов в строке\n",
    "len(two_words)"
   ]
  },
  {
   "cell_type": "code",
   "execution_count": null,
   "id": "O4SX8Wzn0U7f",
   "metadata": {
    "colab": {
     "base_uri": "https://localhost:8080/"
    },
    "id": "O4SX8Wzn0U7f",
    "outputId": "3a542dbe-5b48-47db-a817-603b30b080fb"
   },
   "outputs": [
    {
     "data": {
      "text/plain": [
       "1"
      ]
     },
     "execution_count": 27,
     "metadata": {},
     "output_type": "execute_result"
    }
   ],
   "source": [
    "len(' ')"
   ]
  },
  {
   "cell_type": "code",
   "execution_count": null,
   "id": "eRuidsBQyaWl",
   "metadata": {
    "colab": {
     "base_uri": "https://localhost:8080/"
    },
    "id": "eRuidsBQyaWl",
    "outputId": "be3fbb29-fc30-45cb-b554-8fdd83f958bb"
   },
   "outputs": [
    {
     "data": {
      "text/plain": [
       "['два', 'слова']"
      ]
     },
     "execution_count": 28,
     "metadata": {},
     "output_type": "execute_result"
    }
   ],
   "source": [
    "two_words = [\"два\"] + [\"слова\"]\n",
    "\n",
    "two_words"
   ]
  },
  {
   "cell_type": "code",
   "execution_count": null,
   "id": "VkO7Ys7IzmFy",
   "metadata": {
    "colab": {
     "base_uri": "https://localhost:8080/"
    },
    "id": "VkO7Ys7IzmFy",
    "outputId": "fdbb775e-bb22-4e35-8222-0bad69a93feb"
   },
   "outputs": [
    {
     "data": {
      "text/plain": [
       "['два', 'слова', 'два', 'слова', 'два', 'слова']"
      ]
     },
     "execution_count": 29,
     "metadata": {},
     "output_type": "execute_result"
    }
   ],
   "source": [
    "two_words * 3"
   ]
  },
  {
   "cell_type": "code",
   "execution_count": null,
   "id": "Dgsj9MSTz4hZ",
   "metadata": {
    "colab": {
     "base_uri": "https://localhost:8080/"
    },
    "id": "Dgsj9MSTz4hZ",
    "outputId": "18d0797d-a7b2-4d8c-b300-cba3ec44990f"
   },
   "outputs": [
    {
     "data": {
      "text/plain": [
       "2"
      ]
     },
     "execution_count": 30,
     "metadata": {},
     "output_type": "execute_result"
    }
   ],
   "source": [
    "# Считаем длину списка\n",
    "\n",
    "len(two_words)"
   ]
  },
  {
   "cell_type": "markdown",
   "id": "bBHn65cTyvC4",
   "metadata": {
    "id": "bBHn65cTyvC4"
   },
   "source": [
    "А вот такого не надо"
   ]
  },
  {
   "cell_type": "code",
   "execution_count": null,
   "id": "GWBvi4qmyqi5",
   "metadata": {
    "id": "GWBvi4qmyqi5"
   },
   "outputs": [],
   "source": [
    "#two_words = [\"два\"] - [\"слова\"]\n",
    "\n",
    "#two_words"
   ]
  },
  {
   "cell_type": "markdown",
   "id": "G10GMC5dzKHq",
   "metadata": {
    "id": "G10GMC5dzKHq"
   },
   "source": [
    "И такого не надо 😶"
   ]
  },
  {
   "cell_type": "code",
   "execution_count": null,
   "id": "UhodIQMYzRdC",
   "metadata": {
    "id": "UhodIQMYzRdC"
   },
   "outputs": [],
   "source": [
    "#two_words = \"два\" + 5\n",
    "\n",
    "#two_words"
   ]
  },
  {
   "cell_type": "markdown",
   "id": "SvuF2i-1zS-W",
   "metadata": {
    "id": "SvuF2i-1zS-W"
   },
   "source": [
    "Операции мы можем выполнять только над данными одного типа"
   ]
  },
  {
   "cell_type": "markdown",
   "id": "mr3sctwLovJY",
   "metadata": {
    "id": "mr3sctwLovJY"
   },
   "source": [
    "**Индексация**"
   ]
  },
  {
   "cell_type": "markdown",
   "id": "NVKjQduibPgv",
   "metadata": {
    "id": "NVKjQduibPgv"
   },
   "source": [
    "# Индексы"
   ]
  },
  {
   "cell_type": "code",
   "execution_count": null,
   "id": "O8JMib8kw2G8",
   "metadata": {
    "id": "O8JMib8kw2G8"
   },
   "outputs": [],
   "source": [
    "my_string = '40'\n",
    "my_list = ['4', '0']"
   ]
  },
  {
   "cell_type": "code",
   "execution_count": null,
   "id": "gUlnmriXagfT",
   "metadata": {
    "colab": {
     "base_uri": "https://localhost:8080/"
    },
    "id": "gUlnmriXagfT",
    "outputId": "31eef3e2-3a6e-487a-ec41-5fcdc3b1c904"
   },
   "outputs": [
    {
     "name": "stdout",
     "output_type": "stream",
     "text": [
      "False\n"
     ]
    }
   ],
   "source": [
    "print(my_string == my_list)"
   ]
  },
  {
   "cell_type": "code",
   "execution_count": null,
   "id": "ErEG3hbtbS0M",
   "metadata": {
    "colab": {
     "base_uri": "https://localhost:8080/"
    },
    "id": "ErEG3hbtbS0M",
    "outputId": "b3362197-6caa-44db-caec-8f72683c9531"
   },
   "outputs": [
    {
     "name": "stdout",
     "output_type": "stream",
     "text": [
      "True\n"
     ]
    }
   ],
   "source": [
    "print(my_string[0] == my_list[0])"
   ]
  },
  {
   "cell_type": "markdown",
   "id": "NxSfu4R5bZlJ",
   "metadata": {
    "id": "NxSfu4R5bZlJ"
   },
   "source": [
    "Что произошло?"
   ]
  },
  {
   "cell_type": "markdown",
   "id": "SF0U2nCUdqwj",
   "metadata": {
    "id": "SF0U2nCUdqwj"
   },
   "source": [
    "**Индексы** в Python начинаются с 0.\n",
    "\n",
    "Первый элемент имеет индекс 0, второй — 1, и так далее\n",
    "\n",
    "Можно использовать отрицательные индексы для доступа к элементам с конца списка. -1 обозначает последний элемент, -2 — предпоследний и так далее.\n"
   ]
  },
  {
   "cell_type": "code",
   "execution_count": null,
   "id": "2dJn1vebbboh",
   "metadata": {
    "colab": {
     "base_uri": "https://localhost:8080/"
    },
    "id": "2dJn1vebbboh",
    "outputId": "5a412ec3-64ee-4e9d-f070-b5135fb04162"
   },
   "outputs": [
    {
     "name": "stdout",
     "output_type": "stream",
     "text": [
      "С индексами:  4 4\n",
      "Без индексов:  40 ['4', '0']\n"
     ]
    }
   ],
   "source": [
    "print('С индексами: ', my_string[0], my_list[0])\n",
    "print('Без индексов: ', my_string, my_list)"
   ]
  },
  {
   "cell_type": "markdown",
   "id": "tNMir8UUcYBM",
   "metadata": {
    "id": "tNMir8UUcYBM"
   },
   "source": [
    "Давайте разберемся с индексами 🤔"
   ]
  },
  {
   "cell_type": "code",
   "execution_count": null,
   "id": "nJo-FQeGcMRx",
   "metadata": {
    "colab": {
     "base_uri": "https://localhost:8080/"
    },
    "id": "nJo-FQeGcMRx",
    "outputId": "a8959a06-94a2-4bf0-fb49-d28b413ccd1d"
   },
   "outputs": [
    {
     "name": "stdout",
     "output_type": "stream",
     "text": [
      "Первый элемент списка: 10\n",
      "Второй элемент списка: 30\n",
      "Последний элемент списка: 50\n"
     ]
    }
   ],
   "source": [
    "# Создаем список чисел\n",
    "numbers = [10, 20, 30, 40, 50]\n",
    "\n",
    "# Обращение к элементам списка по индексу\n",
    "print(\"Первый элемент списка:\", numbers[0])\n",
    "print(\"Второй элемент списка:\", numbers[2])\n",
    "print(\"Последний элемент списка:\", numbers[-1])"
   ]
  },
  {
   "cell_type": "markdown",
   "id": "3TmxTX-SccEi",
   "metadata": {
    "id": "3TmxTX-SccEi"
   },
   "source": [
    "А как со строкой? 🤔"
   ]
  },
  {
   "cell_type": "code",
   "execution_count": null,
   "id": "mxaLpXxAcvYP",
   "metadata": {
    "colab": {
     "base_uri": "https://localhost:8080/"
    },
    "id": "mxaLpXxAcvYP",
    "outputId": "6dcb0ade-7af5-4d73-991d-d390b8679077"
   },
   "outputs": [
    {
     "name": "stdout",
     "output_type": "stream",
     "text": [
      "Первый элемент строки: к\n",
      "Второй элемент строки: о\n",
      "Последний элемент строки: д\n"
     ]
    }
   ],
   "source": [
    "string = 'кто проживает на дне океана'\n",
    "\n",
    "print(\"Первый элемент строки:\", string[0])\n",
    "print(\"Второй элемент строки:\", string[2])\n",
    "print(\"Последний элемент строки:\", string[-10])"
   ]
  },
  {
   "cell_type": "markdown",
   "id": "4IJZt7tfdT73",
   "metadata": {
    "id": "4IJZt7tfdT73"
   },
   "source": [
    "Посмотрим на список строк 🤔"
   ]
  },
  {
   "cell_type": "code",
   "execution_count": null,
   "id": "rXFUgZuodSbd",
   "metadata": {
    "colab": {
     "base_uri": "https://localhost:8080/"
    },
    "id": "rXFUgZuodSbd",
    "outputId": "faabfb91-909b-421e-85eb-51098c43791f"
   },
   "outputs": [
    {
     "name": "stdout",
     "output_type": "stream",
     "text": [
      "Первый элемент списка: к\n",
      "Второй элемент списка: о\n",
      "Последний элемент списка: д\n"
     ]
    }
   ],
   "source": [
    "list_of_strs = ['кто', 'проживает', 'на', 'дне', 'океана']\n",
    "print(\"Первый элемент списка:\", string[0])\n",
    "print(\"Второй элемент списка:\", string[2])\n",
    "print(\"Последний элемент списка:\", string[-10])"
   ]
  },
  {
   "cell_type": "markdown",
   "id": "6cMSWvKMogeX",
   "metadata": {
    "id": "6cMSWvKMogeX"
   },
   "source": [
    "**Кортежи**"
   ]
  },
  {
   "cell_type": "markdown",
   "id": "a5ef26b0",
   "metadata": {
    "id": "a5ef26b0"
   },
   "source": [
    "Ранее мы уже обсуждали списки и кортежи в разговоре о типах данных. Тогда основное отличие заключалось в том, что списки — это изменяемый тип данных, а кортежи — неизменяемый. Проверить, что кортежи нельзя изменить, очень просто:"
   ]
  },
  {
   "cell_type": "code",
   "execution_count": null,
   "id": "996cba04",
   "metadata": {
    "id": "996cba04",
    "outputId": "92b5efb0-7891-4851-9bf4-6483c5d1d272"
   },
   "outputs": [
    {
     "data": {
      "text/plain": [
       "1"
      ]
     },
     "execution_count": 1,
     "metadata": {},
     "output_type": "execute_result"
    }
   ],
   "source": [
    "(1, 2, 3)[0] # индексация работает"
   ]
  },
  {
   "cell_type": "code",
   "execution_count": null,
   "id": "df9b2020",
   "metadata": {
    "id": "df9b2020",
    "outputId": "ff620b2d-b0e6-4d6b-ffbd-d492df448267"
   },
   "outputs": [
    {
     "ename": "TypeError",
     "evalue": "'tuple' object does not support item assignment",
     "output_type": "error",
     "traceback": [
      "\u001b[0;31m---------------------------------------------------------------------------\u001b[0m",
      "\u001b[0;31mTypeError\u001b[0m                                 Traceback (most recent call last)",
      "Input \u001b[0;32mIn [2]\u001b[0m, in \u001b[0;36m<cell line: 1>\u001b[0;34m()\u001b[0m\n\u001b[0;32m----> 1\u001b[0m (\u001b[38;5;241m1\u001b[39m, \u001b[38;5;241m2\u001b[39m, \u001b[38;5;241m3\u001b[39m)[\u001b[38;5;241m0\u001b[39m] \u001b[38;5;241m=\u001b[39m \u001b[38;5;241m0\u001b[39m\n",
      "\u001b[0;31mTypeError\u001b[0m: 'tuple' object does not support item assignment"
     ]
    }
   ],
   "source": [
    "(1, 2, 3)[0] = 0 # а вот попытка изменить кортеж (заменить его элемент) выдает ошибку"
   ]
  },
  {
   "cell_type": "markdown",
   "id": "kxJUV0gynq15",
   "metadata": {
    "id": "kxJUV0gynq15"
   },
   "source": [
    "Попробуйте проделать то же самое со списками и строками."
   ]
  },
  {
   "cell_type": "code",
   "execution_count": null,
   "id": "YZD3fLv2nuv6",
   "metadata": {
    "id": "YZD3fLv2nuv6"
   },
   "outputs": [],
   "source": [
    "# YOUR CODE"
   ]
  },
  {
   "cell_type": "markdown",
   "id": "390be1d0",
   "metadata": {
    "id": "390be1d0"
   },
   "source": [
    "Синтаксис кортежа (на английскойм – *tuple*) выглядит так, а для его создания вам нужно использовать круглые скобки:\n",
    "\n",
    "```my_tuple = (1, 2, 3, 4, 5)```\n",
    "\n",
    "Вы можете также создать кортеж с помощью функции `tuple()`:\n",
    "\n",
    "```tuple([1, 2, 3, 4, 5])  # создаем кортеж из списка```\n",
    "\n",
    "Оба типа данных представляют собой последовательности, однако кортеж — это неизменяемый и более быстрый аналог списка. Он защищает хранимые данные от непреднамеренных изменений и может использоваться в качестве ключа в словарях."
   ]
  },
  {
   "cell_type": "code",
   "execution_count": null,
   "id": "e825018c",
   "metadata": {
    "id": "e825018c",
    "outputId": "9ebb7054-3aa8-4454-85d9-165b4804cdaf"
   },
   "outputs": [
    {
     "name": "stdout",
     "output_type": "stream",
     "text": [
      "0.006312374999993153\n",
      "0.011767707999979393\n"
     ]
    }
   ],
   "source": [
    "import timeit # импортируем модуль timeit\n",
    "\n",
    "# измеряет, за сколько секунд запустится этот код number раз\n",
    "print(timeit.timeit('x = (1,2,3,4,5,6,7,8,9)', number=100000)) # когда создаем кортеж\n",
    "print(timeit.timeit('x = [1,2,3,4,5,6,7,8,9]', number=100000)) # когда создаем список"
   ]
  },
  {
   "cell_type": "markdown",
   "id": "1df2f336",
   "metadata": {
    "id": "1df2f336"
   },
   "source": [
    "Также, если функция возвращает несколько значений, то делает она это в виде кортежа."
   ]
  },
  {
   "cell_type": "code",
   "execution_count": null,
   "id": "a08bbb3c",
   "metadata": {
    "id": "a08bbb3c",
    "outputId": "7e83ca91-5cdd-4446-cb04-eddce4a5d23e"
   },
   "outputs": [
    {
     "data": {
      "text/plain": [
       "(0.33999999999999986, 2.0)"
      ]
     },
     "execution_count": 4,
     "metadata": {},
     "output_type": "execute_result"
    }
   ],
   "source": [
    "import math     # импортируем модуль math\n",
    "math.modf(2.34) # к слову, как вы думаете, что делает эта функция?"
   ]
  },
  {
   "cell_type": "markdown",
   "id": "77045889",
   "metadata": {
    "id": "77045889"
   },
   "source": [
    "Методы `.index()`, `.count()` и функция `len()` работают как с кортежами, так и со списками."
   ]
  },
  {
   "cell_type": "code",
   "execution_count": null,
   "id": "85698505",
   "metadata": {
    "id": "85698505",
    "outputId": "81bea1c4-d4f8-402f-9728-0ea7d7df4cc8"
   },
   "outputs": [
    {
     "name": "stdout",
     "output_type": "stream",
     "text": [
      "3\n",
      "1\n",
      "0\n"
     ]
    }
   ],
   "source": [
    "A = (1, 2, 4) # создаем кортеж A\n",
    "\n",
    "print(len(A)) # длина кортежа A\n",
    "print(A.count(1)) # сколько раз число 1 встречается в кортеже A\n",
    "print(A.index(1)) # возвращает индекс целого числа 1 в кортеже A"
   ]
  },
  {
   "cell_type": "markdown",
   "id": "5923d468",
   "metadata": {
    "id": "5923d468"
   },
   "source": [
    "## Методы строк (`.join()` и `.split()`) <a name=\"par2\"></a>"
   ]
  },
  {
   "cell_type": "markdown",
   "id": "1e651a63",
   "metadata": {
    "id": "1e651a63"
   },
   "source": [
    "Со списками работает больше методов, все их обсудим в следующий раз. Пока остановимся только на двух, которые на данный момент могут представлять интерес, они оба имеют оношение к спискам, однако являются методами строк. Речь идет про `.join()` и `split()`.\n",
    "\n",
    "Чтобы создать список, нужно использовать квадратные скобки и поместить внутрь какие-то значения:\n",
    "\n",
    "```products = [\"яблоки\", \"бананы\", \"апельсины\"]```\n",
    "\n",
    "```numbers = [1, 2, 3]```\n",
    "\n",
    "Вы можете также создать список из кортежа с помощью функции `list()`. Например:\n",
    "\n",
    "```numbers = list((1, 2, 3)) # результат - [1, 2, 3]```\n",
    "\n",
    "Можно создать список из строки. Например:\n",
    "\n",
    "```list('abcde') # ['a', 'b', 'c', 'd', 'e']```"
   ]
  },
  {
   "cell_type": "markdown",
   "id": "b94ec599",
   "metadata": {
    "id": "b94ec599"
   },
   "source": [
    "Метод `.join()` из списка <b>строк</b> делает строку."
   ]
  },
  {
   "cell_type": "code",
   "execution_count": null,
   "id": "feaf843a",
   "metadata": {
    "id": "feaf843a",
    "outputId": "7bd8596a-7221-4920-c439-0cea96c84390"
   },
   "outputs": [
    {
     "data": {
      "text/plain": [
       "'яблоки, бананы, апельсины'"
      ]
     },
     "execution_count": 29,
     "metadata": {},
     "output_type": "execute_result"
    }
   ],
   "source": [
    "products = [\"яблоки\", \"бананы\", \"апельсины\"] # внутри списка products только строки\n",
    "', '.join(products) # объединяем эти строки в списке в одну большую строку"
   ]
  },
  {
   "cell_type": "markdown",
   "id": "4b33b5d7",
   "metadata": {
    "id": "4b33b5d7"
   },
   "source": [
    "Фактически метод применяется к строке `', '` и говорит — используй эту строку в качестве разделителя между другими строками нашего списка."
   ]
  },
  {
   "cell_type": "code",
   "execution_count": null,
   "id": "eb832184",
   "metadata": {
    "id": "eb832184",
    "outputId": "384ca71c-e18e-4e55-b7a0-2cc1e2205c10"
   },
   "outputs": [
    {
     "ename": "TypeError",
     "evalue": "sequence item 1: expected str instance, int found",
     "output_type": "error",
     "traceback": [
      "\u001b[0;31m---------------------------------------------------------------------------\u001b[0m",
      "\u001b[0;31mTypeError\u001b[0m                                 Traceback (most recent call last)",
      "Input \u001b[0;32mIn [7]\u001b[0m, in \u001b[0;36m<cell line: 1>\u001b[0;34m()\u001b[0m\n\u001b[0;32m----> 1\u001b[0m \u001b[38;5;124;43m'\u001b[39;49m\u001b[38;5;124;43m, \u001b[39;49m\u001b[38;5;124;43m'\u001b[39;49m\u001b[38;5;241;43m.\u001b[39;49m\u001b[43mjoin\u001b[49m\u001b[43m(\u001b[49m\u001b[43m[\u001b[49m\u001b[38;5;124;43m\"\u001b[39;49m\u001b[38;5;124;43mяблоки\u001b[39;49m\u001b[38;5;124;43m\"\u001b[39;49m\u001b[43m,\u001b[49m\u001b[43m \u001b[49m\u001b[38;5;241;43m111\u001b[39;49m\u001b[43m,\u001b[49m\u001b[43m \u001b[49m\u001b[38;5;124;43m\"\u001b[39;49m\u001b[38;5;124;43mапельсины\u001b[39;49m\u001b[38;5;124;43m\"\u001b[39;49m\u001b[43m]\u001b[49m\u001b[43m)\u001b[49m\n",
      "\u001b[0;31mTypeError\u001b[0m: sequence item 1: expected str instance, int found"
     ]
    }
   ],
   "source": [
    "', '.join([\"яблоки\", 111, \"апельсины\"]) # ошибка TypeError"
   ]
  },
  {
   "cell_type": "markdown",
   "id": "2b236a9d",
   "metadata": {
    "id": "2b236a9d"
   },
   "source": [
    "Если же мы попытаемся объединить так список, состоящий не только из строк, то программа выдаст уже известную нам ошибку."
   ]
  },
  {
   "cell_type": "markdown",
   "id": "f81fe093",
   "metadata": {
    "id": "f81fe093"
   },
   "source": [
    "У этого метода есть еще пара нюансов, которые стоит запомнить. Помните про форматирование строки и f-строки? Попробуем подставить в такую запись `.join()`."
   ]
  },
  {
   "cell_type": "code",
   "execution_count": null,
   "id": "60f61551",
   "metadata": {
    "id": "60f61551",
    "outputId": "4589470a-4143-40fa-a598-c5af8cf25673"
   },
   "outputs": [
    {
     "ename": "SyntaxError",
     "evalue": "f-string: expecting '}' (3853788120.py, line 1)",
     "output_type": "error",
     "traceback": [
      "\u001b[0;36m  Input \u001b[0;32mIn [8]\u001b[0;36m\u001b[0m\n\u001b[0;31m    print(f'В магазине надо купить: {', '.join(products)}')\u001b[0m\n\u001b[0m                                      ^\u001b[0m\n\u001b[0;31mSyntaxError\u001b[0m\u001b[0;31m:\u001b[0m f-string: expecting '}'\n"
     ]
    }
   ],
   "source": [
    "print(f'В магазине надо купить: {', '.join(products)}') # внутри одинарные кавычки"
   ]
  },
  {
   "cell_type": "markdown",
   "id": "62f25b55",
   "metadata": {
    "id": "62f25b55"
   },
   "source": [
    "Это тот случай, где кавычки важны! Обратите внимание ошибка возникла потому, что f-строка подумала, что она заканчивается вот здесь `В магазине надо купить: {'` и при этом не нашла закрывающуюся скобочку `}`. Как решить проблему? Например, использовать в `.join()` двойные кавычки."
   ]
  },
  {
   "cell_type": "code",
   "execution_count": null,
   "id": "cd0f6519",
   "metadata": {
    "id": "cd0f6519",
    "outputId": "dfd686f4-db5b-43cb-cbfe-df0f11a5c9b7"
   },
   "outputs": [
    {
     "name": "stdout",
     "output_type": "stream",
     "text": [
      "В магазине надо купить: яблоки, бананы, апельсины\n"
     ]
    }
   ],
   "source": [
    "print(f'В магазине надо купить: {\", \".join(products)}') # внутри двойные кавычки"
   ]
  },
  {
   "cell_type": "markdown",
   "id": "65dd8262",
   "metadata": {
    "id": "65dd8262"
   },
   "source": [
    "И второй нюанс в том, что визуально может быть похоже следующее:"
   ]
  },
  {
   "cell_type": "code",
   "execution_count": null,
   "id": "92c191ad",
   "metadata": {
    "id": "92c191ad",
    "outputId": "fe8481f9-0f1e-470a-fae2-3a1d1b143571"
   },
   "outputs": [
    {
     "name": "stdout",
     "output_type": "stream",
     "text": [
      "яблоки, бананы, апельсины\n",
      "яблоки, бананы, апельсины\n"
     ]
    }
   ],
   "source": [
    "print(\", \".join(products))   # печатаем строку\n",
    "print(*products, sep = ', ') # распаковываем список"
   ]
  },
  {
   "cell_type": "markdown",
   "id": "4269a86c",
   "metadata": {
    "id": "4269a86c"
   },
   "source": [
    "В первом случае у нас создается строка, во втором — мы просто распаковываем имеющийся список."
   ]
  },
  {
   "cell_type": "markdown",
   "id": "d9936193",
   "metadata": {
    "id": "d9936193"
   },
   "source": [
    "Метод `split()` работает в обратную сторону — он буквально разделит нашу строку, и по умолчанию сделает это по пробелам."
   ]
  },
  {
   "cell_type": "code",
   "execution_count": null,
   "id": "679ca8b2",
   "metadata": {
    "id": "679ca8b2",
    "outputId": "e61f9ee7-9736-4ea3-b227-2eb85fcfa3c9"
   },
   "outputs": [
    {
     "name": "stdout",
     "output_type": "stream",
     "text": [
      "1258   1638        1729   982\n",
      "['1258', '1638', '1729', '982']\n"
     ]
    }
   ],
   "source": [
    "years = input()        # вводим какое-то значение\n",
    "years = years.split()  # разбиваем строку (по умолчанию - по пробелу)\n",
    "print(years)           # печатаем получившийся результат"
   ]
  },
  {
   "cell_type": "markdown",
   "id": "c412485a",
   "metadata": {
    "id": "c412485a"
   },
   "source": [
    "Во-первых, обращаем внимание, что убираются все пробелы между символами.\n",
    "\n",
    "Во-вторых, это все можно было записать в одну строку вот так:"
   ]
  },
  {
   "cell_type": "code",
   "execution_count": null,
   "id": "e12e6191",
   "metadata": {
    "id": "e12e6191",
    "outputId": "c1645391-ffc0-43c3-a01f-fe0c86fcf14c"
   },
   "outputs": [
    {
     "name": "stdout",
     "output_type": "stream",
     "text": [
      "1258   1638        1729   982\n",
      "['1258', '1638', '1729', '982']\n"
     ]
    }
   ],
   "source": [
    "print(input().split()) # только тут у нас не создается переменная"
   ]
  },
  {
   "cell_type": "code",
   "execution_count": null,
   "id": "93bfc69f",
   "metadata": {
    "id": "93bfc69f",
    "outputId": "3a86b167-1dab-4ff1-dd4b-ad89f86ab87e"
   },
   "outputs": [
    {
     "name": "stdout",
     "output_type": "stream",
     "text": [
      "1258   1638        1729   982\n",
      "['1258   1638        1729   982']\n"
     ]
    }
   ],
   "source": [
    "print(input().split(', ')) # а еще можно использовать другое разделитель - например, запятую с пробелом"
   ]
  },
  {
   "cell_type": "markdown",
   "id": "34da6d5d",
   "metadata": {
    "id": "34da6d5d"
   },
   "source": [
    "Если тоже самое «разделить» по запятой с пробелом, то получится список, состоящий из одной строки. Однако, если бы в ней были `, `, то наш метод также бы разделил по ним строку.\n",
    "\n",
    "Вернемся к нашему списку `years` и попробуем вытащить оттуда максимальное значение:"
   ]
  },
  {
   "cell_type": "code",
   "execution_count": null,
   "id": "217c15c1",
   "metadata": {
    "id": "217c15c1",
    "outputId": "9947e295-9466-4b97-adcb-a3132e45a5ca"
   },
   "outputs": [
    {
     "data": {
      "text/plain": [
       "'982'"
      ]
     },
     "execution_count": 19,
     "metadata": {},
     "output_type": "execute_result"
    }
   ],
   "source": [
    "max(years)"
   ]
  },
  {
   "cell_type": "markdown",
   "id": "a5fbef4a",
   "metadata": {
    "id": "a5fbef4a"
   },
   "source": [
    "Ой, что-то пошло не так. Это связано с тем, что было вытащено максимальное/первое значение по алфавиту, ведь мы работаем со строками. Нужно попробовать переделать наш список в список целых чисел. Быстрее всего это сделать с помощью функции `map()`."
   ]
  },
  {
   "cell_type": "markdown",
   "id": "644395e5",
   "metadata": {
    "id": "644395e5"
   },
   "source": [
    "## И напоследок про `map()` <a name=\"par5\"></a>"
   ]
  },
  {
   "cell_type": "markdown",
   "id": "c7fb6677",
   "metadata": {
    "id": "c7fb6677"
   },
   "source": [
    "Вспомним про наш список `years`. Преобразовать все в целые числа можно еще и так:"
   ]
  },
  {
   "cell_type": "code",
   "execution_count": null,
   "id": "e9643e6a",
   "metadata": {
    "id": "e9643e6a",
    "outputId": "c318c075-f435-4188-d69c-d42cc41bb149"
   },
   "outputs": [
    {
     "name": "stdout",
     "output_type": "stream",
     "text": [
      "['1258', '1638', '1729', '982']\n",
      "[1258, 1638, 1729, 982]\n"
     ]
    }
   ],
   "source": [
    "int_years_3 = list(map(int, years))\n",
    "print(years)\n",
    "print(int_years_3)"
   ]
  },
  {
   "cell_type": "markdown",
   "id": "a8f5ab06",
   "metadata": {
    "id": "a8f5ab06"
   },
   "source": [
    "Что тут произошло? Функция `map()` буквально говорит: возьми функцию `int()` и примени ее ко всем элементам нашего списка. Возвращает нам объект типа `map`, который потом мы уже преобразовываем в список с помощью функции `list()`.\n",
    "\n",
    "Функция `map()` может работать не только с встроенными функциями, но и с любыми другими, даже написанными именно нами."
   ]
  },
  {
   "cell_type": "code",
   "execution_count": null,
   "id": "d7ba1e3b",
   "metadata": {
    "id": "d7ba1e3b",
    "outputId": "4519116d-b1f6-4f35-ebd1-560493a2884a"
   },
   "outputs": [
    {
     "name": "stdout",
     "output_type": "stream",
     "text": [
      "[1258, 1638, 1729, 982]\n",
      "[35.4682957019364, 40.47221268969612, 41.58124577258358, 31.336879231984796]\n"
     ]
    }
   ],
   "source": [
    "from math import sqrt\n",
    "\n",
    "sqrt_years = list(map(sqrt, int_years_3))\n",
    "\n",
    "print(int_years_3)\n",
    "print(sqrt_years)"
   ]
  },
  {
   "cell_type": "markdown",
   "id": "25c3b083",
   "metadata": {
    "id": "25c3b083"
   },
   "source": [
    "Например, возьмем квадратный корень из всех наших значений.\n",
    "\n",
    "В заключении скажем, что есть еще нечто, называемое безымянными функциями `lambda`, которые также работают с `map()`, но о них мы поговорим чуть позже, при обсуждении функций. Не переживаем, если все, что написано ниже, буде непонятно!! Мы разберемся со всем!"
   ]
  },
  {
   "cell_type": "code",
   "execution_count": null,
   "id": "e715c1e4",
   "metadata": {
    "id": "e715c1e4",
    "outputId": "626ebba3-b0dc-4ab5-b3d9-24abe09a0fbb"
   },
   "outputs": [
    {
     "name": "stdout",
     "output_type": "stream",
     "text": [
      "[1258, 1638, 1729, 982]\n",
      "[1259, 1639, 1730, 983]\n"
     ]
    }
   ],
   "source": [
    "plus_one_years = list(map(lambda x: x + 1, int_years_3))\n",
    "\n",
    "print(int_years_3)\n",
    "print(plus_one_years)"
   ]
  },
  {
   "cell_type": "markdown",
   "id": "539ce6fb",
   "metadata": {
    "id": "539ce6fb"
   },
   "source": [
    "А и началось же все с того, что мы хотели максимальный год достать. Вот он:"
   ]
  },
  {
   "cell_type": "code",
   "execution_count": null,
   "id": "c9d7b483",
   "metadata": {
    "id": "c9d7b483",
    "outputId": "e29f0df8-818f-4211-c28b-f0123238f65b"
   },
   "outputs": [
    {
     "name": "stdout",
     "output_type": "stream",
     "text": [
      "1729\n"
     ]
    }
   ],
   "source": [
    "print(max(int_years))"
   ]
  },
  {
   "cell_type": "markdown",
   "id": "b4dcdaaa",
   "metadata": {
    "id": "b4dcdaaa"
   },
   "source": [
    "## PS: методы списков <a name=\"par6\"></a>"
   ]
  },
  {
   "cell_type": "markdown",
   "id": "5b9dc3b2",
   "metadata": {
    "id": "5b9dc3b2"
   },
   "source": [
    "Сейчас перечислим те методы, которые были упомянуты в онлайн-курсе, и методы, которые есть еще. И коротко о том, как они работают.\n",
    "\n",
    "|Есть в онлайн-курсе | Все остальное |\n",
    "|:--------------:|:-----:|\n",
    "| `.append()` |  `.extend()` |\n",
    "| `.count()`      |  `.insert()` |\n",
    "| `.remove()`      |  `.pop()` |\n",
    "| `.index()`      |  `.sort()` |\n",
    "|     |  `.reverse()` |\n",
    "|     |  `.copy()` |\n",
    "|     |  `.clear()` |\n",
    "\n",
    "Почти все они <u>изменяют исходный список</u>."
   ]
  },
  {
   "cell_type": "code",
   "execution_count": null,
   "id": "93369786",
   "metadata": {
    "id": "93369786",
    "outputId": "8b703a2e-a3e0-4846-d09e-5e429c9a4fa7"
   },
   "outputs": [
    {
     "name": "stdout",
     "output_type": "stream",
     "text": [
      "[1, 2, 3, 4, 5, 6, 7, 8]\n"
     ]
    }
   ],
   "source": [
    "# Метод .extend() добавляет в конец списка А все элементы списка B\n",
    "\n",
    "A = [1, 2, 3, 4]\n",
    "B = [5, 6, 7, 8]\n",
    "\n",
    "A.extend(B)\n",
    "\n",
    "print(A)"
   ]
  },
  {
   "cell_type": "code",
   "execution_count": null,
   "id": "354212f6",
   "metadata": {
    "id": "354212f6",
    "outputId": "fc2978ff-a542-45b6-de92-04f5fa92a62b"
   },
   "outputs": [
    {
     "name": "stdout",
     "output_type": "stream",
     "text": [
      "[1, 2, 'new', 3, 4]\n"
     ]
    }
   ],
   "source": [
    "# Метод .insert() добавляет в список А на место определенного индекса (2) новый элемент (строку 'new')\n",
    "\n",
    "A = [1, 2, 3, 4]\n",
    "\n",
    "A.insert(2, 'new')\n",
    "\n",
    "print(A)"
   ]
  },
  {
   "cell_type": "code",
   "execution_count": null,
   "id": "d60548dc",
   "metadata": {
    "id": "d60548dc",
    "outputId": "50c99ae8-a9ea-433a-f4c6-7119f58b3662"
   },
   "outputs": [
    {
     "name": "stdout",
     "output_type": "stream",
     "text": [
      "3\n",
      "[1, 2, 4]\n"
     ]
    }
   ],
   "source": [
    "# Метод .pop() удаляет i-ый (2) элемент из списка А и возвращает его.\n",
    "# Если индекс не указан, удаляется последний элемент\n",
    "\n",
    "A = [1, 2, 3, 4]\n",
    "\n",
    "get_element = A.pop(2)\n",
    "\n",
    "print(get_element)\n",
    "print(A)"
   ]
  },
  {
   "cell_type": "code",
   "execution_count": null,
   "id": "0ebef480",
   "metadata": {
    "id": "0ebef480",
    "outputId": "b79e59b2-2c73-493d-e8a9-102370706f52"
   },
   "outputs": [
    {
     "name": "stdout",
     "output_type": "stream",
     "text": [
      "[1, 2, 3, 4]\n",
      "[8, 7, 6, 5]\n"
     ]
    }
   ],
   "source": [
    "# Метод .sort() сортирует список А\n",
    "# Метод .reverse() разворачивает список В\n",
    "\n",
    "A = [1, 2, 3, 4]\n",
    "B = [5, 6, 7, 8]\n",
    "\n",
    "A.sort()\n",
    "B.reverse()\n",
    "\n",
    "print(A)\n",
    "print(B)"
   ]
  },
  {
   "cell_type": "code",
   "execution_count": null,
   "id": "1a98d5e6",
   "metadata": {
    "id": "1a98d5e6",
    "outputId": "621a8ca2-2d92-4820-83a1-a1532f366a9b"
   },
   "outputs": [
    {
     "name": "stdout",
     "output_type": "stream",
     "text": [
      "[]\n",
      "[1, 2, 3, 4]\n"
     ]
    }
   ],
   "source": [
    "# Метод .copy() создает копию списка A\n",
    "# Метод .clear() очищает список А\n",
    "\n",
    "A = [1, 2, 3, 4]\n",
    "\n",
    "B = A.copy()\n",
    "A.clear()\n",
    "\n",
    "print(A) # будет пустым\n",
    "print(B) # а тут лежит копия"
   ]
  },
  {
   "cell_type": "markdown",
   "id": "441e623a",
   "metadata": {
    "id": "441e623a"
   },
   "source": [
    "Не путайте списки с массивами (если кто-то встречался с таким словом). Массивы ограничены тем, что содержат в себе только один тип данных за раз, а в списках может быть сразу несколько. Возможно, чуть позже будет отдельный конспект именно по массивам."
   ]
  },
  {
   "cell_type": "markdown",
   "id": "a1da590d",
   "metadata": {
    "id": "a1da590d"
   },
   "source": [
    "## Дополнительные материалы <a name=\"parlast\"></a>\n",
    "\n",
    "+ Документация Python [Built-in Types](https://docs.python.org/3/library/stdtypes.html)\n",
    "+ Документация Python [More Control Flow Tools](https://docs.python.org/3/tutorial/controlflow.html)\n",
    "+ Щуров И.В., Тамбовцева А.А., Жучкова С.В. —  курс «Основы программирования в Python» ([ссылка на курс](https://allatambov.github.io/pypolit/pypolit.html))\n",
    "+ Статья на Хабр. [Понимание итераторов в Python](https://habr.com/ru/post/488112/)\n",
    "+ [Цикл `for` в Python - как работает, синтаксис, примеры](https://pythonchik.ru/osnovy/cikl-for-v-python)\n",
    "+ [Как работает функция `enumerate()` в Python?](https://pythonist.ru/kak-rabotaet-funkcziya-enumerate-v-python/)\n",
    "+ Python для начинающих. [Про `try-except`](https://pythonworld.ru/tipy-dannyx-v-python/isklyucheniya-v-python-konstrukciya-try-except-dlya-obrabotki-isklyuchenij.html)\n",
    "+ Python для начинающих. [Все методы списков с примерами](https://pythonworld.ru/tipy-dannyx-v-python/spiski-list-funkcii-i-metody-spiskov.html)"
   ]
  }
 ],
 "metadata": {
  "colab": {
   "provenance": []
  },
  "kernelspec": {
   "display_name": "Python 3 (ipykernel)",
   "language": "python",
   "name": "python3"
  },
  "language_info": {
   "codemirror_mode": {
    "name": "ipython",
    "version": 3
   },
   "file_extension": ".py",
   "mimetype": "text/x-python",
   "name": "python",
   "nbconvert_exporter": "python",
   "pygments_lexer": "ipython3",
   "version": "3.11.0"
  }
 },
 "nbformat": 4,
 "nbformat_minor": 5
}

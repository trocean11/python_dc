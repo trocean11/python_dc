{
 "cells": [
  {
   "cell_type": "markdown",
   "id": "e1b9735c",
   "metadata": {},
   "source": [
    "# Программирование на Python \n",
    "\n",
    "# Логический тип данных. Условные конструкции.\n",
    "\n",
    "*Автор: Паршина Анастасия, НИУ ВШЭ (tg: @aaparshina)*\n",
    "\n",
    "## Содержание\n",
    "\n",
    "1. [Типы данных — часть 2](#par1)\n",
    "2. [Сложные логические выражения](#par2)\n",
    "3. [Условные конструкции](#par3)\n",
    "4. [Дополнительные материалы](#parlast)"
   ]
  },
  {
   "cell_type": "markdown",
   "id": "6e4274ce",
   "metadata": {},
   "source": [
    "## Типы данных — часть 2 <a name=\"par1\"></a>"
   ]
  },
  {
   "cell_type": "markdown",
   "id": "dcc922ad",
   "metadata": {},
   "source": [
    "Продолжаем разговор о типах данных. Сегодня обсуждаем логический тип данных (`bool`) — неизменяемый тип, который имеет только два значения `True` и `False`. "
   ]
  },
  {
   "cell_type": "code",
   "execution_count": 1,
   "id": "f58a829b",
   "metadata": {},
   "outputs": [
    {
     "name": "stdout",
     "output_type": "stream",
     "text": [
      "<class 'bool'>\n",
      "<class 'bool'>\n"
     ]
    }
   ],
   "source": [
    "print(type(True))\n",
    "print(type(False))"
   ]
  },
  {
   "cell_type": "markdown",
   "id": "e6bf4f99",
   "metadata": {},
   "source": [
    "Из чего появляется `True` и `False`? Из утверждений, истинность которых мы хотим проверить. Например, у нас есть числа $2^6$ и $8^2$, и мы утврждаем, что первое больше второго. Так ли это? Проверим:"
   ]
  },
  {
   "cell_type": "code",
   "execution_count": 5,
   "id": "096b8ce6",
   "metadata": {},
   "outputs": [
    {
     "name": "stdout",
     "output_type": "stream",
     "text": [
      "False\n"
     ]
    }
   ],
   "source": [
    "print(2**6 > 8**2)"
   ]
  },
  {
   "cell_type": "markdown",
   "id": "c10db8f3",
   "metadata": {},
   "source": [
    "Мы получаем False, значит, наше утверждение ложно, и $2^6$ НЕ больше $8^2$. Возможно, тогда $2^6$ меньше $8^2$?"
   ]
  },
  {
   "cell_type": "code",
   "execution_count": 6,
   "id": "19a5a800",
   "metadata": {},
   "outputs": [
    {
     "name": "stdout",
     "output_type": "stream",
     "text": [
      "False\n"
     ]
    }
   ],
   "source": [
    "print(2**6 < 8**2)"
   ]
  },
  {
   "cell_type": "markdown",
   "id": "e0072e12",
   "metadata": {},
   "source": [
    "Снова неверно. Хммм... возможно, числа равны? "
   ]
  },
  {
   "cell_type": "code",
   "execution_count": 7,
   "id": "1e400164",
   "metadata": {},
   "outputs": [
    {
     "ename": "SyntaxError",
     "evalue": "expression cannot contain assignment, perhaps you meant \"==\"? (3906772551.py, line 1)",
     "output_type": "error",
     "traceback": [
      "\u001b[0;36m  Input \u001b[0;32mIn [7]\u001b[0;36m\u001b[0m\n\u001b[0;31m    print(2**6 = 8**2)\u001b[0m\n\u001b[0m          ^\u001b[0m\n\u001b[0;31mSyntaxError\u001b[0m\u001b[0;31m:\u001b[0m expression cannot contain assignment, perhaps you meant \"==\"?\n"
     ]
    }
   ],
   "source": [
    "print(2**6 = 8**2) # ой"
   ]
  },
  {
   "cell_type": "markdown",
   "id": "67e66a43",
   "metadata": {},
   "source": [
    "Тут ошибка `SyntaxError` указывает нам, что знак `=` отвечает за присвоение значения (читай предыдущий конспект). Но мы точно не собирались создавать переменную и присваивать ей какое-либо значение. Просто хотели проверить, эквивалентна левая часть выражения правой или нет.\n",
    "\n",
    "На самом деле, для такой проверки используется двойной знак равенства `==`."
   ]
  },
  {
   "cell_type": "code",
   "execution_count": 9,
   "id": "5f477509",
   "metadata": {},
   "outputs": [
    {
     "name": "stdout",
     "output_type": "stream",
     "text": [
      "True\n",
      "64\n",
      "64\n"
     ]
    }
   ],
   "source": [
    "print(2**6 == 8**2)\n",
    "print(2**6)\n",
    "print(8**2)"
   ]
  },
  {
   "cell_type": "markdown",
   "id": "a0d9bb4a",
   "metadata": {},
   "source": [
    "И аналогично, если мы хотим проверить обраную ситуацию, то есть и знак отрицания `!=` т.е. «не эквивалентна». "
   ]
  },
  {
   "cell_type": "code",
   "execution_count": 11,
   "id": "66f33344",
   "metadata": {},
   "outputs": [
    {
     "name": "stdout",
     "output_type": "stream",
     "text": [
      "False\n",
      "True\n"
     ]
    }
   ],
   "source": [
    "print(2**6 != 8**2)\n",
    "print(2 != 8)"
   ]
  },
  {
   "cell_type": "markdown",
   "id": "043d7d4c",
   "metadata": {},
   "source": [
    "<center> \n",
    "    <table>\n",
    "        <tr>\n",
    "            <th>Оператор сравнения</th>\n",
    "            <th> Интерпретация </th>\n",
    "        </tr> \n",
    "        <tr><td>&lt;</td><td> Первый операнд меньше второго </td></tr>\n",
    "        <tr><td>&gt;</td><td> Первый операнд больше второго</td></tr>\n",
    "        <tr><td>&lt;=</td><td> Меньше или равно</td></tr>\n",
    "        <tr><td>&gt;=</td><td> Больше или равно</td></tr>\n",
    "        <tr><td>==</td><td> Два операнда равны </td></tr>\n",
    "        <tr><td>!=</td><td> Два операнда не равны</td></tr>\n",
    "    </table>\n",
    "</center>"
   ]
  },
  {
   "cell_type": "code",
   "execution_count": 15,
   "id": "7bda85cf",
   "metadata": {},
   "outputs": [
    {
     "name": "stdout",
     "output_type": "stream",
     "text": [
      "Если преобразовать True в целое число, то получится 1\n",
      "Если преобразовать False в целое число, то получится 0\n"
     ]
    }
   ],
   "source": [
    "print(f'Если преобразовать True в целое число, то получится {int(True)}')\n",
    "print(f'Если преобразовать False в целое число, то получится {int(False)}')"
   ]
  },
  {
   "cell_type": "markdown",
   "id": "3aa492f2",
   "metadata": {},
   "source": [
    "Также важно понимать, что даже если визуально значения похожи, но типы их данных отличаются, то сравнение через оператор `==` выдаст `False`, например: "
   ]
  },
  {
   "cell_type": "code",
   "execution_count": 16,
   "id": "e9f2eb4f",
   "metadata": {},
   "outputs": [
    {
     "name": "stdout",
     "output_type": "stream",
     "text": [
      "False\n"
     ]
    }
   ],
   "source": [
    "print(True == 'True')"
   ]
  },
  {
   "cell_type": "markdown",
   "id": "fe8cf97c",
   "metadata": {},
   "source": [
    "<center><b><font size=4>Задача №1.</font></b></center>\n",
    "\n",
    "Используя табличку с операторами выше, напечатайте результаты сравнения следующих переменных:\n",
    "\n",
    "1. `40` равно `4 * 10`;\n",
    "2. `100` больше чем `400 - (100 * 2)`;\n",
    "3. `300` больше или равно чем `300 + 1`;\n",
    "4. `80` не равно `4 * 40 / 2`;\n",
    "5. `21` меньше или равно чем `24 - 2`;"
   ]
  },
  {
   "cell_type": "code",
   "execution_count": null,
   "id": "46594463",
   "metadata": {},
   "outputs": [],
   "source": [
    "# YOUR CODE HERE"
   ]
  },
  {
   "cell_type": "markdown",
   "id": "d39589d5",
   "metadata": {},
   "source": [
    "## Сложные логические выражения <a name=\"par2\"></a>\n"
   ]
  },
  {
   "cell_type": "markdown",
   "id": "002ff9ee",
   "metadata": {},
   "source": [
    "В Python 3 логических оператора:\n",
    "\n",
    "+ `and` — логическое \"И\";\n",
    "+ `or` — логическое \"ИЛИ\";\n",
    "+ `not` — логическое отрицание.\n",
    "\n",
    "Разберем каждый подробнее. \n",
    "\n",
    "Предположим, следующую реальную ситуацию: в переменную `project` сохраняется оценка студента за проект, а в переменную `exam` — его же оценка, но уже за экзамен по курсу. \n",
    "\n",
    "1. Если <u>хотя бы одна</u> оценка больше 8, то студент получает зачет. Как проверить, получил зачет студент или нет?\n",
    "\n",
    "Здесь нам поможет оператор `or`, котрый работает по такой схеме: \n",
    "+ если хотя бы одна часть выражения принимает значение True, то в итоге выдается True;\n",
    "+ если обе части выражения принимают значение False, то в итоге выдается False."
   ]
  },
  {
   "cell_type": "code",
   "execution_count": 25,
   "id": "346ced30",
   "metadata": {},
   "outputs": [
    {
     "name": "stdout",
     "output_type": "stream",
     "text": [
      "True\n",
      "True\n",
      "True\n",
      "False\n"
     ]
    }
   ],
   "source": [
    "print(True or True)\n",
    "print(True or False)\n",
    "print(False or True)\n",
    "print(False or False)"
   ]
  },
  {
   "cell_type": "markdown",
   "id": "6318afe7",
   "metadata": {},
   "source": [
    "Соответственно, на месте этих `True` и `False` могут быть результаты сравнения: "
   ]
  },
  {
   "cell_type": "code",
   "execution_count": 26,
   "id": "81f8ef2b",
   "metadata": {},
   "outputs": [
    {
     "name": "stdout",
     "output_type": "stream",
     "text": [
      "4\n",
      "9\n",
      "False\n",
      "True\n",
      "True\n"
     ]
    }
   ],
   "source": [
    "project = int(input())\n",
    "exam = int(input())\n",
    "\n",
    "print(project > 8)\n",
    "print(exam > 8)\n",
    "\n",
    "print((project > 8) or (exam > 8)) # зачет получен :)"
   ]
  },
  {
   "cell_type": "markdown",
   "id": "e002394a",
   "metadata": {},
   "source": [
    "2. Если <u>обе</u> оценки больше 8, то студент получает зачет. \n",
    "\n",
    "Здесь нам поможет оператор `and`, котрый работает по такой схеме: \n",
    "+ если хотя бы одна часть выражения принимает значение False, то в итоге выдается False;\n",
    "+ если обе части выражения принимают значение True, то в итоге выдается True."
   ]
  },
  {
   "cell_type": "code",
   "execution_count": 28,
   "id": "92676191",
   "metadata": {},
   "outputs": [
    {
     "name": "stdout",
     "output_type": "stream",
     "text": [
      "True\n",
      "False\n",
      "False\n",
      "False\n"
     ]
    }
   ],
   "source": [
    "print(True and True)\n",
    "print(True and False)\n",
    "print(False and True)\n",
    "print(False and False)"
   ]
  },
  {
   "cell_type": "code",
   "execution_count": 29,
   "id": "4367b4f4",
   "metadata": {},
   "outputs": [
    {
     "name": "stdout",
     "output_type": "stream",
     "text": [
      "False\n"
     ]
    }
   ],
   "source": [
    "print((project > 8) and (exam > 8)) # ой, нет зачета :("
   ]
  },
  {
   "cell_type": "markdown",
   "id": "554f3fe3",
   "metadata": {},
   "source": [
    "3. Если <u>обе</u> оценки <u>ниже</u> 8, то студент получает незачет. \n",
    "\n",
    "В работе оператора `or` ничего не меняется. Оператор `not` представляет собой отрицание, то есть, например, если логическое выражение выдает `True`, но перед ним поставить `not`, оно будет выдавать `False`. "
   ]
  },
  {
   "cell_type": "code",
   "execution_count": 30,
   "id": "7c9c2fa2",
   "metadata": {},
   "outputs": [
    {
     "name": "stdout",
     "output_type": "stream",
     "text": [
      "False\n",
      "False\n",
      "False\n",
      "True\n"
     ]
    }
   ],
   "source": [
    "print(not(True or True))\n",
    "print(not(True or False))\n",
    "print(not(False or True))\n",
    "print(not(False or False))"
   ]
  },
  {
   "cell_type": "code",
   "execution_count": 42,
   "id": "56a45da9",
   "metadata": {},
   "outputs": [
    {
     "name": "stdout",
     "output_type": "stream",
     "text": [
      "True\n",
      "False\n",
      "False\n"
     ]
    }
   ],
   "source": [
    "print(not((4 > 8) or (4 > 8))) # вот тут незачет\n",
    "print(not((4 > 8) or (9 > 8))) \n",
    "print(not((9 > 8) or (9 > 8))) "
   ]
  },
  {
   "cell_type": "code",
   "execution_count": 39,
   "id": "29a3def5",
   "metadata": {},
   "outputs": [
    {
     "name": "stdout",
     "output_type": "stream",
     "text": [
      "False\n"
     ]
    }
   ],
   "source": [
    "print(not((project > 8) or (exam > 8))) # незачета нет "
   ]
  },
  {
   "cell_type": "markdown",
   "id": "e014e7d7",
   "metadata": {},
   "source": [
    "4. Если <u>хотя бы одна</u> оценка <u>ниже</u> 8, то студент получает незачет. "
   ]
  },
  {
   "cell_type": "code",
   "execution_count": 40,
   "id": "45b5d55e",
   "metadata": {},
   "outputs": [
    {
     "name": "stdout",
     "output_type": "stream",
     "text": [
      "False\n",
      "True\n",
      "True\n",
      "True\n"
     ]
    }
   ],
   "source": [
    "print(not(True and True))\n",
    "print(not(True and False))\n",
    "print(not(False and True))\n",
    "print(not(False and False))"
   ]
  },
  {
   "cell_type": "code",
   "execution_count": 43,
   "id": "31edfd5c",
   "metadata": {},
   "outputs": [
    {
     "name": "stdout",
     "output_type": "stream",
     "text": [
      "True\n",
      "True\n",
      "False\n"
     ]
    }
   ],
   "source": [
    "print(not((4 > 8) and (4 > 8))) # вот тут незачет\n",
    "print(not((4 > 8) and (9 > 8))) # и тут незачет\n",
    "print(not((9 > 8) and (9 > 8))) "
   ]
  },
  {
   "cell_type": "code",
   "execution_count": 44,
   "id": "ddbe37bb",
   "metadata": {},
   "outputs": [
    {
     "name": "stdout",
     "output_type": "stream",
     "text": [
      "True\n"
     ]
    }
   ],
   "source": [
    "print(not((project > 8) and (exam > 8))) # и тут незачет"
   ]
  },
  {
   "cell_type": "markdown",
   "id": "ce302730",
   "metadata": {},
   "source": [
    "Допускается использование и более сложных условий. Предположим, что ситуация такая: студент получает зачет, если выполняется хотя бы одно условие: \n",
    "+ оценка за проект выше 8 и оценка за экзамен выше 8;\n",
    "+ оценка за бонусное задание выше 9.\n"
   ]
  },
  {
   "cell_type": "code",
   "execution_count": 46,
   "id": "4035d91d",
   "metadata": {},
   "outputs": [
    {
     "name": "stdout",
     "output_type": "stream",
     "text": [
      "2\n",
      "2\n",
      "10\n",
      "True\n"
     ]
    }
   ],
   "source": [
    "project = int(input())\n",
    "exam = int(input())\n",
    "bonus = int(input())\n",
    "\n",
    "print(((project > 8) and (exam > 8)) or (bonus > 9))"
   ]
  },
  {
   "cell_type": "markdown",
   "id": "4990174f",
   "metadata": {},
   "source": [
    "## Условные конструкции <a name=\"par3\"></a>"
   ]
  },
  {
   "cell_type": "markdown",
   "id": "c89e3989",
   "metadata": {},
   "source": [
    "Условные конструкции — конструкции с операторами условия. Условная конструкция обычно предполагает «развилку»: если условие выполняется, то должен выполняться один набор действий, если нет — другой набор действий. \n",
    "\n",
    "В этом контексте вам нужно запомнить три ключевых слова: `if`, `else`, `elif`. \n",
    "\n",
    "В ситуациях, когда у вас только две возможные развилки, вы будете использовать только `if` и `else`. Представим, что мы пишем программу которая будет на основании введенной оценки сообщать студенту, пойдет он на пересдачу по предмету или нет."
   ]
  },
  {
   "cell_type": "code",
   "execution_count": 2,
   "id": "9f56f7ab",
   "metadata": {},
   "outputs": [
    {
     "name": "stdout",
     "output_type": "stream",
     "text": [
      "5\n",
      "Вы получили удовлетворительную оценку.\n"
     ]
    }
   ],
   "source": [
    "mark = int(input())\n",
    "\n",
    "if mark >= 4: # если оценка больше или равна 4,\n",
    "    print('Вы получили удовлетворительную оценку.') # печатаем эту строку\n",
    "else: # во всех остальных случаях,\n",
    "    print('Вы получили неудовлетворительную оценку. Вам будет назначена пересдача.') # печатай это"
   ]
  },
  {
   "cell_type": "markdown",
   "id": "6bbda2c7",
   "metadata": {},
   "source": [
    "Но вы также можете использовать ключевое слово `elif`. Оно используется в ситуациях когда вы хотите использовать несколько условий и усложнить ваш код. Приведем пример: \n",
    "\n",
    "* Если оценка студента за предмет меньше 4, он получает пересдачу по этому предмету и теряет стипендию;\n",
    "* Если оценка за предмет от 4 до 5 включительно, студент не получает пересдачу, но теряет стипендию;\n",
    "* Если оценка 6 и выше, студент не получает пересдачу и сохраняет стипендию.\n",
    "\n",
    "Программа, сообщающая студенту статус наличия пересдачи и сохранения стипендии, может выглядеть следующим образом:"
   ]
  },
  {
   "cell_type": "code",
   "execution_count": 3,
   "id": "e2a0a8d7",
   "metadata": {},
   "outputs": [
    {
     "name": "stdout",
     "output_type": "stream",
     "text": [
      "5\n",
      "Вы не получили пересдачу, но потеряли право получать стипендию.\n"
     ]
    }
   ],
   "source": [
    "mark = int(input()) # вводим значение, преобразуем его в целое число\n",
    "\n",
    "if mark < 4: # если оценка меньше четырех, печатаем следующее:\n",
    "    print('Вы получили пересдачу. Вы потеряли право получать стипендию.')\n",
    "elif mark < 6: # если условие выше не удовлетворено и при этом оценка меньше 6, печатаем следующее:\n",
    "    print('Вы не получили пересдачу, но потеряли право получать стипендию.')\n",
    "else: # во всех остальных случаях, печатаем следующее:\n",
    "    print('Вы не получили пересдачу, и сохранили вашу стипендию.')"
   ]
  },
  {
   "cell_type": "markdown",
   "id": "0a105c2e",
   "metadata": {},
   "source": [
    "Вы можете использовать какое угодно число `elif` в своём коде. Продемонстрируем на примере:\n",
    "\n",
    "Напишем программу, которая будет переводить оценку студента из 10-балльной системы в 5-балльную."
   ]
  },
  {
   "cell_type": "code",
   "execution_count": 59,
   "id": "66c41e09",
   "metadata": {},
   "outputs": [
    {
     "name": "stdout",
     "output_type": "stream",
     "text": [
      "11\n",
      "Отлично\n"
     ]
    }
   ],
   "source": [
    "mark = int(input())\n",
    "\n",
    "if mark >= 8:                    # если оценка больше или равна 8, то\n",
    "    print('Отлично')             # печатаем \"Отлично\"\n",
    "elif mark >= 6:                  # если оценка больше или равна 6 (но точно меньше 8), то \n",
    "    print('Хорошо')              # печатаем \"Хорошо\" \n",
    "elif mark > 4:                   # если оценка больше или равна 4 (но точно меньше 6), то \n",
    "    print('Удовлетворительно')   # печатаем \"Удовлетворительно\"\n",
    "else:                            # в остальных случаях (то есть оценка меньше 4)\n",
    "    print('Неудовлетворительно') # печатаем \"Неудовлетворительно\""
   ]
  },
  {
   "cell_type": "markdown",
   "id": "6d392cc9",
   "metadata": {},
   "source": [
    "Предположим, что сотрудник учебного офиса использовал эту программу и ошибся — поставил 11 вместо 1. Непорядок. Надо исправлять. Давайте добавим дополнительную проверку на ввод числа — чтобы оно было строго от 0 до 10 включительно.    "
   ]
  },
  {
   "cell_type": "code",
   "execution_count": 61,
   "id": "5cad7af9",
   "metadata": {},
   "outputs": [
    {
     "name": "stdout",
     "output_type": "stream",
     "text": [
      "5\n",
      "Удовлетворительно\n"
     ]
    }
   ],
   "source": [
    "mark = int(input())\n",
    "\n",
    "if (mark >= 0) and (mark <= 10):    # если оценка от 0 до 10, то проходит проверка:\n",
    "    if mark >= 8:                     # если оценка больше или равна 8, то\n",
    "        print('Отлично')              # печатаем \"Отлично\"\n",
    "    elif mark >= 6:                   # если оценка больше или равна 6 (но точно меньше 8), то \n",
    "        print('Хорошо')               # печатаем \"Хорошо\" \n",
    "    elif mark > 4:                    # если оценка больше или равна 4 (но точно меньше 6), то \n",
    "        print('Удовлетворительно')    # печатаем \"Удовлетворительно\"\n",
    "    else:                             # в остальных случаях (то есть оценка меньше 4)\n",
    "        print('Неудовлетворительно')  # печатаем \"Неудовлетворительно\"\n",
    "else:                               # иначе (оценка меньше 0 или больше 10)\n",
    "    print('Ошибка данных')          # печатаем \"Ошибка данных\""
   ]
  },
  {
   "cell_type": "markdown",
   "id": "3ef23f3c",
   "metadata": {},
   "source": [
    "<center><b><font size=4>Задача №2.</font></b></center>\n",
    "\n",
    "Используя логические операторы `if` и `else`, напишите следующую программу:\n",
    "\n",
    "**Иван подается на Повышенную Государственную Академическую Стипендию по достижениям в спортивной сфере. Напишите программу которая покажет, может ли Иван претендовать на получение ПГАС**:\n",
    "* В переменную `session` считывается переменная `True` или `False` которая означает, закрыл ли студент сессию на оценки на \"хорошо\" и выше (`True`) или нет (`False`);\n",
    "* В переменную `diplomas` считывается число полученных Иваном спортивных достижений за последний год.\n",
    "\n",
    "* Если студент закрыл сессию не на оценки выше \"хорошо\", то программа печатает строку `\"Не можете претендовать\"`;\n",
    "\n",
    "* Если студент закрыл сессию на оценки выше \"хорошо\" и имеет 1 и более спортивных достижений за последний год (`diplomas`), то программа печатает строку `\"Можете претендовать\"`. Если достижений за последний год (`diplomas`) нет, то программа печатает `\"Не хватает достижений\"`.\n",
    "\n",
    "Примеры тестов вы можете увидеть в табличке:\n",
    "\n",
    "<center> \n",
    "    <table>\n",
    "        <tr>\n",
    "            <th>session</th>\n",
    "            <th>diplomas</th>\n",
    "            <th>Результат</th>\n",
    "        </tr> \n",
    "        <tr><td>False</td><td>0</td><td>Не можете претендовать</td></tr>\n",
    "        <tr><td>False</td><td>1</td><td>Не можете претендовать</td></tr>\n",
    "        <tr><td>True</td><td>0</td><td>Не хватает достижений</td></tr>\n",
    "        <tr><td>True</td><td>1</td><td>Можете претендовать</td></tr>\n",
    "    </table>\n",
    "</center>"
   ]
  },
  {
   "cell_type": "code",
   "execution_count": null,
   "id": "8b624af1",
   "metadata": {},
   "outputs": [],
   "source": [
    "# YOUR CODE HERE"
   ]
  },
  {
   "cell_type": "markdown",
   "id": "38255708",
   "metadata": {},
   "source": [
    "## Дополнительные материалы <a name=\"parlast\"></a>"
   ]
  },
  {
   "cell_type": "markdown",
   "id": "64d17e80",
   "metadata": {},
   "source": [
    "+ Документация Python [Built-in Types](https://docs.python.org/3/library/stdtypes.html)\n",
    "+ Щуров И.В., Тамбовцева А.А., Жучкова С.В. —  курс «Основы программирования в Python» ([ссылка на курс](https://allatambov.github.io/pypolit/pypolit.html))"
   ]
  }
 ],
 "metadata": {
  "kernelspec": {
   "display_name": "Python 3 (ipykernel)",
   "language": "python",
   "name": "python3"
  },
  "language_info": {
   "codemirror_mode": {
    "name": "ipython",
    "version": 3
   },
   "file_extension": ".py",
   "mimetype": "text/x-python",
   "name": "python",
   "nbconvert_exporter": "python",
   "pygments_lexer": "ipython3",
   "version": "3.11.0"
  }
 },
 "nbformat": 4,
 "nbformat_minor": 5
}

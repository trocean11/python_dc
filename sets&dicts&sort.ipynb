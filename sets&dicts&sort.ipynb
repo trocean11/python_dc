{
  "cells": [
    {
      "cell_type": "markdown",
      "id": "92258638",
      "metadata": {
        "id": "92258638"
      },
      "source": [
        "# Программирование на Python\n",
        "\n",
        "# Множества и словари.\n",
        "\n",
        "\n",
        "*Автор: Паршина Анастасия, НИУ ВШЭ*\n",
        "\n",
        "*Дополнили: Трошин Даниил, Капустина Лика, НИУ ВШЭ*\n",
        "\n",
        "\n",
        "## Содержание\n",
        "\n",
        "\n",
        "1. [Типы данных — часть 4.1 Множества](#par1)\n",
        "    1. [Создание множеств](#par1.1)\n",
        "    2. [Методы изменения множеств](#par1.2)\n",
        "    3. [Операции для работы с множествами](#par1.3)\n",
        "    4. [Неизменяемое множество](#par1.4)\n",
        "2. [Типы данных — часть 4.2 Словари](#par2)\n",
        "    1. [Создание словаря, ключи и значения](#par2.1)\n",
        "    2. [Методы работы со словарями](#par2.2)\n",
        "3. [Дополнительные материалы](#parlast)"
      ]
    },
    {
      "cell_type": "markdown",
      "id": "6ba3ca3b",
      "metadata": {
        "id": "6ba3ca3b"
      },
      "source": [
        "Сегодня у нас будет очень много фигурных скобочек `{}`. Визуально вы можете их встретить при работе с множествами и со словарями, однако важно помнить, что это два разных типа данных. Сначала разберемся с множествами.\n",
        "\n",
        "## Типы данных — часть 4.1 Множества <a name=\"par1\"></a>\n",
        "\n",
        "В истории с множествами важно помнить, что сами по себе (`set`) они изменяемы — например, позволяют добавлять в себя элементы или, наоброт, убирать их, однако сужествует и неизменяемое множество (`frozenset`). Сначала обговорим первое, а потом пару слов скажем о втором.\n",
        "\n",
        "### Создание множеств <a name=\"par1.1\"></a>\n",
        "\n",
        "Способов создать множество три:\n",
        "1. через функцию `set()`;\n",
        "2. через фигурные скобки;\n",
        "3. через set comprehension."
      ]
    },
    {
      "cell_type": "code",
      "execution_count": null,
      "id": "a5706799",
      "metadata": {
        "id": "a5706799",
        "outputId": "63ca1f3e-5808-46a9-ed34-ad33a73e6345"
      },
      "outputs": [
        {
          "name": "stdout",
          "output_type": "stream",
          "text": [
            "{'e', 'y', 't', 'r', 'w', 'q'}\n"
          ]
        }
      ],
      "source": [
        "A = set('qwerty')\n",
        "print(A)"
      ]
    },
    {
      "cell_type": "markdown",
      "id": "698d7fde",
      "metadata": {
        "id": "698d7fde"
      },
      "source": [
        "Первый на вход обязательно принимает итерируемый объект. Убедимся в этом, скормив ему целое число:"
      ]
    },
    {
      "cell_type": "code",
      "execution_count": null,
      "id": "27cb992d",
      "metadata": {
        "id": "27cb992d",
        "outputId": "20cf6fdf-b6a8-4816-d3ec-0d39ac0d63e0"
      },
      "outputs": [
        {
          "ename": "TypeError",
          "evalue": "'int' object is not iterable",
          "output_type": "error",
          "traceback": [
            "\u001b[0;31m---------------------------------------------------------------------------\u001b[0m",
            "\u001b[0;31mTypeError\u001b[0m                                 Traceback (most recent call last)",
            "Input \u001b[0;32mIn [2]\u001b[0m, in \u001b[0;36m<cell line: 1>\u001b[0;34m()\u001b[0m\n\u001b[0;32m----> 1\u001b[0m A \u001b[38;5;241m=\u001b[39m \u001b[38;5;28;43mset\u001b[39;49m\u001b[43m(\u001b[49m\u001b[38;5;241;43m12\u001b[39;49m\u001b[43m)\u001b[49m\n\u001b[1;32m      2\u001b[0m \u001b[38;5;28mprint\u001b[39m(A)\n",
            "\u001b[0;31mTypeError\u001b[0m: 'int' object is not iterable"
          ]
        }
      ],
      "source": [
        "A = set(12)\n",
        "print(A)"
      ]
    },
    {
      "cell_type": "markdown",
      "id": "7420288d",
      "metadata": {
        "id": "7420288d"
      },
      "source": [
        "Обратим внимание, что просто фиругные скобки принимают любые <u>неизменяемые</u> объекты.  "
      ]
    },
    {
      "cell_type": "code",
      "execution_count": null,
      "id": "440bcb30",
      "metadata": {
        "id": "440bcb30",
        "outputId": "bc0a10d8-ed64-4c9b-c455-bf4509fa5471"
      },
      "outputs": [
        {
          "name": "stdout",
          "output_type": "stream",
          "text": [
            "{True, 12, 12.4, 'qwerty'}\n"
          ]
        }
      ],
      "source": [
        "B = {'qwerty', 12, True, 12.4}\n",
        "print(B)"
      ]
    },
    {
      "cell_type": "markdown",
      "id": "dcf46e33",
      "metadata": {
        "id": "dcf46e33"
      },
      "source": [
        "Если мы попробуем тоже самое сделать с изменяемыми объектами (например, списками или множествами), то увидим ошибку:"
      ]
    },
    {
      "cell_type": "code",
      "execution_count": null,
      "id": "0e079bbf",
      "metadata": {
        "id": "0e079bbf",
        "outputId": "099c0f04-aa96-4d85-8095-e5404b4132d2"
      },
      "outputs": [
        {
          "ename": "TypeError",
          "evalue": "unhashable type: 'list'",
          "output_type": "error",
          "traceback": [
            "\u001b[0;31m---------------------------------------------------------------------------\u001b[0m",
            "\u001b[0;31mTypeError\u001b[0m                                 Traceback (most recent call last)",
            "Input \u001b[0;32mIn [4]\u001b[0m, in \u001b[0;36m<cell line: 1>\u001b[0;34m()\u001b[0m\n\u001b[0;32m----> 1\u001b[0m B \u001b[38;5;241m=\u001b[39m {[\u001b[38;5;241m1\u001b[39m,\u001b[38;5;124m'\u001b[39m\u001b[38;5;124m2\u001b[39m\u001b[38;5;124m'\u001b[39m, \u001b[38;5;241m3\u001b[39m]}\n\u001b[1;32m      2\u001b[0m \u001b[38;5;28mprint\u001b[39m(B)\n",
            "\u001b[0;31mTypeError\u001b[0m: unhashable type: 'list'"
          ]
        }
      ],
      "source": [
        "B = {[1,'2', 3]}\n",
        "print(B)"
      ]
    },
    {
      "cell_type": "markdown",
      "id": "672187ef",
      "metadata": {
        "id": "672187ef"
      },
      "source": [
        "И последний вариант: помните list comprehension (списковые включения)? С множествами это также возможно, но через, очевидно, фигурные скобки, это еще называют абстракцией множеств:"
      ]
    },
    {
      "cell_type": "code",
      "execution_count": null,
      "id": "a62e4a55",
      "metadata": {
        "id": "a62e4a55",
        "outputId": "430a4fac-303d-4bd5-96dd-e5d03cbbd70c"
      },
      "outputs": [
        {
          "name": "stdout",
          "output_type": "stream",
          "text": [
            "{0, 2, 4, 6, 8}\n"
          ]
        }
      ],
      "source": [
        "even = {i for i in range(10) if i%2 == 0}\n",
        "print(even)"
      ]
    },
    {
      "cell_type": "markdown",
      "id": "e5fec42e",
      "metadata": {
        "id": "e5fec42e"
      },
      "source": [
        "Если же мы хотим создать пустое множество, то важно помнить, что фигурными скобками это сделать не получится:"
      ]
    },
    {
      "cell_type": "code",
      "execution_count": null,
      "id": "3f11c28f",
      "metadata": {
        "id": "3f11c28f",
        "outputId": "8ab2e8c7-739e-414a-9b40-53e130231173"
      },
      "outputs": [
        {
          "name": "stdout",
          "output_type": "stream",
          "text": [
            "{} <class 'dict'>\n",
            "set() <class 'set'>\n"
          ]
        }
      ],
      "source": [
        "C = {}\n",
        "print(C, type(C))\n",
        "\n",
        "D = set()\n",
        "print(D, type(D))"
      ]
    },
    {
      "cell_type": "markdown",
      "id": "a9175ad7",
      "metadata": {
        "id": "a9175ad7"
      },
      "source": [
        "В первом случае у нас получился словарь, о них мы поговорим чуть ниже.\n",
        "\n",
        "Что еще важно знать о множествах? Элементы в них не упорядочены. А при попытке запихнуть в них повторяющиеся элементы, останется только один уникальный."
      ]
    },
    {
      "cell_type": "code",
      "execution_count": null,
      "id": "393f1b87",
      "metadata": {
        "id": "393f1b87",
        "outputId": "4e2d0aaa-bfd8-4f8f-fb64-de23d389bb69"
      },
      "outputs": [
        {
          "name": "stdout",
          "output_type": "stream",
          "text": [
            "{9, 2, 3, 5}\n"
          ]
        }
      ],
      "source": [
        "E = {3, 5, 9, 2, 3}\n",
        "print(E)"
      ]
    },
    {
      "cell_type": "markdown",
      "id": "162c26ab",
      "metadata": {
        "id": "162c26ab"
      },
      "source": [
        "Как следствие, раз элементы не упорядочены, то и обратиться к ним по индексам нельзя."
      ]
    },
    {
      "cell_type": "code",
      "execution_count": null,
      "id": "9b72f69c",
      "metadata": {
        "id": "9b72f69c",
        "outputId": "4bda5ea6-7b18-4544-ce6d-9331797856b5"
      },
      "outputs": [
        {
          "ename": "TypeError",
          "evalue": "'set' object is not subscriptable",
          "output_type": "error",
          "traceback": [
            "\u001b[0;31m---------------------------------------------------------------------------\u001b[0m",
            "\u001b[0;31mTypeError\u001b[0m                                 Traceback (most recent call last)",
            "Input \u001b[0;32mIn [8]\u001b[0m, in \u001b[0;36m<cell line: 1>\u001b[0;34m()\u001b[0m\n\u001b[0;32m----> 1\u001b[0m \u001b[38;5;28mprint\u001b[39m(\u001b[43mE\u001b[49m\u001b[43m[\u001b[49m\u001b[38;5;241;43m0\u001b[39;49m\u001b[43m]\u001b[49m)\n",
            "\u001b[0;31mTypeError\u001b[0m: 'set' object is not subscriptable"
          ]
        }
      ],
      "source": [
        "print(E[0])"
      ]
    },
    {
      "cell_type": "markdown",
      "id": "fc5bd553",
      "metadata": {
        "id": "fc5bd553"
      },
      "source": [
        "### Методы изменения множеств <a name=\"par1.2\"></a>\n",
        "\n",
        "+ Сначала обсудим разницу между `.add()` и `.update()`. Оба они добавляют элементы в множество, однако второй работает с итерируемыми объектами."
      ]
    },
    {
      "cell_type": "code",
      "execution_count": null,
      "id": "7fe8fd90",
      "metadata": {
        "id": "7fe8fd90",
        "outputId": "1a0006bd-5ed4-4cad-efbe-42244b9d5983"
      },
      "outputs": [
        {
          "name": "stdout",
          "output_type": "stream",
          "text": [
            "{'груши', 'апельсины', 'бананы', 'яблоки'}\n"
          ]
        }
      ],
      "source": [
        "products = {'яблоки', 'апельсины', 'груши'}\n",
        "products.add('бананы')\n",
        "print(products)"
      ]
    },
    {
      "cell_type": "code",
      "execution_count": null,
      "id": "d0bcacf7",
      "metadata": {
        "id": "d0bcacf7",
        "outputId": "b3537f6a-9386-4ba8-b3ec-9b7c5939e24f"
      },
      "outputs": [
        {
          "name": "stdout",
          "output_type": "stream",
          "text": [
            "{'груши', 'апельсины', 'бананы', 'киви', 'яблоки', 'виноград'}\n"
          ]
        }
      ],
      "source": [
        "products.update(['киви', 'виноград'])\n",
        "print(products)"
      ]
    },
    {
      "cell_type": "markdown",
      "id": "9f32f09e",
      "metadata": {
        "id": "9f32f09e"
      },
      "source": [
        "Проверьте сами, что наоборот они работать не будут."
      ]
    },
    {
      "cell_type": "markdown",
      "id": "41bc8c25",
      "metadata": {
        "id": "41bc8c25"
      },
      "source": [
        "+ Для удаления конкретного элемента из множества используется `.remove()`, а если нужно удалить сразу несколько элементов — `.difference_update()`."
      ]
    },
    {
      "cell_type": "code",
      "execution_count": null,
      "id": "5888cc91",
      "metadata": {
        "id": "5888cc91",
        "outputId": "7a1d49f6-ec90-4fb7-b6ba-15b8922ed5cb"
      },
      "outputs": [
        {
          "name": "stdout",
          "output_type": "stream",
          "text": [
            "{'груши', 'бананы', 'киви', 'яблоки', 'виноград'}\n"
          ]
        }
      ],
      "source": [
        "products.remove('апельсины')\n",
        "print(products)"
      ]
    },
    {
      "cell_type": "code",
      "execution_count": null,
      "id": "b5d4b5a9",
      "metadata": {
        "id": "b5d4b5a9",
        "outputId": "ab243883-92a0-42ef-ced3-a80a3aa926f2"
      },
      "outputs": [
        {
          "name": "stdout",
          "output_type": "stream",
          "text": [
            "{'бананы', 'киви', 'виноград'}\n"
          ]
        }
      ],
      "source": [
        "products.difference_update(['груши', 'яблоки'])\n",
        "print(products)"
      ]
    },
    {
      "cell_type": "markdown",
      "id": "3eae4c66",
      "metadata": {
        "id": "3eae4c66"
      },
      "source": [
        "Важно! Если мы попробуем удалить объект, которого в множестве уже нет, то будет выдана ошибка:"
      ]
    },
    {
      "cell_type": "code",
      "execution_count": null,
      "id": "6dd01ca8",
      "metadata": {
        "id": "6dd01ca8",
        "outputId": "59e7ed84-3a81-4b55-ffa0-87c99250f364"
      },
      "outputs": [
        {
          "ename": "KeyError",
          "evalue": "'апельсины'",
          "output_type": "error",
          "traceback": [
            "\u001b[0;31m---------------------------------------------------------------------------\u001b[0m",
            "\u001b[0;31mKeyError\u001b[0m                                  Traceback (most recent call last)",
            "Input \u001b[0;32mIn [13]\u001b[0m, in \u001b[0;36m<cell line: 1>\u001b[0;34m()\u001b[0m\n\u001b[0;32m----> 1\u001b[0m \u001b[43mproducts\u001b[49m\u001b[38;5;241;43m.\u001b[39;49m\u001b[43mremove\u001b[49m\u001b[43m(\u001b[49m\u001b[38;5;124;43m'\u001b[39;49m\u001b[38;5;124;43mапельсины\u001b[39;49m\u001b[38;5;124;43m'\u001b[39;49m\u001b[43m)\u001b[49m\n\u001b[1;32m      2\u001b[0m \u001b[38;5;28mprint\u001b[39m(products)\n",
            "\u001b[0;31mKeyError\u001b[0m: 'апельсины'"
          ]
        }
      ],
      "source": [
        "products.remove('апельсины')\n",
        "print(products)"
      ]
    },
    {
      "cell_type": "markdown",
      "id": "e1c548cb",
      "metadata": {
        "id": "e1c548cb"
      },
      "source": [
        "Чтобы избежать ее, можно пользоваться методом `.discard()` — он не будет возвращать ошибку."
      ]
    },
    {
      "cell_type": "code",
      "execution_count": null,
      "id": "e4181416",
      "metadata": {
        "id": "e4181416",
        "outputId": "47b825ec-c96e-4987-db52-080438e960db"
      },
      "outputs": [
        {
          "name": "stdout",
          "output_type": "stream",
          "text": [
            "{'бананы', 'киви', 'виноград'}\n"
          ]
        }
      ],
      "source": [
        "products.discard('апельсины')\n",
        "print(products)"
      ]
    },
    {
      "cell_type": "markdown",
      "id": "37652c60",
      "metadata": {
        "id": "37652c60"
      },
      "source": [
        "И последний метод, который изменяет само множество, — `.pop()`. Он вытаскивает элемент рандомно, при этом дает возможность сохранить его в переменную:"
      ]
    },
    {
      "cell_type": "code",
      "execution_count": null,
      "id": "8eee700e",
      "metadata": {
        "id": "8eee700e",
        "outputId": "221a63d6-f244-461f-9859-ff23133d3764"
      },
      "outputs": [
        {
          "name": "stdout",
          "output_type": "stream",
          "text": [
            "бананы {'киви', 'виноград'}\n"
          ]
        }
      ],
      "source": [
        "get_product = products.pop()\n",
        "print(get_product, products)"
      ]
    },
    {
      "cell_type": "markdown",
      "id": "6b737e52",
      "metadata": {
        "id": "6b737e52"
      },
      "source": [
        "Проверьте — какую ошибку выдает метод, если работает с пустым множеством?"
      ]
    },
    {
      "cell_type": "markdown",
      "id": "817a968d",
      "metadata": {
        "id": "817a968d"
      },
      "source": [
        "<center><b><font size=4>Задача №1</font></b></center>\n",
        "\n",
        "**Иван хочет понять, какие еще предметы он может включить в свой учебный план. Напишите программу, которая принимает на вход строку с названиями предметов в его учебном плане, название нового предмета который Иван хочет включить в УП, и выводит информацию о том можно ли его включить в УП и названия курсов Ивана в УП:**\n",
        "\n",
        "* Сперва программа принимает на вход перечисленные через запятую с точкой и пробелом **названия курсов в учебном плане** и **преобразует эту строку в множество `set`**;\n",
        "* Далее программа принимает на вход **название курса, который студент хочет включить в учебный план**;\n",
        "* Если этот курс **уже включен в учебный план**, программа печатает `Вы уже изучали этот предмет`;\n",
        "* Если этот курс **еще не включен в учебный план**, программа печатает `Вы еще не изучали этот предмет` и **добавляет новое значение в множество**.\n",
        "\n",
        "* В конце программа выводит **отсортированный в алфавитном порядке список предметов в учебном плане**.\n",
        "\n",
        "\n",
        "\n",
        "* *Обратите внимание: Названия предметов перечислены через точку с запятой и пробел*;\n",
        "* <font color='orange'>Использование множеств и методов множеств при решении этой задачи является обязательным. </font>\n",
        "\n",
        "\n",
        "\n",
        "**Ориентируйтесь на тесты ниже:**\n",
        "<center>\n",
        "    <table>\n",
        "        <tr>\n",
        "            <th><center>Ввод</center></th>\n",
        "            <th><center>Результат</center></th>\n",
        "        </tr>\n",
        "        <tr><td><p>Анализ данных; Категории политической науки; Python; R; ТВиМС; Регрессионный анализ</p>\n",
        "                <p>ТВиМС</p></td>\n",
        "            <td><p>Вы уже изучали этот предмет</p>\n",
        "                <p>['Python', 'R', 'Анализ данных', 'Категории политической науки', 'Регрессионный анализ', 'ТВиМС']</p></td></tr>\n",
        "        <tr><td><p>Python; Python; Python; История политических учений</p>\n",
        "                <p>R</p></td>\n",
        "            <td><p>Вы еще не изучали этот предмет</p>\n",
        "                <p>['Python', 'R', 'История политических учений']</p></td></tr>\n",
        "        <tr><td>        \n",
        "            <p>История России; Новейшая история; КПН; ИПУ; История России; Python</p>\n",
        "            <p>Python</p></td>\n",
        "            <td><p>Вы уже изучали этот предмет</p>\n",
        "<p>['Python', 'ИПУ', 'История России', 'КПН', 'Новейшая история']</p></td></tr>\n",
        "    </table>\n",
        "</center>"
      ]
    },
    {
      "cell_type": "code",
      "execution_count": null,
      "id": "9cca8144",
      "metadata": {
        "id": "9cca8144"
      },
      "outputs": [],
      "source": [
        "# YOUR CODE HERE"
      ]
    },
    {
      "cell_type": "markdown",
      "id": "33e42d6e",
      "metadata": {
        "id": "33e42d6e"
      },
      "source": [
        "### Операции для работы с множествами <a name=\"par1.3\"></a>\n",
        "\n",
        "Важно! Операции для работы с множествами множество не изменяют, а буквально создают новый объект.\n",
        "\n",
        "**Здесь и далее мы будем говорить про разные методы и использовать такие термины, как `intersection`, `symmetric_difference`, `difference`, `union`. Чтобы не запутаться и разобраться в том, что возвращают определенные операции работы с множествами, смотрите на это изображение:**\n",
        "\n",
        "![пик](https://www.learnbyexample.org/wp-content/uploads/python/Python-Set-Operatioons.png)\n",
        "\n",
        "Предположим, у нас есть множество респондентов, которые любят кофе, и множество респондентов, которые любят чай.\n",
        "\n",
        "Вопрос — кто из них любит и то, и то?\n",
        "\n"
      ]
    },
    {
      "cell_type": "code",
      "execution_count": null,
      "id": "a3373fd5",
      "metadata": {
        "id": "a3373fd5",
        "outputId": "72c561f2-6567-4301-f79a-19450eda757c"
      },
      "outputs": [
        {
          "name": "stdout",
          "output_type": "stream",
          "text": [
            "{'Дима', 'Рита'}\n",
            "{'Дима', 'Рита'}\n"
          ]
        }
      ],
      "source": [
        "# Пересечение множеств\n",
        "\n",
        "coffee = {'Влад', 'Катя', 'Рита', 'Дима'}\n",
        "tea = {'Рита', 'Дима', 'Настя', 'Максим'}\n",
        "\n",
        "print(coffee.intersection(tea))\n",
        "print(coffee & tea)"
      ]
    },
    {
      "cell_type": "markdown",
      "id": "7d97c237",
      "metadata": {
        "id": "7d97c237"
      },
      "source": [
        "Вопрос — кто из них любит что-то одно (т.е. не находится на пересечении)?"
      ]
    },
    {
      "cell_type": "code",
      "execution_count": null,
      "id": "9841ce20",
      "metadata": {
        "id": "9841ce20",
        "outputId": "42998721-cc6b-4c84-ca28-f98823b4826d"
      },
      "outputs": [
        {
          "name": "stdout",
          "output_type": "stream",
          "text": [
            "{'Максим', 'Катя', 'Настя', 'Влад'}\n",
            "{'Максим', 'Катя', 'Настя', 'Влад'}\n"
          ]
        }
      ],
      "source": [
        "# Симметрическая разность множеств\n",
        "coffee = {'Влад', 'Катя', 'Рита', 'Дима'}\n",
        "tea = {'Рита', 'Дима', 'Настя', 'Максим'}\n",
        "\n",
        "print(coffee.symmetric_difference(tea))\n",
        "print(coffee ^ tea)"
      ]
    },
    {
      "cell_type": "markdown",
      "id": "5a360563",
      "metadata": {
        "id": "5a360563"
      },
      "source": [
        "Вопрос — кто любит только кофе?"
      ]
    },
    {
      "cell_type": "code",
      "execution_count": null,
      "id": "116c2348",
      "metadata": {
        "id": "116c2348",
        "outputId": "cd644068-3df5-43d0-97ef-d8ebbd1b7c81"
      },
      "outputs": [
        {
          "name": "stdout",
          "output_type": "stream",
          "text": [
            "{'Катя', 'Влад'}\n",
            "{'Катя', 'Влад'}\n"
          ]
        }
      ],
      "source": [
        "# Разность множеств coffee и tea\n",
        "coffee = {'Влад', 'Катя', 'Рита', 'Дима'}\n",
        "tea = {'Рита', 'Дима', 'Настя', 'Максим'}\n",
        "\n",
        "print(coffee.difference(tea))\n",
        "print(coffee - tea)"
      ]
    },
    {
      "cell_type": "markdown",
      "id": "97f67e1c",
      "metadata": {
        "id": "97f67e1c"
      },
      "source": [
        "Вопрос — кто любит только чай?"
      ]
    },
    {
      "cell_type": "code",
      "execution_count": null,
      "id": "127cd82e",
      "metadata": {
        "id": "127cd82e",
        "outputId": "42306046-3f11-4bf0-a743-f713871c3051"
      },
      "outputs": [
        {
          "name": "stdout",
          "output_type": "stream",
          "text": [
            "{'Максим', 'Настя'}\n",
            "{'Максим', 'Настя'}\n"
          ]
        }
      ],
      "source": [
        "# Разность множеств tea и coffee\n",
        "coffee = {'Влад', 'Катя', 'Рита', 'Дима'}\n",
        "tea = {'Рита', 'Дима', 'Настя', 'Максим'}\n",
        "\n",
        "print(tea.difference(coffee))\n",
        "print(tea - coffee)"
      ]
    },
    {
      "cell_type": "markdown",
      "id": "306ed796",
      "metadata": {
        "id": "306ed796"
      },
      "source": [
        "Вопрос — сколько у нас всего респондентов?"
      ]
    },
    {
      "cell_type": "code",
      "execution_count": null,
      "id": "0347066b",
      "metadata": {
        "id": "0347066b",
        "outputId": "7008dedb-4569-48cd-c6fe-324335d88226"
      },
      "outputs": [
        {
          "name": "stdout",
          "output_type": "stream",
          "text": [
            "{'Дима', 'Рита', 'Максим', 'Катя', 'Настя', 'Влад'}\n",
            "{'Дима', 'Рита', 'Максим', 'Катя', 'Настя', 'Влад'}\n",
            "6\n"
          ]
        }
      ],
      "source": [
        "# Объединение множеств\n",
        "coffee = {'Влад', 'Катя', 'Рита', 'Дима'}\n",
        "tea = {'Рита', 'Дима', 'Настя', 'Максим'}\n",
        "\n",
        "print(coffee.union(tea))\n",
        "print(coffee | tea)\n",
        "print(len(coffee.union(tea)))"
      ]
    },
    {
      "cell_type": "markdown",
      "id": "3cc9051d",
      "metadata": {
        "id": "3cc9051d"
      },
      "source": [
        "С основным разобрались. Теперь не основное, но важное.\n",
        "\n",
        "Те же самые команды, НО с добавлением к ним `_update()` меняют множество! Приведем пример с `intersection_update()`, а остальное проверьте сами!"
      ]
    },
    {
      "cell_type": "code",
      "execution_count": null,
      "id": "86adda35",
      "metadata": {
        "id": "86adda35",
        "outputId": "449ea17a-51a5-406c-ece0-a2c53fc59caa"
      },
      "outputs": [
        {
          "name": "stdout",
          "output_type": "stream",
          "text": [
            "{'Дима', 'Катя', 'Рита', 'Влад'}\n",
            "{'Максим', 'Дима', 'Рита', 'Настя'}\n",
            "{'Дима', 'Рита'}\n",
            "{'Максим', 'Дима', 'Рита', 'Настя'}\n"
          ]
        }
      ],
      "source": [
        "coffee = {'Влад', 'Катя', 'Рита', 'Дима'}\n",
        "tea = {'Рита', 'Дима', 'Настя', 'Максим'}\n",
        "\n",
        "# Пересечение множеств coffee и tea\n",
        "\n",
        "print(coffee)\n",
        "print(tea)\n",
        "\n",
        "coffee.intersection_update(tea)\n",
        "\n",
        "print('Посмотрим, что изменилось после использования coffee.intersection_update(tea): ')\n",
        "print(coffee) # сюда сохранилось пересечение множеств!\n",
        "print(tea)"
      ]
    },
    {
      "cell_type": "code",
      "execution_count": null,
      "id": "cd17132b",
      "metadata": {
        "id": "cd17132b",
        "outputId": "92ab8c45-9c79-42b3-e083-2f4ea9b4b7f2"
      },
      "outputs": [
        {
          "name": "stdout",
          "output_type": "stream",
          "text": [
            "{'Дима', 'Катя', 'Рита', 'Влад'}\n",
            "{'Максим', 'Дима', 'Рита', 'Настя'}\n",
            "{'Дима', 'Рита'}\n",
            "{'Максим', 'Дима', 'Рита', 'Настя'}\n"
          ]
        }
      ],
      "source": [
        "coffee = {'Влад', 'Катя', 'Рита', 'Дима'}\n",
        "tea = {'Рита', 'Дима', 'Настя', 'Максим'}\n",
        "\n",
        "# Пересечение множеств coffee и tea\n",
        "\n",
        "print(coffee)\n",
        "print(tea)\n",
        "\n",
        "coffee &= tea # тоже самое\n",
        "\n",
        "print(coffee) # сюда сохранилось пересечение множеств!\n",
        "print(tea)"
      ]
    },
    {
      "cell_type": "markdown",
      "id": "4d5b27e5",
      "metadata": {
        "id": "4d5b27e5"
      },
      "source": [
        "Осталось три метода — `.issubset()`, `.issuperset()` и `.isdisjoint()`.\n",
        "\n",
        "+ `.issubset()` проверяет, что множество является <i>подмножеством</i> другого множества\n",
        "+ `.issuperset()` проверяет, что множество является <i>надмножеством</i> другого множества\n",
        "+ `.isdisjoint()` проверяет, что у множеств нет пересекающихся элементов\n",
        "\n",
        "Все три метода выдают либо `False`, либо `True`."
      ]
    },
    {
      "cell_type": "markdown",
      "id": "29c8fb6b",
      "metadata": {
        "id": "29c8fb6b"
      },
      "source": [
        "<center><b><font size=4>Задача №2</font></b></center>\n",
        "\n",
        "**Напишите программу, которая печатает вам информацию о студентах и курсах по выбору, на которые они записались:**\n",
        "\n",
        "\n",
        "**Заранее созданы строки с именами:**\n",
        "* `students_1` – студенты, которые выбрали КПВ \"Ислам и политика\"\n",
        "* `students_2` – студенты, которые выбрали КПВ \"Политическая система США\"\n",
        "* `students_3` – студенты, которые выбрали КПВ \"Web-scraping\"\n",
        "\n",
        "**Напечатайте следующую информацию:**\n",
        "\n",
        "* Имена студентов, которые **пошли на курс \"Ислам и политика\" и пошли на курс \"Полит. система США\"**;\n",
        "* Имена студентов, которые **пошли на курс \"Ислам и политика\", но не пошли на курс \"Полит.система США\"**;\n",
        "* Имена студентов, которые **пошли на курс \"Web-Scraping\", но не пошли на другие два курса**.\n",
        "\n",
        "<font color='orange'>Использование методов множеств обязательно.</font>"
      ]
    },
    {
      "cell_type": "code",
      "execution_count": null,
      "id": "0d4abc18",
      "metadata": {
        "id": "0d4abc18"
      },
      "outputs": [],
      "source": [
        "students_1 = 'Аня Даша Глаша Наташа Марина Ирина' # выбрали КПВ \"Ислам и политика\"\n",
        "students_2 = 'Даша Глаша Марина'                  # выбрали КПВ \"Политическая система США\"\n",
        "students_3 = 'Ирина Наташа Аня Даша Глафира Зина' # выбрали КПВ \"Web-scraping\"\n",
        "\n",
        "\n",
        "# YOUR CODE HERE\n",
        "\n",
        "print(f'На курс \"Ислам и Политика\" и курс \"Полит. система США\" пошли: {# YOUR CODE HERE}')\n",
        "print(f'Выбрали курс \"Ислам и политика\", но не выбрали курс \"Полит. система США\": {# YOUR CODE HERE}')\n",
        "print(f'Пошли на курс \"Web-scraping\", но не пошли на остальные курсы: {# YOUR CODE HERE}')"
      ]
    },
    {
      "cell_type": "markdown",
      "id": "0a88d8a8",
      "metadata": {
        "id": "0a88d8a8"
      },
      "source": [
        "### Неизменяемое множество <a name=\"par1.4\"></a>"
      ]
    },
    {
      "cell_type": "markdown",
      "id": "f1f1cde0",
      "metadata": {
        "id": "f1f1cde0"
      },
      "source": [
        "Очевидно, что любые методы, которые могут изменять множество, тут не работают. Конец.\n",
        "\n",
        "Ладно, все-таки сделаем одно такое множество и покажем, что с ним работает."
      ]
    },
    {
      "cell_type": "code",
      "execution_count": null,
      "id": "7ef2743f",
      "metadata": {
        "id": "7ef2743f",
        "outputId": "8fee41a8-52ed-4e1d-c8a9-22df1ad5cb67"
      },
      "outputs": [
        {
          "ename": "TypeError",
          "evalue": "frozenset expected at most 1 argument, got 3",
          "output_type": "error",
          "traceback": [
            "\u001b[0;31m---------------------------------------------------------------------------\u001b[0m",
            "\u001b[0;31mTypeError\u001b[0m                                 Traceback (most recent call last)",
            "Input \u001b[0;32mIn [23]\u001b[0m, in \u001b[0;36m<cell line: 1>\u001b[0;34m()\u001b[0m\n\u001b[0;32m----> 1\u001b[0m X \u001b[38;5;241m=\u001b[39m \u001b[38;5;28;43mfrozenset\u001b[39;49m\u001b[43m(\u001b[49m\u001b[38;5;241;43m1\u001b[39;49m\u001b[43m,\u001b[49m\u001b[43m \u001b[49m\u001b[38;5;241;43m2\u001b[39;49m\u001b[43m,\u001b[49m\u001b[43m \u001b[49m\u001b[38;5;241;43m4\u001b[39;49m\u001b[43m)\u001b[49m\n",
            "\u001b[0;31mTypeError\u001b[0m: frozenset expected at most 1 argument, got 3"
          ]
        }
      ],
      "source": [
        "X = frozenset(1, 2, 4)"
      ]
    },
    {
      "cell_type": "markdown",
      "id": "99594b46",
      "metadata": {
        "id": "99594b46"
      },
      "source": [
        "Ой, что-то пошло не так. Помним, что эта функция, аналогично функции `set()` работает только с итерируемыми объектами!"
      ]
    },
    {
      "cell_type": "code",
      "execution_count": null,
      "id": "7d497b6e",
      "metadata": {
        "id": "7d497b6e",
        "outputId": "5b220e24-bf7e-4bb4-8660-647213facd26"
      },
      "outputs": [
        {
          "name": "stdout",
          "output_type": "stream",
          "text": [
            "frozenset({2, 3, 6, '10', '7', '8'})\n",
            "frozenset({2, 3, 4, '6', 8, '3'})\n"
          ]
        }
      ],
      "source": [
        "X = frozenset(['10', 2, 3, '8', 6, '7'])\n",
        "Y = frozenset((3, 4, '6', 2, '3', 8))\n",
        "print(X)\n",
        "print(Y)"
      ]
    },
    {
      "cell_type": "markdown",
      "id": "59768b3e",
      "metadata": {
        "id": "59768b3e"
      },
      "source": [
        "Вот все, что работает:"
      ]
    },
    {
      "cell_type": "code",
      "execution_count": null,
      "id": "b9a6f477",
      "metadata": {
        "id": "b9a6f477",
        "outputId": "035a647f-5b21-47ac-a3e0-e0811e700627"
      },
      "outputs": [
        {
          "name": "stdout",
          "output_type": "stream",
          "text": [
            "У множеств нет общих элементов (True/False): False\n",
            "Множество Х является подмножеством Y (True/False): False\n",
            "Множество Х является надмножеством Y (True/False): False\n",
            "Пересечение множеств Х и Y: frozenset({2, 3})\n",
            "Объединение множеств Х и Y: frozenset({2, 3, 4, '6', 6, 8, '3', '10', '7', '8'})\n",
            "Симметрическая разность множеств Х и Y: frozenset({4, '6', 6, 8, '3', '10', '8', '7'})\n",
            "Разность множеств Х и Y: frozenset({'10', '7', '8', 6})\n",
            "Разность множеств Y и X: frozenset({8, '6', 4, '3'})\n"
          ]
        }
      ],
      "source": [
        "print(f'У множеств нет общих элементов (True/False): {X.isdisjoint(Y)}')\n",
        "\n",
        "print(f'Множество Х является подмножеством Y (True/False): {X.isdisjoint(Y)}')\n",
        "\n",
        "print(f'Множество Х является надмножеством Y (True/False): {X.issuperset(Y)}')\n",
        "\n",
        "print(f'Пересечение множеств Х и Y: {X.intersection(Y)}')\n",
        "\n",
        "print(f'Объединение множеств Х и Y: {X.union(Y)}')\n",
        "\n",
        "print(f'Симметрическая разность множеств Х и Y: {X.symmetric_difference(Y)}')\n",
        "\n",
        "print(f'Разность множеств Х и Y: {X.difference(Y)}')\n",
        "\n",
        "print(f'Разность множеств Y и X: {Y.difference(X)}')"
      ]
    },
    {
      "cell_type": "markdown",
      "id": "054622e2",
      "metadata": {
        "id": "054622e2"
      },
      "source": [
        "## Типы данных — часть 4.2 Словари <a name=\"par2\"></a>\n",
        "\n",
        "Со словарями мы столкнулись в самом начале, сейчас разберемся подробнее.\n",
        "\n",
        "### Создание словаря, ключи и значения <a name=\"par2.1\"></a>\n",
        "\n",
        "Самое важное (что бы для вас сейчас это ни значило): начиная с Python 3.7 словари стали упорядоченными!\n",
        "\n",
        "Словарь можно создать четырьмя способами:\n",
        "\n",
        "1. Фигурными скобками (это уже было выше)"
      ]
    },
    {
      "cell_type": "code",
      "execution_count": null,
      "id": "1250b028",
      "metadata": {
        "id": "1250b028",
        "outputId": "759b977e-0876-44cb-bd7f-38ba69d18720"
      },
      "outputs": [
        {
          "name": "stdout",
          "output_type": "stream",
          "text": [
            "{} <class 'dict'>\n",
            "{'Математика': [3, 5, 2, 3, 5], 'Русский язык': [2, 4, 1, 5, 3]} <class 'dict'>\n"
          ]
        }
      ],
      "source": [
        "new_dict1 = {}\n",
        "print(new_dict1, type(new_dict1))\n",
        "\n",
        "new_dict1 = {'Математика' : [3, 5, 2, 3, 5], 'Русский язык' : [2, 4, 1, 5, 3]}\n",
        "print(new_dict1, type(new_dict1))"
      ]
    },
    {
      "cell_type": "markdown",
      "id": "6822b51d",
      "metadata": {
        "id": "6822b51d"
      },
      "source": [
        "При таком создании словаря обратите внимание на тип записи: `ключ : значение`!\n",
        "\n",
        "Далее логичный вопрос: что может быть ключом словаря, а что — значением?\n",
        "\n",
        "| Ключ / неизменяемый тип |\n",
        "|:---:|\n",
        "| числа      |\n",
        "| строки       |\n",
        "| кортежи       |\n",
        "| логический тип      |\n",
        "| frozenset      |\n",
        "\n",
        "\n",
        "Значением может быть любой тип данных.\n",
        "\n",
        "Попытка создания словаря, где ключ представлен изменяемым типом, приведет к ошибке:"
      ]
    },
    {
      "cell_type": "code",
      "execution_count": null,
      "id": "c952f109",
      "metadata": {
        "id": "c952f109",
        "outputId": "6ba5a58b-da2b-41a7-8f62-fc2b04ba85aa"
      },
      "outputs": [
        {
          "ename": "TypeError",
          "evalue": "unhashable type: 'list'",
          "output_type": "error",
          "traceback": [
            "\u001b[0;31m---------------------------------------------------------------------------\u001b[0m",
            "\u001b[0;31mTypeError\u001b[0m                                 Traceback (most recent call last)",
            "Input \u001b[0;32mIn [38]\u001b[0m, in \u001b[0;36m<cell line: 1>\u001b[0;34m()\u001b[0m\n\u001b[0;32m----> 1\u001b[0m {[\u001b[38;5;241m1\u001b[39m, \u001b[38;5;241m2\u001b[39m] : \u001b[38;5;124m'\u001b[39m\u001b[38;5;124m1\u001b[39m\u001b[38;5;124m'\u001b[39m}\n",
            "\u001b[0;31mTypeError\u001b[0m: unhashable type: 'list'"
          ]
        }
      ],
      "source": [
        "# ключ — список, значение — строка\n",
        "new_dict_try = {[1, 2] : '1'}"
      ]
    },
    {
      "cell_type": "markdown",
      "id": "ad756b98",
      "metadata": {
        "id": "ad756b98"
      },
      "source": [
        "Если очень упрощать, то ошибка как раз и ругается на то, что список — объект изменяемый.\n",
        "\n",
        "2. Также создать словарь можно с помощью функции `dict()`, однако вместо двоеточия там будет знак равно."
      ]
    },
    {
      "cell_type": "code",
      "execution_count": null,
      "id": "22e69781",
      "metadata": {
        "id": "22e69781",
        "outputId": "e1d35b60-f070-4f8e-9084-b88dff429da6"
      },
      "outputs": [
        {
          "name": "stdout",
          "output_type": "stream",
          "text": [
            "{} <class 'dict'>\n",
            "{'Математика': [3, 5, 2, 3, 5], 'Русский_язык': [2, 4, 1, 5, 3]} <class 'dict'>\n"
          ]
        }
      ],
      "source": [
        "new_dict2 = dict()\n",
        "print(new_dict2, type(new_dict2))\n",
        "\n",
        "new_dict2 = dict(Математика = [3, 5, 2, 3, 5], Русский_язык = [2, 4, 1, 5, 3])\n",
        "print(new_dict2, type(new_dict2))"
      ]
    },
    {
      "cell_type": "markdown",
      "id": "cc052f24",
      "metadata": {
        "id": "cc052f24"
      },
      "source": [
        "Надесь, вы обратили внимание, что ключи словаря в такой вариации его создания записываются без кавычек, однако они должны быть целыми (то есть, если написать `Русский_язык` раздельно (`Русский язык`), то будет ошибка).\n",
        "\n",
        "3. Можно создать словарь с помощью метода `.fromkeys()`. В качетстве значения он всем ключам подставляет одно единственное (которое мы укажем)."
      ]
    },
    {
      "cell_type": "code",
      "execution_count": null,
      "id": "466a7d94",
      "metadata": {
        "id": "466a7d94",
        "outputId": "727c28b1-8978-4c59-b598-46de8836f776"
      },
      "outputs": [
        {
          "name": "stdout",
          "output_type": "stream",
          "text": [
            "{'Математика': 0, 'Русский_язык': 0}\n"
          ]
        }
      ],
      "source": [
        "new_dict3 = dict.fromkeys(['Математика', 'Русский_язык'], 0)\n",
        "print(new_dict3)"
      ]
    },
    {
      "cell_type": "markdown",
      "id": "bfbcc9ca",
      "metadata": {
        "id": "bfbcc9ca"
      },
      "source": [
        "4. Функция `zip()` может создать словарь из двух итерируемых объектов. Например, их двух списоков:"
      ]
    },
    {
      "cell_type": "code",
      "execution_count": null,
      "id": "1d061ceb",
      "metadata": {
        "id": "1d061ceb",
        "outputId": "461cb57b-fdde-411b-b32e-893f00779f53"
      },
      "outputs": [
        {
          "name": "stdout",
          "output_type": "stream",
          "text": [
            "{'Математика': [3, 5, 2, 3, 5], 'Русский язык': [2, 4, 1, 5, 3]}\n"
          ]
        }
      ],
      "source": [
        "new_dict4 = dict(zip(['Математика', 'Русский язык'], [[3, 5, 2, 3, 5], [2, 4, 1, 5, 3]]))\n",
        "print(new_dict4)"
      ]
    },
    {
      "cell_type": "markdown",
      "id": "73e8235f",
      "metadata": {
        "id": "73e8235f"
      },
      "source": [
        "Очень хочу, чтобы вы внимательно посмотрели на все скобки выше и разобрались с тем, почему их так много!"
      ]
    },
    {
      "cell_type": "markdown",
      "id": "aa30d837",
      "metadata": {
        "id": "aa30d837"
      },
      "source": [
        "### Методы словарей <a name=\"par2.2\"></a>\n",
        "\n",
        "|Есть в онлайн-курсе | Все остальное |\n",
        "|:--------------:|:-----:|\n",
        "| `.keys()` |  `.get()` |\n",
        "| `.values()`      |  `.update()` |\n",
        "| `.items()`      |  `.pop()` |\n",
        "|       |  `.popitem()` |\n",
        "|     |  `.setdefault()` |\n",
        "|     |  `.fromkeys()` |\n",
        "|     |  `.copy()` |\n",
        "|     |  `.clear()` |"
      ]
    },
    {
      "cell_type": "markdown",
      "id": "869b3c0f",
      "metadata": {
        "id": "869b3c0f"
      },
      "source": [
        "На что стоит обратить внимание: скорее всего, вам всегда пригодится метод `.items()`, поэтому с ним нужно очень хорошо разобраться!\n",
        "\n",
        "Метод возвращает <u>пары ключ-значение</u> в виде кортежей:"
      ]
    },
    {
      "cell_type": "code",
      "execution_count": null,
      "id": "17e0618a",
      "metadata": {
        "id": "17e0618a",
        "outputId": "8a19f033-5a6a-412e-88c8-4173a2be38fb"
      },
      "outputs": [
        {
          "name": "stdout",
          "output_type": "stream",
          "text": [
            "('Математика', [3, 5, 2, 3, 5])\n",
            "('Русский язык', [2, 4, 1, 5, 3])\n"
          ]
        }
      ],
      "source": [
        "for pair in new_dict4.items():\n",
        "    print(pair)"
      ]
    },
    {
      "cell_type": "markdown",
      "id": "94f6f2f5",
      "metadata": {
        "id": "94f6f2f5"
      },
      "source": [
        "Но мы же можем еще эти кортежи «распаковать», то есть в одну переменную сохранить ключ, а в другую — значение."
      ]
    },
    {
      "cell_type": "code",
      "execution_count": null,
      "id": "9b89ad20",
      "metadata": {
        "id": "9b89ad20",
        "outputId": "85adce89-8617-4f0c-cf47-4b2a71e77dc1"
      },
      "outputs": [
        {
          "name": "stdout",
          "output_type": "stream",
          "text": [
            "Ключ Математика, значение [3, 5, 2, 3, 5]\n",
            "Ключ Русский язык, значение [2, 4, 1, 5, 3]\n"
          ]
        }
      ],
      "source": [
        "for key, value in new_dict4.items():\n",
        "    print(f'Ключ {key}, значение {value}')"
      ]
    },
    {
      "cell_type": "markdown",
      "id": "ed6495f4",
      "metadata": {
        "id": "ed6495f4"
      },
      "source": [
        "Давайте я добавлю в наш словарь еще несколько пар ключ-значение и попробуем выполнить с ними какую-нибудь задачку. К слову, обратите внимание, как в словарь добавлять новые данные."
      ]
    },
    {
      "cell_type": "code",
      "execution_count": null,
      "id": "43a35e90",
      "metadata": {
        "id": "43a35e90",
        "outputId": "e214dabb-e955-4ead-cc16-b365a5ac1e80"
      },
      "outputs": [
        {
          "name": "stdout",
          "output_type": "stream",
          "text": [
            "{'Математика': [3, 5, 2, 3, 5], 'Русский язык': [2, 4, 1, 5, 3], 'Английский язык': [2, 4, 5, 2, 4], 'История': [1, 2, 5, 5, 5], 'Биология': [2, 2, 2, 2, 4]}\n"
          ]
        }
      ],
      "source": [
        "new_dict4['Английский язык'] = [2, 4, 5, 2, 4]\n",
        "new_dict4['История'] = [1, 2, 5, 5, 5]\n",
        "new_dict4['Биология'] = [2, 2, 2, 2, 4]\n",
        "\n",
        "print(new_dict4)"
      ]
    },
    {
      "cell_type": "markdown",
      "id": "d02f7b4c",
      "metadata": {
        "id": "d02f7b4c"
      },
      "source": [
        "Предположим, что это оценки студента по соответсвующим предметам. По какому предмету в среднем оценки самые лучшие?"
      ]
    },
    {
      "cell_type": "code",
      "execution_count": null,
      "id": "d0a94ca0",
      "metadata": {
        "id": "d0a94ca0",
        "outputId": "6ea15d44-658e-48d4-d284-684d29a13fff"
      },
      "outputs": [
        {
          "name": "stdout",
          "output_type": "stream",
          "text": [
            "{'Математика': 3.6, 'Русский язык': 3.0, 'Английский язык': 3.4, 'История': 3.6, 'Биология': 2.4}\n"
          ]
        }
      ],
      "source": [
        "new_dict4_av = {}\n",
        "for subject, marks in new_dict4.items():\n",
        "    new_dict4_av[subject] = sum(marks)/len(marks)\n",
        "\n",
        "print(new_dict4_av)"
      ]
    },
    {
      "cell_type": "markdown",
      "id": "61c8c593",
      "metadata": {
        "id": "61c8c593"
      },
      "source": [
        "И тут мы сталкиваемся с вопросом — как отсортировать словарь по значениям? Если вы погуглите этот вопрос, то получите очень много ответов. Из них самым понятным мне кажется вот этот:"
      ]
    },
    {
      "cell_type": "code",
      "execution_count": null,
      "id": "71019a99",
      "metadata": {
        "id": "71019a99",
        "outputId": "c626c0d6-bead-4525-92d0-4140d7ec47b0"
      },
      "outputs": [
        {
          "name": "stdout",
          "output_type": "stream",
          "text": [
            "[(3.6, 'Математика'), (3.0, 'Русский язык'), (3.4, 'Английский язык'), (3.6, 'История'), (2.4, 'Биология')]\n"
          ]
        }
      ],
      "source": [
        "res = [(value, key) for key, value in new_dict4_av.items()]\n",
        "print(res)"
      ]
    },
    {
      "cell_type": "markdown",
      "id": "9dffba6c",
      "metadata": {
        "id": "9dffba6c"
      },
      "source": [
        "Что произошло? Буквально создали пустой список, далее положили в него кортеж `(значение, ключ)`, а потом сказали, откуда эту пару брать — из пары `ключ, значение` в нашем словаре. Иными словами поменяли их местами.\n",
        "\n",
        "Теперь к списку можно спокойно применить функцию `sorted()` и по умолчанию она отсортирует от меньшего к большему. Если хотим в обратном порядке, то также нужно будет прописать `reverse = True`."
      ]
    },
    {
      "cell_type": "code",
      "execution_count": null,
      "id": "b1d81e68",
      "metadata": {
        "id": "b1d81e68",
        "outputId": "2664695f-e028-4f58-de18-f96b74030889"
      },
      "outputs": [
        {
          "name": "stdout",
          "output_type": "stream",
          "text": [
            "[(3.6, 'Математика'), (3.6, 'История'), (3.4, 'Английский язык'), (3.0, 'Русский язык'), (2.4, 'Биология')]\n"
          ]
        }
      ],
      "source": [
        "res = sorted(res, reverse = True)\n",
        "print(res)"
      ]
    },
    {
      "cell_type": "markdown",
      "id": "dcbc2f61",
      "metadata": {
        "id": "dcbc2f61"
      },
      "source": [
        "Если у нас одно максимальное значение, то все просто — печатаем первый элемент нашего списка `res`. Если их несколько, то печатаем все элементы, где значения совпадают с максимальным:"
      ]
    },
    {
      "cell_type": "code",
      "execution_count": null,
      "id": "472bfb70",
      "metadata": {
        "id": "472bfb70",
        "outputId": "4c340936-100f-424d-e90e-2abcb3595849"
      },
      "outputs": [
        {
          "name": "stdout",
          "output_type": "stream",
          "text": [
            "Лучший средний балл (3.6) по предметам: Математика, История\n"
          ]
        }
      ],
      "source": [
        "best = []\n",
        "for pair in res:\n",
        "    if pair[0] == max(new_dict4_av.values()):\n",
        "        best.append(pair[1])\n",
        "\n",
        "print(f'Лучший средний балл ({max(new_dict4_av.values())}) \\\n",
        "по предметам: {\", \".join(best)}')"
      ]
    },
    {
      "cell_type": "markdown",
      "id": "f7a024cf",
      "metadata": {
        "id": "f7a024cf"
      },
      "source": [
        "<center><b><font size=4>Задача №3</font></b></center>\n",
        "\n",
        "**Вам передан список с абитуриентами `abiturients` и их баллами по математике, русскому языку и обществознанию соответственно. Напишите программу, которая принимает на вход целое число (от `0` до `100`) и название предмета (`математика`, `русский язык`, `обществознание`) и выводит отсортированный список имен студентов, которые набрали столько же или более баллов за вступительный экзамен по этому предмету**\n",
        "\n",
        "* На первой строке вводится **целое число** - пороговое число баллов для прохождения вступительных испытаний по конкретному предмету;\n",
        "* На второй строке вводится **строка - название предмета**. Гарантируется, что будет введено одно из трех значений – `математика`, `русскй язык` или `обществознание`.\n",
        "* В результате программа должна вывести **отсортированный список с именами студентов, набравших не менее порогового числа баллов по этому конкретному предмету.**\n",
        "* Если таких студентов нет, программа должна возвращать пустой список.\n",
        "\n",
        "**Ориентируйтесь на тесты ниже:**\n",
        "<center>\n",
        "    <table>\n",
        "        <tr>\n",
        "            <th><center>Ввод</center></th>\n",
        "            <th><center>Результат</center></th>\n",
        "        </tr>\n",
        "        <tr><td><p>90</p>\n",
        "                <p>математика</p></td>\n",
        "            <td>\n",
        "                <p>['Александров Александр', 'Иванов Иван', 'Сергеев Сергей', 'Федоров Федор']</p></td></tr>\n",
        "        <tr><td><p>73</p>\n",
        "                <p>обществознание</p></td>\n",
        "            <td><p>['Александров Александр', 'Иванов Иван']</p></td></tr>\n",
        "        <tr><td>        \n",
        "            <p>100</p>\n",
        "            <p>русский язык</p></td>\n",
        "            <td><p>[]</p></td></tr>\n",
        "    </table>\n",
        "</center>"
      ]
    },
    {
      "cell_type": "code",
      "execution_count": null,
      "id": "a4beb2dd",
      "metadata": {
        "id": "a4beb2dd"
      },
      "outputs": [],
      "source": [
        "abiturients = {'Иванов Иван': [90, 84, 95],\n",
        "           'Федоров Федор': [100, 70, 65],\n",
        "           'Сергеев Сергей': [90, 83, 72],\n",
        "           'Александров Александр': [100, 60, 80],\n",
        "           'Федотов Федот': [60, 75, 60],}\n",
        "\n",
        "# YOUR CODE HERE"
      ]
    },
    {
      "cell_type": "markdown",
      "id": "040b0d05",
      "metadata": {
        "id": "040b0d05"
      },
      "source": [
        "Подумайте, как тут работает `\\`.\n",
        "\n",
        "А теперь обсудим остальные методы (из них стоит обратить внимание на `.get()` и `.setgefault()`):"
      ]
    },
    {
      "cell_type": "code",
      "execution_count": null,
      "id": "8ca378fa",
      "metadata": {
        "id": "8ca378fa",
        "outputId": "5f646d1f-e1f9-44f1-b379-a8b4d83910ff"
      },
      "outputs": [
        {
          "data": {
            "text/plain": [
              "'Ой, оценок по такому предмету нет'"
            ]
          },
          "execution_count": 92,
          "metadata": {},
          "output_type": "execute_result"
        }
      ],
      "source": [
        "# .get()\n",
        "## возвращает значение ключа, а если его нет, то возвращает то, что мы напишем\n",
        "\n",
        "new_dict4_av.get('Химия', 'Ой, оценок по такому предмету нет')"
      ]
    },
    {
      "cell_type": "code",
      "execution_count": null,
      "id": "695cb80d",
      "metadata": {
        "id": "695cb80d",
        "outputId": "41f0aa1e-76bc-4ad1-b4bb-7071dac4aea9"
      },
      "outputs": [
        {
          "name": "stdout",
          "output_type": "stream",
          "text": [
            "{'Математика': 3.6, 'Английский язык': 3.4, 'История': 3.6, 'Биология': 2.4, 'Химия': 3.2, 'ОБЖ': 5.0, 'Физика': 2.7}\n"
          ]
        }
      ],
      "source": [
        "# .setdefault()\n",
        "## возвращает значение ключа, а если его нет, то создает ключ с указанным значением\n",
        "\n",
        "new_dict4_av.setdefault('Физика', 2.7)\n",
        "print(new_dict4_av)"
      ]
    },
    {
      "cell_type": "code",
      "execution_count": null,
      "id": "256357f5",
      "metadata": {
        "id": "256357f5",
        "outputId": "0427adc1-d323-4ff1-b705-702005a21186"
      },
      "outputs": [
        {
          "name": "stdout",
          "output_type": "stream",
          "text": [
            "{'Математика': 3.6, 'Русский язык': 3.0, 'Английский язык': 3.4, 'История': 3.6, 'Биология': 2.4, 'Химия': 3.2, 'ОБЖ': 5.0}\n"
          ]
        }
      ],
      "source": [
        "# .update()\n",
        "## добавляет пары ключ-значение в словарь\n",
        "\n",
        "new_dict4_av.update({'Химия' : 3.2, 'ОБЖ' : 5.0})\n",
        "\n",
        "print(new_dict4_av)"
      ]
    },
    {
      "cell_type": "code",
      "execution_count": null,
      "id": "69b5ab35",
      "metadata": {
        "id": "69b5ab35",
        "outputId": "5da94edc-7d3f-4324-c2e1-a4b5ac007979"
      },
      "outputs": [
        {
          "name": "stdout",
          "output_type": "stream",
          "text": [
            "3.0\n",
            "{'Математика': 3.6, 'Английский язык': 3.4, 'История': 3.6, 'Биология': 2.4, 'Химия': 3.2, 'ОБЖ': 5.0}\n"
          ]
        }
      ],
      "source": [
        "# .pop()\n",
        "## удаляет ключ и возвращает значение\n",
        "\n",
        "rus_av = new_dict4_av.pop('Русский язык')\n",
        "\n",
        "print(rus_av)\n",
        "print(new_dict4_av)"
      ]
    },
    {
      "cell_type": "code",
      "execution_count": null,
      "id": "817dea6e",
      "metadata": {
        "id": "817dea6e"
      },
      "outputs": [],
      "source": [
        "# .popitem()\n",
        "## удаляет и возвращает пару ключ-значение\n",
        "\n",
        "hist_av = new_dict4_av.popitem('История')\n",
        "\n",
        "print(rus_av)\n",
        "print(new_dict4_av)"
      ]
    },
    {
      "cell_type": "markdown",
      "source": [
        "## Немного про сортировку"
      ],
      "metadata": {
        "id": "mezQ3I4ilrbS"
      },
      "id": "mezQ3I4ilrbS"
    },
    {
      "cell_type": "markdown",
      "source": [
        "Сортировка в Python реализуется с помощью функции `sorted` (для **любого итерируемого объекта**: списка, кортежа, множества, словаря и т.п.) или с помощью метода **списков** `sort`."
      ],
      "metadata": {
        "id": "jKAj2ZznlxVh"
      },
      "id": "jKAj2ZznlxVh"
    },
    {
      "cell_type": "code",
      "source": [
        "l1 = [4, 5, 2, 1, 3]\n",
        "print(sorted(l1)) # не изменяет список\n",
        "l1.sort() # изменяет сам список, поэтому далее выводим l1\n",
        "print(l1)"
      ],
      "metadata": {
        "colab": {
          "base_uri": "https://localhost:8080/"
        },
        "id": "HakK92ZgmL2t",
        "outputId": "ad2e28e1-deeb-4e02-cb81-58d0a6413215"
      },
      "id": "HakK92ZgmL2t",
      "execution_count": 2,
      "outputs": [
        {
          "output_type": "stream",
          "name": "stdout",
          "text": [
            "[1, 2, 3, 4, 5]\n",
            "[1, 2, 3, 4, 5]\n"
          ]
        }
      ]
    },
    {
      "cell_type": "markdown",
      "source": [
        "Проверим, что с чем-либо, *кроме* списков, `sort` не работает."
      ],
      "metadata": {
        "id": "vQ4f-GGbnQWz"
      },
      "id": "vQ4f-GGbnQWz"
    },
    {
      "cell_type": "code",
      "source": [
        "s1 = {1, 2, 5, 4, 3}\n",
        "print(sorted(s1))\n",
        "s1.sort()\n",
        "print(s1)"
      ],
      "metadata": {
        "colab": {
          "base_uri": "https://localhost:8080/",
          "height": 219
        },
        "id": "SGztATcAnXVI",
        "outputId": "9ef6e6d0-81f3-459b-c9a4-fda36da6952d"
      },
      "id": "SGztATcAnXVI",
      "execution_count": 8,
      "outputs": [
        {
          "output_type": "stream",
          "name": "stdout",
          "text": [
            "[1, 2, 3, 4, 5]\n"
          ]
        },
        {
          "output_type": "error",
          "ename": "AttributeError",
          "evalue": "'set' object has no attribute 'sort'",
          "traceback": [
            "\u001b[0;31m---------------------------------------------------------------------------\u001b[0m",
            "\u001b[0;31mAttributeError\u001b[0m                            Traceback (most recent call last)",
            "\u001b[0;32m<ipython-input-8-efcbe972fb1d>\u001b[0m in \u001b[0;36m<cell line: 3>\u001b[0;34m()\u001b[0m\n\u001b[1;32m      1\u001b[0m \u001b[0ms1\u001b[0m \u001b[0;34m=\u001b[0m \u001b[0;34m{\u001b[0m\u001b[0;36m1\u001b[0m\u001b[0;34m,\u001b[0m \u001b[0;36m2\u001b[0m\u001b[0;34m,\u001b[0m \u001b[0;36m5\u001b[0m\u001b[0;34m,\u001b[0m \u001b[0;36m4\u001b[0m\u001b[0;34m,\u001b[0m \u001b[0;36m3\u001b[0m\u001b[0;34m}\u001b[0m\u001b[0;34m\u001b[0m\u001b[0;34m\u001b[0m\u001b[0m\n\u001b[1;32m      2\u001b[0m \u001b[0mprint\u001b[0m\u001b[0;34m(\u001b[0m\u001b[0msorted\u001b[0m\u001b[0;34m(\u001b[0m\u001b[0ms1\u001b[0m\u001b[0;34m)\u001b[0m\u001b[0;34m)\u001b[0m\u001b[0;34m\u001b[0m\u001b[0;34m\u001b[0m\u001b[0m\n\u001b[0;32m----> 3\u001b[0;31m \u001b[0ms1\u001b[0m\u001b[0;34m.\u001b[0m\u001b[0msort\u001b[0m\u001b[0;34m(\u001b[0m\u001b[0;34m)\u001b[0m\u001b[0;34m\u001b[0m\u001b[0;34m\u001b[0m\u001b[0m\n\u001b[0m\u001b[1;32m      4\u001b[0m \u001b[0mprint\u001b[0m\u001b[0;34m(\u001b[0m\u001b[0ms1\u001b[0m\u001b[0;34m)\u001b[0m\u001b[0;34m\u001b[0m\u001b[0;34m\u001b[0m\u001b[0m\n",
            "\u001b[0;31mAttributeError\u001b[0m: 'set' object has no attribute 'sort'"
          ]
        }
      ]
    },
    {
      "cell_type": "markdown",
      "source": [
        "По умолчанию сортировка выполняется по возрастанию (в случае со строками — по алфавиту). Но можно задать и обратный порядок с помощью параметра `reverse`."
      ],
      "metadata": {
        "id": "So1uNrYbm14l"
      },
      "id": "So1uNrYbm14l"
    },
    {
      "cell_type": "code",
      "source": [
        "l1 = [4, 5, 2, 1, 3]\n",
        "print(sorted(l1, reverse=True))\n",
        "l1.sort(reverse=True)\n",
        "print(l1)"
      ],
      "metadata": {
        "colab": {
          "base_uri": "https://localhost:8080/"
        },
        "id": "xHeiMyiNnGC0",
        "outputId": "f2627249-25f2-4f5c-a6d8-f87e64a09a7f"
      },
      "id": "xHeiMyiNnGC0",
      "execution_count": 3,
      "outputs": [
        {
          "output_type": "stream",
          "name": "stdout",
          "text": [
            "[5, 4, 3, 2, 1]\n",
            "[5, 4, 3, 2, 1]\n"
          ]
        }
      ]
    },
    {
      "cell_type": "markdown",
      "source": [
        "А ещё можно задать порядок сортировки с помощью функции (если нам нужно отсортировать каким-то хитрым способом). Делается это так:"
      ],
      "metadata": {
        "id": "EFMe1AfsoASu"
      },
      "id": "EFMe1AfsoASu"
    },
    {
      "cell_type": "code",
      "source": [
        "l1 = [5, -4, 3, -1, 2]\n",
        "print(sorted(l1, key=abs)) # у нас есть отрицательные и положительные числа, сортируем по модулю с помощью функции abs\n",
        "l1.sort(key=abs)\n",
        "print(l1)"
      ],
      "metadata": {
        "colab": {
          "base_uri": "https://localhost:8080/"
        },
        "id": "qfpTckrloI30",
        "outputId": "b001b040-4f7d-4e98-aa8b-db62d44e1454"
      },
      "id": "qfpTckrloI30",
      "execution_count": 10,
      "outputs": [
        {
          "output_type": "stream",
          "name": "stdout",
          "text": [
            "[-1, 2, 3, -4, 5]\n",
            "[-1, 2, 3, -4, 5]\n"
          ]
        }
      ]
    },
    {
      "cell_type": "markdown",
      "id": "fbe9460d",
      "metadata": {
        "id": "fbe9460d"
      },
      "source": [
        "## Дополнительные материалы <a name=\"parlast\"></a>\n",
        "\n",
        "+ Документация Python [Built-in Types](https://docs.python.org/3/library/stdtypes.html)\n",
        "+ Документация Python [More Control Flow Tools](https://docs.python.org/3/tutorial/controlflow.html)\n",
        "+ Щуров И.В., Тамбовцева А.А., Жучкова С.В. —  курс «Основы программирования в Python» ([ссылка на курс](https://allatambov.github.io/pypolit/pypolit.html))\n",
        "+ Очень полезная статья на Хабр. [Python и теория множеств](https://habr.com/ru/post/516858/)\n",
        "+ Python для начинающих. [Работа со словарями и методы словарей](https://pythonworld.ru/tipy-dannyx-v-python/slovari-dict-funkcii-i-metody-slovarej.html)\n",
        "+ Статья на Хабр. [Что такое API?](https://habr.com/ru/post/464261/)\n",
        "+ [Инструкция](https://sphenoid-aluminum-1ba.notion.site/API-YouTube-a1e2552472c246d295b6f1d1dbce5dcb) по получению ключа API YouTube\n",
        "+ Официальная [документация](https://developers.google.com/youtube/v3/docs) к API YouTube\n",
        "+ Статья на Хабр. [Что такое JSON](https://habr.com/ru/post/554274/)"
      ]
    }
  ],
  "metadata": {
    "kernelspec": {
      "display_name": "Python 3 (ipykernel)",
      "language": "python",
      "name": "python3"
    },
    "language_info": {
      "codemirror_mode": {
        "name": "ipython",
        "version": 3
      },
      "file_extension": ".py",
      "mimetype": "text/x-python",
      "name": "python",
      "nbconvert_exporter": "python",
      "pygments_lexer": "ipython3",
      "version": "3.11.0"
    },
    "colab": {
      "provenance": []
    }
  },
  "nbformat": 4,
  "nbformat_minor": 5
}
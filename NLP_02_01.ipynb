{
 "cells": [
  {
   "cell_type": "markdown",
   "id": "d8faed86",
   "metadata": {},
   "source": [
    "# Анализ тональности текста\n",
    "\n",
    "*Паршина Анастасия, НИУ ВШЭ*\n",
    "\n",
    "Сегодня мы посмотрим, как можно определить тональность текста, то есть понять, с какой вероятностью интересующий нас текст будет с положительным или же, наоборот, с негативным окрасом. Инструменты для работы с англоязычными текстами уже есть в знакомом нам модуле `textblob`, импортируем из него класс `TextBlob` и приступим к работе."
   ]
  },
  {
   "cell_type": "markdown",
   "id": "419df369",
   "metadata": {},
   "source": [
    "## Работа с англоязычными текстами\n",
    "\n",
    "### Как определить тональность?"
   ]
  },
  {
   "cell_type": "code",
   "execution_count": 1,
   "id": "d7ae5f1d",
   "metadata": {},
   "outputs": [],
   "source": [
    "#!pip install textblob\n",
    "from textblob import TextBlob"
   ]
  },
  {
   "cell_type": "markdown",
   "id": "adfff0a7",
   "metadata": {},
   "source": [
    "Рассмотрим слова `good`, `not good` и `not very good`, обратившись к атрибуту `.sentiment`. Такое обращение вернет нам кортеж, со значением `polarity` (то есть тональность) и значением `subjectivity` (субъективность). \n",
    "\n",
    "Значение тональности лежит на отрезке \\[-1.0 до 1.0\\], где -1.0 — высокая вероятность, что слово принимает негативную окраску (соответственно, крайне низкая вероятность, что здесь может быть положительная трактовка слова); а 1.0 — высокая вероятность, что слово принимает положительную окраску (соответственно, крайне низкая вероятность, что здесь может быть отрицательная трактовка слова).\n",
    "\n",
    "Субъективность же может принимать значения на отрезке \\[0.0 до 1.0\\], где 0.0 — очень объективно, а 1.0 — крайне субъективно."
   ]
  },
  {
   "cell_type": "code",
   "execution_count": 2,
   "id": "40194c50",
   "metadata": {},
   "outputs": [
    {
     "name": "stdout",
     "output_type": "stream",
     "text": [
      "Sentiment(polarity=0.7, subjectivity=0.6000000000000001)\n",
      "Sentiment(polarity=-0.35, subjectivity=0.6000000000000001)\n",
      "Sentiment(polarity=0.9099999999999999, subjectivity=0.7800000000000001)\n",
      "Sentiment(polarity=-0.26923076923076916, subjectivity=0.46153846153846156)\n"
     ]
    }
   ],
   "source": [
    "print(TextBlob(\"good\").sentiment)\n",
    "print(TextBlob(\"not good\").sentiment)\n",
    "print(TextBlob(\"very good\").sentiment)\n",
    "print(TextBlob(\"not very good\").sentiment)"
   ]
  },
  {
   "cell_type": "markdown",
   "id": "c4cfea60",
   "metadata": {},
   "source": [
    "А теперь попробуем разобраться, почему у нас получились такие результаты. \n",
    "\n",
    "На самом деле, у каждого слова есть еще одна характеристика — `intensity`, которая нам не видна. Посмотреть на нее можно в [исходном файле](https://github.com/sloria/TextBlob/blob/eb08c120d364e908646731d60b4e4c6c1712ff63/textblob/en/en-sentiment.xml), который используется для анализа.\n",
    "\n",
    "Посмотрим, какие данные есть для слов `good` и `very`:\n",
    "\n",
    "| слово | polarity | subjectivity | intensity\n",
    "|:-------------:|:-------------:|:-------------:|:-------------:|\n",
    "| good | 0.7 | 0.4 | 1.0 |\n",
    "| good | 0.7 | 0.8 | 1.0 |\n",
    "| very | 0.2 | 0.3 | 1.3 |\n",
    "\n",
    "Слово `good` действительно встречается в данных два раза. Первый раз оно упоминается как часть речи RB (Adverb), второй раз в качестве JJ (Adjective). Именно поэтому в первом примере, если обратить внимание на субъективность, то можно увидеть, что нам выдается среднее между 0.4 и 0.8.\n",
    "\n",
    "Далее разбираемся с примером `not good`. Почему изменилась тональность, но не поменялась субъективность? Как таковое, слово `not` не влияет на субъективность, но домножает тональность на **-0.5**."
   ]
  },
  {
   "cell_type": "code",
   "execution_count": 3,
   "id": "60d53e05",
   "metadata": {},
   "outputs": [
    {
     "name": "stdout",
     "output_type": "stream",
     "text": [
      "True\n"
     ]
    }
   ],
   "source": [
    "negative = -0.5\n",
    "print(TextBlob(\"not good\").polarity == negative * TextBlob(\"good\").polarity)"
   ]
  },
  {
   "cell_type": "markdown",
   "id": "089ae7c7",
   "metadata": {},
   "source": [
    "Как в таком случае работает слово `very`? Оно усиливает как тональность, так и субъективность, домножая об значения на свою интенсивность. Если вдруг при таком домножени значение тональности получилось выше 1.0 или ниже -1.0, то выдается 1.0 и -1.0 соответственно. Аналогично для субъективность — если значение получилось выше 1.0, то выдается 1.0."
   ]
  },
  {
   "cell_type": "code",
   "execution_count": 4,
   "id": "2826b84d",
   "metadata": {},
   "outputs": [
    {
     "name": "stdout",
     "output_type": "stream",
     "text": [
      "True\n",
      "True\n"
     ]
    }
   ],
   "source": [
    "print(TextBlob(\"very good\").polarity == 1.3 * TextBlob(\"good\").polarity)\n",
    "print(TextBlob(\"very good\").subjectivity == 1.3 * TextBlob(\"good\").subjectivity)"
   ]
  },
  {
   "cell_type": "markdown",
   "id": "1208335c",
   "metadata": {},
   "source": [
    "С примером `not very good` все еще интереснее. Слово `not` все также дает нам домножение на **-0.5**. И за отрицания у нас получается обратная интенсивность, то есть теперь мы не умножаем на нее, а делим."
   ]
  },
  {
   "cell_type": "code",
   "execution_count": 5,
   "id": "197dda36",
   "metadata": {},
   "outputs": [
    {
     "name": "stdout",
     "output_type": "stream",
     "text": [
      "False\n",
      "True\n"
     ]
    }
   ],
   "source": [
    "print(TextBlob(\"not very good\").polarity == negative * TextBlob(\"good\").polarity / 1.3)\n",
    "print(TextBlob(\"not very good\").subjectivity == TextBlob(\"good\").subjectivity / 1.3)"
   ]
  },
  {
   "cell_type": "markdown",
   "id": "29f5863a",
   "metadata": {},
   "source": [
    "Слова, которые не имеют эмоциональную окраску, алгоритм не учитывает."
   ]
  },
  {
   "cell_type": "code",
   "execution_count": 6,
   "id": "f97d1fed",
   "metadata": {},
   "outputs": [
    {
     "name": "stdout",
     "output_type": "stream",
     "text": [
      "Sentiment(polarity=-0.26923076923076916, subjectivity=0.46153846153846156)\n",
      "Sentiment(polarity=-0.26923076923076916, subjectivity=0.46153846153846156)\n"
     ]
    }
   ],
   "source": [
    "print(TextBlob(\"not very good\").sentiment)\n",
    "print(TextBlob(\"not very good lecture\").sentiment)"
   ]
  },
  {
   "cell_type": "markdown",
   "id": "f9f3164f",
   "metadata": {},
   "source": [
    "Модулей и функций в них, которые бы определяли тональность текстов, несколько. Для разнообразия покажем вам еще один — VADER (Valence Aware Dictionary and sEntiment Reasoner), его чаще всего используют для анализа настоений в социльных сетях. Нам понадобится класс `SentimentIntensityAnalyzer()`."
   ]
  },
  {
   "cell_type": "code",
   "execution_count": 7,
   "id": "355f8eaa",
   "metadata": {},
   "outputs": [],
   "source": [
    "#!pip install vaderSentiment\n",
    "from vaderSentiment.vaderSentiment import SentimentIntensityAnalyzer"
   ]
  },
  {
   "cell_type": "markdown",
   "id": "7635aa23",
   "metadata": {},
   "source": [
    "В качестве примеров рассмотрим `very good` и `very good :)`."
   ]
  },
  {
   "cell_type": "code",
   "execution_count": 8,
   "id": "5aa605aa",
   "metadata": {},
   "outputs": [
    {
     "name": "stdout",
     "output_type": "stream",
     "text": [
      "{'neg': 0.0, 'neu': 0.238, 'pos': 0.762, 'compound': 0.4927}\n",
      "{'neg': 0.0, 'neu': 0.134, 'pos': 0.866, 'compound': 0.7559}\n"
     ]
    }
   ],
   "source": [
    "vader = SentimentIntensityAnalyzer()\n",
    "\n",
    "print(vader.polarity_scores('very good'))\n",
    "print(vader.polarity_scores('very good :)'))"
   ]
  },
  {
   "cell_type": "markdown",
   "id": "5e7fdb71",
   "metadata": {},
   "source": [
    "Давайте разберем, что же мы получили. На каждый текст выдается четыре значения — \"neg\", \"neu\", \"pos\" и \"compound\".\n",
    "\n",
    "Первые три обозначают, насколько негативный, нейтральный или позитивный контекст имеет фраза. Суммарно эти три значения выдают на 1. \n",
    "\n",
    "Последнее же, \"compound\", аналогично тональности из класса `TextBlob` и может принимать значения от -1 (негативная окраска фразы) до 1 (позитивная окраска фразы). В нашем примере видно, что один только смайлик `:)` увеличил это значение на 0.2632."
   ]
  },
  {
   "cell_type": "markdown",
   "id": "cfb57910",
   "metadata": {},
   "source": [
    "С русскими словами, к сожалению, они не работают, однако в конце темы мы рассмотрим и вариант анализа тональности русскоязычных текстов."
   ]
  },
  {
   "cell_type": "code",
   "execution_count": 9,
   "id": "c30a8e2c",
   "metadata": {},
   "outputs": [
    {
     "name": "stdout",
     "output_type": "stream",
     "text": [
      "Sentiment(polarity=0.0, subjectivity=0.0)\n",
      "{'neg': 0.0, 'neu': 1.0, 'pos': 0.0, 'compound': 0.0}\n"
     ]
    }
   ],
   "source": [
    "print(TextBlob(\"хорошо\").sentiment)\n",
    "print(vader.polarity_scores('хорошо'))"
   ]
  },
  {
   "cell_type": "markdown",
   "id": "109256c8",
   "metadata": {},
   "source": [
    "### Определение тональности комментариев\n",
    "\n",
    "Сейчас нам потребуется загрузить данные в виде таблицы. С этим нам поможет модуль `pandas`. Импортируем его под псевдонимом `pd`."
   ]
  },
  {
   "cell_type": "code",
   "execution_count": 10,
   "id": "03b46843",
   "metadata": {},
   "outputs": [],
   "source": [
    "import pandas as pd "
   ]
  },
  {
   "cell_type": "markdown",
   "id": "2b68d50c",
   "metadata": {},
   "source": [
    "Данные, с которыми мы сегодня будем работать, представляют собой информацию (в том числе отзывы) о товарах, купленных на Amazon. С иточником данных можно ознакомиться [по ссылке](https://www.kaggle.com/code/sdxingaijing/topic-model-lda-algorithm/input). Данных там слишком много, поэтому для наших целей мы немного сократили их. Сам файл будет доступен в материалах курса.\n",
    "\n",
    "Загрузить файл можно с помощью функции `read_csv()`. Чтобы сработала команда ниже, необходимо, чтобы файл лежал в одной папаке (имел одну директорию) с блокнотом, где мы сейчас работаем.\n",
    "\n",
    "Используем метод `.head()` (выдает первые пять строк таблицы) и проверим, что данные корректно загрузились."
   ]
  },
  {
   "cell_type": "code",
   "execution_count": 11,
   "id": "501ebc5b",
   "metadata": {},
   "outputs": [
    {
     "data": {
      "text/html": [
       "<div>\n",
       "<style scoped>\n",
       "    .dataframe tbody tr th:only-of-type {\n",
       "        vertical-align: middle;\n",
       "    }\n",
       "\n",
       "    .dataframe tbody tr th {\n",
       "        vertical-align: top;\n",
       "    }\n",
       "\n",
       "    .dataframe thead th {\n",
       "        text-align: right;\n",
       "    }\n",
       "</style>\n",
       "<table border=\"1\" class=\"dataframe\">\n",
       "  <thead>\n",
       "    <tr style=\"text-align: right;\">\n",
       "      <th></th>\n",
       "      <th>ProductId</th>\n",
       "      <th>UserId</th>\n",
       "      <th>ProfileName</th>\n",
       "      <th>Score</th>\n",
       "      <th>Summary</th>\n",
       "      <th>Text</th>\n",
       "    </tr>\n",
       "  </thead>\n",
       "  <tbody>\n",
       "    <tr>\n",
       "      <th>0</th>\n",
       "      <td>B001717U9U</td>\n",
       "      <td>A34TQDJ94475AO</td>\n",
       "      <td>Jay Endo \"Jay Endo\"</td>\n",
       "      <td>2</td>\n",
       "      <td>Not worth the money</td>\n",
       "      <td>The potatos and hot dogs are really good.... I...</td>\n",
       "    </tr>\n",
       "    <tr>\n",
       "      <th>1</th>\n",
       "      <td>B001SAX0EE</td>\n",
       "      <td>AYFENUF5IEAZQ</td>\n",
       "      <td>ellamar</td>\n",
       "      <td>5</td>\n",
       "      <td>Try it, you'll love it.</td>\n",
       "      <td>If you have never tried these Telma cubes in m...</td>\n",
       "    </tr>\n",
       "    <tr>\n",
       "      <th>2</th>\n",
       "      <td>B001ELL60W</td>\n",
       "      <td>A3DSWKQ2CR9H1G</td>\n",
       "      <td>yvonne</td>\n",
       "      <td>5</td>\n",
       "      <td>best waffel mix ever</td>\n",
       "      <td>My family loves this product.  We have done ta...</td>\n",
       "    </tr>\n",
       "    <tr>\n",
       "      <th>3</th>\n",
       "      <td>B008114GDW</td>\n",
       "      <td>A1SLAL64ORLT41</td>\n",
       "      <td>Bonnie Muffin</td>\n",
       "      <td>5</td>\n",
       "      <td>Cinnamon nom nom noms</td>\n",
       "      <td>These taste exactly like cinnamon toast crunch...</td>\n",
       "    </tr>\n",
       "    <tr>\n",
       "      <th>4</th>\n",
       "      <td>B000EVNYQM</td>\n",
       "      <td>A2E2GGQGZOG4TD</td>\n",
       "      <td>Wisdom \"seeker\"</td>\n",
       "      <td>5</td>\n",
       "      <td>great cereal!</td>\n",
       "      <td>I discovered this cereal at a local market and...</td>\n",
       "    </tr>\n",
       "  </tbody>\n",
       "</table>\n",
       "</div>"
      ],
      "text/plain": [
       "    ProductId          UserId          ProfileName  Score  \\\n",
       "0  B001717U9U  A34TQDJ94475AO  Jay Endo \"Jay Endo\"      2   \n",
       "1  B001SAX0EE   AYFENUF5IEAZQ              ellamar      5   \n",
       "2  B001ELL60W  A3DSWKQ2CR9H1G               yvonne      5   \n",
       "3  B008114GDW  A1SLAL64ORLT41        Bonnie Muffin      5   \n",
       "4  B000EVNYQM  A2E2GGQGZOG4TD      Wisdom \"seeker\"      5   \n",
       "\n",
       "                   Summary                                               Text  \n",
       "0      Not worth the money  The potatos and hot dogs are really good.... I...  \n",
       "1  Try it, you'll love it.  If you have never tried these Telma cubes in m...  \n",
       "2     best waffel mix ever  My family loves this product.  We have done ta...  \n",
       "3    Cinnamon nom nom noms  These taste exactly like cinnamon toast crunch...  \n",
       "4            great cereal!  I discovered this cereal at a local market and...  "
      ]
     },
     "execution_count": 11,
     "metadata": {},
     "output_type": "execute_result"
    }
   ],
   "source": [
    "data = pd.read_csv('amazon_reviews.csv')\n",
    "data.head()"
   ]
  },
  {
   "cell_type": "markdown",
   "id": "95a43164",
   "metadata": {},
   "source": [
    "Имеем следующие данные: \n",
    "    \n",
    "+ `ProductId` — уникальный номер товара\n",
    "+ `UserId` — уникальный номер человека, оставившего отзыв\n",
    "+ `ProfileName` — имя человека / никнейм\n",
    "+ `Score` — оценка товара\n",
    "+ `Summary` — короткое описание отзыва\n",
    "+ `Text` — текст отзыва\n",
    "\n",
    "Всего в данных 28423 отзывов. Увидеть это можно с помощью атрибута `.shape` — нам будет выдан кортеж вида (строки, столбцы)."
   ]
  },
  {
   "cell_type": "code",
   "execution_count": 12,
   "id": "8d6fe3bb",
   "metadata": {},
   "outputs": [
    {
     "name": "stdout",
     "output_type": "stream",
     "text": [
      "(28423, 6)\n"
     ]
    }
   ],
   "source": [
    "print(data.shape)"
   ]
  },
  {
   "cell_type": "markdown",
   "id": "a9c35781",
   "metadata": {},
   "source": [
    "Давайте попробуем определить тональность отзывов в наших данных двумя вариантами, рассмотренными выше.\n",
    "\n",
    "Сначала посмотрим на один отзыв, например, на первый (нулевой)."
   ]
  },
  {
   "cell_type": "code",
   "execution_count": 13,
   "id": "d7ecaf08",
   "metadata": {},
   "outputs": [
    {
     "name": "stdout",
     "output_type": "stream",
     "text": [
      "The potatos and hot dogs are really good.... In fact they are great and will order again. The steaks and burgers are crap. Steaks are very chewy and dry. The burgers are too.... Id rather eat bubba burgers... They are much better.\n"
     ]
    }
   ],
   "source": [
    "text = data.iloc[0]['Text']\n",
    "print(text)"
   ]
  },
  {
   "cell_type": "markdown",
   "id": "db98f466",
   "metadata": {},
   "source": [
    "Обращение `.iloc[]` позволяет обратиться к строке по ее индексу. Если нам нужна первая строка, то выбираем индекс 0. Далее забираем из строки только данные столбца `Text`."
   ]
  },
  {
   "cell_type": "code",
   "execution_count": 14,
   "id": "77034063",
   "metadata": {},
   "outputs": [
    {
     "name": "stdout",
     "output_type": "stream",
     "text": [
      "Sentiment(polarity=0.2261904761904762, subjectivity=0.6285714285714287)\n",
      "{'neg': 0.051, 'neu': 0.748, 'pos': 0.201, 'compound': 0.8221}\n"
     ]
    }
   ],
   "source": [
    "print(TextBlob(text).sentiment)\n",
    "print(vader.polarity_scores(text))"
   ]
  },
  {
   "cell_type": "markdown",
   "id": "b0b4cfed",
   "metadata": {},
   "source": [
    "В данном случае, так как это отзыв, а не диалог в социальной сети, более точно тональность определяет `TextBlob`. Комментарий получился, скорее, положительным и достаточно субъективным. \n",
    "\n",
    "Давайте создадим новые признаки (столбцы) в наших данных — тональность и субъективность. Обработка займет не более одной минуты. \n",
    "\n",
    "Для создания новых столбцов можно использовать метод `.apply()` применительно к столбцу, данные из которого мы забираем. В сам метод мы прописываем функцию, которую необходимо к этому столбцу применить (это может быть как именная функция, так и анонимная `lambda` функция). "
   ]
  },
  {
   "cell_type": "code",
   "execution_count": 15,
   "id": "bffe2be6",
   "metadata": {},
   "outputs": [
    {
     "data": {
      "text/html": [
       "<div>\n",
       "<style scoped>\n",
       "    .dataframe tbody tr th:only-of-type {\n",
       "        vertical-align: middle;\n",
       "    }\n",
       "\n",
       "    .dataframe tbody tr th {\n",
       "        vertical-align: top;\n",
       "    }\n",
       "\n",
       "    .dataframe thead th {\n",
       "        text-align: right;\n",
       "    }\n",
       "</style>\n",
       "<table border=\"1\" class=\"dataframe\">\n",
       "  <thead>\n",
       "    <tr style=\"text-align: right;\">\n",
       "      <th></th>\n",
       "      <th>ProductId</th>\n",
       "      <th>UserId</th>\n",
       "      <th>ProfileName</th>\n",
       "      <th>Score</th>\n",
       "      <th>Summary</th>\n",
       "      <th>Text</th>\n",
       "      <th>Polarity</th>\n",
       "      <th>Subjectivity</th>\n",
       "    </tr>\n",
       "  </thead>\n",
       "  <tbody>\n",
       "    <tr>\n",
       "      <th>0</th>\n",
       "      <td>B001717U9U</td>\n",
       "      <td>A34TQDJ94475AO</td>\n",
       "      <td>Jay Endo \"Jay Endo\"</td>\n",
       "      <td>2</td>\n",
       "      <td>Not worth the money</td>\n",
       "      <td>The potatos and hot dogs are really good.... I...</td>\n",
       "      <td>0.226190</td>\n",
       "      <td>0.628571</td>\n",
       "    </tr>\n",
       "    <tr>\n",
       "      <th>1</th>\n",
       "      <td>B001SAX0EE</td>\n",
       "      <td>AYFENUF5IEAZQ</td>\n",
       "      <td>ellamar</td>\n",
       "      <td>5</td>\n",
       "      <td>Try it, you'll love it.</td>\n",
       "      <td>If you have never tried these Telma cubes in m...</td>\n",
       "      <td>0.075000</td>\n",
       "      <td>0.505000</td>\n",
       "    </tr>\n",
       "    <tr>\n",
       "      <th>2</th>\n",
       "      <td>B001ELL60W</td>\n",
       "      <td>A3DSWKQ2CR9H1G</td>\n",
       "      <td>yvonne</td>\n",
       "      <td>5</td>\n",
       "      <td>best waffel mix ever</td>\n",
       "      <td>My family loves this product.  We have done ta...</td>\n",
       "      <td>0.271429</td>\n",
       "      <td>0.500000</td>\n",
       "    </tr>\n",
       "    <tr>\n",
       "      <th>3</th>\n",
       "      <td>B008114GDW</td>\n",
       "      <td>A1SLAL64ORLT41</td>\n",
       "      <td>Bonnie Muffin</td>\n",
       "      <td>5</td>\n",
       "      <td>Cinnamon nom nom noms</td>\n",
       "      <td>These taste exactly like cinnamon toast crunch...</td>\n",
       "      <td>-0.033333</td>\n",
       "      <td>0.716667</td>\n",
       "    </tr>\n",
       "    <tr>\n",
       "      <th>4</th>\n",
       "      <td>B000EVNYQM</td>\n",
       "      <td>A2E2GGQGZOG4TD</td>\n",
       "      <td>Wisdom \"seeker\"</td>\n",
       "      <td>5</td>\n",
       "      <td>great cereal!</td>\n",
       "      <td>I discovered this cereal at a local market and...</td>\n",
       "      <td>0.241667</td>\n",
       "      <td>0.518750</td>\n",
       "    </tr>\n",
       "  </tbody>\n",
       "</table>\n",
       "</div>"
      ],
      "text/plain": [
       "    ProductId          UserId          ProfileName  Score  \\\n",
       "0  B001717U9U  A34TQDJ94475AO  Jay Endo \"Jay Endo\"      2   \n",
       "1  B001SAX0EE   AYFENUF5IEAZQ              ellamar      5   \n",
       "2  B001ELL60W  A3DSWKQ2CR9H1G               yvonne      5   \n",
       "3  B008114GDW  A1SLAL64ORLT41        Bonnie Muffin      5   \n",
       "4  B000EVNYQM  A2E2GGQGZOG4TD      Wisdom \"seeker\"      5   \n",
       "\n",
       "                   Summary                                               Text  \\\n",
       "0      Not worth the money  The potatos and hot dogs are really good.... I...   \n",
       "1  Try it, you'll love it.  If you have never tried these Telma cubes in m...   \n",
       "2     best waffel mix ever  My family loves this product.  We have done ta...   \n",
       "3    Cinnamon nom nom noms  These taste exactly like cinnamon toast crunch...   \n",
       "4            great cereal!  I discovered this cereal at a local market and...   \n",
       "\n",
       "   Polarity  Subjectivity  \n",
       "0  0.226190      0.628571  \n",
       "1  0.075000      0.505000  \n",
       "2  0.271429      0.500000  \n",
       "3 -0.033333      0.716667  \n",
       "4  0.241667      0.518750  "
      ]
     },
     "execution_count": 15,
     "metadata": {},
     "output_type": "execute_result"
    }
   ],
   "source": [
    "data['Polarity'] = data['Text'].apply(lambda x: TextBlob(x).polarity)\n",
    "data['Subjectivity'] = data['Text'].apply(lambda x: TextBlob(x).subjectivity)\n",
    "\n",
    "data.head()"
   ]
  },
  {
   "cell_type": "markdown",
   "id": "961bd833",
   "metadata": {},
   "source": [
    "Попробуем визуализировать полученные результаты. Для этого импортируем модуль `seaborn` под псевдонимом `sns`. Сразу запустим команду `sns.set_style(\"whitegrid\")` — так у наших графиков будет светлый фон."
   ]
  },
  {
   "cell_type": "code",
   "execution_count": 16,
   "id": "5adb3646",
   "metadata": {},
   "outputs": [],
   "source": [
    "import seaborn as sns\n",
    "sns.set_style(\"whitegrid\")"
   ]
  },
  {
   "cell_type": "markdown",
   "id": "f528fae0",
   "metadata": {},
   "source": [
    "Мы можем построить гистограмму по тональности (столбец `Polatiry`). В целом, сработает и такая команда `sns.histplot(data[\"Polarity\"])`, но, чтобы наш график был красивым, дополнительно укажем, что\n",
    "\n",
    "+ ширина столбцов `binwidth` равна `0.075` (можете поиграть с этим значением и посмотреть, что будет);\n",
    "+ цвет `color` равен `pink` (также можете перекрасить в тот, который больше нравится)."
   ]
  },
  {
   "cell_type": "code",
   "execution_count": 17,
   "id": "ef85daf2",
   "metadata": {},
   "outputs": [
    {
     "data": {
      "image/png": "[encoded data removed]",
      "text/plain": [
       "<Figure size 640x480 with 1 Axes>"
      ]
     },
     "metadata": {},
     "output_type": "display_data"
    }
   ],
   "source": [
    "plot = sns.histplot(data[\"Polarity\"], binwidth=0.075, color='pink')\n",
    "\n",
    "# Не забываем про заголовок\n",
    "plot.set_title('Тональность комментариев к товарам с Amazon') \n",
    "\n",
    "# И сохраняем наш график\n",
    "plot.figure.savefig(\"polarity.png\")"
   ]
  },
  {
   "cell_type": "markdown",
   "id": "1e714cc0",
   "metadata": {},
   "source": [
    "Аналогично вы можете построить график для субъективности. \n",
    "\n",
    "В наших данных есть еще один интересный признак — `Score`, то есть оценка товара. Давайте посмотрим среднюю тональность для каждой оценки. \n",
    "\n",
    "Чтобы наш код был более универсален, обратимся к каждому уникальному значению в столбце `Score`, использовав метод `.unique()`. Мы знаем, что там всего пять значений (1-5), но вдруг вы будете работать с данными, где их больше."
   ]
  },
  {
   "cell_type": "code",
   "execution_count": 18,
   "id": "ae458c17",
   "metadata": {},
   "outputs": [
    {
     "name": "stdout",
     "output_type": "stream",
     "text": [
      "2\n",
      "5\n",
      "4\n",
      "3\n",
      "1\n"
     ]
    }
   ],
   "source": [
    "for score in data['Score'].unique():\n",
    "    print(score)"
   ]
  },
  {
   "cell_type": "markdown",
   "id": "e185995b",
   "metadata": {},
   "source": [
    "Видим, что они могут идти не по порядку, поэтому используем функцию `sorted()`, чтобы гарантированно получить оценки от наименьшей к наибольшей. \n",
    "\n",
    "Если же вы хотите, наоборот, вывести оценки от наибольшей к наименьшей, то в функцию `sorted()` необходимо добавить параметр `reverse` и присвоить ему значение `True`."
   ]
  },
  {
   "cell_type": "code",
   "execution_count": 19,
   "id": "e60e2c72",
   "metadata": {},
   "outputs": [
    {
     "name": "stdout",
     "output_type": "stream",
     "text": [
      "Оценка 1\n",
      "Оценка 2\n",
      "Оценка 3\n",
      "Оценка 4\n",
      "Оценка 5\n"
     ]
    }
   ],
   "source": [
    "for score in sorted(data['Score'].unique()):\n",
    "    print(f'Оценка {score}')"
   ]
  },
  {
   "cell_type": "markdown",
   "id": "9ae0e009",
   "metadata": {},
   "source": [
    "Далее ищем среднее значение тональности только, например, для оценки 1. \n",
    "\n",
    "1. Сначала фильтруем наши данные и указываем, что нас интересуют только те, где столбец `Score` принимает значение 1: `data[data['Score'] == 1]`.\n",
    "2. Затем забираем из данных только столбец `Polarity`.\n",
    "3. И к нему применяем метод `.mean()`."
   ]
  },
  {
   "cell_type": "code",
   "execution_count": 20,
   "id": "f73d470c",
   "metadata": {},
   "outputs": [
    {
     "name": "stdout",
     "output_type": "stream",
     "text": [
      "0.0059045282267595435\n"
     ]
    }
   ],
   "source": [
    "print(data[data['Score'] == 1]['Polarity'].mean())"
   ]
  },
  {
   "cell_type": "markdown",
   "id": "94a655ba",
   "metadata": {},
   "source": [
    "Видим, что тональность для товаров, оценненых на 1, очень низкая. Теперь вместо 1 нужно подставить остальные оценки, это можно сделать в цикле."
   ]
  },
  {
   "cell_type": "code",
   "execution_count": 21,
   "id": "a3305225",
   "metadata": {},
   "outputs": [
    {
     "name": "stdout",
     "output_type": "stream",
     "text": [
      "Оценка 1\n",
      "0.0059045282267595435\n",
      "Оценка 2\n",
      "0.07935445819809125\n",
      "Оценка 3\n",
      "0.15152302207663432\n",
      "Оценка 4\n",
      "0.23756491110136208\n",
      "Оценка 5\n",
      "0.30193765848631404\n"
     ]
    }
   ],
   "source": [
    "for score in sorted(data['Score'].unique()):\n",
    "    print(f'Оценка {score}')\n",
    "    print(data[data['Score'] == score]['Polarity'].mean())"
   ]
  },
  {
   "cell_type": "markdown",
   "id": "62df4826",
   "metadata": {},
   "source": [
    "Визуализируем результат! Используем функцию `barplot()`, также из модуля `seaborn`. В ней установим цвет, а также укажем параметр `errorbar` — присвоим ему значение `None`. Сам параметр задуман, чтобы показывать отклонения в данных, ошибки; по умолчанию он принимает значение `('ci', 95)` (доверительный интервал 95%), однако можно перенастроить его вручную, о чем подробно написано в официальной [документации](https://seaborn.pydata.org/tutorial/error_bars.html)."
   ]
  },
  {
   "cell_type": "code",
   "execution_count": 22,
   "id": "fa3078cc",
   "metadata": {},
   "outputs": [
    {
     "data": {
      "image/png": "[encoded data removed]",
      "text/plain": [
       "<Figure size 640x480 with 1 Axes>"
      ]
     },
     "metadata": {},
     "output_type": "display_data"
    }
   ],
   "source": [
    "plot = sns.barplot(data=data, x='Score', y='Polarity', errorbar=None, color='pink')\n",
    "\n",
    "# Не забываем про заголовок\n",
    "plot.set_title('Средняя тональность для каждой оценки') \n",
    "\n",
    "# И сохраняем наш график\n",
    "plot.figure.savefig(\"polarity_and_score.png\")"
   ]
  },
  {
   "cell_type": "markdown",
   "id": "0aa324b5",
   "metadata": {},
   "source": [
    "Видим, что все логично — чем выше оценка, тем выше средняя тональность. Но если бы мы получили другой график, то следовало бы задуматься над результатами. \n",
    "\n",
    "На этом пока остановимся на анализе англоязычного контента и посмотрим, что же делать с русскими текстами."
   ]
  },
  {
   "cell_type": "markdown",
   "id": "c514034b",
   "metadata": {},
   "source": [
    "## Работа с русскоязычными текстами\n",
    "\n",
    "Как уже было сказано, представленные выше способы не работают с русскоязычными текстами. \n",
    "\n",
    "Нам понадобится импортировать `RegexTokenizer()` и `FastTextSocialNetworkModel()` из модуля `dostoevsky`. "
   ]
  },
  {
   "cell_type": "code",
   "execution_count": 23,
   "id": "902f3f8a",
   "metadata": {},
   "outputs": [],
   "source": [
    "#!pip install dostoevsky\n",
    "from dostoevsky.tokenization import RegexTokenizer\n",
    "from dostoevsky.models import FastTextSocialNetworkModel"
   ]
  },
  {
   "cell_type": "markdown",
   "id": "35c330a8",
   "metadata": {},
   "source": [
    "Сразу их инициализируем. Нам будет выдано небольшое предупреждение, но оно никак не помешает дальнейшей работе. "
   ]
  },
  {
   "cell_type": "code",
   "execution_count": 24,
   "id": "b9a8c84f",
   "metadata": {},
   "outputs": [
    {
     "name": "stderr",
     "output_type": "stream",
     "text": [
      "Warning : `load_model` does not return WordVectorModel or SupervisedModel any more, but a `FastText` object which is very similar.\n"
     ]
    }
   ],
   "source": [
    "tokenizer = RegexTokenizer()\n",
    "dostoevsky_model = FastTextSocialNetworkModel(tokenizer=tokenizer)"
   ]
  },
  {
   "cell_type": "markdown",
   "id": "4a26122c",
   "metadata": {},
   "source": [
    "При первом запуске может возникнуть ошибка `ValueError: <...> data/models/fasttext-social-network-model.bin cannot be opened for loading!`. Она решается непосредственным скачиванием файла [отсюда](https://storage.b-labs.pro/models/fasttext-social-network-model.bin) — после скачивания его нужно переместить в папку, путь к которой указан в ошибке."
   ]
  },
  {
   "cell_type": "markdown",
   "id": "2ee6737c",
   "metadata": {},
   "source": [
    "Попробуем проверить слово \"хорошо\". "
   ]
  },
  {
   "cell_type": "code",
   "execution_count": 25,
   "id": "283a0c01",
   "metadata": {},
   "outputs": [
    {
     "name": "stdout",
     "output_type": "stream",
     "text": [
      "[{'neutral': 1.0000100135803223, 'skip': 0.001335022272542119, 'negative': 1.0000003385357559e-05, 'speech': 1.0000003385357559e-05, 'positive': 1.0000003385357559e-05}, {'neutral': 1.0000100135803223, 'skip': 1.0000003385357559e-05, 'negative': 1.0000003385357559e-05, 'speech': 1.0000003385357559e-05, 'positive': 1.0000003385357559e-05}, {'neutral': 1.0000100135803223, 'skip': 1.0000003385357559e-05, 'negative': 1.0000003385357559e-05, 'speech': 1.0000003385357559e-05, 'positive': 1.0000003385357559e-05}, {'neutral': 1.0000100135803223, 'skip': 1.0000003385357559e-05, 'negative': 1.0000003385357559e-05, 'speech': 1.0000003385357559e-05, 'positive': 1.0000003385357559e-05}, {'neutral': 1.0000100135803223, 'skip': 0.006498271133750677, 'negative': 1.0000003385357559e-05, 'speech': 1.0000003385357559e-05, 'positive': 1.0000003385357559e-05}, {'neutral': 1.0000100135803223, 'skip': 1.0000003385357559e-05, 'negative': 1.0000003385357559e-05, 'speech': 1.0000003385357559e-05, 'positive': 1.0000003385357559e-05}]\n"
     ]
    }
   ],
   "source": [
    "print(dostoevsky_model.predict('хорошо'))"
   ]
  },
  {
   "cell_type": "markdown",
   "id": "8440ec40",
   "metadata": {},
   "source": [
    "Результат получился очень странным — слишком уж много всего. На самом деле команда работает с итерируемыми объектами. В нашем случае она нашла метрики для каждой буквы слова \"хорошо\". Попробуем передать аргумент в виде списка из одного элемента."
   ]
  },
  {
   "cell_type": "code",
   "execution_count": 26,
   "id": "9ff528fb",
   "metadata": {},
   "outputs": [
    {
     "name": "stdout",
     "output_type": "stream",
     "text": [
      "[{'positive': 0.9989450573921204, 'skip': 0.0006562031921930611, 'negative': 1.0000003385357559e-05, 'speech': 1.0000003385357559e-05, 'neutral': 1.0000003385357559e-05}]\n"
     ]
    }
   ],
   "source": [
    "print(dostoevsky_model.predict(['хорошо'])) # Все работает!"
   ]
  },
  {
   "cell_type": "markdown",
   "id": "67d03fcf",
   "metadata": {},
   "source": [
    "Смотрим, что нам выдано (на самом деле, очень похоже на `vader`): \n",
    "    \n",
    "+ `positive / negative` — насколько текст позитивный / негативный соответственно;\n",
    "+ `neutral` — нейтральность текста;\n",
    "+ `skip` — \"шум\", либо что-то сложное для определения;\n",
    "+ `speech` — обычная речь (например, приветствие).\n",
    "\n",
    "Обратите внимание на порядок ключей получившегося словаря — они идут от наиболее вероятного к наименее (в нашем случае слово скорее всего позитивное, и только потом его можно принять за \"шум\").\n",
    "\n",
    "Посмотрим еще один пример — ключи словаря будут уже в другом порядке. Также можно дополнительно указать параметр `k`, которые определяет количество ключей, которые будут показаны."
   ]
  },
  {
   "cell_type": "code",
   "execution_count": 27,
   "id": "92e366d5",
   "metadata": {},
   "outputs": [
    {
     "name": "stdout",
     "output_type": "stream",
     "text": [
      "[{'negative': 0.23935934901237488, 'skip': 0.061885979026556015, 'neutral': 0.02596735954284668, 'positive': 0.0032830648124217987, 'speech': 1.0000003385357559e-05}]\n",
      "[{'negative': 0.23935934901237488, 'skip': 0.061885979026556015}]\n"
     ]
    }
   ],
   "source": [
    "print(dostoevsky_model.predict(['грусть-тоска'])) \n",
    "print(dostoevsky_model.predict(['грусть-тоска'], k=2)) "
   ]
  },
  {
   "cell_type": "markdown",
   "id": "fc41d790",
   "metadata": {},
   "source": [
    "И, наконец, разберем, как же будут проанализированы комментарии из книги отзывов ресторана. "
   ]
  },
  {
   "cell_type": "code",
   "execution_count": 28,
   "id": "c90f932d",
   "metadata": {},
   "outputs": [
    {
     "name": "stdout",
     "output_type": "stream",
     "text": [
      "[{'positive': 0.5775054097175598, 'neutral': 0.10375863313674927, 'negative': 0.0695517510175705, 'skip': 0.04337579756975174, 'speech': 0.031153826043009758}, {'neutral': 0.8221991658210754, 'positive': 0.29422497749328613, 'negative': 0.051855459809303284, 'skip': 0.0191340371966362, 'speech': 1.0000003385357559e-05}, {'negative': 0.7663036584854126, 'skip': 0.11280541121959686, 'neutral': 0.09535945951938629, 'positive': 0.09010298550128937, 'speech': 0.0061075626872479916}]\n"
     ]
    }
   ],
   "source": [
    "reviews = [\n",
    "    'Мне очень понравилось в вашем ресторане, уверен, что еще загляну! Ах, какие мидии!',\n",
    "    'Здесь достаточно уютно, однако я бывал и в местах получше',\n",
    "    'Просто отвратительно! Никогда сюда больше не зайду'\n",
    "]\n",
    "\n",
    "print(dostoevsky_model.predict(reviews)) "
   ]
  },
  {
   "cell_type": "markdown",
   "id": "2c2f5963",
   "metadata": {},
   "source": [
    "Оно работает, но в таком виде результаты не очень читаемы. Давайте попробуем преобразовать выдачу с помощью цикла.\n",
    "\n",
    "Объединим наши отзывы и результат предсказания в один словарь с помощью функций `zip()` и `dict()`, далее обратимся к методу `.items()` — он выдаст нам пары ключ-значение (отзыв-словарь с результатом)."
   ]
  },
  {
   "cell_type": "code",
   "execution_count": 29,
   "id": "fa2e5247",
   "metadata": {},
   "outputs": [
    {
     "name": "stdout",
     "output_type": "stream",
     "text": [
      "Отзыв: Мне очень понравилось в вашем ресторане, уверен, что еще загляну! Ах, какие мидии!\n",
      "Результат: {'positive': 0.5775054097175598}\n",
      "Отзыв: Здесь достаточно уютно, однако я бывал и в местах получше\n",
      "Результат: {'neutral': 0.8221991658210754}\n",
      "Отзыв: Просто отвратительно! Никогда сюда больше не зайду\n",
      "Результат: {'negative': 0.7663036584854126}\n"
     ]
    }
   ],
   "source": [
    "for review, data in dict(zip(reviews, dostoevsky_model.predict(reviews, k=1))).items():\n",
    "    print(f'Отзыв: {review}')\n",
    "    print(f'Результат: {data}')"
   ]
  },
  {
   "cell_type": "markdown",
   "id": "9256e721",
   "metadata": {},
   "source": [
    "Видим, что работает достаточно неплохо. \n",
    "\n",
    "Это лишь небольшой пример того, как определить тональность русскоязычного текста. В следующих темах мы научимся атоматически собирать комментарии (например, из VK) и применим к их анализу знания, которые получили сегодня!"
   ]
  }
 ],
 "metadata": {
  "kernelspec": {
   "display_name": "Python 3 (ipykernel)",
   "language": "python",
   "name": "python3"
  },
  "language_info": {
   "codemirror_mode": {
    "name": "ipython",
    "version": 3
   },
   "file_extension": ".py",
   "mimetype": "text/x-python",
   "name": "python",
   "nbconvert_exporter": "python",
   "pygments_lexer": "ipython3",
   "version": "3.11.4"
  }
 },
 "nbformat": 4,
 "nbformat_minor": 5
}

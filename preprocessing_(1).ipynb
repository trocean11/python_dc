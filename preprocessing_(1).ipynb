{
  "nbformat": 4,
  "nbformat_minor": 0,
  "metadata": {
    "colab": {
      "provenance": []
    },
    "kernelspec": {
      "name": "python3",
      "display_name": "Python 3"
    },
    "language_info": {
      "name": "python"
    }
  },
  "cells": [
    {
      "cell_type": "markdown",
      "source": [
        "# Начало работы с текстами <a name=\"par3\"></a>"
      ],
      "metadata": {
        "id": "YOFRpH9rKkPh"
      }
    },
    {
      "cell_type": "markdown",
      "source": [
        "Загрузим корпус стихов."
      ],
      "metadata": {
        "id": "rALl6fZpK6BJ"
      }
    },
    {
      "cell_type": "code",
      "source": [
        "import pandas as pd"
      ],
      "metadata": {
        "id": "rhMjkG-9gB5r"
      },
      "execution_count": 101,
      "outputs": []
    },
    {
      "cell_type": "code",
      "source": [
        "poems = pd.read_csv('poems.csv')\n",
        "poems"
      ],
      "metadata": {
        "colab": {
          "base_uri": "https://localhost:8080/",
          "height": 423
        },
        "id": "fbVqsiUhZ_5d",
        "outputId": "9b186a2c-f66d-4c6d-db4b-e89043d37027"
      },
      "execution_count": 102,
      "outputs": [
        {
          "output_type": "execute_result",
          "data": {
            "text/plain": [
              "                                 writer  \\\n",
              "0              Лермонтов Михаил Юрьевич   \n",
              "1              Лермонтов Михаил Юрьевич   \n",
              "2              Лермонтов Михаил Юрьевич   \n",
              "3              Лермонтов Михаил Юрьевич   \n",
              "4              Лермонтов Михаил Юрьевич   \n",
              "...                                 ...   \n",
              "19311  Владислав Фелицианович Ходасевич   \n",
              "19312  Владислав Фелицианович Ходасевич   \n",
              "19313  Владислав Фелицианович Ходасевич   \n",
              "19314  Владислав Фелицианович Ходасевич   \n",
              "19315  Владислав Фелицианович Ходасевич   \n",
              "\n",
              "                                            poem  \\\n",
              "0                                Любовь мертвеца   \n",
              "1                           На серебряные шпоры…   \n",
              "2                      Вид гор из степей Козлова   \n",
              "3         К  (О, не скрывай! Ты плакала об нем…)   \n",
              "4      Жалобы турка (письмо к другу, иностранцу)   \n",
              "...                                          ...   \n",
              "19311                                   Прогулка   \n",
              "19312                                   Пробочка   \n",
              "19313         Друзья, друзья! Быть может, скоро…   \n",
              "19314               Увы, дитя! Душе неутоленной…   \n",
              "19315                       Изломала, одолевает…   \n",
              "\n",
              "                                                    text  \n",
              "0                                                    NaN  \n",
              "1      На серебряные шпоры\\nЯ в раздумии гляжу;\\nЗа т...  \n",
              "2      Пилигрим\\nАллах ли там среди пустыни\\nЗастывши...  \n",
              "3      О, не скрывай! Ты плакала об нем –\\nИ я его лю...  \n",
              "4      Ты знал ли дикий край, под знойными лучами,\\nГ...  \n",
              "...                                                  ...  \n",
              "19311  Хорошо, что в этом мире\\nЕсть магические ночи,...  \n",
              "19312  Пробочка над крепким иодом!\\nКак ты скоро пере...  \n",
              "19313  Друзья, друзья! Быть может, скоро —\\nИ не во с...  \n",
              "19314  Увы, дитя! Душе неутоленной\\nНе снишься ль ты ...  \n",
              "19315  Изломала, одолевает\\nНестерпимая скука с утра....  \n",
              "\n",
              "[19316 rows x 3 columns]"
            ],
            "text/html": [
              "\n",
              "  <div id=\"df-c3ff65ee-45a7-43e1-b4c0-88419e95ee1c\" class=\"colab-df-container\">\n",
              "    <div>\n",
              "<style scoped>\n",
              "    .dataframe tbody tr th:only-of-type {\n",
              "        vertical-align: middle;\n",
              "    }\n",
              "\n",
              "    .dataframe tbody tr th {\n",
              "        vertical-align: top;\n",
              "    }\n",
              "\n",
              "    .dataframe thead th {\n",
              "        text-align: right;\n",
              "    }\n",
              "</style>\n",
              "<table border=\"1\" class=\"dataframe\">\n",
              "  <thead>\n",
              "    <tr style=\"text-align: right;\">\n",
              "      <th></th>\n",
              "      <th>writer</th>\n",
              "      <th>poem</th>\n",
              "      <th>text</th>\n",
              "    </tr>\n",
              "  </thead>\n",
              "  <tbody>\n",
              "    <tr>\n",
              "      <th>0</th>\n",
              "      <td>Лермонтов Михаил Юрьевич</td>\n",
              "      <td>Любовь мертвеца</td>\n",
              "      <td>NaN</td>\n",
              "    </tr>\n",
              "    <tr>\n",
              "      <th>1</th>\n",
              "      <td>Лермонтов Михаил Юрьевич</td>\n",
              "      <td>На серебряные шпоры…</td>\n",
              "      <td>На серебряные шпоры\\nЯ в раздумии гляжу;\\nЗа т...</td>\n",
              "    </tr>\n",
              "    <tr>\n",
              "      <th>2</th>\n",
              "      <td>Лермонтов Михаил Юрьевич</td>\n",
              "      <td>Вид гор из степей Козлова</td>\n",
              "      <td>Пилигрим\\nАллах ли там среди пустыни\\nЗастывши...</td>\n",
              "    </tr>\n",
              "    <tr>\n",
              "      <th>3</th>\n",
              "      <td>Лермонтов Михаил Юрьевич</td>\n",
              "      <td>К  (О, не скрывай! Ты плакала об нем…)</td>\n",
              "      <td>О, не скрывай! Ты плакала об нем –\\nИ я его лю...</td>\n",
              "    </tr>\n",
              "    <tr>\n",
              "      <th>4</th>\n",
              "      <td>Лермонтов Михаил Юрьевич</td>\n",
              "      <td>Жалобы турка (письмо к другу, иностранцу)</td>\n",
              "      <td>Ты знал ли дикий край, под знойными лучами,\\nГ...</td>\n",
              "    </tr>\n",
              "    <tr>\n",
              "      <th>...</th>\n",
              "      <td>...</td>\n",
              "      <td>...</td>\n",
              "      <td>...</td>\n",
              "    </tr>\n",
              "    <tr>\n",
              "      <th>19311</th>\n",
              "      <td>Владислав Фелицианович Ходасевич</td>\n",
              "      <td>Прогулка</td>\n",
              "      <td>Хорошо, что в этом мире\\nЕсть магические ночи,...</td>\n",
              "    </tr>\n",
              "    <tr>\n",
              "      <th>19312</th>\n",
              "      <td>Владислав Фелицианович Ходасевич</td>\n",
              "      <td>Пробочка</td>\n",
              "      <td>Пробочка над крепким иодом!\\nКак ты скоро пере...</td>\n",
              "    </tr>\n",
              "    <tr>\n",
              "      <th>19313</th>\n",
              "      <td>Владислав Фелицианович Ходасевич</td>\n",
              "      <td>Друзья, друзья! Быть может, скоро…</td>\n",
              "      <td>Друзья, друзья! Быть может, скоро —\\nИ не во с...</td>\n",
              "    </tr>\n",
              "    <tr>\n",
              "      <th>19314</th>\n",
              "      <td>Владислав Фелицианович Ходасевич</td>\n",
              "      <td>Увы, дитя! Душе неутоленной…</td>\n",
              "      <td>Увы, дитя! Душе неутоленной\\nНе снишься ль ты ...</td>\n",
              "    </tr>\n",
              "    <tr>\n",
              "      <th>19315</th>\n",
              "      <td>Владислав Фелицианович Ходасевич</td>\n",
              "      <td>Изломала, одолевает…</td>\n",
              "      <td>Изломала, одолевает\\nНестерпимая скука с утра....</td>\n",
              "    </tr>\n",
              "  </tbody>\n",
              "</table>\n",
              "<p>19316 rows × 3 columns</p>\n",
              "</div>\n",
              "    <div class=\"colab-df-buttons\">\n",
              "\n",
              "  <div class=\"colab-df-container\">\n",
              "    <button class=\"colab-df-convert\" onclick=\"convertToInteractive('df-c3ff65ee-45a7-43e1-b4c0-88419e95ee1c')\"\n",
              "            title=\"Convert this dataframe to an interactive table.\"\n",
              "            style=\"display:none;\">\n",
              "\n",
              "  <svg xmlns=\"http://www.w3.org/2000/svg\" height=\"24px\" viewBox=\"0 -960 960 960\">\n",
              "    <path d=\"M120-120v-720h720v720H120Zm60-500h600v-160H180v160Zm220 220h160v-160H400v160Zm0 220h160v-160H400v160ZM180-400h160v-160H180v160Zm440 0h160v-160H620v160ZM180-180h160v-160H180v160Zm440 0h160v-160H620v160Z\"/>\n",
              "  </svg>\n",
              "    </button>\n",
              "\n",
              "  <style>\n",
              "    .colab-df-container {\n",
              "      display:flex;\n",
              "      gap: 12px;\n",
              "    }\n",
              "\n",
              "    .colab-df-convert {\n",
              "      background-color: #E8F0FE;\n",
              "      border: none;\n",
              "      border-radius: 50%;\n",
              "      cursor: pointer;\n",
              "      display: none;\n",
              "      fill: #1967D2;\n",
              "      height: 32px;\n",
              "      padding: 0 0 0 0;\n",
              "      width: 32px;\n",
              "    }\n",
              "\n",
              "    .colab-df-convert:hover {\n",
              "      background-color: #E2EBFA;\n",
              "      box-shadow: 0px 1px 2px rgba(60, 64, 67, 0.3), 0px 1px 3px 1px rgba(60, 64, 67, 0.15);\n",
              "      fill: #174EA6;\n",
              "    }\n",
              "\n",
              "    .colab-df-buttons div {\n",
              "      margin-bottom: 4px;\n",
              "    }\n",
              "\n",
              "    [theme=dark] .colab-df-convert {\n",
              "      background-color: #3B4455;\n",
              "      fill: #D2E3FC;\n",
              "    }\n",
              "\n",
              "    [theme=dark] .colab-df-convert:hover {\n",
              "      background-color: #434B5C;\n",
              "      box-shadow: 0px 1px 3px 1px rgba(0, 0, 0, 0.15);\n",
              "      filter: drop-shadow(0px 1px 2px rgba(0, 0, 0, 0.3));\n",
              "      fill: #FFFFFF;\n",
              "    }\n",
              "  </style>\n",
              "\n",
              "    <script>\n",
              "      const buttonEl =\n",
              "        document.querySelector('#df-c3ff65ee-45a7-43e1-b4c0-88419e95ee1c button.colab-df-convert');\n",
              "      buttonEl.style.display =\n",
              "        google.colab.kernel.accessAllowed ? 'block' : 'none';\n",
              "\n",
              "      async function convertToInteractive(key) {\n",
              "        const element = document.querySelector('#df-c3ff65ee-45a7-43e1-b4c0-88419e95ee1c');\n",
              "        const dataTable =\n",
              "          await google.colab.kernel.invokeFunction('convertToInteractive',\n",
              "                                                    [key], {});\n",
              "        if (!dataTable) return;\n",
              "\n",
              "        const docLinkHtml = 'Like what you see? Visit the ' +\n",
              "          '<a target=\"_blank\" href=https://colab.research.google.com/notebooks/data_table.ipynb>data table notebook</a>'\n",
              "          + ' to learn more about interactive tables.';\n",
              "        element.innerHTML = '';\n",
              "        dataTable['output_type'] = 'display_data';\n",
              "        await google.colab.output.renderOutput(dataTable, element);\n",
              "        const docLink = document.createElement('div');\n",
              "        docLink.innerHTML = docLinkHtml;\n",
              "        element.appendChild(docLink);\n",
              "      }\n",
              "    </script>\n",
              "  </div>\n",
              "\n",
              "\n",
              "<div id=\"df-87c58d3c-8d8e-4087-a579-7efc50462787\">\n",
              "  <button class=\"colab-df-quickchart\" onclick=\"quickchart('df-87c58d3c-8d8e-4087-a579-7efc50462787')\"\n",
              "            title=\"Suggest charts\"\n",
              "            style=\"display:none;\">\n",
              "\n",
              "<svg xmlns=\"http://www.w3.org/2000/svg\" height=\"24px\"viewBox=\"0 0 24 24\"\n",
              "     width=\"24px\">\n",
              "    <g>\n",
              "        <path d=\"M19 3H5c-1.1 0-2 .9-2 2v14c0 1.1.9 2 2 2h14c1.1 0 2-.9 2-2V5c0-1.1-.9-2-2-2zM9 17H7v-7h2v7zm4 0h-2V7h2v10zm4 0h-2v-4h2v4z\"/>\n",
              "    </g>\n",
              "</svg>\n",
              "  </button>\n",
              "\n",
              "<style>\n",
              "  .colab-df-quickchart {\n",
              "      --bg-color: #E8F0FE;\n",
              "      --fill-color: #1967D2;\n",
              "      --hover-bg-color: #E2EBFA;\n",
              "      --hover-fill-color: #174EA6;\n",
              "      --disabled-fill-color: #AAA;\n",
              "      --disabled-bg-color: #DDD;\n",
              "  }\n",
              "\n",
              "  [theme=dark] .colab-df-quickchart {\n",
              "      --bg-color: #3B4455;\n",
              "      --fill-color: #D2E3FC;\n",
              "      --hover-bg-color: #434B5C;\n",
              "      --hover-fill-color: #FFFFFF;\n",
              "      --disabled-bg-color: #3B4455;\n",
              "      --disabled-fill-color: #666;\n",
              "  }\n",
              "\n",
              "  .colab-df-quickchart {\n",
              "    background-color: var(--bg-color);\n",
              "    border: none;\n",
              "    border-radius: 50%;\n",
              "    cursor: pointer;\n",
              "    display: none;\n",
              "    fill: var(--fill-color);\n",
              "    height: 32px;\n",
              "    padding: 0;\n",
              "    width: 32px;\n",
              "  }\n",
              "\n",
              "  .colab-df-quickchart:hover {\n",
              "    background-color: var(--hover-bg-color);\n",
              "    box-shadow: 0 1px 2px rgba(60, 64, 67, 0.3), 0 1px 3px 1px rgba(60, 64, 67, 0.15);\n",
              "    fill: var(--button-hover-fill-color);\n",
              "  }\n",
              "\n",
              "  .colab-df-quickchart-complete:disabled,\n",
              "  .colab-df-quickchart-complete:disabled:hover {\n",
              "    background-color: var(--disabled-bg-color);\n",
              "    fill: var(--disabled-fill-color);\n",
              "    box-shadow: none;\n",
              "  }\n",
              "\n",
              "  .colab-df-spinner {\n",
              "    border: 2px solid var(--fill-color);\n",
              "    border-color: transparent;\n",
              "    border-bottom-color: var(--fill-color);\n",
              "    animation:\n",
              "      spin 1s steps(1) infinite;\n",
              "  }\n",
              "\n",
              "  @keyframes spin {\n",
              "    0% {\n",
              "      border-color: transparent;\n",
              "      border-bottom-color: var(--fill-color);\n",
              "      border-left-color: var(--fill-color);\n",
              "    }\n",
              "    20% {\n",
              "      border-color: transparent;\n",
              "      border-left-color: var(--fill-color);\n",
              "      border-top-color: var(--fill-color);\n",
              "    }\n",
              "    30% {\n",
              "      border-color: transparent;\n",
              "      border-left-color: var(--fill-color);\n",
              "      border-top-color: var(--fill-color);\n",
              "      border-right-color: var(--fill-color);\n",
              "    }\n",
              "    40% {\n",
              "      border-color: transparent;\n",
              "      border-right-color: var(--fill-color);\n",
              "      border-top-color: var(--fill-color);\n",
              "    }\n",
              "    60% {\n",
              "      border-color: transparent;\n",
              "      border-right-color: var(--fill-color);\n",
              "    }\n",
              "    80% {\n",
              "      border-color: transparent;\n",
              "      border-right-color: var(--fill-color);\n",
              "      border-bottom-color: var(--fill-color);\n",
              "    }\n",
              "    90% {\n",
              "      border-color: transparent;\n",
              "      border-bottom-color: var(--fill-color);\n",
              "    }\n",
              "  }\n",
              "</style>\n",
              "\n",
              "  <script>\n",
              "    async function quickchart(key) {\n",
              "      const quickchartButtonEl =\n",
              "        document.querySelector('#' + key + ' button');\n",
              "      quickchartButtonEl.disabled = true;  // To prevent multiple clicks.\n",
              "      quickchartButtonEl.classList.add('colab-df-spinner');\n",
              "      try {\n",
              "        const charts = await google.colab.kernel.invokeFunction(\n",
              "            'suggestCharts', [key], {});\n",
              "      } catch (error) {\n",
              "        console.error('Error during call to suggestCharts:', error);\n",
              "      }\n",
              "      quickchartButtonEl.classList.remove('colab-df-spinner');\n",
              "      quickchartButtonEl.classList.add('colab-df-quickchart-complete');\n",
              "    }\n",
              "    (() => {\n",
              "      let quickchartButtonEl =\n",
              "        document.querySelector('#df-87c58d3c-8d8e-4087-a579-7efc50462787 button');\n",
              "      quickchartButtonEl.style.display =\n",
              "        google.colab.kernel.accessAllowed ? 'block' : 'none';\n",
              "    })();\n",
              "  </script>\n",
              "</div>\n",
              "    </div>\n",
              "  </div>\n"
            ],
            "application/vnd.google.colaboratory.intrinsic+json": {
              "type": "dataframe",
              "variable_name": "poems",
              "summary": "{\n  \"name\": \"poems\",\n  \"rows\": 19316,\n  \"fields\": [\n    {\n      \"column\": \"writer\",\n      \"properties\": {\n        \"dtype\": \"category\",\n        \"num_unique_values\": 48,\n        \"samples\": [\n          \"\\u041f\\u0430\\u0432\\u0435\\u043b \\u0410\\u043b\\u0435\\u043a\\u0441\\u0430\\u043d\\u0434\\u0440\\u043e\\u0432\\u0438\\u0447 \\u041a\\u0430\\u0442\\u0435\\u043d\\u0438\\u043d\",\n          \"\\u0422\\u043e\\u043b\\u0441\\u0442\\u043e\\u0439 \\u0410\\u043b\\u0435\\u043a\\u0441\\u0435\\u0439 \\u041a\\u043e\\u043d\\u0441\\u0442\\u0430\\u043d\\u0442\\u0438\\u043d\\u043e\\u0432\\u0438\\u0447\",\n          \"\\u0413\\u0430\\u043b\\u0438\\u043d\\u0430 \\u0413\\u0430\\u043b\\u0438\\u043d\\u0430\"\n        ],\n        \"semantic_type\": \"\",\n        \"description\": \"\"\n      }\n    },\n    {\n      \"column\": \"poem\",\n      \"properties\": {\n        \"dtype\": \"string\",\n        \"num_unique_values\": 18317,\n        \"samples\": [\n          \"\\u0411\\u0438\\u043b\\u0435\\u0442\\u0446\\u044b\",\n          \"\\u041e\\u0441\\u0435\\u043d\\u044c (\\u041d\\u0430\\u0441\\u0442\\u0430\\u043b\\u0430 \\u043e\\u0441\\u0435\\u043d\\u044c\\u2026)\",\n          \"\\u0423\\u0442\\u0440\\u043e (\\u00ab\\u0413\\u0440\\u044f\\u0434\\u043e\\u0439 \\u043f\\u0443\\u0440\\u043f\\u0443\\u0440\\u043d\\u043e\\u0439\\u2026\\u00bb)\"\n        ],\n        \"semantic_type\": \"\",\n        \"description\": \"\"\n      }\n    },\n    {\n      \"column\": \"text\",\n      \"properties\": {\n        \"dtype\": \"string\",\n        \"num_unique_values\": 18767,\n        \"samples\": [\n          \"\\u0422\\u0440\\u0438\\u0434\\u0446\\u0430\\u0442\\u0430\\u044f \\u0433\\u043e\\u0434\\u043e\\u0432\\u0449\\u0438\\u043d\\u0430\\n\\u0421\\u043e\\u044e\\u0437\\u0430 \\u2014 \\u0432\\u0435\\u0440\\u043d\\u0435\\u0439 \\u043b\\u044e\\u0431\\u0432\\u0438.\\n\\u042f \\u0437\\u043d\\u0430\\u044e \\u0442\\u0432\\u043e\\u0438 \\u043c\\u043e\\u0440\\u0449\\u0438\\u043d\\u044b,\\n\\u041a\\u0430\\u043a \\u0437\\u043d\\u0430\\u0435\\u0448\\u044c \\u0438 \\u0442\\u044b \\u2014 \\u043c\\u043e\\u0438,\\n\\u041a\\u043e\\u0442\\u043e\\u0440\\u044b\\u0445 \\u2014 \\u043d\\u0435 \\u0442\\u044b \\u043b\\u0438 \\u2014 \\u0430\\u0432\\u0442\\u043e\\u0440?\\n\\u0421\\u044a\\u0435\\u0434\\u0430\\u0432\\u0448\\u0438\\u0439 \\u0437\\u0430 \\u0434\\u0435\\u0441\\u0442\\u044c\\u044e \\u0434\\u0435\\u0441\\u0442\\u044c,\\n\\u0423\\u0447\\u0438\\u0432\\u0448\\u0438\\u0439, \\u0447\\u0442\\u043e \\u043d\\u0435\\u0442\\u0443 \\u2014 \\u0437\\u0430\\u0432\\u0442\\u0440\\u0430,\\n\\u0427\\u0442\\u043e \\u0442\\u043e\\u043b\\u044c\\u043a\\u043e \\u0441\\u0435\\u0433\\u043e\\u0434\\u043d\\u044f \\u2014 \\u0435\\u0441\\u0442\\u044c.\\n\\u0418 \\u0434\\u0435\\u043d\\u044c\\u0433\\u0438, \\u0438 \\u043f\\u0438\\u0441\\u044c\\u043c\\u0430 \\u0441 \\u043f\\u043e\\u0447\\u0442\\u044b \\u2014\\n\\u0421\\u0442\\u043e\\u043b \\u2014 \\u0441\\u0431\\u0440\\u0430\\u0441\\u044b\\u0432\\u0430\\u0432\\u0448\\u0438\\u0439 \\u2014 \\u0432 \\u043f\\u043e\\u0442\\u043e\\u043a!\\n\\u0422\\u0432\\u0435\\u0440\\u0434\\u0438\\u0432\\u0448\\u0438\\u0439, \\u0447\\u0442\\u043e \\u043a\\u0430\\u0436\\u0434\\u043e\\u0439 \\u0441\\u0442\\u0440\\u043e\\u0447\\u043a\\u0438\\n\\u0421\\u0435\\u0433\\u043e\\u0434\\u043d\\u044f \\u2014 \\u043f\\u043e\\u0441\\u043b\\u0435\\u0434\\u043d\\u0438\\u0439 \\u0441\\u0440\\u043e\\u043a.\\n\\u0413\\u0440\\u043e\\u0437\\u0438\\u0432\\u0448\\u0438\\u0439, \\u0447\\u0442\\u043e \\u0441\\u0447\\u0435\\u0442\\u043e\\u043c \\u043b\\u043e\\u0436\\u0435\\u043a\\n\\u0421\\u043e\\u0437\\u0434\\u0430\\u0442\\u0435\\u043b\\u044e \\u043d\\u0435 \\u0432\\u043e\\u0437\\u0434\\u0430\\u0448\\u044c,\\n\\u0427\\u0442\\u043e \\u0437\\u0430\\u0432\\u0442\\u0440\\u0430 \\u043c\\u0435\\u043d\\u044f \\u043f\\u043e\\u043b\\u043e\\u0436\\u0430\\u0442 \\u2014\\n\\u0414\\u0443\\u0440\\u0438\\u0449\\u0443 \\u2014 \\u0434\\u0430 \\u043d\\u0430 \\u0442\\u0435\\u0431\\u044f \\u0436!\",\n          \"\\u041e\\u0442 \\u0421\\u043e\\u043b\\u043d\\u0446\\u0430 \\u044f \\u0432\\u0435\\u0434\\u0443 \\u0441\\u0432\\u043e\\u0439 \\u0434\\u0440\\u0435\\u0432\\u043d\\u0438\\u0439 \\u0440\\u043e\\u0434!\\n\\u041c\\u0438\\u0440\\u0440\\u0430 \\u041b\\u043e\\u0445\\u0432\\u0438\\u0446\\u043a\\u0430\\u044f\\n\\u00ab\\u041e\\u0442 \\u0421\\u043e\\u043b\\u043d\\u0446\\u0430 \\u044f \\u0432\\u0435\\u0434\\u0443 \\u0441\\u0432\\u043e\\u0439 \\u0440\\u043e\\u0434!\\u00bb\\n\\u0421\\u043a\\u0430\\u0437\\u0430\\u043b\\u0430 \\u0434\\u043e\\u0431\\u043b\\u0435\\u0441\\u0442\\u043d\\u0430\\u044f \\u0421\\u0430\\u0431\\u0430.\\n\\u0412 \\u043a\\u0440\\u0430\\u044e \\u0431\\u0430\\u043d\\u0430\\u043d\\u0430, \\u0437\\u043c\\u0435\\u0439 \\u0438 \\u043a\\u0440\\u0430\\u0431\\u0430\\n\\u0416\\u0438\\u043b \\u0432\\u043f\\u0435\\u0447\\u0430\\u0442\\u043b\\u0438\\u0442\\u0435\\u043b\\u044c\\u043d\\u044b\\u0439 \\u043d\\u0430\\u0440\\u043e\\u0434.\\n\\u0426\\u0430\\u0440\\u044c \\u0441\\u043b\\u043e\\u0432 \\u043e\\u0431\\u0440\\u0430\\u0442\\u043d\\u043e \\u043d\\u0435 \\u0431\\u0435\\u0440\\u0435\\u0442,\\n\\u041a\\u043e\\u0433\\u0434\\u0430 \\u0437\\u0432\\u0443\\u0447\\u0430\\u0442 \\u0441\\u043b\\u043e\\u0432\\u0430 \\u043d\\u0435 \\u0441\\u043b\\u0430\\u0431\\u043e\\u2026\\n\\u00ab\\u041e\\u0442 \\u0421\\u043e\\u043b\\u043d\\u0446\\u0430 \\u044f \\u0432\\u0435\\u0434\\u0443 \\u0441\\u0432\\u043e\\u0439 \\u0440\\u043e\\u0434!\\u00bb\\n\\u0421\\u043a\\u0430\\u0437\\u0430\\u043b\\u0430 \\u0434\\u043e\\u0431\\u043b\\u0435\\u0441\\u0442\\u043d\\u0430\\u044f \\u0421\\u0430\\u0431\\u0430.\\n\\u0412\\u0441\\u0435\\u0433\\u0434\\u0430 \\u0432\\u0435\\u043d\\u0435\\u0446! \\u0412\\u0441\\u0435\\u0433\\u0434\\u0430 \\u0432\\u043f\\u0435\\u0440\\u0435\\u0434! \\u2014\\n\\u0412\\u043e\\u0442 \\u043b\\u043e\\u0437\\u0443\\u043d\\u0433 \\u0437\\u043d\\u043e\\u0439\\u043d\\u0430\\u0433\\u043e \\u0430\\u0440\\u0430\\u0431\\u0430.\\n\\u041d\\u043e \\u0432 \\u043d\\u0435\\u0431\\u0435 \\u0433\\u0440\\u044f\\u043d\\u0443\\u043b\\u0430 \\u0433\\u0440\\u043e\\u0437\\u0430 \\u0431\\u044b,\\n\\u041a\\u043e\\u0433\\u0434\\u0430 \\u0431\\u044b \\u0441\\u043c\\u0435\\u043b \\u0432\\u043e\\u0441\\u043a\\u043b\\u0438\\u043a\\u043d\\u0443\\u0442\\u044c \\u00ab\\u043a\\u0440\\u043e\\u0442\\u00bb:\\n\\u2014 \\u041e\\u0442 \\u0421\\u043e\\u043b\\u043d\\u0446\\u0430 \\u044f \\u0432\\u0435\\u0434\\u0443 \\u0441\\u0432\\u043e\\u0439 \\u0440\\u043e\\u0434!\",\n          \"\\u00ab\\u041d\\u0435 \\u0434\\u0430\\u0439 \\u043d\\u0430\\u043c \\u0434\\u0443\\u0445\\u0443 \\u043f\\u0440\\u0430\\u0437\\u0434\\u043d\\u043e\\u0441\\u043b\\u043e\\u0432\\u044c\\u044f\\u00bb!\\n\\u0418\\u0442\\u0430\\u043a, \\u043e\\u0442 \\u043d\\u044b\\u043d\\u0435\\u0448\\u043d\\u0435\\u0433\\u043e \\u0434\\u043d\\u044f\\n\\u0422\\u044b \\u0432 \\u0441\\u0438\\u043b\\u0443 \\u043d\\u0430\\u0448\\u0435\\u0433\\u043e \\u0443\\u0441\\u043b\\u043e\\u0432\\u044c\\u044f\\n\\u041c\\u043e\\u043b\\u0438\\u0442\\u0432 \\u043d\\u0435 \\u0442\\u0440\\u0435\\u0431\\u0443\\u0439 \\u043e\\u0442 \\u043c\\u0435\\u043d\\u044f.\"\n        ],\n        \"semantic_type\": \"\",\n        \"description\": \"\"\n      }\n    }\n  ]\n}"
            }
          },
          "metadata": {},
          "execution_count": 102
        }
      ]
    },
    {
      "cell_type": "code",
      "source": [
        "poems = poems.sample(500, random_state=0)\n",
        "poems"
      ],
      "metadata": {
        "colab": {
          "base_uri": "https://localhost:8080/",
          "height": 458
        },
        "id": "h4nZ12-Y5xN5",
        "outputId": "aec64337-ea3f-42a5-98cb-e4b06e1d7376"
      },
      "execution_count": 103,
      "outputs": [
        {
          "output_type": "execute_result",
          "data": {
            "text/plain": [
              "                                 writer  \\\n",
              "11918             Тютчев Федор Иванович   \n",
              "4434              Фёдор Кузьмич Сологуб   \n",
              "9765         Кондратий Фёдорович Рылеев   \n",
              "12880      Блок Александр Александрович   \n",
              "5957           Брюсов Валерий Яковлевич   \n",
              "...                                 ...   \n",
              "4191              Фёдор Кузьмич Сологуб   \n",
              "385            Лермонтов Михаил Юрьевич   \n",
              "2549   Маяковский Владимир Владимирович   \n",
              "13906               Иван Саввич Никитин   \n",
              "1707                        Саша Чёрный   \n",
              "\n",
              "                                                  poem  \\\n",
              "11918                       И гроб опущен уж в могилу…   \n",
              "4434                        Слепой судьбе противореча…   \n",
              "9765   К другу («Не нам, мой друг, с тобой чуждаться»)   \n",
              "12880                        Нежный! У ласковой речки…   \n",
              "5957                                  Тропическая ночь   \n",
              "...                                                ...   \n",
              "4191                            К закату бегут облака…   \n",
              "385                                        Боярин Орша   \n",
              "2549                                   Дипломатическое   \n",
              "13906              Привет мой вам, угрюмый мрак ночей…   \n",
              "1707                      Утешение (Жизнь бесцветна..)   \n",
              "\n",
              "                                                    text  \n",
              "11918  И гроб опущен уж в могилу,\\nИ все столпилося в...  \n",
              "4434   Слепой судьбе противореча,\\nГорит надеждами во...  \n",
              "9765   Не нам, мой друг, с тобой чуждаться\\nУтех и ра...  \n",
              "12880  Федору Смородскому\\nНежный! У ласковой речки\\n...  \n",
              "5957   В снежной мгле угрюмы вопли вьюги,\\nВсем сулят...  \n",
              "...                                                  ...  \n",
              "4191   К закату бегут облака,\\nИ небо опять озарилось...  \n",
              "385    Глава I\\nThen burst her heart in one long shri...  \n",
              "2549   За дедкой репка…\\n         Даже несколько репо...  \n",
              "13906  Привет мой вам, угрюмый мрак ночей\\nИ тишина б...  \n",
              "1707   Жизнь бесцветна? Надо, друг мой,\\nБыть упорным...  \n",
              "\n",
              "[500 rows x 3 columns]"
            ],
            "text/html": [
              "\n",
              "  <div id=\"df-4c9b02e6-80ab-4423-8944-4c90134d49ca\" class=\"colab-df-container\">\n",
              "    <div>\n",
              "<style scoped>\n",
              "    .dataframe tbody tr th:only-of-type {\n",
              "        vertical-align: middle;\n",
              "    }\n",
              "\n",
              "    .dataframe tbody tr th {\n",
              "        vertical-align: top;\n",
              "    }\n",
              "\n",
              "    .dataframe thead th {\n",
              "        text-align: right;\n",
              "    }\n",
              "</style>\n",
              "<table border=\"1\" class=\"dataframe\">\n",
              "  <thead>\n",
              "    <tr style=\"text-align: right;\">\n",
              "      <th></th>\n",
              "      <th>writer</th>\n",
              "      <th>poem</th>\n",
              "      <th>text</th>\n",
              "    </tr>\n",
              "  </thead>\n",
              "  <tbody>\n",
              "    <tr>\n",
              "      <th>11918</th>\n",
              "      <td>Тютчев Федор Иванович</td>\n",
              "      <td>И гроб опущен уж в могилу…</td>\n",
              "      <td>И гроб опущен уж в могилу,\\nИ все столпилося в...</td>\n",
              "    </tr>\n",
              "    <tr>\n",
              "      <th>4434</th>\n",
              "      <td>Фёдор Кузьмич Сологуб</td>\n",
              "      <td>Слепой судьбе противореча…</td>\n",
              "      <td>Слепой судьбе противореча,\\nГорит надеждами во...</td>\n",
              "    </tr>\n",
              "    <tr>\n",
              "      <th>9765</th>\n",
              "      <td>Кондратий Фёдорович Рылеев</td>\n",
              "      <td>К другу («Не нам, мой друг, с тобой чуждаться»)</td>\n",
              "      <td>Не нам, мой друг, с тобой чуждаться\\nУтех и ра...</td>\n",
              "    </tr>\n",
              "    <tr>\n",
              "      <th>12880</th>\n",
              "      <td>Блок Александр Александрович</td>\n",
              "      <td>Нежный! У ласковой речки…</td>\n",
              "      <td>Федору Смородскому\\nНежный! У ласковой речки\\n...</td>\n",
              "    </tr>\n",
              "    <tr>\n",
              "      <th>5957</th>\n",
              "      <td>Брюсов Валерий Яковлевич</td>\n",
              "      <td>Тропическая ночь</td>\n",
              "      <td>В снежной мгле угрюмы вопли вьюги,\\nВсем сулят...</td>\n",
              "    </tr>\n",
              "    <tr>\n",
              "      <th>...</th>\n",
              "      <td>...</td>\n",
              "      <td>...</td>\n",
              "      <td>...</td>\n",
              "    </tr>\n",
              "    <tr>\n",
              "      <th>4191</th>\n",
              "      <td>Фёдор Кузьмич Сологуб</td>\n",
              "      <td>К закату бегут облака…</td>\n",
              "      <td>К закату бегут облака,\\nИ небо опять озарилось...</td>\n",
              "    </tr>\n",
              "    <tr>\n",
              "      <th>385</th>\n",
              "      <td>Лермонтов Михаил Юрьевич</td>\n",
              "      <td>Боярин Орша</td>\n",
              "      <td>Глава I\\nThen burst her heart in one long shri...</td>\n",
              "    </tr>\n",
              "    <tr>\n",
              "      <th>2549</th>\n",
              "      <td>Маяковский Владимир Владимирович</td>\n",
              "      <td>Дипломатическое</td>\n",
              "      <td>За дедкой репка…\\n         Даже несколько репо...</td>\n",
              "    </tr>\n",
              "    <tr>\n",
              "      <th>13906</th>\n",
              "      <td>Иван Саввич Никитин</td>\n",
              "      <td>Привет мой вам, угрюмый мрак ночей…</td>\n",
              "      <td>Привет мой вам, угрюмый мрак ночей\\nИ тишина б...</td>\n",
              "    </tr>\n",
              "    <tr>\n",
              "      <th>1707</th>\n",
              "      <td>Саша Чёрный</td>\n",
              "      <td>Утешение (Жизнь бесцветна..)</td>\n",
              "      <td>Жизнь бесцветна? Надо, друг мой,\\nБыть упорным...</td>\n",
              "    </tr>\n",
              "  </tbody>\n",
              "</table>\n",
              "<p>500 rows × 3 columns</p>\n",
              "</div>\n",
              "    <div class=\"colab-df-buttons\">\n",
              "\n",
              "  <div class=\"colab-df-container\">\n",
              "    <button class=\"colab-df-convert\" onclick=\"convertToInteractive('df-4c9b02e6-80ab-4423-8944-4c90134d49ca')\"\n",
              "            title=\"Convert this dataframe to an interactive table.\"\n",
              "            style=\"display:none;\">\n",
              "\n",
              "  <svg xmlns=\"http://www.w3.org/2000/svg\" height=\"24px\" viewBox=\"0 -960 960 960\">\n",
              "    <path d=\"M120-120v-720h720v720H120Zm60-500h600v-160H180v160Zm220 220h160v-160H400v160Zm0 220h160v-160H400v160ZM180-400h160v-160H180v160Zm440 0h160v-160H620v160ZM180-180h160v-160H180v160Zm440 0h160v-160H620v160Z\"/>\n",
              "  </svg>\n",
              "    </button>\n",
              "\n",
              "  <style>\n",
              "    .colab-df-container {\n",
              "      display:flex;\n",
              "      gap: 12px;\n",
              "    }\n",
              "\n",
              "    .colab-df-convert {\n",
              "      background-color: #E8F0FE;\n",
              "      border: none;\n",
              "      border-radius: 50%;\n",
              "      cursor: pointer;\n",
              "      display: none;\n",
              "      fill: #1967D2;\n",
              "      height: 32px;\n",
              "      padding: 0 0 0 0;\n",
              "      width: 32px;\n",
              "    }\n",
              "\n",
              "    .colab-df-convert:hover {\n",
              "      background-color: #E2EBFA;\n",
              "      box-shadow: 0px 1px 2px rgba(60, 64, 67, 0.3), 0px 1px 3px 1px rgba(60, 64, 67, 0.15);\n",
              "      fill: #174EA6;\n",
              "    }\n",
              "\n",
              "    .colab-df-buttons div {\n",
              "      margin-bottom: 4px;\n",
              "    }\n",
              "\n",
              "    [theme=dark] .colab-df-convert {\n",
              "      background-color: #3B4455;\n",
              "      fill: #D2E3FC;\n",
              "    }\n",
              "\n",
              "    [theme=dark] .colab-df-convert:hover {\n",
              "      background-color: #434B5C;\n",
              "      box-shadow: 0px 1px 3px 1px rgba(0, 0, 0, 0.15);\n",
              "      filter: drop-shadow(0px 1px 2px rgba(0, 0, 0, 0.3));\n",
              "      fill: #FFFFFF;\n",
              "    }\n",
              "  </style>\n",
              "\n",
              "    <script>\n",
              "      const buttonEl =\n",
              "        document.querySelector('#df-4c9b02e6-80ab-4423-8944-4c90134d49ca button.colab-df-convert');\n",
              "      buttonEl.style.display =\n",
              "        google.colab.kernel.accessAllowed ? 'block' : 'none';\n",
              "\n",
              "      async function convertToInteractive(key) {\n",
              "        const element = document.querySelector('#df-4c9b02e6-80ab-4423-8944-4c90134d49ca');\n",
              "        const dataTable =\n",
              "          await google.colab.kernel.invokeFunction('convertToInteractive',\n",
              "                                                    [key], {});\n",
              "        if (!dataTable) return;\n",
              "\n",
              "        const docLinkHtml = 'Like what you see? Visit the ' +\n",
              "          '<a target=\"_blank\" href=https://colab.research.google.com/notebooks/data_table.ipynb>data table notebook</a>'\n",
              "          + ' to learn more about interactive tables.';\n",
              "        element.innerHTML = '';\n",
              "        dataTable['output_type'] = 'display_data';\n",
              "        await google.colab.output.renderOutput(dataTable, element);\n",
              "        const docLink = document.createElement('div');\n",
              "        docLink.innerHTML = docLinkHtml;\n",
              "        element.appendChild(docLink);\n",
              "      }\n",
              "    </script>\n",
              "  </div>\n",
              "\n",
              "\n",
              "<div id=\"df-e934b258-140e-4dfb-b296-9f2a12a6ba98\">\n",
              "  <button class=\"colab-df-quickchart\" onclick=\"quickchart('df-e934b258-140e-4dfb-b296-9f2a12a6ba98')\"\n",
              "            title=\"Suggest charts\"\n",
              "            style=\"display:none;\">\n",
              "\n",
              "<svg xmlns=\"http://www.w3.org/2000/svg\" height=\"24px\"viewBox=\"0 0 24 24\"\n",
              "     width=\"24px\">\n",
              "    <g>\n",
              "        <path d=\"M19 3H5c-1.1 0-2 .9-2 2v14c0 1.1.9 2 2 2h14c1.1 0 2-.9 2-2V5c0-1.1-.9-2-2-2zM9 17H7v-7h2v7zm4 0h-2V7h2v10zm4 0h-2v-4h2v4z\"/>\n",
              "    </g>\n",
              "</svg>\n",
              "  </button>\n",
              "\n",
              "<style>\n",
              "  .colab-df-quickchart {\n",
              "      --bg-color: #E8F0FE;\n",
              "      --fill-color: #1967D2;\n",
              "      --hover-bg-color: #E2EBFA;\n",
              "      --hover-fill-color: #174EA6;\n",
              "      --disabled-fill-color: #AAA;\n",
              "      --disabled-bg-color: #DDD;\n",
              "  }\n",
              "\n",
              "  [theme=dark] .colab-df-quickchart {\n",
              "      --bg-color: #3B4455;\n",
              "      --fill-color: #D2E3FC;\n",
              "      --hover-bg-color: #434B5C;\n",
              "      --hover-fill-color: #FFFFFF;\n",
              "      --disabled-bg-color: #3B4455;\n",
              "      --disabled-fill-color: #666;\n",
              "  }\n",
              "\n",
              "  .colab-df-quickchart {\n",
              "    background-color: var(--bg-color);\n",
              "    border: none;\n",
              "    border-radius: 50%;\n",
              "    cursor: pointer;\n",
              "    display: none;\n",
              "    fill: var(--fill-color);\n",
              "    height: 32px;\n",
              "    padding: 0;\n",
              "    width: 32px;\n",
              "  }\n",
              "\n",
              "  .colab-df-quickchart:hover {\n",
              "    background-color: var(--hover-bg-color);\n",
              "    box-shadow: 0 1px 2px rgba(60, 64, 67, 0.3), 0 1px 3px 1px rgba(60, 64, 67, 0.15);\n",
              "    fill: var(--button-hover-fill-color);\n",
              "  }\n",
              "\n",
              "  .colab-df-quickchart-complete:disabled,\n",
              "  .colab-df-quickchart-complete:disabled:hover {\n",
              "    background-color: var(--disabled-bg-color);\n",
              "    fill: var(--disabled-fill-color);\n",
              "    box-shadow: none;\n",
              "  }\n",
              "\n",
              "  .colab-df-spinner {\n",
              "    border: 2px solid var(--fill-color);\n",
              "    border-color: transparent;\n",
              "    border-bottom-color: var(--fill-color);\n",
              "    animation:\n",
              "      spin 1s steps(1) infinite;\n",
              "  }\n",
              "\n",
              "  @keyframes spin {\n",
              "    0% {\n",
              "      border-color: transparent;\n",
              "      border-bottom-color: var(--fill-color);\n",
              "      border-left-color: var(--fill-color);\n",
              "    }\n",
              "    20% {\n",
              "      border-color: transparent;\n",
              "      border-left-color: var(--fill-color);\n",
              "      border-top-color: var(--fill-color);\n",
              "    }\n",
              "    30% {\n",
              "      border-color: transparent;\n",
              "      border-left-color: var(--fill-color);\n",
              "      border-top-color: var(--fill-color);\n",
              "      border-right-color: var(--fill-color);\n",
              "    }\n",
              "    40% {\n",
              "      border-color: transparent;\n",
              "      border-right-color: var(--fill-color);\n",
              "      border-top-color: var(--fill-color);\n",
              "    }\n",
              "    60% {\n",
              "      border-color: transparent;\n",
              "      border-right-color: var(--fill-color);\n",
              "    }\n",
              "    80% {\n",
              "      border-color: transparent;\n",
              "      border-right-color: var(--fill-color);\n",
              "      border-bottom-color: var(--fill-color);\n",
              "    }\n",
              "    90% {\n",
              "      border-color: transparent;\n",
              "      border-bottom-color: var(--fill-color);\n",
              "    }\n",
              "  }\n",
              "</style>\n",
              "\n",
              "  <script>\n",
              "    async function quickchart(key) {\n",
              "      const quickchartButtonEl =\n",
              "        document.querySelector('#' + key + ' button');\n",
              "      quickchartButtonEl.disabled = true;  // To prevent multiple clicks.\n",
              "      quickchartButtonEl.classList.add('colab-df-spinner');\n",
              "      try {\n",
              "        const charts = await google.colab.kernel.invokeFunction(\n",
              "            'suggestCharts', [key], {});\n",
              "      } catch (error) {\n",
              "        console.error('Error during call to suggestCharts:', error);\n",
              "      }\n",
              "      quickchartButtonEl.classList.remove('colab-df-spinner');\n",
              "      quickchartButtonEl.classList.add('colab-df-quickchart-complete');\n",
              "    }\n",
              "    (() => {\n",
              "      let quickchartButtonEl =\n",
              "        document.querySelector('#df-e934b258-140e-4dfb-b296-9f2a12a6ba98 button');\n",
              "      quickchartButtonEl.style.display =\n",
              "        google.colab.kernel.accessAllowed ? 'block' : 'none';\n",
              "    })();\n",
              "  </script>\n",
              "</div>\n",
              "    </div>\n",
              "  </div>\n"
            ],
            "application/vnd.google.colaboratory.intrinsic+json": {
              "type": "dataframe",
              "variable_name": "poems",
              "summary": "{\n  \"name\": \"poems\",\n  \"rows\": 500,\n  \"fields\": [\n    {\n      \"column\": \"writer\",\n      \"properties\": {\n        \"dtype\": \"category\",\n        \"num_unique_values\": 45,\n        \"samples\": [\n          \"\\u041c\\u0430\\u043a\\u0441\\u0438\\u043c\\u0438\\u043b\\u0438\\u0430\\u043d \\u0410\\u043b\\u0435\\u043a\\u0441\\u0430\\u043d\\u0434\\u0440\\u043e\\u0432\\u0438\\u0447 \\u0412\\u043e\\u043b\\u043e\\u0448\\u0438\\u043d\",\n          \"\\u0412\\u043b\\u0430\\u0434\\u0438\\u0441\\u043b\\u0430\\u0432 \\u0424\\u0435\\u043b\\u0438\\u0446\\u0438\\u0430\\u043d\\u043e\\u0432\\u0438\\u0447 \\u0425\\u043e\\u0434\\u0430\\u0441\\u0435\\u0432\\u0438\\u0447\",\n          \"\\u0410\\u043b\\u0435\\u043a\\u0441\\u0435\\u0439 \\u041d\\u0438\\u043a\\u043e\\u043b\\u0430\\u0435\\u0432\\u0438\\u0447 \\u0410\\u043f\\u0443\\u0445\\u0442\\u0438\\u043d\"\n        ],\n        \"semantic_type\": \"\",\n        \"description\": \"\"\n      }\n    },\n    {\n      \"column\": \"poem\",\n      \"properties\": {\n        \"dtype\": \"string\",\n        \"num_unique_values\": 499,\n        \"samples\": [\n          \"\\u041d\\u0430 \\u0446\\u0435\\u043f\\u044c!\",\n          \"\\u041e\\u0442\\u0440\\u0435\\u043a\\u0438\\u0441\\u044c \\u043e\\u0442 \\u043b\\u044e\\u0431\\u0438\\u043c\\u044b\\u0445 \\u0442\\u0432\\u043e\\u0440\\u0435\\u043d\\u0438\\u0439\\u2026\",\n          \"\\u0414\\u0430\\u0432\\u043d\\u043e \\u043c\\u043d\\u0435 \\u0433\\u043e\\u043b\\u043e\\u0441 \\u0442\\u0432\\u043e\\u0439 \\u043d\\u0435\\u0432\\u043d\\u044f\\u0442\\u0435\\u043d\\u2026\"\n        ],\n        \"semantic_type\": \"\",\n        \"description\": \"\"\n      }\n    },\n    {\n      \"column\": \"text\",\n      \"properties\": {\n        \"dtype\": \"string\",\n        \"num_unique_values\": 500,\n        \"samples\": [\n          \"\\u0412\\u044b \\u0432\\u044b\\u0431\\u0435\\u0436\\u0430\\u043b\\u0438 \\u0438\\u0437 \\u0437\\u0430\\u043b\\u0430 \\u043d\\u0430 \\u0432\\u0435\\u0442\\u0440\\u043e\\u0432\\u0443\\u044e \\u0432\\u0435\\u0440\\u0430\\u043d\\u0434\\u0443,\\n\\u041d\\u0430\\u0432\\u0438\\u0441\\u0448\\u0443\\u044e \\u0436\\u0438\\u0432\\u043e\\u043f\\u0438\\u0441\\u043d\\u043e \\u043d\\u0430\\u0434 \\u043f\\u0440\\u043e\\u043f\\u0430\\u0441\\u0442\\u044c\\u044e \\u0438 \\u043d\\u0430\\u0434 \\u0440\\u0435\\u043a\\u043e\\u0439.\\n\\u0420\\u0430\\u0437\\u043d\\u0438\\u0442\\u0438\\u0432 \\u043a\\u043b\\u0443\\u0431\\u043e\\u043a \\u0432\\u043e\\u0441\\u0442\\u043e\\u0440\\u0433\\u0430, \\u043d\\u0430\\u043f\\u043e\\u043c\\u043d\\u0438\\u043b\\u0438 \\u0410\\u0440\\u0438\\u0430\\u0434\\u043d\\u0443,\\n\\u0413\\u0438\\u0440\\u043b\\u044f\\u043d\\u0434\\u0443 \\u043d\\u0430\\u0440\\u0446\\u0438\\u0441\\u0441\\u043e\\u0432 \\u0431\\u0435\\u043b\\u044b\\u0445 \\u0438\\u0441\\u043a\\u043e\\u043c\\u043a\\u0430\\u043b\\u0438 \\u0441\\u043c\\u0443\\u0433\\u043b\\u043e\\u0439 \\u0440\\u0443\\u043a\\u043e\\u0439.\\n\\u0412\\u0430\\u043c \\u0442\\u0430\\u043a \\u043d\\u0430\\u0434\\u043e\\u0435\\u043b\\u0438 \\u043b\\u044e\\u0434\\u0438, \\u043d\\u043e \\u043d\\u0435\\u043a\\u0443\\u0434\\u0430 \\u0431\\u044b\\u043b\\u043e \\u0434\\u0435\\u0442\\u044c\\u0441\\u044f.\\n\\u0425\\u0440\\u0438\\u043f\\u0435\\u043b\\u0430 \\u0438 \\u0432\\u044b\\u043b\\u0430 \\u043f\\u0440\\u043e\\u043f\\u0430\\u0441\\u0442\\u044c. \\u0412 \\u0440\\u0435\\u043a\\u0435 \\u0443\\u0442\\u043e\\u043f\\u0430\\u043b \\u0440\\u044b\\u0431\\u043e\\u043b\\u043e\\u0432.\\n\\u0418\\u0437 \\u043e\\u043a\\u043e\\u043d \\u0441\\u043c\\u0435\\u044f\\u043b\\u0441\\u044f \\u0433\\u043e\\u0432\\u043e\\u0440. \\u041e\\u0440\\u043a\\u0435\\u0441\\u0442\\u0440 \\u0438\\u0433\\u0440\\u0430\\u043b \\u0438\\u043d\\u0442\\u0435\\u0440\\u043c\\u0435\\u0446\\u0446\\u043e.\\n\\u041b\\u0438\\u0446\\u043e \\u0432\\u0430\\u0448\\u0435 \\u0441\\u0442\\u0430\\u043b\\u043e \\u0431\\u043b\\u0435\\u0434\\u043d\\u044b\\u043c \\u0438 \\u0432\\u0437\\u043e\\u0440 \\u0431\\u0438\\u0440\\u044e\\u0437\\u043e\\u0432\\u044b\\u0439 \\u2014 \\u043b\\u0438\\u043b\\u043e\\u0432.\\n\\u041a\\u0430\\u043a \\u0432\\u044b\\u0441\\u0442\\u0440\\u0435\\u043b, \\u0448\\u0430\\u0440\\u0430\\u0445\\u043d\\u0443\\u043b\\u0438\\u0441\\u044c \\u0434\\u0432\\u0435\\u0440\\u0438. \\u041a\\u0430\\u043a \\u043a\\u0440\\u044b\\u043b\\u044c\\u044f, \\u043c\\u0435\\u0442\\u043d\\u0443\\u043b\\u0438\\u0441\\u044c \\u0444\\u0440\\u0430\\u043a\\u0438.\\n\\u041a\\u0430\\u0440\\u0442\\u0430\\u0432\\u0438\\u043b\\u0430 \\u0431\\u0430\\u043d\\u0434\\u0430 \\u0434\\u044d\\u043d\\u0434\\u0438, \\u043d\\u043e \\u0412\\u0430\\u043c \\u043f\\u043e\\u043a\\u0430\\u0437\\u0430\\u043b\\u043e\\u0441\\u044c \\u2014 \\u0433\\u043e\\u0440\\u0438\\u043b\\u043b.\\n\\u041a\\u0430\\u043a \\u0437\\u0430\\u0433\\u043d\\u0430\\u043d\\u043d\\u0430\\u044f \\u043b\\u0438\\u0441\\u0438\\u0446\\u0430, \\u0434\\u0440\\u043e\\u0436\\u0430 \\u0432 \\u043e\\u0437\\u0430\\u0440\\u0435\\u043d\\u043d\\u043e\\u043c \\u043c\\u0440\\u0430\\u043a\\u0435,\\n\\u041a\\u043e\\u0433\\u043e-\\u0442\\u043e \\u0412\\u044b \\u0443\\u043a\\u0443\\u0441\\u0438\\u043b\\u0438 \\u0438 \\u0431\\u0440\\u043e\\u0441\\u0438\\u043b\\u0438\\u0441\\u044c \\u0432 \\u0431\\u0435\\u0437\\u0434\\u043d\\u0443 \\u0441 \\u043f\\u0435\\u0440\\u0438\\u043b!\",\n          \"\\u041e\\u0442\\u0440\\u0435\\u043a\\u0438\\u0441\\u044c \\u043e\\u0442 \\u043b\\u044e\\u0431\\u0438\\u043c\\u044b\\u0445 \\u0442\\u0432\\u043e\\u0440\\u0435\\u043d\\u0438\\u0439,\\n\\u041e\\u0442 \\u043b\\u044e\\u0434\\u0435\\u0439 \\u0438 \\u043e\\u0431\\u0449\\u0435\\u043d\\u0438\\u0439 \\u0432 \\u043c\\u0438\\u0440\\u0443,\\n\\u041e\\u0442\\u0440\\u0435\\u043a\\u0438\\u0441\\u044c \\u043e\\u0442 \\u043c\\u0438\\u0440\\u0441\\u043a\\u0438\\u0445 \\u0432\\u043e\\u0436\\u0434\\u0435\\u043b\\u0435\\u043d\\u0438\\u0439,\\n\\u0414\\u0443\\u043c\\u0430\\u0439 \\u0434\\u0435\\u043d\\u044c \\u0438 \\u043c\\u043e\\u043b\\u0438\\u0441\\u044c \\u0432\\u0432\\u0435\\u0447\\u0435\\u0440\\u0443.\\n\\u0415\\u0441\\u043b\\u0438 \\u0434\\u0443\\u0445 \\u0442\\u0432\\u043e\\u0439 \\u0433\\u043e\\u0440\\u0438\\u0442 \\u0431\\u0435\\u0441\\u043f\\u043e\\u043a\\u043e\\u0439\\u043d\\u043e,\\n\\u041e\\u0442\\u0433\\u043e\\u043d\\u044f\\u0439 \\u0432\\u0434\\u043e\\u0445\\u043d\\u043e\\u0432\\u0435\\u043d\\u0438\\u044f \\u043f\\u0440\\u043e\\u0447\\u044c.\\n\\u041b\\u0438\\u0448\\u044c \\u0435\\u0434\\u0438\\u043d\\u0430\\u044f \\u043c\\u0443\\u0434\\u0440\\u043e\\u0441\\u0442\\u044c \\u0434\\u043e\\u0441\\u0442\\u043e\\u0439\\u043d\\u0430\\n\\u041f\\u0435\\u0440\\u0435\\u0439\\u0442\\u0438 \\u0432 \\u043d\\u0435\\u0438\\u0437\\u0431\\u0435\\u0436\\u043d\\u0443\\u044e \\u043d\\u043e\\u0447\\u044c.\\n\\u041d\\u0430 \\u0437\\u0435\\u043c\\u043b\\u0435 \\u043d\\u0435 \\u0443\\u0437\\u043d\\u0430\\u0435\\u0448\\u044c \\u043d\\u0430\\u0433\\u0440\\u0430\\u0434\\u044b.\\n\\u0414\\u0443\\u0445\\u043e\\u043c \\u044f\\u0441\\u043d\\u044b\\u0439 \\u043f\\u0440\\u0435\\u0434 \\u0431\\u043e\\u0436\\u044c\\u0438\\u043c \\u043b\\u0438\\u0446\\u043e\\u043c,\\n\\u0414\\u043e\\u0433\\u043e\\u0440\\u0430\\u0439, \\u043f\\u043e\\u043a\\u0438\\u0434\\u0430\\u044f \\u043b\\u0430\\u043c\\u043f\\u0430\\u0434\\u0443,\\n\\u041e\\u0434\\u0438\\u043d\\u043e\\u043a\\u0438\\u043c \\u0438 \\u0432\\u0435\\u0440\\u043d\\u044b\\u043c \\u043e\\u0433\\u043d\\u0435\\u043c.\\n1 \\u043d\\u043e\\u044f\\u0431\\u0440\\u044f 1900\",\n          \"\\u041e\\u043d\\u0430 \\u043f\\u0440\\u043e\\u0448\\u043b\\u0430 \\u0438 \\u043e\\u043f\\u044c\\u044f\\u043d\\u0438\\u043b\\u0430\\n\\u0422\\u043e\\u043c\\u044f\\u0449\\u0438\\u043c \\u0441\\u0443\\u043c\\u0440\\u0430\\u043a\\u043e\\u043c \\u0434\\u0443\\u0445\\u043e\\u0432\\n\\u0418 \\u0431\\u044b\\u0441\\u0442\\u0440\\u044b\\u043c \\u0432\\u0437\\u043e\\u0440\\u043e\\u043c \\u043e\\u0442\\u0442\\u0435\\u043d\\u0438\\u043b\\u0430\\n\\u0412\\u043e\\u0437\\u043c\\u043e\\u0436\\u043d\\u043e\\u0441\\u0442\\u044c \\u043d\\u0435\\u0432\\u043e\\u0437\\u043c\\u043e\\u0436\\u043d\\u044b\\u0445 \\u0441\\u043d\\u043e\\u0432.\\n\\u0421\\u043a\\u0432\\u043e\\u0437\\u044c \\u0443\\u043b\\u0438\\u0447\\u043d\\u044b\\u0439 \\u0436\\u0435\\u043b\\u0435\\u0437\\u043d\\u044b\\u0439 \\u0433\\u0440\\u043e\\u0445\\u043e\\u0442\\n\\u0418 \\u043f\\u044c\\u044f\\u043d \\u043e\\u0442 \\u0441\\u0438\\u043d\\u0435\\u0433\\u043e \\u043e\\u0433\\u043d\\u044f,\\n\\u042f \\u0432\\u0434\\u0440\\u0443\\u0433 \\u0437\\u0430\\u0441\\u043b\\u044b\\u0448\\u0430\\u043b \\u0436\\u0430\\u0434\\u043d\\u044b\\u0439 \\u0445\\u043e\\u0445\\u043e\\u0442,\\n\\u0418 \\u0437\\u043c\\u0435\\u0438 \\u043e\\u043f\\u043b\\u0435\\u043b\\u0438 \\u043c\\u0435\\u043d\\u044f.\\n\\u0412 \\u043c\\u043e\\u0438\\u0445 \\u0433\\u043b\\u0430\\u0437\\u0430\\u0445 \\u0435\\u0449\\u0435 \\u0441\\u0438\\u043d\\u0435\\u043b\\u0430\\n\\u041d\\u0435\\u0431\\u0435\\u0441 \\u0432\\u0435\\u0447\\u0435\\u0440\\u043d\\u0438\\u0445 \\u043f\\u043e\\u043b\\u0443\\u043c\\u0433\\u043b\\u0430,\\n\\u041d\\u043e \\u0442\\u0435\\u043f\\u043b\\u043e\\u0442\\u0430 \\u0447\\u0443\\u0436\\u043e\\u0433\\u043e \\u0442\\u0435\\u043b\\u0430\\n\\u041c\\u0435\\u043d\\u044f \\u043e\\u0431\\u044a\\u044f\\u043b\\u0430 \\u0438 \\u043f\\u0440\\u043e\\u0436\\u0433\\u043b\\u0430.\\n\\u0418 \\u0432 \\u0443\\u0436\\u0430\\u0441\\u0435 \\u0431\\u043e\\u0440\\u044c\\u0431\\u044b \\u0443\\u043f\\u043e\\u0440\\u043d\\u043e\\u0439,\\n\\u041c\\u0435\\u0436 \\u043a\\u043b\\u044f\\u0442\\u0432, \\u043c\\u043e\\u043b\\u0435\\u043d\\u0438\\u0439 \\u0438 \\u0443\\u0433\\u0440\\u043e\\u0437,\\n\\u042f \\u0431\\u044b\\u043b \\u043e\\u043f\\u0443\\u0442\\u0430\\u043d \\u0432\\u043b\\u0430\\u0433\\u043e\\u0439 \\u0447\\u0435\\u0440\\u043d\\u043e\\u0439\\n\\u0415\\u0435 \\u0440\\u0430\\u0441\\u043f\\u0443\\u0449\\u0435\\u043d\\u043d\\u044b\\u0445 \\u0432\\u043e\\u043b\\u043e\\u0441.\"\n        ],\n        \"semantic_type\": \"\",\n        \"description\": \"\"\n      }\n    }\n  ]\n}"
            }
          },
          "metadata": {},
          "execution_count": 103
        }
      ]
    },
    {
      "cell_type": "markdown",
      "source": [
        "Предположим, что мы хотим сделать частотный анализ слов в этом корпусе. Для этого нам нужно выделить слова. Это можно сделать с помощью уже знакомой нам функции `split()`, но здесь она представлена в векторизованной версии: `str.split()`"
      ],
      "metadata": {
        "id": "jzGgzjm3K9oy"
      }
    },
    {
      "cell_type": "code",
      "source": [
        "poems[\"splitted_text\"] = poems[\"text\"].str.split()"
      ],
      "metadata": {
        "id": "Q4_Z0mv8--Qb"
      },
      "execution_count": 104,
      "outputs": []
    },
    {
      "cell_type": "code",
      "source": [
        "poems"
      ],
      "metadata": {
        "colab": {
          "base_uri": "https://localhost:8080/",
          "height": 597
        },
        "id": "mmRUNWJJ_sER",
        "outputId": "c2a9609d-06fa-4187-fd15-9eabf36e54a9"
      },
      "execution_count": 105,
      "outputs": [
        {
          "output_type": "execute_result",
          "data": {
            "text/plain": [
              "                                 writer  \\\n",
              "11918             Тютчев Федор Иванович   \n",
              "4434              Фёдор Кузьмич Сологуб   \n",
              "9765         Кондратий Фёдорович Рылеев   \n",
              "12880      Блок Александр Александрович   \n",
              "5957           Брюсов Валерий Яковлевич   \n",
              "...                                 ...   \n",
              "4191              Фёдор Кузьмич Сологуб   \n",
              "385            Лермонтов Михаил Юрьевич   \n",
              "2549   Маяковский Владимир Владимирович   \n",
              "13906               Иван Саввич Никитин   \n",
              "1707                        Саша Чёрный   \n",
              "\n",
              "                                                  poem  \\\n",
              "11918                       И гроб опущен уж в могилу…   \n",
              "4434                        Слепой судьбе противореча…   \n",
              "9765   К другу («Не нам, мой друг, с тобой чуждаться»)   \n",
              "12880                        Нежный! У ласковой речки…   \n",
              "5957                                  Тропическая ночь   \n",
              "...                                                ...   \n",
              "4191                            К закату бегут облака…   \n",
              "385                                        Боярин Орша   \n",
              "2549                                   Дипломатическое   \n",
              "13906              Привет мой вам, угрюмый мрак ночей…   \n",
              "1707                      Утешение (Жизнь бесцветна..)   \n",
              "\n",
              "                                                    text  \\\n",
              "11918  И гроб опущен уж в могилу,\\nИ все столпилося в...   \n",
              "4434   Слепой судьбе противореча,\\nГорит надеждами во...   \n",
              "9765   Не нам, мой друг, с тобой чуждаться\\nУтех и ра...   \n",
              "12880  Федору Смородскому\\nНежный! У ласковой речки\\n...   \n",
              "5957   В снежной мгле угрюмы вопли вьюги,\\nВсем сулят...   \n",
              "...                                                  ...   \n",
              "4191   К закату бегут облака,\\nИ небо опять озарилось...   \n",
              "385    Глава I\\nThen burst her heart in one long shri...   \n",
              "2549   За дедкой репка…\\n         Даже несколько репо...   \n",
              "13906  Привет мой вам, угрюмый мрак ночей\\nИ тишина б...   \n",
              "1707   Жизнь бесцветна? Надо, друг мой,\\nБыть упорным...   \n",
              "\n",
              "                                           splitted_text  \n",
              "11918  [И, гроб, опущен, уж, в, могилу,, И, все, стол...  \n",
              "4434   [Слепой, судьбе, противореча,, Горит, надеждам...  \n",
              "9765   [Не, нам,, мой, друг,, с, тобой, чуждаться, Ут...  \n",
              "12880  [Федору, Смородскому, Нежный!, У, ласковой, ре...  \n",
              "5957   [В, снежной, мгле, угрюмы, вопли, вьюги,, Всем...  \n",
              "...                                                  ...  \n",
              "4191   [К, закату, бегут, облака,, И, небо, опять, оз...  \n",
              "385    [Глава, I, Then, burst, her, heart, in, one, l...  \n",
              "2549   [За, дедкой, репка…, Даже, несколько, репок:, ...  \n",
              "13906  [Привет, мой, вам,, угрюмый, мрак, ночей, И, т...  \n",
              "1707   [Жизнь, бесцветна?, Надо,, друг, мой,, Быть, у...  \n",
              "\n",
              "[500 rows x 4 columns]"
            ],
            "text/html": [
              "\n",
              "  <div id=\"df-bacb1040-1d69-4dd3-b30a-6b6bd164e1fa\" class=\"colab-df-container\">\n",
              "    <div>\n",
              "<style scoped>\n",
              "    .dataframe tbody tr th:only-of-type {\n",
              "        vertical-align: middle;\n",
              "    }\n",
              "\n",
              "    .dataframe tbody tr th {\n",
              "        vertical-align: top;\n",
              "    }\n",
              "\n",
              "    .dataframe thead th {\n",
              "        text-align: right;\n",
              "    }\n",
              "</style>\n",
              "<table border=\"1\" class=\"dataframe\">\n",
              "  <thead>\n",
              "    <tr style=\"text-align: right;\">\n",
              "      <th></th>\n",
              "      <th>writer</th>\n",
              "      <th>poem</th>\n",
              "      <th>text</th>\n",
              "      <th>splitted_text</th>\n",
              "    </tr>\n",
              "  </thead>\n",
              "  <tbody>\n",
              "    <tr>\n",
              "      <th>11918</th>\n",
              "      <td>Тютчев Федор Иванович</td>\n",
              "      <td>И гроб опущен уж в могилу…</td>\n",
              "      <td>И гроб опущен уж в могилу,\\nИ все столпилося в...</td>\n",
              "      <td>[И, гроб, опущен, уж, в, могилу,, И, все, стол...</td>\n",
              "    </tr>\n",
              "    <tr>\n",
              "      <th>4434</th>\n",
              "      <td>Фёдор Кузьмич Сологуб</td>\n",
              "      <td>Слепой судьбе противореча…</td>\n",
              "      <td>Слепой судьбе противореча,\\nГорит надеждами во...</td>\n",
              "      <td>[Слепой, судьбе, противореча,, Горит, надеждам...</td>\n",
              "    </tr>\n",
              "    <tr>\n",
              "      <th>9765</th>\n",
              "      <td>Кондратий Фёдорович Рылеев</td>\n",
              "      <td>К другу («Не нам, мой друг, с тобой чуждаться»)</td>\n",
              "      <td>Не нам, мой друг, с тобой чуждаться\\nУтех и ра...</td>\n",
              "      <td>[Не, нам,, мой, друг,, с, тобой, чуждаться, Ут...</td>\n",
              "    </tr>\n",
              "    <tr>\n",
              "      <th>12880</th>\n",
              "      <td>Блок Александр Александрович</td>\n",
              "      <td>Нежный! У ласковой речки…</td>\n",
              "      <td>Федору Смородскому\\nНежный! У ласковой речки\\n...</td>\n",
              "      <td>[Федору, Смородскому, Нежный!, У, ласковой, ре...</td>\n",
              "    </tr>\n",
              "    <tr>\n",
              "      <th>5957</th>\n",
              "      <td>Брюсов Валерий Яковлевич</td>\n",
              "      <td>Тропическая ночь</td>\n",
              "      <td>В снежной мгле угрюмы вопли вьюги,\\nВсем сулят...</td>\n",
              "      <td>[В, снежной, мгле, угрюмы, вопли, вьюги,, Всем...</td>\n",
              "    </tr>\n",
              "    <tr>\n",
              "      <th>...</th>\n",
              "      <td>...</td>\n",
              "      <td>...</td>\n",
              "      <td>...</td>\n",
              "      <td>...</td>\n",
              "    </tr>\n",
              "    <tr>\n",
              "      <th>4191</th>\n",
              "      <td>Фёдор Кузьмич Сологуб</td>\n",
              "      <td>К закату бегут облака…</td>\n",
              "      <td>К закату бегут облака,\\nИ небо опять озарилось...</td>\n",
              "      <td>[К, закату, бегут, облака,, И, небо, опять, оз...</td>\n",
              "    </tr>\n",
              "    <tr>\n",
              "      <th>385</th>\n",
              "      <td>Лермонтов Михаил Юрьевич</td>\n",
              "      <td>Боярин Орша</td>\n",
              "      <td>Глава I\\nThen burst her heart in one long shri...</td>\n",
              "      <td>[Глава, I, Then, burst, her, heart, in, one, l...</td>\n",
              "    </tr>\n",
              "    <tr>\n",
              "      <th>2549</th>\n",
              "      <td>Маяковский Владимир Владимирович</td>\n",
              "      <td>Дипломатическое</td>\n",
              "      <td>За дедкой репка…\\n         Даже несколько репо...</td>\n",
              "      <td>[За, дедкой, репка…, Даже, несколько, репок:, ...</td>\n",
              "    </tr>\n",
              "    <tr>\n",
              "      <th>13906</th>\n",
              "      <td>Иван Саввич Никитин</td>\n",
              "      <td>Привет мой вам, угрюмый мрак ночей…</td>\n",
              "      <td>Привет мой вам, угрюмый мрак ночей\\nИ тишина б...</td>\n",
              "      <td>[Привет, мой, вам,, угрюмый, мрак, ночей, И, т...</td>\n",
              "    </tr>\n",
              "    <tr>\n",
              "      <th>1707</th>\n",
              "      <td>Саша Чёрный</td>\n",
              "      <td>Утешение (Жизнь бесцветна..)</td>\n",
              "      <td>Жизнь бесцветна? Надо, друг мой,\\nБыть упорным...</td>\n",
              "      <td>[Жизнь, бесцветна?, Надо,, друг, мой,, Быть, у...</td>\n",
              "    </tr>\n",
              "  </tbody>\n",
              "</table>\n",
              "<p>500 rows × 4 columns</p>\n",
              "</div>\n",
              "    <div class=\"colab-df-buttons\">\n",
              "\n",
              "  <div class=\"colab-df-container\">\n",
              "    <button class=\"colab-df-convert\" onclick=\"convertToInteractive('df-bacb1040-1d69-4dd3-b30a-6b6bd164e1fa')\"\n",
              "            title=\"Convert this dataframe to an interactive table.\"\n",
              "            style=\"display:none;\">\n",
              "\n",
              "  <svg xmlns=\"http://www.w3.org/2000/svg\" height=\"24px\" viewBox=\"0 -960 960 960\">\n",
              "    <path d=\"M120-120v-720h720v720H120Zm60-500h600v-160H180v160Zm220 220h160v-160H400v160Zm0 220h160v-160H400v160ZM180-400h160v-160H180v160Zm440 0h160v-160H620v160ZM180-180h160v-160H180v160Zm440 0h160v-160H620v160Z\"/>\n",
              "  </svg>\n",
              "    </button>\n",
              "\n",
              "  <style>\n",
              "    .colab-df-container {\n",
              "      display:flex;\n",
              "      gap: 12px;\n",
              "    }\n",
              "\n",
              "    .colab-df-convert {\n",
              "      background-color: #E8F0FE;\n",
              "      border: none;\n",
              "      border-radius: 50%;\n",
              "      cursor: pointer;\n",
              "      display: none;\n",
              "      fill: #1967D2;\n",
              "      height: 32px;\n",
              "      padding: 0 0 0 0;\n",
              "      width: 32px;\n",
              "    }\n",
              "\n",
              "    .colab-df-convert:hover {\n",
              "      background-color: #E2EBFA;\n",
              "      box-shadow: 0px 1px 2px rgba(60, 64, 67, 0.3), 0px 1px 3px 1px rgba(60, 64, 67, 0.15);\n",
              "      fill: #174EA6;\n",
              "    }\n",
              "\n",
              "    .colab-df-buttons div {\n",
              "      margin-bottom: 4px;\n",
              "    }\n",
              "\n",
              "    [theme=dark] .colab-df-convert {\n",
              "      background-color: #3B4455;\n",
              "      fill: #D2E3FC;\n",
              "    }\n",
              "\n",
              "    [theme=dark] .colab-df-convert:hover {\n",
              "      background-color: #434B5C;\n",
              "      box-shadow: 0px 1px 3px 1px rgba(0, 0, 0, 0.15);\n",
              "      filter: drop-shadow(0px 1px 2px rgba(0, 0, 0, 0.3));\n",
              "      fill: #FFFFFF;\n",
              "    }\n",
              "  </style>\n",
              "\n",
              "    <script>\n",
              "      const buttonEl =\n",
              "        document.querySelector('#df-bacb1040-1d69-4dd3-b30a-6b6bd164e1fa button.colab-df-convert');\n",
              "      buttonEl.style.display =\n",
              "        google.colab.kernel.accessAllowed ? 'block' : 'none';\n",
              "\n",
              "      async function convertToInteractive(key) {\n",
              "        const element = document.querySelector('#df-bacb1040-1d69-4dd3-b30a-6b6bd164e1fa');\n",
              "        const dataTable =\n",
              "          await google.colab.kernel.invokeFunction('convertToInteractive',\n",
              "                                                    [key], {});\n",
              "        if (!dataTable) return;\n",
              "\n",
              "        const docLinkHtml = 'Like what you see? Visit the ' +\n",
              "          '<a target=\"_blank\" href=https://colab.research.google.com/notebooks/data_table.ipynb>data table notebook</a>'\n",
              "          + ' to learn more about interactive tables.';\n",
              "        element.innerHTML = '';\n",
              "        dataTable['output_type'] = 'display_data';\n",
              "        await google.colab.output.renderOutput(dataTable, element);\n",
              "        const docLink = document.createElement('div');\n",
              "        docLink.innerHTML = docLinkHtml;\n",
              "        element.appendChild(docLink);\n",
              "      }\n",
              "    </script>\n",
              "  </div>\n",
              "\n",
              "\n",
              "<div id=\"df-b115801c-2823-4211-a996-c415834d56a8\">\n",
              "  <button class=\"colab-df-quickchart\" onclick=\"quickchart('df-b115801c-2823-4211-a996-c415834d56a8')\"\n",
              "            title=\"Suggest charts\"\n",
              "            style=\"display:none;\">\n",
              "\n",
              "<svg xmlns=\"http://www.w3.org/2000/svg\" height=\"24px\"viewBox=\"0 0 24 24\"\n",
              "     width=\"24px\">\n",
              "    <g>\n",
              "        <path d=\"M19 3H5c-1.1 0-2 .9-2 2v14c0 1.1.9 2 2 2h14c1.1 0 2-.9 2-2V5c0-1.1-.9-2-2-2zM9 17H7v-7h2v7zm4 0h-2V7h2v10zm4 0h-2v-4h2v4z\"/>\n",
              "    </g>\n",
              "</svg>\n",
              "  </button>\n",
              "\n",
              "<style>\n",
              "  .colab-df-quickchart {\n",
              "      --bg-color: #E8F0FE;\n",
              "      --fill-color: #1967D2;\n",
              "      --hover-bg-color: #E2EBFA;\n",
              "      --hover-fill-color: #174EA6;\n",
              "      --disabled-fill-color: #AAA;\n",
              "      --disabled-bg-color: #DDD;\n",
              "  }\n",
              "\n",
              "  [theme=dark] .colab-df-quickchart {\n",
              "      --bg-color: #3B4455;\n",
              "      --fill-color: #D2E3FC;\n",
              "      --hover-bg-color: #434B5C;\n",
              "      --hover-fill-color: #FFFFFF;\n",
              "      --disabled-bg-color: #3B4455;\n",
              "      --disabled-fill-color: #666;\n",
              "  }\n",
              "\n",
              "  .colab-df-quickchart {\n",
              "    background-color: var(--bg-color);\n",
              "    border: none;\n",
              "    border-radius: 50%;\n",
              "    cursor: pointer;\n",
              "    display: none;\n",
              "    fill: var(--fill-color);\n",
              "    height: 32px;\n",
              "    padding: 0;\n",
              "    width: 32px;\n",
              "  }\n",
              "\n",
              "  .colab-df-quickchart:hover {\n",
              "    background-color: var(--hover-bg-color);\n",
              "    box-shadow: 0 1px 2px rgba(60, 64, 67, 0.3), 0 1px 3px 1px rgba(60, 64, 67, 0.15);\n",
              "    fill: var(--button-hover-fill-color);\n",
              "  }\n",
              "\n",
              "  .colab-df-quickchart-complete:disabled,\n",
              "  .colab-df-quickchart-complete:disabled:hover {\n",
              "    background-color: var(--disabled-bg-color);\n",
              "    fill: var(--disabled-fill-color);\n",
              "    box-shadow: none;\n",
              "  }\n",
              "\n",
              "  .colab-df-spinner {\n",
              "    border: 2px solid var(--fill-color);\n",
              "    border-color: transparent;\n",
              "    border-bottom-color: var(--fill-color);\n",
              "    animation:\n",
              "      spin 1s steps(1) infinite;\n",
              "  }\n",
              "\n",
              "  @keyframes spin {\n",
              "    0% {\n",
              "      border-color: transparent;\n",
              "      border-bottom-color: var(--fill-color);\n",
              "      border-left-color: var(--fill-color);\n",
              "    }\n",
              "    20% {\n",
              "      border-color: transparent;\n",
              "      border-left-color: var(--fill-color);\n",
              "      border-top-color: var(--fill-color);\n",
              "    }\n",
              "    30% {\n",
              "      border-color: transparent;\n",
              "      border-left-color: var(--fill-color);\n",
              "      border-top-color: var(--fill-color);\n",
              "      border-right-color: var(--fill-color);\n",
              "    }\n",
              "    40% {\n",
              "      border-color: transparent;\n",
              "      border-right-color: var(--fill-color);\n",
              "      border-top-color: var(--fill-color);\n",
              "    }\n",
              "    60% {\n",
              "      border-color: transparent;\n",
              "      border-right-color: var(--fill-color);\n",
              "    }\n",
              "    80% {\n",
              "      border-color: transparent;\n",
              "      border-right-color: var(--fill-color);\n",
              "      border-bottom-color: var(--fill-color);\n",
              "    }\n",
              "    90% {\n",
              "      border-color: transparent;\n",
              "      border-bottom-color: var(--fill-color);\n",
              "    }\n",
              "  }\n",
              "</style>\n",
              "\n",
              "  <script>\n",
              "    async function quickchart(key) {\n",
              "      const quickchartButtonEl =\n",
              "        document.querySelector('#' + key + ' button');\n",
              "      quickchartButtonEl.disabled = true;  // To prevent multiple clicks.\n",
              "      quickchartButtonEl.classList.add('colab-df-spinner');\n",
              "      try {\n",
              "        const charts = await google.colab.kernel.invokeFunction(\n",
              "            'suggestCharts', [key], {});\n",
              "      } catch (error) {\n",
              "        console.error('Error during call to suggestCharts:', error);\n",
              "      }\n",
              "      quickchartButtonEl.classList.remove('colab-df-spinner');\n",
              "      quickchartButtonEl.classList.add('colab-df-quickchart-complete');\n",
              "    }\n",
              "    (() => {\n",
              "      let quickchartButtonEl =\n",
              "        document.querySelector('#df-b115801c-2823-4211-a996-c415834d56a8 button');\n",
              "      quickchartButtonEl.style.display =\n",
              "        google.colab.kernel.accessAllowed ? 'block' : 'none';\n",
              "    })();\n",
              "  </script>\n",
              "</div>\n",
              "    </div>\n",
              "  </div>\n"
            ],
            "application/vnd.google.colaboratory.intrinsic+json": {
              "type": "dataframe",
              "variable_name": "poems",
              "summary": "{\n  \"name\": \"poems\",\n  \"rows\": 500,\n  \"fields\": [\n    {\n      \"column\": \"writer\",\n      \"properties\": {\n        \"dtype\": \"category\",\n        \"num_unique_values\": 45,\n        \"samples\": [\n          \"\\u041c\\u0430\\u043a\\u0441\\u0438\\u043c\\u0438\\u043b\\u0438\\u0430\\u043d \\u0410\\u043b\\u0435\\u043a\\u0441\\u0430\\u043d\\u0434\\u0440\\u043e\\u0432\\u0438\\u0447 \\u0412\\u043e\\u043b\\u043e\\u0448\\u0438\\u043d\",\n          \"\\u0412\\u043b\\u0430\\u0434\\u0438\\u0441\\u043b\\u0430\\u0432 \\u0424\\u0435\\u043b\\u0438\\u0446\\u0438\\u0430\\u043d\\u043e\\u0432\\u0438\\u0447 \\u0425\\u043e\\u0434\\u0430\\u0441\\u0435\\u0432\\u0438\\u0447\",\n          \"\\u0410\\u043b\\u0435\\u043a\\u0441\\u0435\\u0439 \\u041d\\u0438\\u043a\\u043e\\u043b\\u0430\\u0435\\u0432\\u0438\\u0447 \\u0410\\u043f\\u0443\\u0445\\u0442\\u0438\\u043d\"\n        ],\n        \"semantic_type\": \"\",\n        \"description\": \"\"\n      }\n    },\n    {\n      \"column\": \"poem\",\n      \"properties\": {\n        \"dtype\": \"string\",\n        \"num_unique_values\": 499,\n        \"samples\": [\n          \"\\u041d\\u0430 \\u0446\\u0435\\u043f\\u044c!\",\n          \"\\u041e\\u0442\\u0440\\u0435\\u043a\\u0438\\u0441\\u044c \\u043e\\u0442 \\u043b\\u044e\\u0431\\u0438\\u043c\\u044b\\u0445 \\u0442\\u0432\\u043e\\u0440\\u0435\\u043d\\u0438\\u0439\\u2026\",\n          \"\\u0414\\u0430\\u0432\\u043d\\u043e \\u043c\\u043d\\u0435 \\u0433\\u043e\\u043b\\u043e\\u0441 \\u0442\\u0432\\u043e\\u0439 \\u043d\\u0435\\u0432\\u043d\\u044f\\u0442\\u0435\\u043d\\u2026\"\n        ],\n        \"semantic_type\": \"\",\n        \"description\": \"\"\n      }\n    },\n    {\n      \"column\": \"text\",\n      \"properties\": {\n        \"dtype\": \"string\",\n        \"num_unique_values\": 500,\n        \"samples\": [\n          \"\\u0412\\u044b \\u0432\\u044b\\u0431\\u0435\\u0436\\u0430\\u043b\\u0438 \\u0438\\u0437 \\u0437\\u0430\\u043b\\u0430 \\u043d\\u0430 \\u0432\\u0435\\u0442\\u0440\\u043e\\u0432\\u0443\\u044e \\u0432\\u0435\\u0440\\u0430\\u043d\\u0434\\u0443,\\n\\u041d\\u0430\\u0432\\u0438\\u0441\\u0448\\u0443\\u044e \\u0436\\u0438\\u0432\\u043e\\u043f\\u0438\\u0441\\u043d\\u043e \\u043d\\u0430\\u0434 \\u043f\\u0440\\u043e\\u043f\\u0430\\u0441\\u0442\\u044c\\u044e \\u0438 \\u043d\\u0430\\u0434 \\u0440\\u0435\\u043a\\u043e\\u0439.\\n\\u0420\\u0430\\u0437\\u043d\\u0438\\u0442\\u0438\\u0432 \\u043a\\u043b\\u0443\\u0431\\u043e\\u043a \\u0432\\u043e\\u0441\\u0442\\u043e\\u0440\\u0433\\u0430, \\u043d\\u0430\\u043f\\u043e\\u043c\\u043d\\u0438\\u043b\\u0438 \\u0410\\u0440\\u0438\\u0430\\u0434\\u043d\\u0443,\\n\\u0413\\u0438\\u0440\\u043b\\u044f\\u043d\\u0434\\u0443 \\u043d\\u0430\\u0440\\u0446\\u0438\\u0441\\u0441\\u043e\\u0432 \\u0431\\u0435\\u043b\\u044b\\u0445 \\u0438\\u0441\\u043a\\u043e\\u043c\\u043a\\u0430\\u043b\\u0438 \\u0441\\u043c\\u0443\\u0433\\u043b\\u043e\\u0439 \\u0440\\u0443\\u043a\\u043e\\u0439.\\n\\u0412\\u0430\\u043c \\u0442\\u0430\\u043a \\u043d\\u0430\\u0434\\u043e\\u0435\\u043b\\u0438 \\u043b\\u044e\\u0434\\u0438, \\u043d\\u043e \\u043d\\u0435\\u043a\\u0443\\u0434\\u0430 \\u0431\\u044b\\u043b\\u043e \\u0434\\u0435\\u0442\\u044c\\u0441\\u044f.\\n\\u0425\\u0440\\u0438\\u043f\\u0435\\u043b\\u0430 \\u0438 \\u0432\\u044b\\u043b\\u0430 \\u043f\\u0440\\u043e\\u043f\\u0430\\u0441\\u0442\\u044c. \\u0412 \\u0440\\u0435\\u043a\\u0435 \\u0443\\u0442\\u043e\\u043f\\u0430\\u043b \\u0440\\u044b\\u0431\\u043e\\u043b\\u043e\\u0432.\\n\\u0418\\u0437 \\u043e\\u043a\\u043e\\u043d \\u0441\\u043c\\u0435\\u044f\\u043b\\u0441\\u044f \\u0433\\u043e\\u0432\\u043e\\u0440. \\u041e\\u0440\\u043a\\u0435\\u0441\\u0442\\u0440 \\u0438\\u0433\\u0440\\u0430\\u043b \\u0438\\u043d\\u0442\\u0435\\u0440\\u043c\\u0435\\u0446\\u0446\\u043e.\\n\\u041b\\u0438\\u0446\\u043e \\u0432\\u0430\\u0448\\u0435 \\u0441\\u0442\\u0430\\u043b\\u043e \\u0431\\u043b\\u0435\\u0434\\u043d\\u044b\\u043c \\u0438 \\u0432\\u0437\\u043e\\u0440 \\u0431\\u0438\\u0440\\u044e\\u0437\\u043e\\u0432\\u044b\\u0439 \\u2014 \\u043b\\u0438\\u043b\\u043e\\u0432.\\n\\u041a\\u0430\\u043a \\u0432\\u044b\\u0441\\u0442\\u0440\\u0435\\u043b, \\u0448\\u0430\\u0440\\u0430\\u0445\\u043d\\u0443\\u043b\\u0438\\u0441\\u044c \\u0434\\u0432\\u0435\\u0440\\u0438. \\u041a\\u0430\\u043a \\u043a\\u0440\\u044b\\u043b\\u044c\\u044f, \\u043c\\u0435\\u0442\\u043d\\u0443\\u043b\\u0438\\u0441\\u044c \\u0444\\u0440\\u0430\\u043a\\u0438.\\n\\u041a\\u0430\\u0440\\u0442\\u0430\\u0432\\u0438\\u043b\\u0430 \\u0431\\u0430\\u043d\\u0434\\u0430 \\u0434\\u044d\\u043d\\u0434\\u0438, \\u043d\\u043e \\u0412\\u0430\\u043c \\u043f\\u043e\\u043a\\u0430\\u0437\\u0430\\u043b\\u043e\\u0441\\u044c \\u2014 \\u0433\\u043e\\u0440\\u0438\\u043b\\u043b.\\n\\u041a\\u0430\\u043a \\u0437\\u0430\\u0433\\u043d\\u0430\\u043d\\u043d\\u0430\\u044f \\u043b\\u0438\\u0441\\u0438\\u0446\\u0430, \\u0434\\u0440\\u043e\\u0436\\u0430 \\u0432 \\u043e\\u0437\\u0430\\u0440\\u0435\\u043d\\u043d\\u043e\\u043c \\u043c\\u0440\\u0430\\u043a\\u0435,\\n\\u041a\\u043e\\u0433\\u043e-\\u0442\\u043e \\u0412\\u044b \\u0443\\u043a\\u0443\\u0441\\u0438\\u043b\\u0438 \\u0438 \\u0431\\u0440\\u043e\\u0441\\u0438\\u043b\\u0438\\u0441\\u044c \\u0432 \\u0431\\u0435\\u0437\\u0434\\u043d\\u0443 \\u0441 \\u043f\\u0435\\u0440\\u0438\\u043b!\",\n          \"\\u041e\\u0442\\u0440\\u0435\\u043a\\u0438\\u0441\\u044c \\u043e\\u0442 \\u043b\\u044e\\u0431\\u0438\\u043c\\u044b\\u0445 \\u0442\\u0432\\u043e\\u0440\\u0435\\u043d\\u0438\\u0439,\\n\\u041e\\u0442 \\u043b\\u044e\\u0434\\u0435\\u0439 \\u0438 \\u043e\\u0431\\u0449\\u0435\\u043d\\u0438\\u0439 \\u0432 \\u043c\\u0438\\u0440\\u0443,\\n\\u041e\\u0442\\u0440\\u0435\\u043a\\u0438\\u0441\\u044c \\u043e\\u0442 \\u043c\\u0438\\u0440\\u0441\\u043a\\u0438\\u0445 \\u0432\\u043e\\u0436\\u0434\\u0435\\u043b\\u0435\\u043d\\u0438\\u0439,\\n\\u0414\\u0443\\u043c\\u0430\\u0439 \\u0434\\u0435\\u043d\\u044c \\u0438 \\u043c\\u043e\\u043b\\u0438\\u0441\\u044c \\u0432\\u0432\\u0435\\u0447\\u0435\\u0440\\u0443.\\n\\u0415\\u0441\\u043b\\u0438 \\u0434\\u0443\\u0445 \\u0442\\u0432\\u043e\\u0439 \\u0433\\u043e\\u0440\\u0438\\u0442 \\u0431\\u0435\\u0441\\u043f\\u043e\\u043a\\u043e\\u0439\\u043d\\u043e,\\n\\u041e\\u0442\\u0433\\u043e\\u043d\\u044f\\u0439 \\u0432\\u0434\\u043e\\u0445\\u043d\\u043e\\u0432\\u0435\\u043d\\u0438\\u044f \\u043f\\u0440\\u043e\\u0447\\u044c.\\n\\u041b\\u0438\\u0448\\u044c \\u0435\\u0434\\u0438\\u043d\\u0430\\u044f \\u043c\\u0443\\u0434\\u0440\\u043e\\u0441\\u0442\\u044c \\u0434\\u043e\\u0441\\u0442\\u043e\\u0439\\u043d\\u0430\\n\\u041f\\u0435\\u0440\\u0435\\u0439\\u0442\\u0438 \\u0432 \\u043d\\u0435\\u0438\\u0437\\u0431\\u0435\\u0436\\u043d\\u0443\\u044e \\u043d\\u043e\\u0447\\u044c.\\n\\u041d\\u0430 \\u0437\\u0435\\u043c\\u043b\\u0435 \\u043d\\u0435 \\u0443\\u0437\\u043d\\u0430\\u0435\\u0448\\u044c \\u043d\\u0430\\u0433\\u0440\\u0430\\u0434\\u044b.\\n\\u0414\\u0443\\u0445\\u043e\\u043c \\u044f\\u0441\\u043d\\u044b\\u0439 \\u043f\\u0440\\u0435\\u0434 \\u0431\\u043e\\u0436\\u044c\\u0438\\u043c \\u043b\\u0438\\u0446\\u043e\\u043c,\\n\\u0414\\u043e\\u0433\\u043e\\u0440\\u0430\\u0439, \\u043f\\u043e\\u043a\\u0438\\u0434\\u0430\\u044f \\u043b\\u0430\\u043c\\u043f\\u0430\\u0434\\u0443,\\n\\u041e\\u0434\\u0438\\u043d\\u043e\\u043a\\u0438\\u043c \\u0438 \\u0432\\u0435\\u0440\\u043d\\u044b\\u043c \\u043e\\u0433\\u043d\\u0435\\u043c.\\n1 \\u043d\\u043e\\u044f\\u0431\\u0440\\u044f 1900\",\n          \"\\u041e\\u043d\\u0430 \\u043f\\u0440\\u043e\\u0448\\u043b\\u0430 \\u0438 \\u043e\\u043f\\u044c\\u044f\\u043d\\u0438\\u043b\\u0430\\n\\u0422\\u043e\\u043c\\u044f\\u0449\\u0438\\u043c \\u0441\\u0443\\u043c\\u0440\\u0430\\u043a\\u043e\\u043c \\u0434\\u0443\\u0445\\u043e\\u0432\\n\\u0418 \\u0431\\u044b\\u0441\\u0442\\u0440\\u044b\\u043c \\u0432\\u0437\\u043e\\u0440\\u043e\\u043c \\u043e\\u0442\\u0442\\u0435\\u043d\\u0438\\u043b\\u0430\\n\\u0412\\u043e\\u0437\\u043c\\u043e\\u0436\\u043d\\u043e\\u0441\\u0442\\u044c \\u043d\\u0435\\u0432\\u043e\\u0437\\u043c\\u043e\\u0436\\u043d\\u044b\\u0445 \\u0441\\u043d\\u043e\\u0432.\\n\\u0421\\u043a\\u0432\\u043e\\u0437\\u044c \\u0443\\u043b\\u0438\\u0447\\u043d\\u044b\\u0439 \\u0436\\u0435\\u043b\\u0435\\u0437\\u043d\\u044b\\u0439 \\u0433\\u0440\\u043e\\u0445\\u043e\\u0442\\n\\u0418 \\u043f\\u044c\\u044f\\u043d \\u043e\\u0442 \\u0441\\u0438\\u043d\\u0435\\u0433\\u043e \\u043e\\u0433\\u043d\\u044f,\\n\\u042f \\u0432\\u0434\\u0440\\u0443\\u0433 \\u0437\\u0430\\u0441\\u043b\\u044b\\u0448\\u0430\\u043b \\u0436\\u0430\\u0434\\u043d\\u044b\\u0439 \\u0445\\u043e\\u0445\\u043e\\u0442,\\n\\u0418 \\u0437\\u043c\\u0435\\u0438 \\u043e\\u043f\\u043b\\u0435\\u043b\\u0438 \\u043c\\u0435\\u043d\\u044f.\\n\\u0412 \\u043c\\u043e\\u0438\\u0445 \\u0433\\u043b\\u0430\\u0437\\u0430\\u0445 \\u0435\\u0449\\u0435 \\u0441\\u0438\\u043d\\u0435\\u043b\\u0430\\n\\u041d\\u0435\\u0431\\u0435\\u0441 \\u0432\\u0435\\u0447\\u0435\\u0440\\u043d\\u0438\\u0445 \\u043f\\u043e\\u043b\\u0443\\u043c\\u0433\\u043b\\u0430,\\n\\u041d\\u043e \\u0442\\u0435\\u043f\\u043b\\u043e\\u0442\\u0430 \\u0447\\u0443\\u0436\\u043e\\u0433\\u043e \\u0442\\u0435\\u043b\\u0430\\n\\u041c\\u0435\\u043d\\u044f \\u043e\\u0431\\u044a\\u044f\\u043b\\u0430 \\u0438 \\u043f\\u0440\\u043e\\u0436\\u0433\\u043b\\u0430.\\n\\u0418 \\u0432 \\u0443\\u0436\\u0430\\u0441\\u0435 \\u0431\\u043e\\u0440\\u044c\\u0431\\u044b \\u0443\\u043f\\u043e\\u0440\\u043d\\u043e\\u0439,\\n\\u041c\\u0435\\u0436 \\u043a\\u043b\\u044f\\u0442\\u0432, \\u043c\\u043e\\u043b\\u0435\\u043d\\u0438\\u0439 \\u0438 \\u0443\\u0433\\u0440\\u043e\\u0437,\\n\\u042f \\u0431\\u044b\\u043b \\u043e\\u043f\\u0443\\u0442\\u0430\\u043d \\u0432\\u043b\\u0430\\u0433\\u043e\\u0439 \\u0447\\u0435\\u0440\\u043d\\u043e\\u0439\\n\\u0415\\u0435 \\u0440\\u0430\\u0441\\u043f\\u0443\\u0449\\u0435\\u043d\\u043d\\u044b\\u0445 \\u0432\\u043e\\u043b\\u043e\\u0441.\"\n        ],\n        \"semantic_type\": \"\",\n        \"description\": \"\"\n      }\n    },\n    {\n      \"column\": \"splitted_text\",\n      \"properties\": {\n        \"dtype\": \"object\",\n        \"semantic_type\": \"\",\n        \"description\": \"\"\n      }\n    }\n  ]\n}"
            }
          },
          "metadata": {},
          "execution_count": 105
        }
      ]
    },
    {
      "cell_type": "markdown",
      "source": [
        "Удалим пустые значения."
      ],
      "metadata": {
        "id": "MAe0aQwuLUkk"
      }
    },
    {
      "cell_type": "code",
      "source": [
        "poems = poems.dropna()"
      ],
      "metadata": {
        "id": "NYGYhuWbDjOt"
      },
      "execution_count": 106,
      "outputs": []
    },
    {
      "cell_type": "markdown",
      "source": [
        "А также приведём слова к единому регистру и удалим знаки препинания (нам хочется, чтобы слова \"Там\" и \"там\" считались одним словом, а не разными, а также чтобы знаки препинания не были частью слов)."
      ],
      "metadata": {
        "id": "v_rcBv32LZeG"
      }
    },
    {
      "cell_type": "markdown",
      "source": [
        "Пропишем функцию."
      ],
      "metadata": {
        "id": "9P2uPijpLrYT"
      }
    },
    {
      "cell_type": "code",
      "source": [
        "def normalize(l):\n",
        "  punct = [\".\", \",\", \"!\", \"-\", \":\", \"?\", \"'\", \";\"]\n",
        "  for i in range(len(l)):\n",
        "    l[i] = l[i].lower()\n",
        "    for symbol in punct:\n",
        "      if symbol in l[i]:\n",
        "        l[i] = l[i].replace(symbol, '')\n",
        "  return l"
      ],
      "metadata": {
        "id": "c8vNvpo3AWEC"
      },
      "execution_count": 107,
      "outputs": []
    },
    {
      "cell_type": "code",
      "source": [
        "poems"
      ],
      "metadata": {
        "colab": {
          "base_uri": "https://localhost:8080/",
          "height": 597
        },
        "id": "ENNbjRkWIyuK",
        "outputId": "4f446a29-59ec-4a14-c6a8-21d67b00f8bd"
      },
      "execution_count": 108,
      "outputs": [
        {
          "output_type": "execute_result",
          "data": {
            "text/plain": [
              "                                 writer  \\\n",
              "11918             Тютчев Федор Иванович   \n",
              "4434              Фёдор Кузьмич Сологуб   \n",
              "9765         Кондратий Фёдорович Рылеев   \n",
              "12880      Блок Александр Александрович   \n",
              "5957           Брюсов Валерий Яковлевич   \n",
              "...                                 ...   \n",
              "4191              Фёдор Кузьмич Сологуб   \n",
              "385            Лермонтов Михаил Юрьевич   \n",
              "2549   Маяковский Владимир Владимирович   \n",
              "13906               Иван Саввич Никитин   \n",
              "1707                        Саша Чёрный   \n",
              "\n",
              "                                                  poem  \\\n",
              "11918                       И гроб опущен уж в могилу…   \n",
              "4434                        Слепой судьбе противореча…   \n",
              "9765   К другу («Не нам, мой друг, с тобой чуждаться»)   \n",
              "12880                        Нежный! У ласковой речки…   \n",
              "5957                                  Тропическая ночь   \n",
              "...                                                ...   \n",
              "4191                            К закату бегут облака…   \n",
              "385                                        Боярин Орша   \n",
              "2549                                   Дипломатическое   \n",
              "13906              Привет мой вам, угрюмый мрак ночей…   \n",
              "1707                      Утешение (Жизнь бесцветна..)   \n",
              "\n",
              "                                                    text  \\\n",
              "11918  И гроб опущен уж в могилу,\\nИ все столпилося в...   \n",
              "4434   Слепой судьбе противореча,\\nГорит надеждами во...   \n",
              "9765   Не нам, мой друг, с тобой чуждаться\\nУтех и ра...   \n",
              "12880  Федору Смородскому\\nНежный! У ласковой речки\\n...   \n",
              "5957   В снежной мгле угрюмы вопли вьюги,\\nВсем сулят...   \n",
              "...                                                  ...   \n",
              "4191   К закату бегут облака,\\nИ небо опять озарилось...   \n",
              "385    Глава I\\nThen burst her heart in one long shri...   \n",
              "2549   За дедкой репка…\\n         Даже несколько репо...   \n",
              "13906  Привет мой вам, угрюмый мрак ночей\\nИ тишина б...   \n",
              "1707   Жизнь бесцветна? Надо, друг мой,\\nБыть упорным...   \n",
              "\n",
              "                                           splitted_text  \n",
              "11918  [И, гроб, опущен, уж, в, могилу,, И, все, стол...  \n",
              "4434   [Слепой, судьбе, противореча,, Горит, надеждам...  \n",
              "9765   [Не, нам,, мой, друг,, с, тобой, чуждаться, Ут...  \n",
              "12880  [Федору, Смородскому, Нежный!, У, ласковой, ре...  \n",
              "5957   [В, снежной, мгле, угрюмы, вопли, вьюги,, Всем...  \n",
              "...                                                  ...  \n",
              "4191   [К, закату, бегут, облака,, И, небо, опять, оз...  \n",
              "385    [Глава, I, Then, burst, her, heart, in, one, l...  \n",
              "2549   [За, дедкой, репка…, Даже, несколько, репок:, ...  \n",
              "13906  [Привет, мой, вам,, угрюмый, мрак, ночей, И, т...  \n",
              "1707   [Жизнь, бесцветна?, Надо,, друг, мой,, Быть, у...  \n",
              "\n",
              "[500 rows x 4 columns]"
            ],
            "text/html": [
              "\n",
              "  <div id=\"df-1ee7cf30-31bf-479c-8f64-ef00b4d0596d\" class=\"colab-df-container\">\n",
              "    <div>\n",
              "<style scoped>\n",
              "    .dataframe tbody tr th:only-of-type {\n",
              "        vertical-align: middle;\n",
              "    }\n",
              "\n",
              "    .dataframe tbody tr th {\n",
              "        vertical-align: top;\n",
              "    }\n",
              "\n",
              "    .dataframe thead th {\n",
              "        text-align: right;\n",
              "    }\n",
              "</style>\n",
              "<table border=\"1\" class=\"dataframe\">\n",
              "  <thead>\n",
              "    <tr style=\"text-align: right;\">\n",
              "      <th></th>\n",
              "      <th>writer</th>\n",
              "      <th>poem</th>\n",
              "      <th>text</th>\n",
              "      <th>splitted_text</th>\n",
              "    </tr>\n",
              "  </thead>\n",
              "  <tbody>\n",
              "    <tr>\n",
              "      <th>11918</th>\n",
              "      <td>Тютчев Федор Иванович</td>\n",
              "      <td>И гроб опущен уж в могилу…</td>\n",
              "      <td>И гроб опущен уж в могилу,\\nИ все столпилося в...</td>\n",
              "      <td>[И, гроб, опущен, уж, в, могилу,, И, все, стол...</td>\n",
              "    </tr>\n",
              "    <tr>\n",
              "      <th>4434</th>\n",
              "      <td>Фёдор Кузьмич Сологуб</td>\n",
              "      <td>Слепой судьбе противореча…</td>\n",
              "      <td>Слепой судьбе противореча,\\nГорит надеждами во...</td>\n",
              "      <td>[Слепой, судьбе, противореча,, Горит, надеждам...</td>\n",
              "    </tr>\n",
              "    <tr>\n",
              "      <th>9765</th>\n",
              "      <td>Кондратий Фёдорович Рылеев</td>\n",
              "      <td>К другу («Не нам, мой друг, с тобой чуждаться»)</td>\n",
              "      <td>Не нам, мой друг, с тобой чуждаться\\nУтех и ра...</td>\n",
              "      <td>[Не, нам,, мой, друг,, с, тобой, чуждаться, Ут...</td>\n",
              "    </tr>\n",
              "    <tr>\n",
              "      <th>12880</th>\n",
              "      <td>Блок Александр Александрович</td>\n",
              "      <td>Нежный! У ласковой речки…</td>\n",
              "      <td>Федору Смородскому\\nНежный! У ласковой речки\\n...</td>\n",
              "      <td>[Федору, Смородскому, Нежный!, У, ласковой, ре...</td>\n",
              "    </tr>\n",
              "    <tr>\n",
              "      <th>5957</th>\n",
              "      <td>Брюсов Валерий Яковлевич</td>\n",
              "      <td>Тропическая ночь</td>\n",
              "      <td>В снежной мгле угрюмы вопли вьюги,\\nВсем сулят...</td>\n",
              "      <td>[В, снежной, мгле, угрюмы, вопли, вьюги,, Всем...</td>\n",
              "    </tr>\n",
              "    <tr>\n",
              "      <th>...</th>\n",
              "      <td>...</td>\n",
              "      <td>...</td>\n",
              "      <td>...</td>\n",
              "      <td>...</td>\n",
              "    </tr>\n",
              "    <tr>\n",
              "      <th>4191</th>\n",
              "      <td>Фёдор Кузьмич Сологуб</td>\n",
              "      <td>К закату бегут облака…</td>\n",
              "      <td>К закату бегут облака,\\nИ небо опять озарилось...</td>\n",
              "      <td>[К, закату, бегут, облака,, И, небо, опять, оз...</td>\n",
              "    </tr>\n",
              "    <tr>\n",
              "      <th>385</th>\n",
              "      <td>Лермонтов Михаил Юрьевич</td>\n",
              "      <td>Боярин Орша</td>\n",
              "      <td>Глава I\\nThen burst her heart in one long shri...</td>\n",
              "      <td>[Глава, I, Then, burst, her, heart, in, one, l...</td>\n",
              "    </tr>\n",
              "    <tr>\n",
              "      <th>2549</th>\n",
              "      <td>Маяковский Владимир Владимирович</td>\n",
              "      <td>Дипломатическое</td>\n",
              "      <td>За дедкой репка…\\n         Даже несколько репо...</td>\n",
              "      <td>[За, дедкой, репка…, Даже, несколько, репок:, ...</td>\n",
              "    </tr>\n",
              "    <tr>\n",
              "      <th>13906</th>\n",
              "      <td>Иван Саввич Никитин</td>\n",
              "      <td>Привет мой вам, угрюмый мрак ночей…</td>\n",
              "      <td>Привет мой вам, угрюмый мрак ночей\\nИ тишина б...</td>\n",
              "      <td>[Привет, мой, вам,, угрюмый, мрак, ночей, И, т...</td>\n",
              "    </tr>\n",
              "    <tr>\n",
              "      <th>1707</th>\n",
              "      <td>Саша Чёрный</td>\n",
              "      <td>Утешение (Жизнь бесцветна..)</td>\n",
              "      <td>Жизнь бесцветна? Надо, друг мой,\\nБыть упорным...</td>\n",
              "      <td>[Жизнь, бесцветна?, Надо,, друг, мой,, Быть, у...</td>\n",
              "    </tr>\n",
              "  </tbody>\n",
              "</table>\n",
              "<p>500 rows × 4 columns</p>\n",
              "</div>\n",
              "    <div class=\"colab-df-buttons\">\n",
              "\n",
              "  <div class=\"colab-df-container\">\n",
              "    <button class=\"colab-df-convert\" onclick=\"convertToInteractive('df-1ee7cf30-31bf-479c-8f64-ef00b4d0596d')\"\n",
              "            title=\"Convert this dataframe to an interactive table.\"\n",
              "            style=\"display:none;\">\n",
              "\n",
              "  <svg xmlns=\"http://www.w3.org/2000/svg\" height=\"24px\" viewBox=\"0 -960 960 960\">\n",
              "    <path d=\"M120-120v-720h720v720H120Zm60-500h600v-160H180v160Zm220 220h160v-160H400v160Zm0 220h160v-160H400v160ZM180-400h160v-160H180v160Zm440 0h160v-160H620v160ZM180-180h160v-160H180v160Zm440 0h160v-160H620v160Z\"/>\n",
              "  </svg>\n",
              "    </button>\n",
              "\n",
              "  <style>\n",
              "    .colab-df-container {\n",
              "      display:flex;\n",
              "      gap: 12px;\n",
              "    }\n",
              "\n",
              "    .colab-df-convert {\n",
              "      background-color: #E8F0FE;\n",
              "      border: none;\n",
              "      border-radius: 50%;\n",
              "      cursor: pointer;\n",
              "      display: none;\n",
              "      fill: #1967D2;\n",
              "      height: 32px;\n",
              "      padding: 0 0 0 0;\n",
              "      width: 32px;\n",
              "    }\n",
              "\n",
              "    .colab-df-convert:hover {\n",
              "      background-color: #E2EBFA;\n",
              "      box-shadow: 0px 1px 2px rgba(60, 64, 67, 0.3), 0px 1px 3px 1px rgba(60, 64, 67, 0.15);\n",
              "      fill: #174EA6;\n",
              "    }\n",
              "\n",
              "    .colab-df-buttons div {\n",
              "      margin-bottom: 4px;\n",
              "    }\n",
              "\n",
              "    [theme=dark] .colab-df-convert {\n",
              "      background-color: #3B4455;\n",
              "      fill: #D2E3FC;\n",
              "    }\n",
              "\n",
              "    [theme=dark] .colab-df-convert:hover {\n",
              "      background-color: #434B5C;\n",
              "      box-shadow: 0px 1px 3px 1px rgba(0, 0, 0, 0.15);\n",
              "      filter: drop-shadow(0px 1px 2px rgba(0, 0, 0, 0.3));\n",
              "      fill: #FFFFFF;\n",
              "    }\n",
              "  </style>\n",
              "\n",
              "    <script>\n",
              "      const buttonEl =\n",
              "        document.querySelector('#df-1ee7cf30-31bf-479c-8f64-ef00b4d0596d button.colab-df-convert');\n",
              "      buttonEl.style.display =\n",
              "        google.colab.kernel.accessAllowed ? 'block' : 'none';\n",
              "\n",
              "      async function convertToInteractive(key) {\n",
              "        const element = document.querySelector('#df-1ee7cf30-31bf-479c-8f64-ef00b4d0596d');\n",
              "        const dataTable =\n",
              "          await google.colab.kernel.invokeFunction('convertToInteractive',\n",
              "                                                    [key], {});\n",
              "        if (!dataTable) return;\n",
              "\n",
              "        const docLinkHtml = 'Like what you see? Visit the ' +\n",
              "          '<a target=\"_blank\" href=https://colab.research.google.com/notebooks/data_table.ipynb>data table notebook</a>'\n",
              "          + ' to learn more about interactive tables.';\n",
              "        element.innerHTML = '';\n",
              "        dataTable['output_type'] = 'display_data';\n",
              "        await google.colab.output.renderOutput(dataTable, element);\n",
              "        const docLink = document.createElement('div');\n",
              "        docLink.innerHTML = docLinkHtml;\n",
              "        element.appendChild(docLink);\n",
              "      }\n",
              "    </script>\n",
              "  </div>\n",
              "\n",
              "\n",
              "<div id=\"df-6b925bd6-8555-4834-8727-36752e7ebebe\">\n",
              "  <button class=\"colab-df-quickchart\" onclick=\"quickchart('df-6b925bd6-8555-4834-8727-36752e7ebebe')\"\n",
              "            title=\"Suggest charts\"\n",
              "            style=\"display:none;\">\n",
              "\n",
              "<svg xmlns=\"http://www.w3.org/2000/svg\" height=\"24px\"viewBox=\"0 0 24 24\"\n",
              "     width=\"24px\">\n",
              "    <g>\n",
              "        <path d=\"M19 3H5c-1.1 0-2 .9-2 2v14c0 1.1.9 2 2 2h14c1.1 0 2-.9 2-2V5c0-1.1-.9-2-2-2zM9 17H7v-7h2v7zm4 0h-2V7h2v10zm4 0h-2v-4h2v4z\"/>\n",
              "    </g>\n",
              "</svg>\n",
              "  </button>\n",
              "\n",
              "<style>\n",
              "  .colab-df-quickchart {\n",
              "      --bg-color: #E8F0FE;\n",
              "      --fill-color: #1967D2;\n",
              "      --hover-bg-color: #E2EBFA;\n",
              "      --hover-fill-color: #174EA6;\n",
              "      --disabled-fill-color: #AAA;\n",
              "      --disabled-bg-color: #DDD;\n",
              "  }\n",
              "\n",
              "  [theme=dark] .colab-df-quickchart {\n",
              "      --bg-color: #3B4455;\n",
              "      --fill-color: #D2E3FC;\n",
              "      --hover-bg-color: #434B5C;\n",
              "      --hover-fill-color: #FFFFFF;\n",
              "      --disabled-bg-color: #3B4455;\n",
              "      --disabled-fill-color: #666;\n",
              "  }\n",
              "\n",
              "  .colab-df-quickchart {\n",
              "    background-color: var(--bg-color);\n",
              "    border: none;\n",
              "    border-radius: 50%;\n",
              "    cursor: pointer;\n",
              "    display: none;\n",
              "    fill: var(--fill-color);\n",
              "    height: 32px;\n",
              "    padding: 0;\n",
              "    width: 32px;\n",
              "  }\n",
              "\n",
              "  .colab-df-quickchart:hover {\n",
              "    background-color: var(--hover-bg-color);\n",
              "    box-shadow: 0 1px 2px rgba(60, 64, 67, 0.3), 0 1px 3px 1px rgba(60, 64, 67, 0.15);\n",
              "    fill: var(--button-hover-fill-color);\n",
              "  }\n",
              "\n",
              "  .colab-df-quickchart-complete:disabled,\n",
              "  .colab-df-quickchart-complete:disabled:hover {\n",
              "    background-color: var(--disabled-bg-color);\n",
              "    fill: var(--disabled-fill-color);\n",
              "    box-shadow: none;\n",
              "  }\n",
              "\n",
              "  .colab-df-spinner {\n",
              "    border: 2px solid var(--fill-color);\n",
              "    border-color: transparent;\n",
              "    border-bottom-color: var(--fill-color);\n",
              "    animation:\n",
              "      spin 1s steps(1) infinite;\n",
              "  }\n",
              "\n",
              "  @keyframes spin {\n",
              "    0% {\n",
              "      border-color: transparent;\n",
              "      border-bottom-color: var(--fill-color);\n",
              "      border-left-color: var(--fill-color);\n",
              "    }\n",
              "    20% {\n",
              "      border-color: transparent;\n",
              "      border-left-color: var(--fill-color);\n",
              "      border-top-color: var(--fill-color);\n",
              "    }\n",
              "    30% {\n",
              "      border-color: transparent;\n",
              "      border-left-color: var(--fill-color);\n",
              "      border-top-color: var(--fill-color);\n",
              "      border-right-color: var(--fill-color);\n",
              "    }\n",
              "    40% {\n",
              "      border-color: transparent;\n",
              "      border-right-color: var(--fill-color);\n",
              "      border-top-color: var(--fill-color);\n",
              "    }\n",
              "    60% {\n",
              "      border-color: transparent;\n",
              "      border-right-color: var(--fill-color);\n",
              "    }\n",
              "    80% {\n",
              "      border-color: transparent;\n",
              "      border-right-color: var(--fill-color);\n",
              "      border-bottom-color: var(--fill-color);\n",
              "    }\n",
              "    90% {\n",
              "      border-color: transparent;\n",
              "      border-bottom-color: var(--fill-color);\n",
              "    }\n",
              "  }\n",
              "</style>\n",
              "\n",
              "  <script>\n",
              "    async function quickchart(key) {\n",
              "      const quickchartButtonEl =\n",
              "        document.querySelector('#' + key + ' button');\n",
              "      quickchartButtonEl.disabled = true;  // To prevent multiple clicks.\n",
              "      quickchartButtonEl.classList.add('colab-df-spinner');\n",
              "      try {\n",
              "        const charts = await google.colab.kernel.invokeFunction(\n",
              "            'suggestCharts', [key], {});\n",
              "      } catch (error) {\n",
              "        console.error('Error during call to suggestCharts:', error);\n",
              "      }\n",
              "      quickchartButtonEl.classList.remove('colab-df-spinner');\n",
              "      quickchartButtonEl.classList.add('colab-df-quickchart-complete');\n",
              "    }\n",
              "    (() => {\n",
              "      let quickchartButtonEl =\n",
              "        document.querySelector('#df-6b925bd6-8555-4834-8727-36752e7ebebe button');\n",
              "      quickchartButtonEl.style.display =\n",
              "        google.colab.kernel.accessAllowed ? 'block' : 'none';\n",
              "    })();\n",
              "  </script>\n",
              "</div>\n",
              "    </div>\n",
              "  </div>\n"
            ],
            "application/vnd.google.colaboratory.intrinsic+json": {
              "type": "dataframe",
              "variable_name": "poems",
              "summary": "{\n  \"name\": \"poems\",\n  \"rows\": 500,\n  \"fields\": [\n    {\n      \"column\": \"writer\",\n      \"properties\": {\n        \"dtype\": \"category\",\n        \"num_unique_values\": 45,\n        \"samples\": [\n          \"\\u041c\\u0430\\u043a\\u0441\\u0438\\u043c\\u0438\\u043b\\u0438\\u0430\\u043d \\u0410\\u043b\\u0435\\u043a\\u0441\\u0430\\u043d\\u0434\\u0440\\u043e\\u0432\\u0438\\u0447 \\u0412\\u043e\\u043b\\u043e\\u0448\\u0438\\u043d\",\n          \"\\u0412\\u043b\\u0430\\u0434\\u0438\\u0441\\u043b\\u0430\\u0432 \\u0424\\u0435\\u043b\\u0438\\u0446\\u0438\\u0430\\u043d\\u043e\\u0432\\u0438\\u0447 \\u0425\\u043e\\u0434\\u0430\\u0441\\u0435\\u0432\\u0438\\u0447\",\n          \"\\u0410\\u043b\\u0435\\u043a\\u0441\\u0435\\u0439 \\u041d\\u0438\\u043a\\u043e\\u043b\\u0430\\u0435\\u0432\\u0438\\u0447 \\u0410\\u043f\\u0443\\u0445\\u0442\\u0438\\u043d\"\n        ],\n        \"semantic_type\": \"\",\n        \"description\": \"\"\n      }\n    },\n    {\n      \"column\": \"poem\",\n      \"properties\": {\n        \"dtype\": \"string\",\n        \"num_unique_values\": 499,\n        \"samples\": [\n          \"\\u041d\\u0430 \\u0446\\u0435\\u043f\\u044c!\",\n          \"\\u041e\\u0442\\u0440\\u0435\\u043a\\u0438\\u0441\\u044c \\u043e\\u0442 \\u043b\\u044e\\u0431\\u0438\\u043c\\u044b\\u0445 \\u0442\\u0432\\u043e\\u0440\\u0435\\u043d\\u0438\\u0439\\u2026\",\n          \"\\u0414\\u0430\\u0432\\u043d\\u043e \\u043c\\u043d\\u0435 \\u0433\\u043e\\u043b\\u043e\\u0441 \\u0442\\u0432\\u043e\\u0439 \\u043d\\u0435\\u0432\\u043d\\u044f\\u0442\\u0435\\u043d\\u2026\"\n        ],\n        \"semantic_type\": \"\",\n        \"description\": \"\"\n      }\n    },\n    {\n      \"column\": \"text\",\n      \"properties\": {\n        \"dtype\": \"string\",\n        \"num_unique_values\": 500,\n        \"samples\": [\n          \"\\u0412\\u044b \\u0432\\u044b\\u0431\\u0435\\u0436\\u0430\\u043b\\u0438 \\u0438\\u0437 \\u0437\\u0430\\u043b\\u0430 \\u043d\\u0430 \\u0432\\u0435\\u0442\\u0440\\u043e\\u0432\\u0443\\u044e \\u0432\\u0435\\u0440\\u0430\\u043d\\u0434\\u0443,\\n\\u041d\\u0430\\u0432\\u0438\\u0441\\u0448\\u0443\\u044e \\u0436\\u0438\\u0432\\u043e\\u043f\\u0438\\u0441\\u043d\\u043e \\u043d\\u0430\\u0434 \\u043f\\u0440\\u043e\\u043f\\u0430\\u0441\\u0442\\u044c\\u044e \\u0438 \\u043d\\u0430\\u0434 \\u0440\\u0435\\u043a\\u043e\\u0439.\\n\\u0420\\u0430\\u0437\\u043d\\u0438\\u0442\\u0438\\u0432 \\u043a\\u043b\\u0443\\u0431\\u043e\\u043a \\u0432\\u043e\\u0441\\u0442\\u043e\\u0440\\u0433\\u0430, \\u043d\\u0430\\u043f\\u043e\\u043c\\u043d\\u0438\\u043b\\u0438 \\u0410\\u0440\\u0438\\u0430\\u0434\\u043d\\u0443,\\n\\u0413\\u0438\\u0440\\u043b\\u044f\\u043d\\u0434\\u0443 \\u043d\\u0430\\u0440\\u0446\\u0438\\u0441\\u0441\\u043e\\u0432 \\u0431\\u0435\\u043b\\u044b\\u0445 \\u0438\\u0441\\u043a\\u043e\\u043c\\u043a\\u0430\\u043b\\u0438 \\u0441\\u043c\\u0443\\u0433\\u043b\\u043e\\u0439 \\u0440\\u0443\\u043a\\u043e\\u0439.\\n\\u0412\\u0430\\u043c \\u0442\\u0430\\u043a \\u043d\\u0430\\u0434\\u043e\\u0435\\u043b\\u0438 \\u043b\\u044e\\u0434\\u0438, \\u043d\\u043e \\u043d\\u0435\\u043a\\u0443\\u0434\\u0430 \\u0431\\u044b\\u043b\\u043e \\u0434\\u0435\\u0442\\u044c\\u0441\\u044f.\\n\\u0425\\u0440\\u0438\\u043f\\u0435\\u043b\\u0430 \\u0438 \\u0432\\u044b\\u043b\\u0430 \\u043f\\u0440\\u043e\\u043f\\u0430\\u0441\\u0442\\u044c. \\u0412 \\u0440\\u0435\\u043a\\u0435 \\u0443\\u0442\\u043e\\u043f\\u0430\\u043b \\u0440\\u044b\\u0431\\u043e\\u043b\\u043e\\u0432.\\n\\u0418\\u0437 \\u043e\\u043a\\u043e\\u043d \\u0441\\u043c\\u0435\\u044f\\u043b\\u0441\\u044f \\u0433\\u043e\\u0432\\u043e\\u0440. \\u041e\\u0440\\u043a\\u0435\\u0441\\u0442\\u0440 \\u0438\\u0433\\u0440\\u0430\\u043b \\u0438\\u043d\\u0442\\u0435\\u0440\\u043c\\u0435\\u0446\\u0446\\u043e.\\n\\u041b\\u0438\\u0446\\u043e \\u0432\\u0430\\u0448\\u0435 \\u0441\\u0442\\u0430\\u043b\\u043e \\u0431\\u043b\\u0435\\u0434\\u043d\\u044b\\u043c \\u0438 \\u0432\\u0437\\u043e\\u0440 \\u0431\\u0438\\u0440\\u044e\\u0437\\u043e\\u0432\\u044b\\u0439 \\u2014 \\u043b\\u0438\\u043b\\u043e\\u0432.\\n\\u041a\\u0430\\u043a \\u0432\\u044b\\u0441\\u0442\\u0440\\u0435\\u043b, \\u0448\\u0430\\u0440\\u0430\\u0445\\u043d\\u0443\\u043b\\u0438\\u0441\\u044c \\u0434\\u0432\\u0435\\u0440\\u0438. \\u041a\\u0430\\u043a \\u043a\\u0440\\u044b\\u043b\\u044c\\u044f, \\u043c\\u0435\\u0442\\u043d\\u0443\\u043b\\u0438\\u0441\\u044c \\u0444\\u0440\\u0430\\u043a\\u0438.\\n\\u041a\\u0430\\u0440\\u0442\\u0430\\u0432\\u0438\\u043b\\u0430 \\u0431\\u0430\\u043d\\u0434\\u0430 \\u0434\\u044d\\u043d\\u0434\\u0438, \\u043d\\u043e \\u0412\\u0430\\u043c \\u043f\\u043e\\u043a\\u0430\\u0437\\u0430\\u043b\\u043e\\u0441\\u044c \\u2014 \\u0433\\u043e\\u0440\\u0438\\u043b\\u043b.\\n\\u041a\\u0430\\u043a \\u0437\\u0430\\u0433\\u043d\\u0430\\u043d\\u043d\\u0430\\u044f \\u043b\\u0438\\u0441\\u0438\\u0446\\u0430, \\u0434\\u0440\\u043e\\u0436\\u0430 \\u0432 \\u043e\\u0437\\u0430\\u0440\\u0435\\u043d\\u043d\\u043e\\u043c \\u043c\\u0440\\u0430\\u043a\\u0435,\\n\\u041a\\u043e\\u0433\\u043e-\\u0442\\u043e \\u0412\\u044b \\u0443\\u043a\\u0443\\u0441\\u0438\\u043b\\u0438 \\u0438 \\u0431\\u0440\\u043e\\u0441\\u0438\\u043b\\u0438\\u0441\\u044c \\u0432 \\u0431\\u0435\\u0437\\u0434\\u043d\\u0443 \\u0441 \\u043f\\u0435\\u0440\\u0438\\u043b!\",\n          \"\\u041e\\u0442\\u0440\\u0435\\u043a\\u0438\\u0441\\u044c \\u043e\\u0442 \\u043b\\u044e\\u0431\\u0438\\u043c\\u044b\\u0445 \\u0442\\u0432\\u043e\\u0440\\u0435\\u043d\\u0438\\u0439,\\n\\u041e\\u0442 \\u043b\\u044e\\u0434\\u0435\\u0439 \\u0438 \\u043e\\u0431\\u0449\\u0435\\u043d\\u0438\\u0439 \\u0432 \\u043c\\u0438\\u0440\\u0443,\\n\\u041e\\u0442\\u0440\\u0435\\u043a\\u0438\\u0441\\u044c \\u043e\\u0442 \\u043c\\u0438\\u0440\\u0441\\u043a\\u0438\\u0445 \\u0432\\u043e\\u0436\\u0434\\u0435\\u043b\\u0435\\u043d\\u0438\\u0439,\\n\\u0414\\u0443\\u043c\\u0430\\u0439 \\u0434\\u0435\\u043d\\u044c \\u0438 \\u043c\\u043e\\u043b\\u0438\\u0441\\u044c \\u0432\\u0432\\u0435\\u0447\\u0435\\u0440\\u0443.\\n\\u0415\\u0441\\u043b\\u0438 \\u0434\\u0443\\u0445 \\u0442\\u0432\\u043e\\u0439 \\u0433\\u043e\\u0440\\u0438\\u0442 \\u0431\\u0435\\u0441\\u043f\\u043e\\u043a\\u043e\\u0439\\u043d\\u043e,\\n\\u041e\\u0442\\u0433\\u043e\\u043d\\u044f\\u0439 \\u0432\\u0434\\u043e\\u0445\\u043d\\u043e\\u0432\\u0435\\u043d\\u0438\\u044f \\u043f\\u0440\\u043e\\u0447\\u044c.\\n\\u041b\\u0438\\u0448\\u044c \\u0435\\u0434\\u0438\\u043d\\u0430\\u044f \\u043c\\u0443\\u0434\\u0440\\u043e\\u0441\\u0442\\u044c \\u0434\\u043e\\u0441\\u0442\\u043e\\u0439\\u043d\\u0430\\n\\u041f\\u0435\\u0440\\u0435\\u0439\\u0442\\u0438 \\u0432 \\u043d\\u0435\\u0438\\u0437\\u0431\\u0435\\u0436\\u043d\\u0443\\u044e \\u043d\\u043e\\u0447\\u044c.\\n\\u041d\\u0430 \\u0437\\u0435\\u043c\\u043b\\u0435 \\u043d\\u0435 \\u0443\\u0437\\u043d\\u0430\\u0435\\u0448\\u044c \\u043d\\u0430\\u0433\\u0440\\u0430\\u0434\\u044b.\\n\\u0414\\u0443\\u0445\\u043e\\u043c \\u044f\\u0441\\u043d\\u044b\\u0439 \\u043f\\u0440\\u0435\\u0434 \\u0431\\u043e\\u0436\\u044c\\u0438\\u043c \\u043b\\u0438\\u0446\\u043e\\u043c,\\n\\u0414\\u043e\\u0433\\u043e\\u0440\\u0430\\u0439, \\u043f\\u043e\\u043a\\u0438\\u0434\\u0430\\u044f \\u043b\\u0430\\u043c\\u043f\\u0430\\u0434\\u0443,\\n\\u041e\\u0434\\u0438\\u043d\\u043e\\u043a\\u0438\\u043c \\u0438 \\u0432\\u0435\\u0440\\u043d\\u044b\\u043c \\u043e\\u0433\\u043d\\u0435\\u043c.\\n1 \\u043d\\u043e\\u044f\\u0431\\u0440\\u044f 1900\",\n          \"\\u041e\\u043d\\u0430 \\u043f\\u0440\\u043e\\u0448\\u043b\\u0430 \\u0438 \\u043e\\u043f\\u044c\\u044f\\u043d\\u0438\\u043b\\u0430\\n\\u0422\\u043e\\u043c\\u044f\\u0449\\u0438\\u043c \\u0441\\u0443\\u043c\\u0440\\u0430\\u043a\\u043e\\u043c \\u0434\\u0443\\u0445\\u043e\\u0432\\n\\u0418 \\u0431\\u044b\\u0441\\u0442\\u0440\\u044b\\u043c \\u0432\\u0437\\u043e\\u0440\\u043e\\u043c \\u043e\\u0442\\u0442\\u0435\\u043d\\u0438\\u043b\\u0430\\n\\u0412\\u043e\\u0437\\u043c\\u043e\\u0436\\u043d\\u043e\\u0441\\u0442\\u044c \\u043d\\u0435\\u0432\\u043e\\u0437\\u043c\\u043e\\u0436\\u043d\\u044b\\u0445 \\u0441\\u043d\\u043e\\u0432.\\n\\u0421\\u043a\\u0432\\u043e\\u0437\\u044c \\u0443\\u043b\\u0438\\u0447\\u043d\\u044b\\u0439 \\u0436\\u0435\\u043b\\u0435\\u0437\\u043d\\u044b\\u0439 \\u0433\\u0440\\u043e\\u0445\\u043e\\u0442\\n\\u0418 \\u043f\\u044c\\u044f\\u043d \\u043e\\u0442 \\u0441\\u0438\\u043d\\u0435\\u0433\\u043e \\u043e\\u0433\\u043d\\u044f,\\n\\u042f \\u0432\\u0434\\u0440\\u0443\\u0433 \\u0437\\u0430\\u0441\\u043b\\u044b\\u0448\\u0430\\u043b \\u0436\\u0430\\u0434\\u043d\\u044b\\u0439 \\u0445\\u043e\\u0445\\u043e\\u0442,\\n\\u0418 \\u0437\\u043c\\u0435\\u0438 \\u043e\\u043f\\u043b\\u0435\\u043b\\u0438 \\u043c\\u0435\\u043d\\u044f.\\n\\u0412 \\u043c\\u043e\\u0438\\u0445 \\u0433\\u043b\\u0430\\u0437\\u0430\\u0445 \\u0435\\u0449\\u0435 \\u0441\\u0438\\u043d\\u0435\\u043b\\u0430\\n\\u041d\\u0435\\u0431\\u0435\\u0441 \\u0432\\u0435\\u0447\\u0435\\u0440\\u043d\\u0438\\u0445 \\u043f\\u043e\\u043b\\u0443\\u043c\\u0433\\u043b\\u0430,\\n\\u041d\\u043e \\u0442\\u0435\\u043f\\u043b\\u043e\\u0442\\u0430 \\u0447\\u0443\\u0436\\u043e\\u0433\\u043e \\u0442\\u0435\\u043b\\u0430\\n\\u041c\\u0435\\u043d\\u044f \\u043e\\u0431\\u044a\\u044f\\u043b\\u0430 \\u0438 \\u043f\\u0440\\u043e\\u0436\\u0433\\u043b\\u0430.\\n\\u0418 \\u0432 \\u0443\\u0436\\u0430\\u0441\\u0435 \\u0431\\u043e\\u0440\\u044c\\u0431\\u044b \\u0443\\u043f\\u043e\\u0440\\u043d\\u043e\\u0439,\\n\\u041c\\u0435\\u0436 \\u043a\\u043b\\u044f\\u0442\\u0432, \\u043c\\u043e\\u043b\\u0435\\u043d\\u0438\\u0439 \\u0438 \\u0443\\u0433\\u0440\\u043e\\u0437,\\n\\u042f \\u0431\\u044b\\u043b \\u043e\\u043f\\u0443\\u0442\\u0430\\u043d \\u0432\\u043b\\u0430\\u0433\\u043e\\u0439 \\u0447\\u0435\\u0440\\u043d\\u043e\\u0439\\n\\u0415\\u0435 \\u0440\\u0430\\u0441\\u043f\\u0443\\u0449\\u0435\\u043d\\u043d\\u044b\\u0445 \\u0432\\u043e\\u043b\\u043e\\u0441.\"\n        ],\n        \"semantic_type\": \"\",\n        \"description\": \"\"\n      }\n    },\n    {\n      \"column\": \"splitted_text\",\n      \"properties\": {\n        \"dtype\": \"object\",\n        \"semantic_type\": \"\",\n        \"description\": \"\"\n      }\n    }\n  ]\n}"
            }
          },
          "metadata": {},
          "execution_count": 108
        }
      ]
    },
    {
      "cell_type": "markdown",
      "source": [
        "И используем модуль Counter для подсчёта частот."
      ],
      "metadata": {
        "id": "AnGrxYVdLv_P"
      }
    },
    {
      "cell_type": "code",
      "source": [
        "from collections import Counter\n",
        "words = []\n",
        "for poem in poems[\"splitted_text\"]:\n",
        "  words += normalize(poem)\n",
        "list(Counter(words).items())[:10]"
      ],
      "metadata": {
        "colab": {
          "base_uri": "https://localhost:8080/"
        },
        "id": "FweVAyOtFaxK",
        "outputId": "9f03c0ed-a8f6-45f2-f1f7-07d645781cca"
      },
      "execution_count": 109,
      "outputs": [
        {
          "output_type": "execute_result",
          "data": {
            "text/plain": [
              "[('и', 3475),\n",
              " ('гроб', 15),\n",
              " ('опущен', 1),\n",
              " ('уж', 88),\n",
              " ('в', 2376),\n",
              " ('могилу', 4),\n",
              " ('все', 238),\n",
              " ('столпилося', 1),\n",
              " ('вокруг…', 1),\n",
              " ('толкутся', 1)]"
            ]
          },
          "metadata": {},
          "execution_count": 109
        }
      ]
    },
    {
      "cell_type": "code",
      "source": [
        "sorted_freq_words = sorted(Counter(words).items(), reverse=True, key=lambda a: a[1])\n",
        "sorted_freq_words[:10]"
      ],
      "metadata": {
        "colab": {
          "base_uri": "https://localhost:8080/"
        },
        "id": "IzBjkKJcftlk",
        "outputId": "4845dbec-4d0f-4f10-ddca-a22c5b2038af"
      },
      "execution_count": 110,
      "outputs": [
        {
          "output_type": "execute_result",
          "data": {
            "text/plain": [
              "[('и', 3475),\n",
              " ('в', 2376),\n",
              " ('—', 1590),\n",
              " ('не', 1573),\n",
              " ('я', 1205),\n",
              " ('на', 1011),\n",
              " ('с', 851),\n",
              " ('как', 695),\n",
              " ('что', 666),\n",
              " ('ты', 640)]"
            ]
          },
          "metadata": {},
          "execution_count": 110
        }
      ]
    },
    {
      "cell_type": "markdown",
      "source": [
        "Всё ли нам нравится в получившемся словаре?"
      ],
      "metadata": {
        "id": "IjjnqJX7L3m2"
      }
    },
    {
      "cell_type": "markdown",
      "source": [
        "Вот некоторые проблемы:\n",
        "\n",
        "1. Некоторые знаки препинания всё же остались – хочется не вручную их перечислять, чтобы удалить, а удалить все разом.\n",
        "\n",
        "2. Разные формы слов считаются как разные слова – нам этого не хочется.\n",
        "\n",
        "3. Есть стоп-слова (слова, которые в любом тексте будут частотными, поэтому малоинформативны: предлоги, местоимения и т.п.)."
      ],
      "metadata": {
        "id": "c1z8Yf04fINr"
      }
    },
    {
      "cell_type": "markdown",
      "source": [
        "Попробуем решить эти проблемы по порядку. Чтобы их решить, нам понадобятся специальные библиотеки в Python для обработки текста. Первая такая библиотека – *NLTK*."
      ],
      "metadata": {
        "id": "rw_fnJ5ug3Rl"
      }
    },
    {
      "cell_type": "code",
      "source": [
        "import nltk #Библиотека для обработки естественного языка\n",
        "nltk.download('punkt') #Модуль библиотеки для работы с пунктуацией\n",
        "nltk.download('punkt_tab')\n",
        "from nltk.tokenize import word_tokenize"
      ],
      "metadata": {
        "colab": {
          "base_uri": "https://localhost:8080/"
        },
        "id": "b3P7E-fxkamb",
        "outputId": "49503be4-5bcd-46ea-bc3a-0f877b8bc11d"
      },
      "execution_count": 111,
      "outputs": [
        {
          "output_type": "stream",
          "name": "stderr",
          "text": [
            "[nltk_data] Downloading package punkt to /root/nltk_data...\n",
            "[nltk_data]   Package punkt is already up-to-date!\n",
            "[nltk_data] Downloading package punkt_tab to /root/nltk_data...\n",
            "[nltk_data]   Package punkt_tab is already up-to-date!\n"
          ]
        }
      ]
    },
    {
      "cell_type": "code",
      "source": [
        "poems[\"tokenized_text\"] = poems[\"text\"].apply(word_tokenize) # с помощью apply можем применять функцию к целому столбцу\n",
        "poems"
      ],
      "metadata": {
        "colab": {
          "base_uri": "https://localhost:8080/",
          "height": 684
        },
        "id": "9r_TmT5KkkLn",
        "outputId": "0c9d2050-bfe5-46da-e1fb-ad79a5ea44f2"
      },
      "execution_count": 112,
      "outputs": [
        {
          "output_type": "execute_result",
          "data": {
            "text/plain": [
              "                                 writer  \\\n",
              "11918             Тютчев Федор Иванович   \n",
              "4434              Фёдор Кузьмич Сологуб   \n",
              "9765         Кондратий Фёдорович Рылеев   \n",
              "12880      Блок Александр Александрович   \n",
              "5957           Брюсов Валерий Яковлевич   \n",
              "...                                 ...   \n",
              "4191              Фёдор Кузьмич Сологуб   \n",
              "385            Лермонтов Михаил Юрьевич   \n",
              "2549   Маяковский Владимир Владимирович   \n",
              "13906               Иван Саввич Никитин   \n",
              "1707                        Саша Чёрный   \n",
              "\n",
              "                                                  poem  \\\n",
              "11918                       И гроб опущен уж в могилу…   \n",
              "4434                        Слепой судьбе противореча…   \n",
              "9765   К другу («Не нам, мой друг, с тобой чуждаться»)   \n",
              "12880                        Нежный! У ласковой речки…   \n",
              "5957                                  Тропическая ночь   \n",
              "...                                                ...   \n",
              "4191                            К закату бегут облака…   \n",
              "385                                        Боярин Орша   \n",
              "2549                                   Дипломатическое   \n",
              "13906              Привет мой вам, угрюмый мрак ночей…   \n",
              "1707                      Утешение (Жизнь бесцветна..)   \n",
              "\n",
              "                                                    text  \\\n",
              "11918  И гроб опущен уж в могилу,\\nИ все столпилося в...   \n",
              "4434   Слепой судьбе противореча,\\nГорит надеждами во...   \n",
              "9765   Не нам, мой друг, с тобой чуждаться\\nУтех и ра...   \n",
              "12880  Федору Смородскому\\nНежный! У ласковой речки\\n...   \n",
              "5957   В снежной мгле угрюмы вопли вьюги,\\nВсем сулят...   \n",
              "...                                                  ...   \n",
              "4191   К закату бегут облака,\\nИ небо опять озарилось...   \n",
              "385    Глава I\\nThen burst her heart in one long shri...   \n",
              "2549   За дедкой репка…\\n         Даже несколько репо...   \n",
              "13906  Привет мой вам, угрюмый мрак ночей\\nИ тишина б...   \n",
              "1707   Жизнь бесцветна? Надо, друг мой,\\nБыть упорным...   \n",
              "\n",
              "                                           splitted_text  \\\n",
              "11918  [и, гроб, опущен, уж, в, могилу, и, все, столп...   \n",
              "4434   [слепой, судьбе, противореча, горит, надеждами...   \n",
              "9765   [не, нам, мой, друг, с, тобой, чуждаться, утех...   \n",
              "12880  [федору, смородскому, нежный, у, ласковой, реч...   \n",
              "5957   [в, снежной, мгле, угрюмы, вопли, вьюги, всем,...   \n",
              "...                                                  ...   \n",
              "4191   [к, закату, бегут, облака, и, небо, опять, оза...   \n",
              "385    [глава, i, then, burst, her, heart, in, one, l...   \n",
              "2549   [за, дедкой, репка…, даже, несколько, репок, а...   \n",
              "13906  [привет, мой, вам, угрюмый, мрак, ночей, и, ти...   \n",
              "1707   [жизнь, бесцветна, надо, друг, мой, быть, упор...   \n",
              "\n",
              "                                          tokenized_text  \n",
              "11918  [И, гроб, опущен, уж, в, могилу, ,, И, все, ст...  \n",
              "4434   [Слепой, судьбе, противореча, ,, Горит, надежд...  \n",
              "9765   [Не, нам, ,, мой, друг, ,, с, тобой, чуждаться...  \n",
              "12880  [Федору, Смородскому, Нежный, !, У, ласковой, ...  \n",
              "5957   [В, снежной, мгле, угрюмы, вопли, вьюги, ,, Вс...  \n",
              "...                                                  ...  \n",
              "4191   [К, закату, бегут, облака, ,, И, небо, опять, ...  \n",
              "385    [Глава, I, Then, burst, her, heart, in, one, l...  \n",
              "2549   [За, дедкой, репка…, Даже, несколько, репок, :...  \n",
              "13906  [Привет, мой, вам, ,, угрюмый, мрак, ночей, И,...  \n",
              "1707   [Жизнь, бесцветна, ?, Надо, ,, друг, мой, ,, Б...  \n",
              "\n",
              "[500 rows x 5 columns]"
            ],
            "text/html": [
              "\n",
              "  <div id=\"df-ec968c2b-9795-41a9-910c-a15205b76c44\" class=\"colab-df-container\">\n",
              "    <div>\n",
              "<style scoped>\n",
              "    .dataframe tbody tr th:only-of-type {\n",
              "        vertical-align: middle;\n",
              "    }\n",
              "\n",
              "    .dataframe tbody tr th {\n",
              "        vertical-align: top;\n",
              "    }\n",
              "\n",
              "    .dataframe thead th {\n",
              "        text-align: right;\n",
              "    }\n",
              "</style>\n",
              "<table border=\"1\" class=\"dataframe\">\n",
              "  <thead>\n",
              "    <tr style=\"text-align: right;\">\n",
              "      <th></th>\n",
              "      <th>writer</th>\n",
              "      <th>poem</th>\n",
              "      <th>text</th>\n",
              "      <th>splitted_text</th>\n",
              "      <th>tokenized_text</th>\n",
              "    </tr>\n",
              "  </thead>\n",
              "  <tbody>\n",
              "    <tr>\n",
              "      <th>11918</th>\n",
              "      <td>Тютчев Федор Иванович</td>\n",
              "      <td>И гроб опущен уж в могилу…</td>\n",
              "      <td>И гроб опущен уж в могилу,\\nИ все столпилося в...</td>\n",
              "      <td>[и, гроб, опущен, уж, в, могилу, и, все, столп...</td>\n",
              "      <td>[И, гроб, опущен, уж, в, могилу, ,, И, все, ст...</td>\n",
              "    </tr>\n",
              "    <tr>\n",
              "      <th>4434</th>\n",
              "      <td>Фёдор Кузьмич Сологуб</td>\n",
              "      <td>Слепой судьбе противореча…</td>\n",
              "      <td>Слепой судьбе противореча,\\nГорит надеждами во...</td>\n",
              "      <td>[слепой, судьбе, противореча, горит, надеждами...</td>\n",
              "      <td>[Слепой, судьбе, противореча, ,, Горит, надежд...</td>\n",
              "    </tr>\n",
              "    <tr>\n",
              "      <th>9765</th>\n",
              "      <td>Кондратий Фёдорович Рылеев</td>\n",
              "      <td>К другу («Не нам, мой друг, с тобой чуждаться»)</td>\n",
              "      <td>Не нам, мой друг, с тобой чуждаться\\nУтех и ра...</td>\n",
              "      <td>[не, нам, мой, друг, с, тобой, чуждаться, утех...</td>\n",
              "      <td>[Не, нам, ,, мой, друг, ,, с, тобой, чуждаться...</td>\n",
              "    </tr>\n",
              "    <tr>\n",
              "      <th>12880</th>\n",
              "      <td>Блок Александр Александрович</td>\n",
              "      <td>Нежный! У ласковой речки…</td>\n",
              "      <td>Федору Смородскому\\nНежный! У ласковой речки\\n...</td>\n",
              "      <td>[федору, смородскому, нежный, у, ласковой, реч...</td>\n",
              "      <td>[Федору, Смородскому, Нежный, !, У, ласковой, ...</td>\n",
              "    </tr>\n",
              "    <tr>\n",
              "      <th>5957</th>\n",
              "      <td>Брюсов Валерий Яковлевич</td>\n",
              "      <td>Тропическая ночь</td>\n",
              "      <td>В снежной мгле угрюмы вопли вьюги,\\nВсем сулят...</td>\n",
              "      <td>[в, снежной, мгле, угрюмы, вопли, вьюги, всем,...</td>\n",
              "      <td>[В, снежной, мгле, угрюмы, вопли, вьюги, ,, Вс...</td>\n",
              "    </tr>\n",
              "    <tr>\n",
              "      <th>...</th>\n",
              "      <td>...</td>\n",
              "      <td>...</td>\n",
              "      <td>...</td>\n",
              "      <td>...</td>\n",
              "      <td>...</td>\n",
              "    </tr>\n",
              "    <tr>\n",
              "      <th>4191</th>\n",
              "      <td>Фёдор Кузьмич Сологуб</td>\n",
              "      <td>К закату бегут облака…</td>\n",
              "      <td>К закату бегут облака,\\nИ небо опять озарилось...</td>\n",
              "      <td>[к, закату, бегут, облака, и, небо, опять, оза...</td>\n",
              "      <td>[К, закату, бегут, облака, ,, И, небо, опять, ...</td>\n",
              "    </tr>\n",
              "    <tr>\n",
              "      <th>385</th>\n",
              "      <td>Лермонтов Михаил Юрьевич</td>\n",
              "      <td>Боярин Орша</td>\n",
              "      <td>Глава I\\nThen burst her heart in one long shri...</td>\n",
              "      <td>[глава, i, then, burst, her, heart, in, one, l...</td>\n",
              "      <td>[Глава, I, Then, burst, her, heart, in, one, l...</td>\n",
              "    </tr>\n",
              "    <tr>\n",
              "      <th>2549</th>\n",
              "      <td>Маяковский Владимир Владимирович</td>\n",
              "      <td>Дипломатическое</td>\n",
              "      <td>За дедкой репка…\\n         Даже несколько репо...</td>\n",
              "      <td>[за, дедкой, репка…, даже, несколько, репок, а...</td>\n",
              "      <td>[За, дедкой, репка…, Даже, несколько, репок, :...</td>\n",
              "    </tr>\n",
              "    <tr>\n",
              "      <th>13906</th>\n",
              "      <td>Иван Саввич Никитин</td>\n",
              "      <td>Привет мой вам, угрюмый мрак ночей…</td>\n",
              "      <td>Привет мой вам, угрюмый мрак ночей\\nИ тишина б...</td>\n",
              "      <td>[привет, мой, вам, угрюмый, мрак, ночей, и, ти...</td>\n",
              "      <td>[Привет, мой, вам, ,, угрюмый, мрак, ночей, И,...</td>\n",
              "    </tr>\n",
              "    <tr>\n",
              "      <th>1707</th>\n",
              "      <td>Саша Чёрный</td>\n",
              "      <td>Утешение (Жизнь бесцветна..)</td>\n",
              "      <td>Жизнь бесцветна? Надо, друг мой,\\nБыть упорным...</td>\n",
              "      <td>[жизнь, бесцветна, надо, друг, мой, быть, упор...</td>\n",
              "      <td>[Жизнь, бесцветна, ?, Надо, ,, друг, мой, ,, Б...</td>\n",
              "    </tr>\n",
              "  </tbody>\n",
              "</table>\n",
              "<p>500 rows × 5 columns</p>\n",
              "</div>\n",
              "    <div class=\"colab-df-buttons\">\n",
              "\n",
              "  <div class=\"colab-df-container\">\n",
              "    <button class=\"colab-df-convert\" onclick=\"convertToInteractive('df-ec968c2b-9795-41a9-910c-a15205b76c44')\"\n",
              "            title=\"Convert this dataframe to an interactive table.\"\n",
              "            style=\"display:none;\">\n",
              "\n",
              "  <svg xmlns=\"http://www.w3.org/2000/svg\" height=\"24px\" viewBox=\"0 -960 960 960\">\n",
              "    <path d=\"M120-120v-720h720v720H120Zm60-500h600v-160H180v160Zm220 220h160v-160H400v160Zm0 220h160v-160H400v160ZM180-400h160v-160H180v160Zm440 0h160v-160H620v160ZM180-180h160v-160H180v160Zm440 0h160v-160H620v160Z\"/>\n",
              "  </svg>\n",
              "    </button>\n",
              "\n",
              "  <style>\n",
              "    .colab-df-container {\n",
              "      display:flex;\n",
              "      gap: 12px;\n",
              "    }\n",
              "\n",
              "    .colab-df-convert {\n",
              "      background-color: #E8F0FE;\n",
              "      border: none;\n",
              "      border-radius: 50%;\n",
              "      cursor: pointer;\n",
              "      display: none;\n",
              "      fill: #1967D2;\n",
              "      height: 32px;\n",
              "      padding: 0 0 0 0;\n",
              "      width: 32px;\n",
              "    }\n",
              "\n",
              "    .colab-df-convert:hover {\n",
              "      background-color: #E2EBFA;\n",
              "      box-shadow: 0px 1px 2px rgba(60, 64, 67, 0.3), 0px 1px 3px 1px rgba(60, 64, 67, 0.15);\n",
              "      fill: #174EA6;\n",
              "    }\n",
              "\n",
              "    .colab-df-buttons div {\n",
              "      margin-bottom: 4px;\n",
              "    }\n",
              "\n",
              "    [theme=dark] .colab-df-convert {\n",
              "      background-color: #3B4455;\n",
              "      fill: #D2E3FC;\n",
              "    }\n",
              "\n",
              "    [theme=dark] .colab-df-convert:hover {\n",
              "      background-color: #434B5C;\n",
              "      box-shadow: 0px 1px 3px 1px rgba(0, 0, 0, 0.15);\n",
              "      filter: drop-shadow(0px 1px 2px rgba(0, 0, 0, 0.3));\n",
              "      fill: #FFFFFF;\n",
              "    }\n",
              "  </style>\n",
              "\n",
              "    <script>\n",
              "      const buttonEl =\n",
              "        document.querySelector('#df-ec968c2b-9795-41a9-910c-a15205b76c44 button.colab-df-convert');\n",
              "      buttonEl.style.display =\n",
              "        google.colab.kernel.accessAllowed ? 'block' : 'none';\n",
              "\n",
              "      async function convertToInteractive(key) {\n",
              "        const element = document.querySelector('#df-ec968c2b-9795-41a9-910c-a15205b76c44');\n",
              "        const dataTable =\n",
              "          await google.colab.kernel.invokeFunction('convertToInteractive',\n",
              "                                                    [key], {});\n",
              "        if (!dataTable) return;\n",
              "\n",
              "        const docLinkHtml = 'Like what you see? Visit the ' +\n",
              "          '<a target=\"_blank\" href=https://colab.research.google.com/notebooks/data_table.ipynb>data table notebook</a>'\n",
              "          + ' to learn more about interactive tables.';\n",
              "        element.innerHTML = '';\n",
              "        dataTable['output_type'] = 'display_data';\n",
              "        await google.colab.output.renderOutput(dataTable, element);\n",
              "        const docLink = document.createElement('div');\n",
              "        docLink.innerHTML = docLinkHtml;\n",
              "        element.appendChild(docLink);\n",
              "      }\n",
              "    </script>\n",
              "  </div>\n",
              "\n",
              "\n",
              "<div id=\"df-e7767e41-9e51-46d8-9287-c2266a3f82f3\">\n",
              "  <button class=\"colab-df-quickchart\" onclick=\"quickchart('df-e7767e41-9e51-46d8-9287-c2266a3f82f3')\"\n",
              "            title=\"Suggest charts\"\n",
              "            style=\"display:none;\">\n",
              "\n",
              "<svg xmlns=\"http://www.w3.org/2000/svg\" height=\"24px\"viewBox=\"0 0 24 24\"\n",
              "     width=\"24px\">\n",
              "    <g>\n",
              "        <path d=\"M19 3H5c-1.1 0-2 .9-2 2v14c0 1.1.9 2 2 2h14c1.1 0 2-.9 2-2V5c0-1.1-.9-2-2-2zM9 17H7v-7h2v7zm4 0h-2V7h2v10zm4 0h-2v-4h2v4z\"/>\n",
              "    </g>\n",
              "</svg>\n",
              "  </button>\n",
              "\n",
              "<style>\n",
              "  .colab-df-quickchart {\n",
              "      --bg-color: #E8F0FE;\n",
              "      --fill-color: #1967D2;\n",
              "      --hover-bg-color: #E2EBFA;\n",
              "      --hover-fill-color: #174EA6;\n",
              "      --disabled-fill-color: #AAA;\n",
              "      --disabled-bg-color: #DDD;\n",
              "  }\n",
              "\n",
              "  [theme=dark] .colab-df-quickchart {\n",
              "      --bg-color: #3B4455;\n",
              "      --fill-color: #D2E3FC;\n",
              "      --hover-bg-color: #434B5C;\n",
              "      --hover-fill-color: #FFFFFF;\n",
              "      --disabled-bg-color: #3B4455;\n",
              "      --disabled-fill-color: #666;\n",
              "  }\n",
              "\n",
              "  .colab-df-quickchart {\n",
              "    background-color: var(--bg-color);\n",
              "    border: none;\n",
              "    border-radius: 50%;\n",
              "    cursor: pointer;\n",
              "    display: none;\n",
              "    fill: var(--fill-color);\n",
              "    height: 32px;\n",
              "    padding: 0;\n",
              "    width: 32px;\n",
              "  }\n",
              "\n",
              "  .colab-df-quickchart:hover {\n",
              "    background-color: var(--hover-bg-color);\n",
              "    box-shadow: 0 1px 2px rgba(60, 64, 67, 0.3), 0 1px 3px 1px rgba(60, 64, 67, 0.15);\n",
              "    fill: var(--button-hover-fill-color);\n",
              "  }\n",
              "\n",
              "  .colab-df-quickchart-complete:disabled,\n",
              "  .colab-df-quickchart-complete:disabled:hover {\n",
              "    background-color: var(--disabled-bg-color);\n",
              "    fill: var(--disabled-fill-color);\n",
              "    box-shadow: none;\n",
              "  }\n",
              "\n",
              "  .colab-df-spinner {\n",
              "    border: 2px solid var(--fill-color);\n",
              "    border-color: transparent;\n",
              "    border-bottom-color: var(--fill-color);\n",
              "    animation:\n",
              "      spin 1s steps(1) infinite;\n",
              "  }\n",
              "\n",
              "  @keyframes spin {\n",
              "    0% {\n",
              "      border-color: transparent;\n",
              "      border-bottom-color: var(--fill-color);\n",
              "      border-left-color: var(--fill-color);\n",
              "    }\n",
              "    20% {\n",
              "      border-color: transparent;\n",
              "      border-left-color: var(--fill-color);\n",
              "      border-top-color: var(--fill-color);\n",
              "    }\n",
              "    30% {\n",
              "      border-color: transparent;\n",
              "      border-left-color: var(--fill-color);\n",
              "      border-top-color: var(--fill-color);\n",
              "      border-right-color: var(--fill-color);\n",
              "    }\n",
              "    40% {\n",
              "      border-color: transparent;\n",
              "      border-right-color: var(--fill-color);\n",
              "      border-top-color: var(--fill-color);\n",
              "    }\n",
              "    60% {\n",
              "      border-color: transparent;\n",
              "      border-right-color: var(--fill-color);\n",
              "    }\n",
              "    80% {\n",
              "      border-color: transparent;\n",
              "      border-right-color: var(--fill-color);\n",
              "      border-bottom-color: var(--fill-color);\n",
              "    }\n",
              "    90% {\n",
              "      border-color: transparent;\n",
              "      border-bottom-color: var(--fill-color);\n",
              "    }\n",
              "  }\n",
              "</style>\n",
              "\n",
              "  <script>\n",
              "    async function quickchart(key) {\n",
              "      const quickchartButtonEl =\n",
              "        document.querySelector('#' + key + ' button');\n",
              "      quickchartButtonEl.disabled = true;  // To prevent multiple clicks.\n",
              "      quickchartButtonEl.classList.add('colab-df-spinner');\n",
              "      try {\n",
              "        const charts = await google.colab.kernel.invokeFunction(\n",
              "            'suggestCharts', [key], {});\n",
              "      } catch (error) {\n",
              "        console.error('Error during call to suggestCharts:', error);\n",
              "      }\n",
              "      quickchartButtonEl.classList.remove('colab-df-spinner');\n",
              "      quickchartButtonEl.classList.add('colab-df-quickchart-complete');\n",
              "    }\n",
              "    (() => {\n",
              "      let quickchartButtonEl =\n",
              "        document.querySelector('#df-e7767e41-9e51-46d8-9287-c2266a3f82f3 button');\n",
              "      quickchartButtonEl.style.display =\n",
              "        google.colab.kernel.accessAllowed ? 'block' : 'none';\n",
              "    })();\n",
              "  </script>\n",
              "</div>\n",
              "    </div>\n",
              "  </div>\n"
            ],
            "application/vnd.google.colaboratory.intrinsic+json": {
              "type": "dataframe",
              "variable_name": "poems",
              "summary": "{\n  \"name\": \"poems\",\n  \"rows\": 500,\n  \"fields\": [\n    {\n      \"column\": \"writer\",\n      \"properties\": {\n        \"dtype\": \"category\",\n        \"num_unique_values\": 45,\n        \"samples\": [\n          \"\\u041c\\u0430\\u043a\\u0441\\u0438\\u043c\\u0438\\u043b\\u0438\\u0430\\u043d \\u0410\\u043b\\u0435\\u043a\\u0441\\u0430\\u043d\\u0434\\u0440\\u043e\\u0432\\u0438\\u0447 \\u0412\\u043e\\u043b\\u043e\\u0448\\u0438\\u043d\",\n          \"\\u0412\\u043b\\u0430\\u0434\\u0438\\u0441\\u043b\\u0430\\u0432 \\u0424\\u0435\\u043b\\u0438\\u0446\\u0438\\u0430\\u043d\\u043e\\u0432\\u0438\\u0447 \\u0425\\u043e\\u0434\\u0430\\u0441\\u0435\\u0432\\u0438\\u0447\",\n          \"\\u0410\\u043b\\u0435\\u043a\\u0441\\u0435\\u0439 \\u041d\\u0438\\u043a\\u043e\\u043b\\u0430\\u0435\\u0432\\u0438\\u0447 \\u0410\\u043f\\u0443\\u0445\\u0442\\u0438\\u043d\"\n        ],\n        \"semantic_type\": \"\",\n        \"description\": \"\"\n      }\n    },\n    {\n      \"column\": \"poem\",\n      \"properties\": {\n        \"dtype\": \"string\",\n        \"num_unique_values\": 499,\n        \"samples\": [\n          \"\\u041d\\u0430 \\u0446\\u0435\\u043f\\u044c!\",\n          \"\\u041e\\u0442\\u0440\\u0435\\u043a\\u0438\\u0441\\u044c \\u043e\\u0442 \\u043b\\u044e\\u0431\\u0438\\u043c\\u044b\\u0445 \\u0442\\u0432\\u043e\\u0440\\u0435\\u043d\\u0438\\u0439\\u2026\",\n          \"\\u0414\\u0430\\u0432\\u043d\\u043e \\u043c\\u043d\\u0435 \\u0433\\u043e\\u043b\\u043e\\u0441 \\u0442\\u0432\\u043e\\u0439 \\u043d\\u0435\\u0432\\u043d\\u044f\\u0442\\u0435\\u043d\\u2026\"\n        ],\n        \"semantic_type\": \"\",\n        \"description\": \"\"\n      }\n    },\n    {\n      \"column\": \"text\",\n      \"properties\": {\n        \"dtype\": \"string\",\n        \"num_unique_values\": 500,\n        \"samples\": [\n          \"\\u0412\\u044b \\u0432\\u044b\\u0431\\u0435\\u0436\\u0430\\u043b\\u0438 \\u0438\\u0437 \\u0437\\u0430\\u043b\\u0430 \\u043d\\u0430 \\u0432\\u0435\\u0442\\u0440\\u043e\\u0432\\u0443\\u044e \\u0432\\u0435\\u0440\\u0430\\u043d\\u0434\\u0443,\\n\\u041d\\u0430\\u0432\\u0438\\u0441\\u0448\\u0443\\u044e \\u0436\\u0438\\u0432\\u043e\\u043f\\u0438\\u0441\\u043d\\u043e \\u043d\\u0430\\u0434 \\u043f\\u0440\\u043e\\u043f\\u0430\\u0441\\u0442\\u044c\\u044e \\u0438 \\u043d\\u0430\\u0434 \\u0440\\u0435\\u043a\\u043e\\u0439.\\n\\u0420\\u0430\\u0437\\u043d\\u0438\\u0442\\u0438\\u0432 \\u043a\\u043b\\u0443\\u0431\\u043e\\u043a \\u0432\\u043e\\u0441\\u0442\\u043e\\u0440\\u0433\\u0430, \\u043d\\u0430\\u043f\\u043e\\u043c\\u043d\\u0438\\u043b\\u0438 \\u0410\\u0440\\u0438\\u0430\\u0434\\u043d\\u0443,\\n\\u0413\\u0438\\u0440\\u043b\\u044f\\u043d\\u0434\\u0443 \\u043d\\u0430\\u0440\\u0446\\u0438\\u0441\\u0441\\u043e\\u0432 \\u0431\\u0435\\u043b\\u044b\\u0445 \\u0438\\u0441\\u043a\\u043e\\u043c\\u043a\\u0430\\u043b\\u0438 \\u0441\\u043c\\u0443\\u0433\\u043b\\u043e\\u0439 \\u0440\\u0443\\u043a\\u043e\\u0439.\\n\\u0412\\u0430\\u043c \\u0442\\u0430\\u043a \\u043d\\u0430\\u0434\\u043e\\u0435\\u043b\\u0438 \\u043b\\u044e\\u0434\\u0438, \\u043d\\u043e \\u043d\\u0435\\u043a\\u0443\\u0434\\u0430 \\u0431\\u044b\\u043b\\u043e \\u0434\\u0435\\u0442\\u044c\\u0441\\u044f.\\n\\u0425\\u0440\\u0438\\u043f\\u0435\\u043b\\u0430 \\u0438 \\u0432\\u044b\\u043b\\u0430 \\u043f\\u0440\\u043e\\u043f\\u0430\\u0441\\u0442\\u044c. \\u0412 \\u0440\\u0435\\u043a\\u0435 \\u0443\\u0442\\u043e\\u043f\\u0430\\u043b \\u0440\\u044b\\u0431\\u043e\\u043b\\u043e\\u0432.\\n\\u0418\\u0437 \\u043e\\u043a\\u043e\\u043d \\u0441\\u043c\\u0435\\u044f\\u043b\\u0441\\u044f \\u0433\\u043e\\u0432\\u043e\\u0440. \\u041e\\u0440\\u043a\\u0435\\u0441\\u0442\\u0440 \\u0438\\u0433\\u0440\\u0430\\u043b \\u0438\\u043d\\u0442\\u0435\\u0440\\u043c\\u0435\\u0446\\u0446\\u043e.\\n\\u041b\\u0438\\u0446\\u043e \\u0432\\u0430\\u0448\\u0435 \\u0441\\u0442\\u0430\\u043b\\u043e \\u0431\\u043b\\u0435\\u0434\\u043d\\u044b\\u043c \\u0438 \\u0432\\u0437\\u043e\\u0440 \\u0431\\u0438\\u0440\\u044e\\u0437\\u043e\\u0432\\u044b\\u0439 \\u2014 \\u043b\\u0438\\u043b\\u043e\\u0432.\\n\\u041a\\u0430\\u043a \\u0432\\u044b\\u0441\\u0442\\u0440\\u0435\\u043b, \\u0448\\u0430\\u0440\\u0430\\u0445\\u043d\\u0443\\u043b\\u0438\\u0441\\u044c \\u0434\\u0432\\u0435\\u0440\\u0438. \\u041a\\u0430\\u043a \\u043a\\u0440\\u044b\\u043b\\u044c\\u044f, \\u043c\\u0435\\u0442\\u043d\\u0443\\u043b\\u0438\\u0441\\u044c \\u0444\\u0440\\u0430\\u043a\\u0438.\\n\\u041a\\u0430\\u0440\\u0442\\u0430\\u0432\\u0438\\u043b\\u0430 \\u0431\\u0430\\u043d\\u0434\\u0430 \\u0434\\u044d\\u043d\\u0434\\u0438, \\u043d\\u043e \\u0412\\u0430\\u043c \\u043f\\u043e\\u043a\\u0430\\u0437\\u0430\\u043b\\u043e\\u0441\\u044c \\u2014 \\u0433\\u043e\\u0440\\u0438\\u043b\\u043b.\\n\\u041a\\u0430\\u043a \\u0437\\u0430\\u0433\\u043d\\u0430\\u043d\\u043d\\u0430\\u044f \\u043b\\u0438\\u0441\\u0438\\u0446\\u0430, \\u0434\\u0440\\u043e\\u0436\\u0430 \\u0432 \\u043e\\u0437\\u0430\\u0440\\u0435\\u043d\\u043d\\u043e\\u043c \\u043c\\u0440\\u0430\\u043a\\u0435,\\n\\u041a\\u043e\\u0433\\u043e-\\u0442\\u043e \\u0412\\u044b \\u0443\\u043a\\u0443\\u0441\\u0438\\u043b\\u0438 \\u0438 \\u0431\\u0440\\u043e\\u0441\\u0438\\u043b\\u0438\\u0441\\u044c \\u0432 \\u0431\\u0435\\u0437\\u0434\\u043d\\u0443 \\u0441 \\u043f\\u0435\\u0440\\u0438\\u043b!\",\n          \"\\u041e\\u0442\\u0440\\u0435\\u043a\\u0438\\u0441\\u044c \\u043e\\u0442 \\u043b\\u044e\\u0431\\u0438\\u043c\\u044b\\u0445 \\u0442\\u0432\\u043e\\u0440\\u0435\\u043d\\u0438\\u0439,\\n\\u041e\\u0442 \\u043b\\u044e\\u0434\\u0435\\u0439 \\u0438 \\u043e\\u0431\\u0449\\u0435\\u043d\\u0438\\u0439 \\u0432 \\u043c\\u0438\\u0440\\u0443,\\n\\u041e\\u0442\\u0440\\u0435\\u043a\\u0438\\u0441\\u044c \\u043e\\u0442 \\u043c\\u0438\\u0440\\u0441\\u043a\\u0438\\u0445 \\u0432\\u043e\\u0436\\u0434\\u0435\\u043b\\u0435\\u043d\\u0438\\u0439,\\n\\u0414\\u0443\\u043c\\u0430\\u0439 \\u0434\\u0435\\u043d\\u044c \\u0438 \\u043c\\u043e\\u043b\\u0438\\u0441\\u044c \\u0432\\u0432\\u0435\\u0447\\u0435\\u0440\\u0443.\\n\\u0415\\u0441\\u043b\\u0438 \\u0434\\u0443\\u0445 \\u0442\\u0432\\u043e\\u0439 \\u0433\\u043e\\u0440\\u0438\\u0442 \\u0431\\u0435\\u0441\\u043f\\u043e\\u043a\\u043e\\u0439\\u043d\\u043e,\\n\\u041e\\u0442\\u0433\\u043e\\u043d\\u044f\\u0439 \\u0432\\u0434\\u043e\\u0445\\u043d\\u043e\\u0432\\u0435\\u043d\\u0438\\u044f \\u043f\\u0440\\u043e\\u0447\\u044c.\\n\\u041b\\u0438\\u0448\\u044c \\u0435\\u0434\\u0438\\u043d\\u0430\\u044f \\u043c\\u0443\\u0434\\u0440\\u043e\\u0441\\u0442\\u044c \\u0434\\u043e\\u0441\\u0442\\u043e\\u0439\\u043d\\u0430\\n\\u041f\\u0435\\u0440\\u0435\\u0439\\u0442\\u0438 \\u0432 \\u043d\\u0435\\u0438\\u0437\\u0431\\u0435\\u0436\\u043d\\u0443\\u044e \\u043d\\u043e\\u0447\\u044c.\\n\\u041d\\u0430 \\u0437\\u0435\\u043c\\u043b\\u0435 \\u043d\\u0435 \\u0443\\u0437\\u043d\\u0430\\u0435\\u0448\\u044c \\u043d\\u0430\\u0433\\u0440\\u0430\\u0434\\u044b.\\n\\u0414\\u0443\\u0445\\u043e\\u043c \\u044f\\u0441\\u043d\\u044b\\u0439 \\u043f\\u0440\\u0435\\u0434 \\u0431\\u043e\\u0436\\u044c\\u0438\\u043c \\u043b\\u0438\\u0446\\u043e\\u043c,\\n\\u0414\\u043e\\u0433\\u043e\\u0440\\u0430\\u0439, \\u043f\\u043e\\u043a\\u0438\\u0434\\u0430\\u044f \\u043b\\u0430\\u043c\\u043f\\u0430\\u0434\\u0443,\\n\\u041e\\u0434\\u0438\\u043d\\u043e\\u043a\\u0438\\u043c \\u0438 \\u0432\\u0435\\u0440\\u043d\\u044b\\u043c \\u043e\\u0433\\u043d\\u0435\\u043c.\\n1 \\u043d\\u043e\\u044f\\u0431\\u0440\\u044f 1900\",\n          \"\\u041e\\u043d\\u0430 \\u043f\\u0440\\u043e\\u0448\\u043b\\u0430 \\u0438 \\u043e\\u043f\\u044c\\u044f\\u043d\\u0438\\u043b\\u0430\\n\\u0422\\u043e\\u043c\\u044f\\u0449\\u0438\\u043c \\u0441\\u0443\\u043c\\u0440\\u0430\\u043a\\u043e\\u043c \\u0434\\u0443\\u0445\\u043e\\u0432\\n\\u0418 \\u0431\\u044b\\u0441\\u0442\\u0440\\u044b\\u043c \\u0432\\u0437\\u043e\\u0440\\u043e\\u043c \\u043e\\u0442\\u0442\\u0435\\u043d\\u0438\\u043b\\u0430\\n\\u0412\\u043e\\u0437\\u043c\\u043e\\u0436\\u043d\\u043e\\u0441\\u0442\\u044c \\u043d\\u0435\\u0432\\u043e\\u0437\\u043c\\u043e\\u0436\\u043d\\u044b\\u0445 \\u0441\\u043d\\u043e\\u0432.\\n\\u0421\\u043a\\u0432\\u043e\\u0437\\u044c \\u0443\\u043b\\u0438\\u0447\\u043d\\u044b\\u0439 \\u0436\\u0435\\u043b\\u0435\\u0437\\u043d\\u044b\\u0439 \\u0433\\u0440\\u043e\\u0445\\u043e\\u0442\\n\\u0418 \\u043f\\u044c\\u044f\\u043d \\u043e\\u0442 \\u0441\\u0438\\u043d\\u0435\\u0433\\u043e \\u043e\\u0433\\u043d\\u044f,\\n\\u042f \\u0432\\u0434\\u0440\\u0443\\u0433 \\u0437\\u0430\\u0441\\u043b\\u044b\\u0448\\u0430\\u043b \\u0436\\u0430\\u0434\\u043d\\u044b\\u0439 \\u0445\\u043e\\u0445\\u043e\\u0442,\\n\\u0418 \\u0437\\u043c\\u0435\\u0438 \\u043e\\u043f\\u043b\\u0435\\u043b\\u0438 \\u043c\\u0435\\u043d\\u044f.\\n\\u0412 \\u043c\\u043e\\u0438\\u0445 \\u0433\\u043b\\u0430\\u0437\\u0430\\u0445 \\u0435\\u0449\\u0435 \\u0441\\u0438\\u043d\\u0435\\u043b\\u0430\\n\\u041d\\u0435\\u0431\\u0435\\u0441 \\u0432\\u0435\\u0447\\u0435\\u0440\\u043d\\u0438\\u0445 \\u043f\\u043e\\u043b\\u0443\\u043c\\u0433\\u043b\\u0430,\\n\\u041d\\u043e \\u0442\\u0435\\u043f\\u043b\\u043e\\u0442\\u0430 \\u0447\\u0443\\u0436\\u043e\\u0433\\u043e \\u0442\\u0435\\u043b\\u0430\\n\\u041c\\u0435\\u043d\\u044f \\u043e\\u0431\\u044a\\u044f\\u043b\\u0430 \\u0438 \\u043f\\u0440\\u043e\\u0436\\u0433\\u043b\\u0430.\\n\\u0418 \\u0432 \\u0443\\u0436\\u0430\\u0441\\u0435 \\u0431\\u043e\\u0440\\u044c\\u0431\\u044b \\u0443\\u043f\\u043e\\u0440\\u043d\\u043e\\u0439,\\n\\u041c\\u0435\\u0436 \\u043a\\u043b\\u044f\\u0442\\u0432, \\u043c\\u043e\\u043b\\u0435\\u043d\\u0438\\u0439 \\u0438 \\u0443\\u0433\\u0440\\u043e\\u0437,\\n\\u042f \\u0431\\u044b\\u043b \\u043e\\u043f\\u0443\\u0442\\u0430\\u043d \\u0432\\u043b\\u0430\\u0433\\u043e\\u0439 \\u0447\\u0435\\u0440\\u043d\\u043e\\u0439\\n\\u0415\\u0435 \\u0440\\u0430\\u0441\\u043f\\u0443\\u0449\\u0435\\u043d\\u043d\\u044b\\u0445 \\u0432\\u043e\\u043b\\u043e\\u0441.\"\n        ],\n        \"semantic_type\": \"\",\n        \"description\": \"\"\n      }\n    },\n    {\n      \"column\": \"splitted_text\",\n      \"properties\": {\n        \"dtype\": \"object\",\n        \"semantic_type\": \"\",\n        \"description\": \"\"\n      }\n    },\n    {\n      \"column\": \"tokenized_text\",\n      \"properties\": {\n        \"dtype\": \"object\",\n        \"semantic_type\": \"\",\n        \"description\": \"\"\n      }\n    }\n  ]\n}"
            }
          },
          "metadata": {},
          "execution_count": 112
        }
      ]
    },
    {
      "cell_type": "markdown",
      "source": [
        "Функция `word_tokenize` помогла нам разделить текст (провести **токенизацию**) более умно: знаки препинания сразу отделились от слов."
      ],
      "metadata": {
        "id": "cSkGg8F5lQSq"
      }
    },
    {
      "cell_type": "markdown",
      "source": [
        "Чтобы стандартизировать разные формы слов, нам потребуется **лемматизация** или **стемминг**.\n",
        "\n",
        "Лемматизация – приведение слова к его начальной форме. Например, применив лемматизацию к слову *скалы*, получим слово *скала*.\n",
        "\n",
        "Стемминг – получение основы слова. Например, применив стемминг к слову *скалы*, получим *скал*.\n",
        "\n",
        "И то, и другое, помогает стандартизировать формы слов.\n",
        "\n",
        "Скачаем ещё одну библиотеку – `pymorphy3`."
      ],
      "metadata": {
        "id": "CZ9fxiGsllrq"
      }
    },
    {
      "cell_type": "code",
      "source": [
        "!pip install pymorphy3"
      ],
      "metadata": {
        "colab": {
          "base_uri": "https://localhost:8080/"
        },
        "id": "6SXOdi1km9vU",
        "outputId": "f6b254dd-2944-4cdf-ee6b-404901b8ac92"
      },
      "execution_count": 113,
      "outputs": [
        {
          "output_type": "stream",
          "name": "stdout",
          "text": [
            "Requirement already satisfied: pymorphy3 in /usr/local/lib/python3.11/dist-packages (2.0.3)\n",
            "Requirement already satisfied: dawg2-python>=0.8.0 in /usr/local/lib/python3.11/dist-packages (from pymorphy3) (0.9.0)\n",
            "Requirement already satisfied: pymorphy3-dicts-ru in /usr/local/lib/python3.11/dist-packages (from pymorphy3) (2.4.417150.4580142)\n"
          ]
        }
      ]
    },
    {
      "cell_type": "code",
      "source": [
        "from pymorphy3 import MorphAnalyzer\n",
        "morph = MorphAnalyzer()"
      ],
      "metadata": {
        "id": "YLuYkpvklxXF"
      },
      "execution_count": 114,
      "outputs": []
    },
    {
      "cell_type": "code",
      "source": [
        "morph.parse('скалы')"
      ],
      "metadata": {
        "colab": {
          "base_uri": "https://localhost:8080/"
        },
        "id": "c6vPpgNPne0Y",
        "outputId": "777f79dd-deb8-41c2-88ff-e831d46353a7"
      },
      "execution_count": 115,
      "outputs": [
        {
          "output_type": "execute_result",
          "data": {
            "text/plain": [
              "[Parse(word='скалы', tag=OpencorporaTag('NOUN,inan,femn plur,nomn'), normal_form='скала', score=0.384615, methods_stack=((DictionaryAnalyzer(), 'скалы', 55, 7),)),\n",
              " Parse(word='скалы', tag=OpencorporaTag('NOUN,inan,femn sing,gent'), normal_form='скала', score=0.307692, methods_stack=((DictionaryAnalyzer(), 'скалы', 55, 1),)),\n",
              " Parse(word='скалы', tag=OpencorporaTag('NOUN,inan,femn plur,accs'), normal_form='скала', score=0.153846, methods_stack=((DictionaryAnalyzer(), 'скалы', 55, 10),)),\n",
              " Parse(word='скалы', tag=OpencorporaTag('NOUN,inan,masc plur,nomn'), normal_form='скал', score=0.076923, methods_stack=((DictionaryAnalyzer(), 'скалы', 34, 6),)),\n",
              " Parse(word='скалы', tag=OpencorporaTag('NOUN,inan,masc plur,accs'), normal_form='скал', score=0.076923, methods_stack=((DictionaryAnalyzer(), 'скалы', 34, 9),))]"
            ]
          },
          "metadata": {},
          "execution_count": 115
        }
      ]
    },
    {
      "cell_type": "code",
      "source": [
        "morph.parse(',')"
      ],
      "metadata": {
        "colab": {
          "base_uri": "https://localhost:8080/"
        },
        "id": "0rHbtP6Onv2B",
        "outputId": "a416ba54-4c85-4d7e-cd92-5824e5471de7"
      },
      "execution_count": 116,
      "outputs": [
        {
          "output_type": "execute_result",
          "data": {
            "text/plain": [
              "[Parse(word=',', tag=OpencorporaTag('PNCT'), normal_form=',', score=1.0, methods_stack=((PunctuationAnalyzer(score=0.9), ','),))]"
            ]
          },
          "metadata": {},
          "execution_count": 116
        }
      ]
    },
    {
      "cell_type": "code",
      "source": [
        "morph.parse('')"
      ],
      "metadata": {
        "colab": {
          "base_uri": "https://localhost:8080/"
        },
        "id": "Yvzdqz36w8Un",
        "outputId": "1c38ec3c-679f-4743-d748-1259a9cf7b21"
      },
      "execution_count": 117,
      "outputs": [
        {
          "output_type": "execute_result",
          "data": {
            "text/plain": [
              "[Parse(word='', tag=OpencorporaTag('UNKN'), normal_form='', score=1.0, methods_stack=((UnknAnalyzer(), ''),))]"
            ]
          },
          "metadata": {},
          "execution_count": 117
        }
      ]
    },
    {
      "cell_type": "code",
      "source": [
        "'PNCT' in morph.parse(',')[0].tag"
      ],
      "metadata": {
        "colab": {
          "base_uri": "https://localhost:8080/"
        },
        "id": "mycG8dNUpYrd",
        "outputId": "d3321528-397d-4d1b-f2f0-092421c19181"
      },
      "execution_count": 118,
      "outputs": [
        {
          "output_type": "execute_result",
          "data": {
            "text/plain": [
              "True"
            ]
          },
          "metadata": {},
          "execution_count": 118
        }
      ]
    },
    {
      "cell_type": "code",
      "source": [
        "def new_normalize(l):\n",
        "  return [morph.parse(token)[0].normal_form for token in l if 'PNCT' not in morph.parse(token)[0].tag]\n",
        "# взяли нормальные формы и удалили все пунктуационные знаки ('PNCT')"
      ],
      "metadata": {
        "id": "OayxpBfioRAs"
      },
      "execution_count": 119,
      "outputs": []
    },
    {
      "cell_type": "code",
      "source": [
        "words = []\n",
        "for poem in poems[\"tokenized_text\"]:\n",
        "  words += new_normalize(poem)\n",
        "list(Counter(words).items())[:10]"
      ],
      "metadata": {
        "colab": {
          "base_uri": "https://localhost:8080/"
        },
        "id": "2niZWEzToP0k",
        "outputId": "85e93413-ca77-4b21-b726-998773738f36"
      },
      "execution_count": 120,
      "outputs": [
        {
          "output_type": "execute_result",
          "data": {
            "text/plain": [
              "[('и', 3479),\n",
              " ('гроб', 38),\n",
              " ('опустить', 5),\n",
              " ('уж', 88),\n",
              " ('в', 2556),\n",
              " ('могила', 20),\n",
              " ('всё', 414),\n",
              " ('столпилось', 1),\n",
              " ('вокруг…', 1),\n",
              " ('толочься', 2)]"
            ]
          },
          "metadata": {},
          "execution_count": 120
        }
      ]
    },
    {
      "cell_type": "code",
      "source": [
        "sorted_freq_words = sorted(Counter(words).items(), reverse=True, key=lambda a: a[1])\n",
        "sorted_freq_words[:10]"
      ],
      "metadata": {
        "colab": {
          "base_uri": "https://localhost:8080/"
        },
        "id": "m0tmhlCUrWol",
        "outputId": "2b145af3-9738-4b96-917a-6df996c93614"
      },
      "execution_count": 121,
      "outputs": [
        {
          "output_type": "execute_result",
          "data": {
            "text/plain": [
              "[('и', 3479),\n",
              " ('в', 2556),\n",
              " ('я', 1880),\n",
              " ('не', 1597),\n",
              " ('на', 1015),\n",
              " ('ты', 1008),\n",
              " ('он', 936),\n",
              " ('с', 929),\n",
              " ('что', 721),\n",
              " ('как', 700)]"
            ]
          },
          "metadata": {},
          "execution_count": 121
        }
      ]
    },
    {
      "cell_type": "markdown",
      "source": [
        "Мы решили первые две проблемы, осталась проблема со стоп-словами. В уже знакомой нам библиотеке *NLTK* есть список стоп-слов для разных языков."
      ],
      "metadata": {
        "id": "eJx4xic8-BFc"
      }
    },
    {
      "cell_type": "code",
      "source": [
        "from nltk.corpus import stopwords\n",
        "nltk.download('stopwords')"
      ],
      "metadata": {
        "colab": {
          "base_uri": "https://localhost:8080/"
        },
        "id": "ZYHn59RwvI9b",
        "outputId": "0fc905f5-22dd-48d3-9678-a7df6993c90b"
      },
      "execution_count": 122,
      "outputs": [
        {
          "output_type": "stream",
          "name": "stderr",
          "text": [
            "[nltk_data] Downloading package stopwords to /root/nltk_data...\n",
            "[nltk_data]   Package stopwords is already up-to-date!\n"
          ]
        },
        {
          "output_type": "execute_result",
          "data": {
            "text/plain": [
              "True"
            ]
          },
          "metadata": {},
          "execution_count": 122
        }
      ]
    },
    {
      "cell_type": "code",
      "source": [
        "stopwords"
      ],
      "metadata": {
        "colab": {
          "base_uri": "https://localhost:8080/"
        },
        "id": "9eZ4dtGh_PCg",
        "outputId": "5994fa07-3fea-4542-b841-4f5a507fd3f5"
      },
      "execution_count": 123,
      "outputs": [
        {
          "output_type": "execute_result",
          "data": {
            "text/plain": [
              "<WordListCorpusReader in '/root/nltk_data/corpora/stopwords'>"
            ]
          },
          "metadata": {},
          "execution_count": 123
        }
      ]
    },
    {
      "cell_type": "code",
      "source": [
        "cleaned_sorted_freq_words = [pair for pair in sorted_freq_words if pair[0] not in stopwords.words('russian')]"
      ],
      "metadata": {
        "id": "ad6Wo_BI_EJg"
      },
      "execution_count": 124,
      "outputs": []
    },
    {
      "cell_type": "code",
      "source": [
        "cleaned_sorted_freq_words[:10]"
      ],
      "metadata": {
        "colab": {
          "base_uri": "https://localhost:8080/"
        },
        "id": "SV0uZ1tu_Jq7",
        "outputId": "75ef2c44-5962-44e7-fc86-a6bdd9162dba"
      },
      "execution_count": 125,
      "outputs": [
        {
          "output_type": "execute_result",
          "data": {
            "text/plain": [
              "[('всё', 414),\n",
              " ('свой', 324),\n",
              " ('твой', 321),\n",
              " ('весь', 296),\n",
              " ('день', 281),\n",
              " ('душа', 197),\n",
              " ('сердце', 194),\n",
              " ('мочь', 170),\n",
              " ('друг', 167),\n",
              " ('жизнь', 164)]"
            ]
          },
          "metadata": {},
          "execution_count": 125
        }
      ]
    },
    {
      "cell_type": "markdown",
      "source": [
        "Можем добавить в список свои стоп-слова."
      ],
      "metadata": {
        "id": "vP2I9cZyfXy_"
      }
    },
    {
      "cell_type": "code",
      "source": [
        "all_stopwords = stopwords.words('russian') + ['всё', 'свой', 'твой', 'весь']\n",
        "# вверху списка четыре довольно частотных местоимения"
      ],
      "metadata": {
        "id": "14Mt55X4fiYz"
      },
      "execution_count": 126,
      "outputs": []
    },
    {
      "cell_type": "code",
      "source": [
        "cleaned_sorted_freq_words = [pair for pair in sorted_freq_words if pair[0] not in all_stopwords]\n",
        "cleaned_sorted_freq_words[:10]"
      ],
      "metadata": {
        "colab": {
          "base_uri": "https://localhost:8080/"
        },
        "id": "cH8hc-x5frum",
        "outputId": "f7950e14-0c2d-43ea-8219-2350bc3874a2"
      },
      "execution_count": 127,
      "outputs": [
        {
          "output_type": "execute_result",
          "data": {
            "text/plain": [
              "[('день', 281),\n",
              " ('душа', 197),\n",
              " ('сердце', 194),\n",
              " ('мочь', 170),\n",
              " ('друг', 167),\n",
              " ('жизнь', 164),\n",
              " ('рука', 160),\n",
              " ('боб', 157),\n",
              " ('небо', 156),\n",
              " ('наш', 152)]"
            ]
          },
          "metadata": {},
          "execution_count": 127
        }
      ]
    },
    {
      "cell_type": "markdown",
      "source": [
        "Ура! Мы выполнили частотный анализ."
      ],
      "metadata": {
        "id": "u9q2H7itKx-g"
      }
    },
    {
      "cell_type": "markdown",
      "source": [
        "Теперь визуализируем."
      ],
      "metadata": {
        "id": "adSucb6U0U3P"
      }
    },
    {
      "cell_type": "code",
      "source": [
        "cleaned_words = [word for word in words if word not in all_stopwords]\n",
        "# до этого у нас был словарь с частотами, теперь снова создадим список, удалив из изначального списка words стоп-слова\n",
        "cleaned_words[:10]"
      ],
      "metadata": {
        "colab": {
          "base_uri": "https://localhost:8080/"
        },
        "id": "ZVC40jMA1WvN",
        "outputId": "4abf4e13-0928-4e0e-efe1-6578aec3ad3b"
      },
      "execution_count": 147,
      "outputs": [
        {
          "output_type": "execute_result",
          "data": {
            "text/plain": [
              "['гроб',\n",
              " 'опустить',\n",
              " 'могила',\n",
              " 'столпилось',\n",
              " 'вокруг…',\n",
              " 'толочься',\n",
              " 'дышать',\n",
              " 'сила',\n",
              " 'спирать',\n",
              " 'грудь']"
            ]
          },
          "metadata": {},
          "execution_count": 147
        }
      ]
    },
    {
      "cell_type": "code",
      "source": [
        "from nltk import FreqDist         # библиотека, создающая частотный словарь\n",
        "import matplotlib.pyplot as plt   # эту библиотеку уже видели - она для визуализации\n",
        "\n",
        "fdist = FreqDist(cleaned_words)   # FreqDist принимает список слов и сам считает частоты (как и Counter)\n",
        "\n",
        "fdist.plot(20, cumulative=False)  # 20 наиболее частотных\n",
        "plt.show()"
      ],
      "metadata": {
        "colab": {
          "base_uri": "https://localhost:8080/",
          "height": 495
        },
        "id": "DUHOhGlO0WrM",
        "outputId": "d57a0285-ebc2-4773-f2d2-e34d3d3cc3d4"
      },
      "execution_count": 149,
      "outputs": [
        {
          "output_type": "display_data",
          "data": {
            "text/plain": [
              "<Figure size 640x480 with 1 Axes>"
            ],
            "image/png": "[encoded data removed]"
          },
          "metadata": {}
        }
      ]
    },
    {
      "cell_type": "markdown",
      "source": [
        "Теперь скажем пару слов о стемминге. Посмотрим на стеммер из той же *NLTK*."
      ],
      "metadata": {
        "id": "nbAwEcqgK04d"
      }
    },
    {
      "cell_type": "code",
      "source": [
        "from nltk.stem.snowball import SnowballStemmer\n",
        "\n",
        "stemmer = SnowballStemmer(\"russian\")\n",
        "text = \"Карл у Клары украл кораллы, а Клара у Карла украла кларнет\"\n",
        "tokens = word_tokenize(text)\n",
        "stemmed_words = [stemmer.stem(word) for word in tokens]\n",
        "print(stemmed_words)\n",
        "Counter(stemmed_words)"
      ],
      "metadata": {
        "colab": {
          "base_uri": "https://localhost:8080/"
        },
        "id": "68a1bWyeLGG4",
        "outputId": "c5a2d1a0-b0d4-43f4-9bed-3759add8ac06"
      },
      "execution_count": 128,
      "outputs": [
        {
          "output_type": "stream",
          "name": "stdout",
          "text": [
            "['карл', 'у', 'клар', 'укра', 'коралл', ',', 'а', 'клар', 'у', 'карл', 'укра', 'кларнет']\n"
          ]
        },
        {
          "output_type": "execute_result",
          "data": {
            "text/plain": [
              "Counter({'карл': 2,\n",
              "         'у': 2,\n",
              "         'клар': 2,\n",
              "         'укра': 2,\n",
              "         'коралл': 1,\n",
              "         ',': 1,\n",
              "         'а': 1,\n",
              "         'кларнет': 1})"
            ]
          },
          "metadata": {},
          "execution_count": 128
        }
      ]
    },
    {
      "cell_type": "markdown",
      "source": [
        "Видим, что он выделил основу для каждого слова."
      ],
      "metadata": {
        "id": "vPaNWuuyNGSn"
      }
    },
    {
      "cell_type": "markdown",
      "source": [
        "Рассмотренные стеммер и лемматизатор работают именно для русского языка. Попробуем подать им английское слово и убедимся, что они не сработают."
      ],
      "metadata": {
        "id": "Q4R7Uzecs5Dp"
      }
    },
    {
      "cell_type": "code",
      "source": [
        "stemmer.stem(\"names\")"
      ],
      "metadata": {
        "colab": {
          "base_uri": "https://localhost:8080/",
          "height": 36
        },
        "id": "MFHVZASWs-wS",
        "outputId": "bceed491-4be6-427b-f2ca-9265c74d506e"
      },
      "execution_count": 129,
      "outputs": [
        {
          "output_type": "execute_result",
          "data": {
            "text/plain": [
              "'names'"
            ],
            "application/vnd.google.colaboratory.intrinsic+json": {
              "type": "string"
            }
          },
          "metadata": {},
          "execution_count": 129
        }
      ]
    },
    {
      "cell_type": "code",
      "source": [
        "morph.parse(\"names\")"
      ],
      "metadata": {
        "colab": {
          "base_uri": "https://localhost:8080/"
        },
        "id": "KIux-SJxtDVt",
        "outputId": "3a1f2ef0-5fde-4f71-cf8f-31241ed375de"
      },
      "execution_count": 130,
      "outputs": [
        {
          "output_type": "execute_result",
          "data": {
            "text/plain": [
              "[Parse(word='names', tag=OpencorporaTag('LATN'), normal_form='names', score=1.0, methods_stack=((LatinAnalyzer(score=0.9), 'names'),))]"
            ]
          },
          "metadata": {},
          "execution_count": 130
        }
      ]
    },
    {
      "cell_type": "markdown",
      "source": [
        "Чуть ниже мы увидим, как обрабатывать английские тексты."
      ],
      "metadata": {
        "id": "_8PhQdtbtQ3C"
      }
    },
    {
      "cell_type": "markdown",
      "source": [
        "А пока рассмотрим такой вопрос: иногда нам интересно смотреть на частоту встречаемости не слов, а словосочетаний. Здесь нам пригодятся n-граммы."
      ],
      "metadata": {
        "id": "8ClWTG7bNNAo"
      }
    },
    {
      "cell_type": "code",
      "metadata": {
        "id": "hcrWxBzzWg-K"
      },
      "source": [
        "from nltk import ngrams"
      ],
      "execution_count": 131,
      "outputs": []
    },
    {
      "cell_type": "code",
      "source": [
        "sentence = 'А роза упала на лапу Азора'"
      ],
      "metadata": {
        "id": "ahkJgPtjNt1l"
      },
      "execution_count": 132,
      "outputs": []
    },
    {
      "cell_type": "code",
      "metadata": {
        "id": "4eY7anMcPxGB",
        "colab": {
          "base_uri": "https://localhost:8080/"
        },
        "outputId": "c8509ef0-dfc6-4d39-e4c3-3d9e0aac9cc0"
      },
      "source": [
        "sentence_split = sentence.lower().split()\n",
        "sentence_split"
      ],
      "execution_count": 133,
      "outputs": [
        {
          "output_type": "execute_result",
          "data": {
            "text/plain": [
              "['а', 'роза', 'упала', 'на', 'лапу', 'азора']"
            ]
          },
          "metadata": {},
          "execution_count": 133
        }
      ]
    },
    {
      "cell_type": "code",
      "metadata": {
        "id": "F9oqpykUc5e9",
        "colab": {
          "base_uri": "https://localhost:8080/"
        },
        "outputId": "1a6760fd-9733-4bfa-b900-66c6f0f77504"
      },
      "source": [
        "unigrams = list(ngrams(sentence_split, 1)) # униграммы\n",
        "unigrams"
      ],
      "execution_count": 134,
      "outputs": [
        {
          "output_type": "execute_result",
          "data": {
            "text/plain": [
              "[('а',), ('роза',), ('упала',), ('на',), ('лапу',), ('азора',)]"
            ]
          },
          "metadata": {},
          "execution_count": 134
        }
      ]
    },
    {
      "cell_type": "code",
      "source": [
        "bigrams = list(ngrams(sentence_split, 2)) # биграммы\n",
        "bigrams"
      ],
      "metadata": {
        "colab": {
          "base_uri": "https://localhost:8080/"
        },
        "id": "pnG76IWGOqfM",
        "outputId": "e4eca2f2-a8e4-4de5-d9a1-2f7f1aa14f51"
      },
      "execution_count": 135,
      "outputs": [
        {
          "output_type": "execute_result",
          "data": {
            "text/plain": [
              "[('а', 'роза'),\n",
              " ('роза', 'упала'),\n",
              " ('упала', 'на'),\n",
              " ('на', 'лапу'),\n",
              " ('лапу', 'азора')]"
            ]
          },
          "metadata": {},
          "execution_count": 135
        }
      ]
    },
    {
      "cell_type": "code",
      "source": [
        "trigrams = list(ngrams(sentence_split, 3)) # триграммы\n",
        "trigrams"
      ],
      "metadata": {
        "colab": {
          "base_uri": "https://localhost:8080/"
        },
        "id": "S80HpAxTOuD0",
        "outputId": "58252bac-c9eb-45b2-bfb5-994bf971f643"
      },
      "execution_count": 136,
      "outputs": [
        {
          "output_type": "execute_result",
          "data": {
            "text/plain": [
              "[('а', 'роза', 'упала'),\n",
              " ('роза', 'упала', 'на'),\n",
              " ('упала', 'на', 'лапу'),\n",
              " ('на', 'лапу', 'азора')]"
            ]
          },
          "metadata": {},
          "execution_count": 136
        }
      ]
    },
    {
      "cell_type": "code",
      "source": [
        "[\" \".join(trigram) for trigram in trigrams] # склеили"
      ],
      "metadata": {
        "colab": {
          "base_uri": "https://localhost:8080/"
        },
        "id": "rDb9FlB9g9zf",
        "outputId": "9d595e0f-b0e6-4d24-dddc-5a2533a92c8f"
      },
      "execution_count": 137,
      "outputs": [
        {
          "output_type": "execute_result",
          "data": {
            "text/plain": [
              "['а роза упала', 'роза упала на', 'упала на лапу', 'на лапу азора']"
            ]
          },
          "metadata": {},
          "execution_count": 137
        }
      ]
    },
    {
      "cell_type": "markdown",
      "source": [
        "**Задание**. Посчитайте частоту биграмм в любом выбранном стихотворении из нашего датасета."
      ],
      "metadata": {
        "id": "QG5ISKZ4Ox9m"
      }
    },
    {
      "cell_type": "markdown",
      "source": [
        "## Другие лемматизаторы и стеммеры"
      ],
      "metadata": {
        "id": "iFE1AcJ9nlzN"
      }
    },
    {
      "cell_type": "markdown",
      "source": [
        "Лемматизатор из библиотеки *NLTK*: *WordNetLemmatizer*. В отличие от предыдущего, хорошо работает для английского и плохо для русского."
      ],
      "metadata": {
        "id": "qCkWbe2JnzBb"
      }
    },
    {
      "cell_type": "code",
      "source": [
        "nltk.download('wordnet')"
      ],
      "metadata": {
        "colab": {
          "base_uri": "https://localhost:8080/"
        },
        "id": "xpmA8C64oBbH",
        "outputId": "434fada8-3861-4c91-c6b9-d8520ac849a6"
      },
      "execution_count": 138,
      "outputs": [
        {
          "output_type": "stream",
          "name": "stderr",
          "text": [
            "[nltk_data] Downloading package wordnet to /root/nltk_data...\n",
            "[nltk_data]   Package wordnet is already up-to-date!\n"
          ]
        },
        {
          "output_type": "execute_result",
          "data": {
            "text/plain": [
              "True"
            ]
          },
          "metadata": {},
          "execution_count": 138
        }
      ]
    },
    {
      "cell_type": "code",
      "execution_count": 139,
      "metadata": {
        "colab": {
          "base_uri": "https://localhost:8080/"
        },
        "id": "QonNutiVS45u",
        "outputId": "90083cb9-025f-4c30-c9f9-b7cfa160d8a6"
      },
      "outputs": [
        {
          "output_type": "stream",
          "name": "stdout",
          "text": [
            "rocks : rock\n",
            "corpora : corpus\n",
            "better : good\n",
            "ложки : ложки\n"
          ]
        }
      ],
      "source": [
        "from nltk.stem import WordNetLemmatizer\n",
        "\n",
        "lemmatizer = WordNetLemmatizer()\n",
        "\n",
        "print(\"rocks :\", lemmatizer.lemmatize(\"rocks\"))\n",
        "print(\"corpora :\", lemmatizer.lemmatize(\"corpora\"))\n",
        "print(\"better :\", lemmatizer.lemmatize(\"better\", pos=\"a\")) # уточнили, что часть речи (PoS) - прилагательное (\"a\")\n",
        "\n",
        "print(\"ложки :\", lemmatizer.lemmatize(\"ложки\")) # не лемматизировал русское слово\n"
      ]
    },
    {
      "cell_type": "markdown",
      "source": [
        "То же самое можем сказать и про *PorterStemmer*."
      ],
      "metadata": {
        "id": "RkSfq7PZt3wc"
      }
    },
    {
      "cell_type": "code",
      "source": [
        "from nltk.stem import PorterStemmer\n",
        "\n",
        "ps = PorterStemmer()\n",
        "\n",
        "new_words = [\"name\", \"naming\", \"named\", \"names\", \"affected\"]\n",
        "\n",
        "stemmed_words = []\n",
        "for word in new_words:\n",
        "    stemmed_words.append(ps.stem(word))\n",
        "\n",
        "print(stemmed_words)\n",
        "\n",
        "print(ps.stem(\"ложки\")) # не стемматизировал русское слово"
      ],
      "metadata": {
        "colab": {
          "base_uri": "https://localhost:8080/"
        },
        "id": "QD354WQBtguR",
        "outputId": "f6764201-6dba-4f89-dc98-7ca0f030873f"
      },
      "execution_count": 140,
      "outputs": [
        {
          "output_type": "stream",
          "name": "stdout",
          "text": [
            "['name', 'name', 'name', 'name', 'affect']\n",
            "ложки\n"
          ]
        }
      ]
    }
  ]
}
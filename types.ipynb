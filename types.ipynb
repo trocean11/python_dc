{
 "cells": [
  {
   "cell_type": "markdown",
   "id": "ac19a257",
   "metadata": {},
   "source": [
    "# Программирование на Python \n",
    "\n",
    "# Основные типы данных. Создание переменных. Основные ошибки.\n",
    "\n",
    "*Автор: Паршина Анастасия, НИУ ВШЭ (tg: @aaparshina)*\n",
    "\n",
    "*Дополнила: Капустина Лика, НИУ ВШЭ (tg: @lika_kapustina)*\n",
    "\n",
    "## Содержание\n",
    "1. [Создание переменных и оператор присваивания](#par1)\n",
    "2. [Изменяемые (mutable) и неизменяемые (immutable) типы данных](#par2)\n",
    "3. [Типы данных — часть 1](#par3)\n",
    "    1. [Числа](#par3.1)\n",
    "    2. [Строки](#par3.2)\n",
    "    3. [Преобразование типов](#par3.3)\n",
    "4. [Немного об ошибках](#par4)\n",
    "5. [Разметка Markdown в Jupyter Notebook](#par5)\n",
    "6. [Дополнительные материалы](#parlast)"
   ]
  },
  {
   "cell_type": "markdown",
   "id": "a19033a2",
   "metadata": {},
   "source": [
    "## Создание переменных и оператор присваивания <a name=\"par1\"></a>\n",
    "\n",
    "Данные в Python представляют собой объекты и отношения между объектами. У каждого объекта есть свой индентификатор (id), тип и значение.\n",
    "\n",
    "<p style=\"text-align: center;\"><b>имя переменной = объект</b></p>\n",
    "\n",
    "Оператор присваивания (то есть наш знак `=`) запоминает за именем переменной идентификатор объекта. \n",
    "\n",
    "Например, создадим переменную `a`, которой присвоим значение `1`:"
   ]
  },
  {
   "cell_type": "code",
   "execution_count": 1,
   "id": "a3404924",
   "metadata": {},
   "outputs": [],
   "source": [
    "a = 1"
   ]
  },
  {
   "cell_type": "markdown",
   "id": "5fd80adf",
   "metadata": {},
   "source": [
    "Сначала в памяти создается объект 1 и он, очевидно, имеет свой id:"
   ]
  },
  {
   "cell_type": "code",
   "execution_count": 2,
   "id": "403c970e",
   "metadata": {},
   "outputs": [
    {
     "name": "stdout",
     "output_type": "stream",
     "text": [
      "4306133920\n"
     ]
    }
   ],
   "source": [
    "print(id(1)) # у вас получится другое число (все ок, не переживаем)"
   ]
  },
  {
   "cell_type": "markdown",
   "id": "f8006535",
   "metadata": {},
   "source": [
    "Этот же идентификатор запоминается за именем переменной: "
   ]
  },
  {
   "cell_type": "code",
   "execution_count": 3,
   "id": "80c55278",
   "metadata": {},
   "outputs": [
    {
     "name": "stdout",
     "output_type": "stream",
     "text": [
      "4306133920\n"
     ]
    }
   ],
   "source": [
    "print(id(a))"
   ]
  },
  {
   "cell_type": "markdown",
   "id": "e4aa6d0f",
   "metadata": {},
   "source": [
    "Если мы создадим новую переменную, например, `b`, которая <b>ссылается</b> на 1, то и у нее будет такой же id. "
   ]
  },
  {
   "cell_type": "code",
   "execution_count": 4,
   "id": "4d1255c5",
   "metadata": {},
   "outputs": [
    {
     "name": "stdout",
     "output_type": "stream",
     "text": [
      "4306133920\n"
     ]
    }
   ],
   "source": [
    "b = 1\n",
    "print(id(b))"
   ]
  },
  {
   "cell_type": "code",
   "execution_count": 5,
   "id": "b3777a89",
   "metadata": {},
   "outputs": [
    {
     "name": "stdout",
     "output_type": "stream",
     "text": [
      "1 4306133920\n",
      "2 4306133952\n",
      "1 4306133920\n"
     ]
    }
   ],
   "source": [
    "c = a           # переменная с ссылается на a, которая в свою очередь — на 1\n",
    "print(c, id(c)) \n",
    "\n",
    "a = 2           # перезапишем переменную а, теперь присвоим ей объект 2\n",
    "print(a, id(a)) # очевидно, что значение переменной а изменится, также как и id\n",
    "print(c, id(c)) # при этом это никак не повлияет на значение переменной с "
   ]
  },
  {
   "cell_type": "markdown",
   "id": "7b0af7a4",
   "metadata": {},
   "source": [
    "Приведем пример чуть сложнее — пусть у нас есть некий набор чисел (в такой записи это будет называться списком) и посмотрим на идентификатор первого его элемента (тоже 1). "
   ]
  },
  {
   "cell_type": "code",
   "execution_count": 6,
   "id": "c1c686f6",
   "metadata": {},
   "outputs": [
    {
     "name": "stdout",
     "output_type": "stream",
     "text": [
      "4361935552\n",
      "4306133920\n"
     ]
    }
   ],
   "source": [
    "L = [1, 3, 4]\n",
    "print(id(L))\n",
    "print(id(L[0])) # снова такой же id, как у 1 (фактически L[0] и есть наша 1)"
   ]
  },
  {
   "cell_type": "markdown",
   "id": "f00cf1c5",
   "metadata": {},
   "source": [
    "И пара слов о том, а какие имена переменных допустимы. Предположим, я хочу назвать переменную `1qwerty` — проверим, получится или нет:"
   ]
  },
  {
   "cell_type": "code",
   "execution_count": 7,
   "id": "d9a4ffc6",
   "metadata": {},
   "outputs": [
    {
     "ename": "SyntaxError",
     "evalue": "invalid decimal literal (271193151.py, line 1)",
     "output_type": "error",
     "traceback": [
      "\u001b[0;36m  Cell \u001b[0;32mIn[7], line 1\u001b[0;36m\u001b[0m\n\u001b[0;31m    1qwerty = 2\u001b[0m\n\u001b[0m    ^\u001b[0m\n\u001b[0;31mSyntaxError\u001b[0m\u001b[0;31m:\u001b[0m invalid decimal literal\n"
     ]
    }
   ],
   "source": [
    "1qwerty = 2"
   ]
  },
  {
   "cell_type": "markdown",
   "id": "2a94e2b1",
   "metadata": {},
   "source": [
    "Выдается ошибка `SyntaxError`, которая явно свидетельствует, что что-то с названием переменной не так. Но тогда, как можно называть переменные, а как нельзя? \n",
    "\n",
    "Переменные в  Python подчиняются следующим правилам:\n",
    "\n",
    "+ имя переменной может содержать только буквенно-цифровые символы и символы подчеркивания (A-Za-z, 0–9 и _)\n",
    "+ имя переменной <u>должно</u> начинаться с буквы или символа подчеркивания\n",
    "+ имя переменной <u>не может</u> начинаться с цифры\n",
    "+ в имени переменной <u>не должно</u> быть пробелов\n",
    "+ имя <u>не должно</u> совпадать со служебными (зарезервированными) словами в Python\n",
    "\n",
    "Список зарезервированных слов можно узнать так:"
   ]
  },
  {
   "cell_type": "code",
   "execution_count": 8,
   "id": "d1ee8d23",
   "metadata": {},
   "outputs": [
    {
     "name": "stdout",
     "output_type": "stream",
     "text": [
      "['False', 'None', 'True', 'and', 'as', 'assert', 'async', 'await', 'break', 'class', 'continue', 'def', 'del', 'elif', 'else', 'except', 'finally', 'for', 'from', 'global', 'if', 'import', 'in', 'is', 'lambda', 'nonlocal', 'not', 'or', 'pass', 'raise', 'return', 'try', 'while', 'with', 'yield']\n"
     ]
    }
   ],
   "source": [
    "import keyword\n",
    "print(keyword.kwlist)"
   ]
  },
  {
   "cell_type": "markdown",
   "id": "7aa6f643",
   "metadata": {},
   "source": [
    "+ имена переменных чувствительны к регистру\n",
    "+ рекомендуется давать переменным осмысленные названия"
   ]
  },
  {
   "cell_type": "markdown",
   "id": "d84165ba",
   "metadata": {},
   "source": [
    "## Изменяемые (mutable) и неизменяемые (immutable) типы данных <a name=\"par2\"></a>"
   ]
  },
  {
   "cell_type": "markdown",
   "id": "991ce273",
   "metadata": {},
   "source": [
    "| Неизменяемые  | Изменяемые    | \n",
    "|:-------------:|:-------------:| \n",
    "| числа (`int`, `float`, `complex`)| список (`list`) | \n",
    "| логический тип (`bool`)      | словари (`dict`)      |  \n",
    "| кортеж (`tuple`) |множество (`set`)       |    \n",
    "| строка (`str`) |       |   \n",
    "| неизменяемое множество (`frozenset`) |       |  "
   ]
  },
  {
   "cell_type": "markdown",
   "id": "2357dd66",
   "metadata": {},
   "source": [
    "Да, у нас есть красивая табличка. Давайте попробуем доказать, например, что числа — действительно неизменяемый тип данных. "
   ]
  },
  {
   "cell_type": "code",
   "execution_count": 4,
   "id": "4e0ff1e0",
   "metadata": {},
   "outputs": [
    {
     "name": "stdout",
     "output_type": "stream",
     "text": [
      "1 140655078730032\n",
      "1 140655078730032\n",
      "2 140655078730064\n",
      "1 140655078730032\n"
     ]
    }
   ],
   "source": [
    "X = 1           # пусть X ссылается на 1\n",
    "Y = X           # а Y ссылается на X, то есть тоже на 1\n",
    "print(X, id(X)) # собственно, тут ничего нового — \n",
    "print(Y, id(Y)) # id совпадают\n",
    "\n",
    "X += 1          # попробуем изменить X, добавив к переменной 1\n",
    "              # (аналогично можно записать X = X + 1)\n",
    "print(X, id(X)) # и, действительно, значение X увеличилось на 1\n",
    "print(Y, id(Y))"
   ]
  },
  {
   "cell_type": "markdown",
   "id": "4009a7f0",
   "metadata": {},
   "source": [
    "Вопрос — а что только что произошло? Фактически изменилось значение переменной. Но сам объект 1 никак не поменялся и изменить его мы не можем. Соответственно, все операторы (в данном примере это знак `+`), которые работают с числами, вернут нам новый объект, а не изменят уже имеющийся. \n",
    "\n",
    "Попробуйте аналогично разобраться, почему, например, объекты логического типа являются неизменяемыми? А строки?\n",
    "\n",
    "Проверим и изменяемые типы, например, списки."
   ]
  },
  {
   "cell_type": "code",
   "execution_count": 10,
   "id": "6a2cc429",
   "metadata": {},
   "outputs": [
    {
     "name": "stdout",
     "output_type": "stream",
     "text": [
      "[1, 2, 3] 4361645632\n",
      "[1, 2, 3] 4361645632\n",
      "[1, 2, 3, 4] 4361645632\n",
      "[1, 2, 3, 4] 4361645632\n"
     ]
    }
   ],
   "source": [
    "X = [1, 2, 3]    # пусть X ссылается на объект [1, 2, 3]\n",
    "Y = X            # а Y ссылается на X\n",
    "print(X, id(X))  # снова id совпадают\n",
    "print(Y, id(Y))\n",
    "\n",
    "X.append(4)      # изменим наш объект (на который ссылается X) и добавим к нему 4\n",
    "\n",
    "print(X, id(X))  # очевидно, что значение объекта, на который ссылается X, изменилось,\n",
    "print(Y, id(Y))  # но и значение объекта, на который ссылается Y, поменялось, \n",
    "                 # ведь метод .append() работает так, что меняет сам объект"
   ]
  },
  {
   "cell_type": "markdown",
   "id": "bf84c1e1",
   "metadata": {},
   "source": [
    "Забегая чуть вперед, а что если я не хочу, чтобы значение переменной `Y` менялось? "
   ]
  },
  {
   "cell_type": "code",
   "execution_count": 11,
   "id": "58b77dc2",
   "metadata": {},
   "outputs": [
    {
     "name": "stdout",
     "output_type": "stream",
     "text": [
      "[1, 2, 3] 4361938496\n",
      "[1, 2, 3] 4361732928\n",
      "[1, 2, 3, 4] 4361938496\n",
      "[1, 2, 3] 4361732928\n"
     ]
    }
   ],
   "source": [
    "X = [1, 2, 3]   # пусть X ссылается на объект [1, 2, 3]\n",
    "Y = X.copy()    # а Y сохраняет себе копию X (то есть тут буквально создается новый объект)\n",
    "print(X, id(X)) # соответственно и id получаются разные\n",
    "print(Y, id(Y))\n",
    "\n",
    "X.append(4)     # изменим наш объект (на который ссылается X) и добавим к нему 4\n",
    "\n",
    "print(X, id(X)) # объект, на который ссылается X, изменился,\n",
    "print(Y, id(Y)) # но объект, на который ссылается Y, остался без изменений "
   ]
  },
  {
   "cell_type": "markdown",
   "id": "7afac654",
   "metadata": {},
   "source": [
    "Сейчас это все воспринять тяжко, но возвращайтесь к этой информации на протяжении курса и освоения нового материала."
   ]
  },
  {
   "cell_type": "markdown",
   "id": "80e195d0",
   "metadata": {},
   "source": [
    "## Типы данных — часть 1 <a name=\"par3\"></a>\n",
    "\n",
    "Части 2 и 3 будут в следующих конспектах. В этой же части мы посмотрим на числа и строки. "
   ]
  },
  {
   "cell_type": "markdown",
   "id": "6fddf518",
   "metadata": {},
   "source": [
    "### Числа <a name=\"par3.1\"></a>"
   ]
  },
  {
   "cell_type": "markdown",
   "id": "8749eca2",
   "metadata": {},
   "source": [
    "Числа в Python делятся на три вида: \n",
    "\n",
    "1. `int` — только целые числа;\n",
    "2. `float` — вещественные числа / числа с плавающей точкой\n",
    "3. `complex` — комплексные числа\n",
    "\n",
    "С целыми числами все понятно, выглядит это так: "
   ]
  },
  {
   "cell_type": "code",
   "execution_count": 12,
   "id": "c2be8648",
   "metadata": {},
   "outputs": [
    {
     "name": "stdout",
     "output_type": "stream",
     "text": [
      "<class 'int'>\n",
      "<class 'int'>\n"
     ]
    }
   ],
   "source": [
    "print(type(1))\n",
    "\n",
    "a = -10\n",
    "print(type(a)) # применить функцию type() можно, как к самому объекту, так\n",
    "               # и к переменной, которая ссылается на объект"
   ]
  },
  {
   "cell_type": "markdown",
   "id": "2d74f72b",
   "metadata": {},
   "source": [
    "Здесь мы обращаем внимание на `'int'`, то есть integer (целое число). Тип/класс определяет область допустимых значений объекта и набор операций над ним (например, целые числа можно складывать, умножать, делить и т.д.). "
   ]
  },
  {
   "cell_type": "markdown",
   "id": "902b7bf1",
   "metadata": {},
   "source": [
    "С вещественными числами все сложнее. Тип называется `float` aka число с плавающей точкой."
   ]
  },
  {
   "cell_type": "code",
   "execution_count": 13,
   "id": "e15e296c",
   "metadata": {},
   "outputs": [
    {
     "name": "stdout",
     "output_type": "stream",
     "text": [
      "<class 'float'>\n"
     ]
    }
   ],
   "source": [
    "print(type(1.2)) "
   ]
  },
  {
   "cell_type": "markdown",
   "id": "d09a7c51",
   "metadata": {},
   "source": [
    "Почему точка плавает?\n",
    "\n",
    "Посмотрим на число $2.25$. \n",
    "\n",
    "Его можно записать как $2.25$, как $0.225 \\cdot 10$, как $22.5 \\cdot 10^{-1}$, как $225 \\cdot 10^{-2}$. Точка, отделяющая дробную часть от целой, будет «плавать», однако само число при этом меняться не будет, будут меняться только множители — разные степени десятки.\n",
    "\n",
    "Также есть сложности, которые возникают при округлении чисел с плавающей точкой. Посмотрим на несколько примеров работы функции `round()`."
   ]
  },
  {
   "cell_type": "code",
   "execution_count": 14,
   "id": "9034b712",
   "metadata": {},
   "outputs": [
    {
     "name": "stdout",
     "output_type": "stream",
     "text": [
      "2\n",
      "2\n",
      "4\n",
      "4\n"
     ]
    }
   ],
   "source": [
    "print(round(1.5)) # все ок\n",
    "print(round(2.5)) # ой?\n",
    "print(round(3.5)) # все ок\n",
    "print(round(4.5)) # ой?"
   ]
  },
  {
   "cell_type": "markdown",
   "id": "e3b517fc",
   "metadata": {},
   "source": [
    "Может быть, функция всегда округляет только до четного числа?"
   ]
  },
  {
   "cell_type": "code",
   "execution_count": 15,
   "id": "fbe5484c",
   "metadata": {},
   "outputs": [
    {
     "name": "stdout",
     "output_type": "stream",
     "text": [
      "1\n",
      "5\n"
     ]
    }
   ],
   "source": [
    "print(round(1.49)) # все ок\n",
    "print(round(4.51)) # все ок"
   ]
  },
  {
   "cell_type": "markdown",
   "id": "cdfa4585",
   "metadata": {},
   "source": [
    "Нет, все работает... Так происходит округление числа до целого, которое расположено ближе всего. Но если дробная часть равна `0.5`, то функция округляет до ближайшего четного значения.\n",
    "\n",
    "Но это еще не все странности..."
   ]
  },
  {
   "cell_type": "code",
   "execution_count": 16,
   "id": "6bb6b0fe",
   "metadata": {},
   "outputs": [
    {
     "data": {
      "text/plain": [
       "3.52"
      ]
     },
     "execution_count": 16,
     "metadata": {},
     "output_type": "execute_result"
    }
   ],
   "source": [
    "round(3.525, 2) # не 3.53"
   ]
  },
  {
   "cell_type": "markdown",
   "id": "55622d5a",
   "metadata": {},
   "source": [
    "Эти странности связаны с тем, что число, которое мы видим (например, 3.525), не совпадает с тем, которое хранится в компьютере, потому что оно при сохранении преобразовывается и превращается из точного 3.525 в такое:"
   ]
  },
  {
   "cell_type": "code",
   "execution_count": 17,
   "id": "31f74066",
   "metadata": {},
   "outputs": [
    {
     "data": {
      "text/plain": [
       "Decimal('3.524999999999999911182158029987476766109466552734375')"
      ]
     },
     "execution_count": 17,
     "metadata": {},
     "output_type": "execute_result"
    }
   ],
   "source": [
    "from decimal import Decimal\n",
    "Decimal(3.525)"
   ]
  },
  {
   "cell_type": "markdown",
   "id": "91fe1f17",
   "metadata": {},
   "source": [
    "И такое число будет законно округляться до 3.52 по правилам арифметического округления. В прикладном анализе данных такие сложности редко вызывают проблемы, но знать про нее полезно, чтобы не пугаться и не удивляться неожиданным результатам. Кроме того, полезно помнить, что числа с плавающей точкой (типа `float`) не рекомендуется использовать в финансовых вычислениях и вообще в вычислениях, требующих высокой точности, поскольку они «накапливают ошибку», то есть дают неточные результаты."
   ]
  },
  {
   "cell_type": "markdown",
   "id": "4a7b123b",
   "metadata": {},
   "source": [
    "С комплексными числами еще сложнее (возможно, кто-то помнит их еще со школы и тут содрогается). Используются они, в основном, в физике, квантовой механике... в общем, здесь мы сильно не будем акцентировать на них внимание, однако если вдруг встретите что-то такое `4 + 3j` — не пугайтесь."
   ]
  },
  {
   "cell_type": "code",
   "execution_count": 18,
   "id": "777817e3",
   "metadata": {},
   "outputs": [
    {
     "name": "stdout",
     "output_type": "stream",
     "text": [
      "<class 'complex'>\n"
     ]
    }
   ],
   "source": [
    "print(type(4 + 3j))"
   ]
  },
  {
   "cell_type": "markdown",
   "id": "3a97bcc9",
   "metadata": {},
   "source": [
    "В экзамене их не будет, выдохните. "
   ]
  },
  {
   "cell_type": "markdown",
   "id": "535807f1",
   "metadata": {},
   "source": [
    "**Со всеми типами чисел вы можете выполнять разные функции:**\n",
    "* Сложение `x + 10`;\n",
    "* Вычитание `x - 10`;\n",
    "* Деление `x / 10`;\n",
    "* Деление нацело (без остатка после запятой) `x // 10`;\n",
    "* Остаток от деления на число `x % 3` (остаток от деления `x` на `3`);\n",
    "* Возведение в степень `x ** 2`."
   ]
  },
  {
   "cell_type": "code",
   "execution_count": 10,
   "id": "0a1ac120",
   "metadata": {},
   "outputs": [
    {
     "name": "stdout",
     "output_type": "stream",
     "text": [
      "x + 10 = 20\n",
      "x - 10 = 0\n",
      "x / 10 = 1.0\n",
      "x // 3 = 3\n",
      "x % 3 = 1\n",
      "x ** 2 = 100\n"
     ]
    }
   ],
   "source": [
    "x = 10\n",
    "\n",
    "print('x + 10 =', x + 10) # сложение\n",
    "print('x - 10 =', x - 10) # вычитание\n",
    "print('x / 10 =', x / 10) # деление\n",
    "print('x // 3 =', x // 3) # деление нацело\n",
    "print('x % 3 =', x % 3) # остаток от деления на число\n",
    "print('x ** 2 =', x ** 2) # возведение в степень"
   ]
  },
  {
   "cell_type": "markdown",
   "id": "d20e6a9b",
   "metadata": {},
   "source": [
    "Аналогичные функции вы можете применять к плавающим числам."
   ]
  },
  {
   "cell_type": "code",
   "execution_count": 11,
   "id": "c48c993d",
   "metadata": {},
   "outputs": [
    {
     "name": "stdout",
     "output_type": "stream",
     "text": [
      "x + 10 = 12.5\n",
      "x - 10 = -7.5\n",
      "x / 10 = 0.25\n",
      "x // 3 = 0.0\n",
      "x % 3 = 2.5\n",
      "x ** 2 = 6.25\n"
     ]
    }
   ],
   "source": [
    "x = 2.5\n",
    "\n",
    "print('x + 10 =', x + 10) # сложение\n",
    "print('x - 10 =', x - 10) # вычитание\n",
    "print('x / 10 =', x / 10) # деление\n",
    "print('x // 3 =', x // 3) # деление нацело\n",
    "print('x % 3 =', x % 3) # остаток от деления на число\n",
    "print('x ** 2 =', x ** 2) # возведение в степень"
   ]
  },
  {
   "cell_type": "markdown",
   "id": "706ce05a",
   "metadata": {},
   "source": [
    "**Задание №1**\n",
    "\n",
    "Сохраните в переменную `number` число ваших полных лет.\n",
    "\n",
    "Напечатайте на каждой отдельной строке:\n",
    "1. Сколько полных лет вам будет через 10 лет;\n",
    "2. Сколько полных лет вам было 5 лет назад;\n",
    "3. Какое число получится, если разделить ваш возраст на 3;"
   ]
  },
  {
   "cell_type": "code",
   "execution_count": null,
   "id": "7c71d6d0",
   "metadata": {},
   "outputs": [],
   "source": [
    "# YOUR CODE HERE"
   ]
  },
  {
   "cell_type": "markdown",
   "id": "ebe91256",
   "metadata": {},
   "source": [
    "### Строки <a name=\"par3.2\"></a>"
   ]
  },
  {
   "cell_type": "markdown",
   "id": "09aee534",
   "metadata": {},
   "source": [
    "Тут все проще. \n",
    "\n",
    "Текстовый тип данных обязательно заключается в кавычки.\n",
    "\n",
    "Python понимает и одинарные, и двойные кавычки. Главное правило: не закрывать одинарные кавычки двойными, и наоборот. Двойные кавычки закрывают двойные, одинарные — одинарные. "
   ]
  },
  {
   "cell_type": "code",
   "execution_count": 19,
   "id": "991d5b3b",
   "metadata": {},
   "outputs": [
    {
     "name": "stdout",
     "output_type": "stream",
     "text": [
      "<class 'str'>\n"
     ]
    }
   ],
   "source": [
    "print(type('qwerty'))"
   ]
  },
  {
   "cell_type": "markdown",
   "id": "3a6796fc",
   "metadata": {},
   "source": [
    "Этот тип данных выдает нам функция `input()`, которая позволяет запрашивать данные с клавиатуры:"
   ]
  },
  {
   "cell_type": "code",
   "execution_count": 20,
   "id": "2742ef2b",
   "metadata": {},
   "outputs": [
    {
     "name": "stdout",
     "output_type": "stream",
     "text": [
      "\n",
      " <class 'str'>\n"
     ]
    }
   ],
   "source": [
    "name = input()\n",
    "print(name, type(name))"
   ]
  },
  {
   "cell_type": "markdown",
   "id": "869f10cc",
   "metadata": {},
   "source": [
    "Вы можете также напечатать сразу несколько строк, используя функцию `print()`"
   ]
  },
  {
   "cell_type": "code",
   "execution_count": 13,
   "id": "1c16baa7",
   "metadata": {},
   "outputs": [
    {
     "name": "stdout",
     "output_type": "stream",
     "text": [
      "Это первая строка , А это вторая строка\n"
     ]
    }
   ],
   "source": [
    "print('Это первая строка', ', А это вторая строка')"
   ]
  },
  {
   "cell_type": "markdown",
   "id": "00b8743c",
   "metadata": {},
   "source": [
    "Можете напечатать с помощью print() одновременно и строку, и значение, сохраненное в определенную переменную."
   ]
  },
  {
   "cell_type": "code",
   "execution_count": 14,
   "id": "58987406",
   "metadata": {},
   "outputs": [
    {
     "name": "stdout",
     "output_type": "stream",
     "text": [
      "В переменную \"name\" сохранено имя Анастасия\n"
     ]
    }
   ],
   "source": [
    "name = 'Анастасия'\n",
    "print('В переменную \"name\" сохранено имя', name)"
   ]
  },
  {
   "cell_type": "markdown",
   "id": "9b313a49",
   "metadata": {},
   "source": [
    "Вы можете поместить также в функцию `input()` строку, которая будет показываться пользователям при запуске кода. Например:"
   ]
  },
  {
   "cell_type": "code",
   "execution_count": 17,
   "id": "6bdaf8b2",
   "metadata": {},
   "outputs": [
    {
     "name": "stdout",
     "output_type": "stream",
     "text": [
      "Введите свое имя: Анастасия\n",
      "Hello,  Анастасия !\n"
     ]
    }
   ],
   "source": [
    "name = input('Введите свое имя: ')\n",
    "print('Hello, ', name, '!')"
   ]
  },
  {
   "cell_type": "markdown",
   "id": "59691a33",
   "metadata": {},
   "source": [
    "В примере выше вы можете заметить лишний пробел после имени и перед восклицательным знаком. По дефолту, если вы печатаете несколько переменных, разделителем между ними выступает пробел. \n",
    "\n",
    "Если вы хотите напечатать более сложную строку, вы можете использовать аргументы `sep` (separator):"
   ]
  },
  {
   "cell_type": "code",
   "execution_count": 22,
   "id": "a608b778",
   "metadata": {},
   "outputs": [
    {
     "name": "stdout",
     "output_type": "stream",
     "text": [
      "раз два три\n",
      "раз,два,три\n",
      "раз, два, три\n"
     ]
    }
   ],
   "source": [
    "print('раз', 'два', 'три') # можно не использовать аргумент sep\n",
    "print('раз', 'два', 'три', sep=',') # sep = запятая\n",
    "print('раз', 'два', 'три', sep=', ') # sep = запятая с пробелом"
   ]
  },
  {
   "cell_type": "markdown",
   "id": "a8d1718c",
   "metadata": {},
   "source": [
    "И аргумент `end` (end of the line). По дефолту, это символ переноса на следующую строку `\\n`."
   ]
  },
  {
   "cell_type": "code",
   "execution_count": 28,
   "id": "967dadbe",
   "metadata": {},
   "outputs": [
    {
     "name": "stdout",
     "output_type": "stream",
     "text": [
      "Hello, Анастасия\n",
      "Hello, Анастасия!"
     ]
    }
   ],
   "source": [
    "name = 'Анастасия'\n",
    "print('Hello,', name) # по дефолту, это символ переноса на следующую строку \"\\n\"\n",
    "print('Hello,', name, end='!') # в конце строки будет напечатан восклицательный знак"
   ]
  },
  {
   "cell_type": "markdown",
   "id": "e2a00659",
   "metadata": {},
   "source": [
    "**Задание №2**\n",
    "\n",
    "На первой строке используйте функцию `input()` и сохраните в переменную `course` ваш любимый курс. \n",
    "\n",
    "\n",
    "На второй строке, используя функцию `print()`, напечатайте строку следующего типа: ```Мой любимый курс – это: <название курса>```\n",
    "\n",
    "Примеры:\n",
    "\n",
    "| `course`  | Результат    | \n",
    "|:-------------:|:-------------:| \n",
    "| `ИПУ` | `Мой любимый курс – это: ИПУ` | \n",
    "| `КПН` | `Мой любимый курс – это: КПН` |  \n",
    "| `Высшая математика` | `Мой любимый курс – это: Высшая математика` |     "
   ]
  },
  {
   "cell_type": "code",
   "execution_count": null,
   "id": "713d1bcd",
   "metadata": {},
   "outputs": [],
   "source": [
    "course = #YOUR CODE HERE\n",
    "# YOUR CODE HERE"
   ]
  },
  {
   "cell_type": "markdown",
   "id": "58a2612d",
   "metadata": {},
   "source": [
    "### Преобразование типов <a name=\"par3.3\"></a>"
   ]
  },
  {
   "cell_type": "markdown",
   "id": "dafe4d71",
   "metadata": {},
   "source": [
    "Функции для изменения типа переменных называются так же, как и сами типы. В целом, на этом можно закончить, но приведем парочку примеров."
   ]
  },
  {
   "cell_type": "code",
   "execution_count": 21,
   "id": "d6a684ef",
   "metadata": {},
   "outputs": [
    {
     "name": "stdout",
     "output_type": "stream",
     "text": [
      "2300 <class 'str'>\n",
      "2300 <class 'int'>\n"
     ]
    }
   ],
   "source": [
    "n = '2300'\n",
    "print(n, type(n))\n",
    "\n",
    "n = int(n)\n",
    "print(n, type(n))"
   ]
  },
  {
   "cell_type": "markdown",
   "id": "b548cb04",
   "metadata": {},
   "source": [
    "Вот вроде бы в обоих случаях напечаталось 2300. Но в первом случае это текст, а во втором — целое число. Разница в том, какие операции нам доступны в обоих случаях. \n",
    "\n",
    "Предположим, что `'2300'` — это цена. Если это текст, то мы не сможем применить к нему никакие арифметические операции (проверьте сами или посмотрите следующий раздел про ошибки). Если же мы будем работать с целым числом, то сможем произвести любую арифметическую операцию (если речь все еще про цену на товар, то, например, посчитать скидку или кэшбэк). "
   ]
  },
  {
   "cell_type": "markdown",
   "id": "6ce43543",
   "metadata": {},
   "source": [
    "## Немного об ошибках <a name=\"par4\"></a>\n",
    "\n",
    "Здесь будут разобраны ошибки, которые чаще всего вы можете встретить. Однако, это лишь небольшая их часть. Если столкнетесь с какой-то новой ошибкой — не стесняйтесь ее загуглить :)"
   ]
  },
  {
   "cell_type": "markdown",
   "id": "8255677f",
   "metadata": {},
   "source": [
    "Помните, в начале конспекта у нас была переменная X? Попробуем ее напечатать:"
   ]
  },
  {
   "cell_type": "code",
   "execution_count": 22,
   "id": "422ccd43",
   "metadata": {},
   "outputs": [
    {
     "ename": "NameError",
     "evalue": "name 'x' is not defined",
     "output_type": "error",
     "traceback": [
      "\u001b[0;31m---------------------------------------------------------------------------\u001b[0m",
      "\u001b[0;31mNameError\u001b[0m                                 Traceback (most recent call last)",
      "Cell \u001b[0;32mIn[22], line 1\u001b[0m\n\u001b[0;32m----> 1\u001b[0m \u001b[38;5;28mprint\u001b[39m(x)\n",
      "\u001b[0;31mNameError\u001b[0m: name 'x' is not defined"
     ]
    }
   ],
   "source": [
    "print(x)"
   ]
  },
  {
   "cell_type": "markdown",
   "id": "f148489d",
   "metadata": {},
   "source": [
    "Ой, что-то пошло не так. Данна ошибка (`NameError`) буквально говорит нам, что такой переменной нет. \n",
    "\n",
    "Но ведь была же... \n",
    "\n",
    "Тут стоит вспомнить, что названия переменных чувствительны к регистру. Мы создавали переменную `X`, а напечатать пытаемся `x`, которой и правда нет."
   ]
  },
  {
   "cell_type": "markdown",
   "id": "b2b0da09",
   "metadata": {},
   "source": [
    "Идем дальше. Предположим, у меня есть две переменных, которые я хочу сложить: "
   ]
  },
  {
   "cell_type": "code",
   "execution_count": 23,
   "id": "a89374b6",
   "metadata": {},
   "outputs": [
    {
     "ename": "TypeError",
     "evalue": "unsupported operand type(s) for +: 'int' and 'str'",
     "output_type": "error",
     "traceback": [
      "\u001b[0;31m---------------------------------------------------------------------------\u001b[0m",
      "\u001b[0;31mTypeError\u001b[0m                                 Traceback (most recent call last)",
      "Cell \u001b[0;32mIn[23], line 4\u001b[0m\n\u001b[1;32m      1\u001b[0m a \u001b[38;5;241m=\u001b[39m \u001b[38;5;241m2\u001b[39m\n\u001b[1;32m      2\u001b[0m b \u001b[38;5;241m=\u001b[39m \u001b[38;5;124m'\u001b[39m\u001b[38;5;124m3\u001b[39m\u001b[38;5;124m'\u001b[39m\n\u001b[0;32m----> 4\u001b[0m \u001b[38;5;28mprint\u001b[39m(a \u001b[38;5;241m+\u001b[39m b)\n",
      "\u001b[0;31mTypeError\u001b[0m: unsupported operand type(s) for +: 'int' and 'str'"
     ]
    }
   ],
   "source": [
    "a = 2\n",
    "b = '3'\n",
    "\n",
    "print(a + b)"
   ]
  },
  {
   "cell_type": "markdown",
   "id": "f8663844",
   "metadata": {},
   "source": [
    "Переменная `a` — это целое число, а переменная `b` — строка. Когда мы буквально пытаемся сложить число и текст, то программа ругается и не понимает, что от нее хотят. \n",
    "\n",
    "К слову, если поменять порядок переменных, то тип ошибки (`TypeError`) не поменяется, но будет другое пояснение. Подумайте, почему так происходит."
   ]
  },
  {
   "cell_type": "code",
   "execution_count": 24,
   "id": "c1b06d8f",
   "metadata": {},
   "outputs": [
    {
     "ename": "TypeError",
     "evalue": "can only concatenate str (not \"int\") to str",
     "output_type": "error",
     "traceback": [
      "\u001b[0;31m---------------------------------------------------------------------------\u001b[0m",
      "\u001b[0;31mTypeError\u001b[0m                                 Traceback (most recent call last)",
      "Cell \u001b[0;32mIn[24], line 1\u001b[0m\n\u001b[0;32m----> 1\u001b[0m \u001b[38;5;28mprint\u001b[39m(b \u001b[38;5;241m+\u001b[39m a)\n",
      "\u001b[0;31mTypeError\u001b[0m: can only concatenate str (not \"int\") to str"
     ]
    }
   ],
   "source": [
    "print(b + a)"
   ]
  },
  {
   "cell_type": "markdown",
   "id": "b977af85",
   "metadata": {},
   "source": [
    "И последнее на сегодня. Предположим, что у нас есть строка `'1,23'` — вроде бы десятичная дробь, но провести никакие арифметические операции мы с ней не можем. Значит, нужно попробовать эту строку преобразовать в тип `float`."
   ]
  },
  {
   "cell_type": "code",
   "execution_count": 25,
   "id": "f4cfd258",
   "metadata": {},
   "outputs": [
    {
     "ename": "ValueError",
     "evalue": "could not convert string to float: '1,23'",
     "output_type": "error",
     "traceback": [
      "\u001b[0;31m---------------------------------------------------------------------------\u001b[0m",
      "\u001b[0;31mValueError\u001b[0m                                Traceback (most recent call last)",
      "Cell \u001b[0;32mIn[25], line 1\u001b[0m\n\u001b[0;32m----> 1\u001b[0m \u001b[38;5;28mfloat\u001b[39m(\u001b[38;5;124m'\u001b[39m\u001b[38;5;124m1,23\u001b[39m\u001b[38;5;124m'\u001b[39m)\n",
      "\u001b[0;31mValueError\u001b[0m: could not convert string to float: '1,23'"
     ]
    }
   ],
   "source": [
    "float('1,23')"
   ]
  },
  {
   "cell_type": "markdown",
   "id": "a27605b7",
   "metadata": {},
   "source": [
    "Ошибка `ValueError` возникает из-за запятой в строке — функция `float` не понимает, как можно запятую преобразовать в число."
   ]
  },
  {
   "cell_type": "code",
   "execution_count": 26,
   "id": "d2e1b131",
   "metadata": {},
   "outputs": [
    {
     "data": {
      "text/plain": [
       "1.23"
      ]
     },
     "execution_count": 26,
     "metadata": {},
     "output_type": "execute_result"
    }
   ],
   "source": [
    "float('1.23')"
   ]
  },
  {
   "cell_type": "markdown",
   "id": "f2ea4901",
   "metadata": {},
   "source": [
    "И теперь точно последнее. Предположим, у нас есть строка `'qwerty'` и мы хотим обратиться к последнему ее элементу — шестой букве `'y'`."
   ]
  },
  {
   "cell_type": "code",
   "execution_count": 27,
   "id": "26d1b288",
   "metadata": {},
   "outputs": [
    {
     "ename": "IndexError",
     "evalue": "string index out of range",
     "output_type": "error",
     "traceback": [
      "\u001b[0;31m---------------------------------------------------------------------------\u001b[0m",
      "\u001b[0;31mIndexError\u001b[0m                                Traceback (most recent call last)",
      "Cell \u001b[0;32mIn[27], line 1\u001b[0m\n\u001b[0;32m----> 1\u001b[0m \u001b[38;5;28mprint\u001b[39m(\u001b[38;5;124m'\u001b[39m\u001b[38;5;124mqwerty\u001b[39m\u001b[38;5;124m'\u001b[39m[\u001b[38;5;241m6\u001b[39m])\n",
      "\u001b[0;31mIndexError\u001b[0m: string index out of range"
     ]
    }
   ],
   "source": [
    "print('qwerty'[6])"
   ]
  },
  {
   "cell_type": "markdown",
   "id": "33d29196",
   "metadata": {},
   "source": [
    "Ошибка `IndexError` показывает, что элемента с таким индексом в строке нет. Это связано с тем, что индексация в Python начинается с нуля, значит, нам здесь нужен индекс `5` (или `-1`, т.е. первый элемент с конца)."
   ]
  },
  {
   "cell_type": "code",
   "execution_count": 28,
   "id": "79c3b409",
   "metadata": {},
   "outputs": [
    {
     "name": "stdout",
     "output_type": "stream",
     "text": [
      "y\n",
      "y\n"
     ]
    }
   ],
   "source": [
    "print('qwerty'[5])\n",
    "print('qwerty'[-1])"
   ]
  },
  {
   "cell_type": "markdown",
   "id": "9b35b50f",
   "metadata": {},
   "source": [
    "## Разметка Markdown в Jupyter Notebook <a name=\"par5\"></a>\n",
    "\n",
    "В среде, в которой мы с вами работаем – в Jupyter Notebook – вы будете пользоваться в основном ячейками двух типов: **Code** и **Markdown**. В ячейке типа **Code** вы можете писать и запускать код, в ячейках **Markdown** вы можете писать и форматировать текст.\n",
    "\n",
    "Что такое **Markdown** в целом? Это язык разметки, который можно использовать для форматирования текстовых ячеек. В Jupyter Notebook вы можете использовать разные символы для форматирования:\n",
    "\n",
    "* *Звездочка чтобы выделить текст курсивом* - `*тут текст*`;\n",
    "* **Две звездочки чтобы выделить текст жирным** - `**тут текст**`;\n",
    "* Квадратные скобки и круглые скобки чтобы создать гиперссылку – `[Текст гиперссылки](ссылка)`;\n",
    "* Штрихи чтобы имитировать `код` – \\`тут текст или код\\`\n",
    "\n",
    "А также используйте:\n",
    "* `#` для выделения заголовков первого уровня: `# Заголовок первого уровня`;\n",
    "* `##` для выделения заголовков второго уровня: `## Заголовок второго уровня`;\n",
    "* `###` для выделения заголовков третьего уровня: `### Заголовок третьего уровня`;\n",
    "\n",
    "Если хотите посмотреть, как выглядит разметка в ячейке типа Markdown, дважды кликните на эту ячейку. Узнать про все возможности Markdown можно на [Datacamp](https://www.datacamp.com/tutorial/markdown-in-jupyter-notebook)."
   ]
  },
  {
   "cell_type": "markdown",
   "id": "e17b47b4",
   "metadata": {},
   "source": [
    "**Задача №3**\n",
    "\n",
    "Используя ячейку типа Markdown и разметку, напечатайте в этой ячейке ниже:\n",
    "\n",
    "1. Используя заголовок первого уровня, ваше ФИО;\n",
    "2. Используя заголовок второго уровня, вашу группу;\n",
    "3. Используя заголовок третьего уровня, ваше любимое животное."
   ]
  },
  {
   "cell_type": "markdown",
   "id": "25577712",
   "metadata": {},
   "source": [
    "## Дополнительные материалы <a name=\"parlast\"></a>\n",
    "\n",
    "+ Документация Python [Built-in Types](https://docs.python.org/3/library/stdtypes.html)\n",
    "+ Курс на платформе Stepik «Python: основы и применение» ([ссылка на курс](https://stepik.org/course/512/syllabus))\n",
    "+ Щуров И.В., Тамбовцева А.А., Жучкова С.В. —  курс «Основы программирования в Python» ([ссылка на курс](https://allatambov.github.io/pypolit/pypolit.html))\n",
    "+ М. Лутц. «Изучаем Python 3», Часть II. Типы и операции.\n",
    "+ Как работают числа с плавающей точкой? [YouTube](https://www.youtube.com/watch?v=U0U8Ddx4TgE)\n",
    "+ Jupyter Notebook Markdown [Tutorial](https://www.datacamp.com/tutorial/markdown-in-jupyter-notebook)"
   ]
  }
 ],
 "metadata": {
  "kernelspec": {
   "display_name": "Python 3 (ipykernel)",
   "language": "python",
   "name": "python3"
  },
  "language_info": {
   "codemirror_mode": {
    "name": "ipython",
    "version": 3
   },
   "file_extension": ".py",
   "mimetype": "text/x-python",
   "name": "python",
   "nbconvert_exporter": "python",
   "pygments_lexer": "ipython3",
   "version": "3.11.0"
  }
 },
 "nbformat": 4,
 "nbformat_minor": 5
}
